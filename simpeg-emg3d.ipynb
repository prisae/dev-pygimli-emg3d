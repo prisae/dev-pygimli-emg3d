{
 "cells": [
  {
   "cell_type": "markdown",
   "metadata": {
    "iooxa": {
     "id": {
      "block": "bliAY43zX9Ur4dXCk2aC",
      "project": "rzeiFG3sdIcsFLl4Infw",
      "version": 2
     }
    }
   },
   "source": [
    "# marine controlled-source EM inversion -- _with automatic grid_\n",
    "\n",
    "- use of `emg3d` + `SimPEG`\n",
    "\n",
    "based on `simpeg-emg3d-inversion.ipynb`\n",
    "\n",
    "This example uses a different computational mesh than the inversion mesh; but the same for all sources and all frequencies. The main point is that the computational mesh has a much larger extent than the inversion mesh.\n",
    "\n",
    "Using the up-to-date (2022-03-11) branch:\n",
    "\n",
    "- SimPEG: https://github.com/simpeg/simpeg/tree/emg3d-solver\n",
    "\n",
    "and `emg3d>v1.4.0` (latest on `main` or any newer release)."
   ]
  },
  {
   "cell_type": "code",
   "execution_count": 6,
   "metadata": {
    "iooxa": {
     "id": {
      "block": "AJHyju6cuRS9wkbeBGzq",
      "project": "rzeiFG3sdIcsFLl4Infw",
      "version": 1
     },
     "outputId": null
    }
   },
   "outputs": [
    {
     "ename": "ImportError",
     "evalue": "cannot import name 'LocationVector' from 'simpeg.props' (/home/dtr/Codes/simpeg/simpeg/props.py)",
     "output_type": "error",
     "traceback": [
      "\u001b[0;31m---------------------------------------------------------------------------\u001b[0m",
      "\u001b[0;31mImportError\u001b[0m                               Traceback (most recent call last)",
      "Cell \u001b[0;32mIn[6], line 4\u001b[0m\n\u001b[1;32m      2\u001b[0m \u001b[38;5;28;01mimport\u001b[39;00m \u001b[38;5;21;01mdiscretize\u001b[39;00m\n\u001b[1;32m      3\u001b[0m \u001b[38;5;28;01mimport\u001b[39;00m \u001b[38;5;21;01mmatplotlib\u001b[39;00m\u001b[38;5;21;01m.\u001b[39;00m\u001b[38;5;21;01mpyplot\u001b[39;00m \u001b[38;5;28;01mas\u001b[39;00m \u001b[38;5;21;01mplt\u001b[39;00m\n\u001b[0;32m----> 4\u001b[0m \u001b[38;5;28;01mimport\u001b[39;00m \u001b[38;5;21;01msimpeg\u001b[39;00m\u001b[38;5;21;01m.\u001b[39;00m\u001b[38;5;21;01melectromagnetics\u001b[39;00m\u001b[38;5;21;01m.\u001b[39;00m\u001b[38;5;21;01mfrequency_domain\u001b[39;00m \u001b[38;5;28;01mas\u001b[39;00m \u001b[38;5;21;01mFDEM\u001b[39;00m\n\u001b[1;32m      5\u001b[0m get_ipython()\u001b[38;5;241m.\u001b[39mrun_line_magic(\u001b[38;5;124m'\u001b[39m\u001b[38;5;124mmatplotlib\u001b[39m\u001b[38;5;124m'\u001b[39m, \u001b[38;5;124m'\u001b[39m\u001b[38;5;124mwidget\u001b[39m\u001b[38;5;124m'\u001b[39m)\n",
      "File \u001b[0;32m~/Codes/simpeg/simpeg/electromagnetics/__init__.py:39\u001b[0m\n\u001b[1;32m     36\u001b[0m \u001b[38;5;28;01mfrom\u001b[39;00m \u001b[38;5;21;01mscipy\u001b[39;00m\u001b[38;5;21;01m.\u001b[39;00m\u001b[38;5;21;01mconstants\u001b[39;00m \u001b[38;5;28;01mimport\u001b[39;00m mu_0, epsilon_0\n\u001b[1;32m     38\u001b[0m \u001b[38;5;28;01mfrom\u001b[39;00m \u001b[38;5;21;01m.\u001b[39;00m \u001b[38;5;28;01mimport\u001b[39;00m time_domain\n\u001b[0;32m---> 39\u001b[0m \u001b[38;5;28;01mfrom\u001b[39;00m \u001b[38;5;21;01m.\u001b[39;00m \u001b[38;5;28;01mimport\u001b[39;00m frequency_domain\n\u001b[1;32m     40\u001b[0m \u001b[38;5;28;01mfrom\u001b[39;00m \u001b[38;5;21;01m.\u001b[39;00m \u001b[38;5;28;01mimport\u001b[39;00m natural_source\n\u001b[1;32m     41\u001b[0m \u001b[38;5;28;01mfrom\u001b[39;00m \u001b[38;5;21;01m.\u001b[39;00m \u001b[38;5;28;01mimport\u001b[39;00m analytics\n",
      "File \u001b[0;32m~/Codes/simpeg/simpeg/electromagnetics/frequency_domain/__init__.py:95\u001b[0m\n\u001b[1;32m      1\u001b[0m \u001b[38;5;124mr\u001b[39m\u001b[38;5;124;03m\"\"\"\u001b[39;00m\n\u001b[1;32m      2\u001b[0m \u001b[38;5;124;03m==============================================================================\u001b[39;00m\n\u001b[1;32m      3\u001b[0m \u001b[38;5;124;03mFrequency-Domain EM (:mod:`simpeg.electromagnetics.frequency_domain`)\u001b[39;00m\n\u001b[0;32m   (...)\u001b[0m\n\u001b[1;32m     92\u001b[0m \n\u001b[1;32m     93\u001b[0m \u001b[38;5;124;03m\"\"\"\u001b[39;00m\n\u001b[0;32m---> 95\u001b[0m \u001b[38;5;28;01mfrom\u001b[39;00m \u001b[38;5;21;01m.\u001b[39;00m\u001b[38;5;21;01msurvey\u001b[39;00m \u001b[38;5;28;01mimport\u001b[39;00m Survey\n\u001b[1;32m     96\u001b[0m \u001b[38;5;28;01mfrom\u001b[39;00m \u001b[38;5;21;01m.\u001b[39;00m \u001b[38;5;28;01mimport\u001b[39;00m sources\n\u001b[1;32m     97\u001b[0m \u001b[38;5;28;01mfrom\u001b[39;00m \u001b[38;5;21;01m.\u001b[39;00m \u001b[38;5;28;01mimport\u001b[39;00m receivers\n",
      "File \u001b[0;32m~/Codes/simpeg/simpeg/electromagnetics/frequency_domain/survey.py:2\u001b[0m\n\u001b[1;32m      1\u001b[0m \u001b[38;5;28;01mfrom\u001b[39;00m \u001b[38;5;21;01m.\u001b[39;00m\u001b[38;5;21;01m.\u001b[39;00m\u001b[38;5;21;01m.\u001b[39;00m\u001b[38;5;21;01msurvey\u001b[39;00m \u001b[38;5;28;01mimport\u001b[39;00m BaseSurvey\n\u001b[0;32m----> 2\u001b[0m \u001b[38;5;28;01mfrom\u001b[39;00m \u001b[38;5;21;01m.\u001b[39;00m\u001b[38;5;21;01msources\u001b[39;00m \u001b[38;5;28;01mimport\u001b[39;00m BaseFDEMSrc\n\u001b[1;32m      3\u001b[0m \u001b[38;5;28;01mfrom\u001b[39;00m \u001b[38;5;21;01m.\u001b[39;00m\u001b[38;5;21;01m.\u001b[39;00m\u001b[38;5;21;01m.\u001b[39;00m\u001b[38;5;21;01mutils\u001b[39;00m \u001b[38;5;28;01mimport\u001b[39;00m validate_list_of_types\n\u001b[1;32m      6\u001b[0m \u001b[38;5;28;01mclass\u001b[39;00m \u001b[38;5;21;01mSurvey\u001b[39;00m(BaseSurvey):\n",
      "File \u001b[0;32m~/Codes/simpeg/simpeg/electromagnetics/frequency_domain/sources.py:7\u001b[0m\n\u001b[1;32m      3\u001b[0m \u001b[38;5;28;01mimport\u001b[39;00m \u001b[38;5;21;01mwarnings\u001b[39;00m\n\u001b[1;32m      5\u001b[0m \u001b[38;5;28;01mfrom\u001b[39;00m \u001b[38;5;21;01mgeoana\u001b[39;00m\u001b[38;5;21;01m.\u001b[39;00m\u001b[38;5;21;01mem\u001b[39;00m\u001b[38;5;21;01m.\u001b[39;00m\u001b[38;5;21;01mstatic\u001b[39;00m \u001b[38;5;28;01mimport\u001b[39;00m MagneticDipoleWholeSpace, CircularLoopWholeSpace\n\u001b[0;32m----> 7\u001b[0m \u001b[38;5;28;01mfrom\u001b[39;00m \u001b[38;5;21;01m.\u001b[39;00m\u001b[38;5;21;01m.\u001b[39;00m\u001b[38;5;21;01m.\u001b[39;00m\u001b[38;5;21;01mprops\u001b[39;00m \u001b[38;5;28;01mimport\u001b[39;00m LocationVector\n\u001b[1;32m      8\u001b[0m \u001b[38;5;28;01mfrom\u001b[39;00m \u001b[38;5;21;01m.\u001b[39;00m\u001b[38;5;21;01m.\u001b[39;00m\u001b[38;5;21;01m.\u001b[39;00m\u001b[38;5;21;01mutils\u001b[39;00m \u001b[38;5;28;01mimport\u001b[39;00m (\n\u001b[1;32m      9\u001b[0m     mkvc,\n\u001b[1;32m     10\u001b[0m     Zero,\n\u001b[0;32m   (...)\u001b[0m\n\u001b[1;32m     16\u001b[0m     validate_integer,\n\u001b[1;32m     17\u001b[0m )\n\u001b[1;32m     18\u001b[0m \u001b[38;5;28;01mfrom\u001b[39;00m \u001b[38;5;21;01m.\u001b[39;00m\u001b[38;5;21;01m.\u001b[39;00m\u001b[38;5;21;01m.\u001b[39;00m\u001b[38;5;21;01mutils\u001b[39;00m\u001b[38;5;21;01m.\u001b[39;00m\u001b[38;5;21;01mcode_utils\u001b[39;00m \u001b[38;5;28;01mimport\u001b[39;00m deprecate_property\n",
      "\u001b[0;31mImportError\u001b[0m: cannot import name 'LocationVector' from 'simpeg.props' (/home/dtr/Codes/simpeg/simpeg/props.py)"
     ]
    }
   ],
   "source": [
    "import numpy as np\n",
    "import discretize\n",
    "import matplotlib.pyplot as plt\n",
    "import simpeg.electromagnetics.frequency_domain as FDEM\n",
    "%matplotlib widget"
   ]
  },
  {
   "cell_type": "markdown",
   "metadata": {
    "iooxa": {
     "id": {
      "block": "vdjBibtQpFvXQMz7R9DA",
      "project": "rzeiFG3sdIcsFLl4Infw",
      "version": 1
     }
    }
   },
   "source": [
    "## Create a model"
   ]
  },
  {
   "cell_type": "code",
   "execution_count": null,
   "metadata": {
    "iooxa": {
     "id": {
      "block": "aHh2vIuOTvhUKY1isRrV",
      "project": "rzeiFG3sdIcsFLl4Infw",
      "version": 2
     },
     "outputId": {
      "block": "Hb5IU2kiW7T2soTTUVzB",
      "project": "rzeiFG3sdIcsFLl4Infw",
      "version": 1
     }
    }
   },
   "outputs": [],
   "source": [
    "import emg3d\n",
    "import numpy as np\n",
    "frequency = 2.\n",
    "mesh_tmp = emg3d.construct_mesh(\n",
    "    center=(0, 0, 0),    # Center of wanted grid\n",
    "    frequency=frequency,        # Frequency we will use the grid for\n",
    "    properties=2,        # Reference resistivity\n",
    "    domain=[-2000, 2000],  # Domain in which we want precise results\n",
    "    center_on_edge=True,\n",
    ")"
   ]
  },
  {
   "cell_type": "code",
   "execution_count": null,
   "metadata": {
    "iooxa": {
     "id": {
      "block": "ZqAztqKq6v7TzY61MWNv",
      "project": "rzeiFG3sdIcsFLl4Infw",
      "version": 1
     },
     "outputId": null
    }
   },
   "outputs": [],
   "source": [
    "hx = mesh_tmp.h[0]\n",
    "hz = mesh_tmp.h[2]\n",
    "hy = np.r_[mesh_tmp.h[1][:8], mesh_tmp.h[1][8], mesh_tmp.h[1][-8:]]"
   ]
  },
  {
   "cell_type": "code",
   "execution_count": null,
   "metadata": {
    "iooxa": {
     "id": {
      "block": "j9yJtj0xeYQry1RTyod1",
      "project": "rzeiFG3sdIcsFLl4Infw",
      "version": 1
     },
     "outputId": null
    }
   },
   "outputs": [],
   "source": [
    "mesh = discretize.TensorMesh([hx, hy, hz], origin=[mesh_tmp.x0[0], -hy.sum()/2, mesh_tmp.origin[2]])"
   ]
  },
  {
   "cell_type": "code",
   "execution_count": null,
   "metadata": {
    "iooxa": {
     "id": {
      "block": "nwrjqSsI7WdyU8MSgaJU",
      "project": "rzeiFG3sdIcsFLl4Infw",
      "version": 1
     },
     "outputId": {
      "block": "PoIrB4SPhiQYFbkT3Ari",
      "project": "rzeiFG3sdIcsFLl4Infw",
      "version": 1
     }
    }
   },
   "outputs": [],
   "source": [
    "from geoana import em\n",
    "from matplotlib.colors import LogNorm\n",
    "em.fdem.skin_depth(1, 1) * 4"
   ]
  },
  {
   "cell_type": "code",
   "execution_count": null,
   "metadata": {
    "iooxa": {
     "id": {
      "block": "uzOcRPqNxwUqeCxmuOUF",
      "project": "rzeiFG3sdIcsFLl4Infw",
      "version": 1
     },
     "outputId": {
      "block": "6zvXVUbSzDa5qMvKH7qL",
      "project": "rzeiFG3sdIcsFLl4Infw",
      "version": 1
     }
    }
   },
   "outputs": [],
   "source": [
    "inds_air = mesh.cell_centers[:,2]>0.\n",
    "inds_seafloor = mesh.cell_centers[:,2]<-1000.\n",
    "inds_hydrocarbon = (\n",
    "    np.logical_and(mesh.cell_centers[:,2]<-1500, mesh.cell_centers[:,2]>-1700) \n",
    "    & np.logical_and(mesh.cell_centers[:,0]>-1000, mesh.cell_centers[:,0]<1000)\n",
    "    & np.logical_and(mesh.cell_centers[:,1]>-1000, mesh.cell_centers[:,1]<1000)\n",
    ")\n",
    "\n",
    "sigma = np.ones(mesh.n_cells) * 1./0.33\n",
    "sigma[inds_air] = 1./1e8\n",
    "sigma[inds_seafloor] = 1./1.\n",
    "sigma[inds_hydrocarbon] = 1./100\n",
    "fig, ax = plt.subplots(1,1, figsize=(8, 4))\n",
    "mesh.plot_slice(\n",
    "    1./sigma, grid=True, normal='Y', \n",
    "#     grid_opts={'color':'grey', 'linewidth':1},\n",
    "    pcolor_opts={'cmap':'Spectral_r', 'norm':LogNorm(vmin=0.33, vmax=100)}, \n",
    "    ax=ax,\n",
    ")\n",
    "ax.set_aspect(1)\n",
    "ax.set_ylim(mesh.nodes_z.min(), 0)"
   ]
  },
  {
   "cell_type": "code",
   "execution_count": null,
   "metadata": {
    "iooxa": {
     "id": {
      "block": "30VqQvq3qDIRA4oxRqKx",
      "project": "rzeiFG3sdIcsFLl4Infw",
      "version": 1
     },
     "outputId": null
    }
   },
   "outputs": [],
   "source": [
    "inds_active = mesh.cell_centers[:,2]<-1000."
   ]
  },
  {
   "cell_type": "markdown",
   "metadata": {
    "iooxa": {
     "id": {
      "block": "8ce1Xgeu8mo5wAC7VKca",
      "project": "rzeiFG3sdIcsFLl4Infw",
      "version": 1
     }
    }
   },
   "source": [
    "## Create a survey"
   ]
  },
  {
   "cell_type": "code",
   "execution_count": null,
   "metadata": {
    "iooxa": {
     "id": {
      "block": "T34PLG7PfbTRbYkKjgrx",
      "project": "rzeiFG3sdIcsFLl4Infw",
      "version": 1
     },
     "outputId": {
      "block": "4LWnDLxja6qnPXiRR8VZ",
      "project": "rzeiFG3sdIcsFLl4Infw",
      "version": 1
     }
    }
   },
   "outputs": [],
   "source": [
    "mesh.cell_centers_z"
   ]
  },
  {
   "cell_type": "code",
   "execution_count": null,
   "metadata": {
    "iooxa": {
     "id": {
      "block": "8f0OUlpuueihJ1FoHXjD",
      "project": "rzeiFG3sdIcsFLl4Infw",
      "version": 1
     },
     "outputId": null
    }
   },
   "outputs": [],
   "source": [
    "from simpeg import utils\n",
    "# there is funcy behavior ... had to use this way ???\n",
    "rec_x = mesh.cell_centers_x[8:-8]\n",
    "rec_y =  np.r_[-83.88202017]\n",
    "rec_z = np.array([-8.38820202e+02])\n",
    "xyz_rx = utils.ndgrid(rec_x, rec_y, rec_z)\n",
    "src_x = mesh.cell_centers_x[8:-8][::3]\n",
    "src_y = np.r_[-83.88202017]\n",
    "src_z = np.array([-1000])\n",
    "xyz_src = utils.ndgrid(src_x, src_y, src_z)"
   ]
  },
  {
   "cell_type": "code",
   "execution_count": null,
   "metadata": {
    "iooxa": {
     "id": {
      "block": "06Lvf12o1KOrzkpKcqla",
      "project": "rzeiFG3sdIcsFLl4Infw",
      "version": 1
     },
     "outputId": {
      "block": "tbmVNdQbRnZIo8SrWw3f",
      "project": "rzeiFG3sdIcsFLl4Infw",
      "version": 1
     }
    }
   },
   "outputs": [],
   "source": [
    "mesh.plot_slice(\n",
    "    1./sigma, grid=True, normal='Z', \n",
    "    ind=10,\n",
    "    pcolor_opts={'cmap':'Spectral_r', 'norm':LogNorm(vmin=1, vmax=100)}, \n",
    ")\n",
    "plt.plot(xyz_rx[:,0], xyz_rx[:,1], 'r.')\n",
    "plt.plot(xyz_src[:,0], xyz_src[:,1], 'w*')\n",
    "plt.gca().set_aspect(1)\n",
    "plt.xlim(-5000, 5000)\n",
    "plt.ylim(-5000, 5000)"
   ]
  },
  {
   "cell_type": "code",
   "execution_count": null,
   "metadata": {
    "iooxa": {
     "id": {
      "block": "emuz2U5dLjIkswF5L8oQ",
      "project": "rzeiFG3sdIcsFLl4Infw",
      "version": 1
     },
     "outputId": null
    }
   },
   "outputs": [],
   "source": [
    "rx_list = [\n",
    "    FDEM.receivers.PointElectricField(\n",
    "        orientation='x', component=\"complex\", locations=xyz_rx),\n",
    "]\n",
    "\n",
    "# vector = np.real(sfield.field/-sfield.smu0)\n",
    "src_list = []\n",
    "for ii in range(xyz_src.shape[0]):\n",
    "    src = FDEM.sources.ElectricDipole(rx_list, location=xyz_src[ii,:], freq=frequency, azimuth=0, elevation=0)\n",
    "    src_list.append(src)\n",
    "survey = FDEM.Survey(src_list)"
   ]
  },
  {
   "cell_type": "markdown",
   "metadata": {
    "iooxa": {
     "id": {
      "block": "8DbjjYodvUEjf8IXXJ8p",
      "project": "rzeiFG3sdIcsFLl4Infw",
      "version": 1
     }
    }
   },
   "source": [
    "## Create simulation"
   ]
  },
  {
   "cell_type": "code",
   "execution_count": null,
   "metadata": {
    "iooxa": {
     "id": {
      "block": "9nWZ61gZ2UyBGpXWZyLM",
      "project": "rzeiFG3sdIcsFLl4Infw",
      "version": 1
     },
     "outputId": null
    }
   },
   "outputs": [],
   "source": [
    "from SimPEG.electromagnetics.frequency_domain import Simulation3DEMG3D\n",
    "from SimPEG import maps\n",
    "from pymatsolver import Pardiso\n",
    "\n",
    "active_map = maps.InjectActiveCells(mesh, inds_active, sigma[~inds_active])\n",
    "nP = int(inds_active.sum())\n",
    "conductivity_map = active_map * maps.ExpMap(nP=nP)\n",
    "# conductivity_map = maps.IdentityMap(mesh)"
   ]
  },
  {
   "cell_type": "code",
   "execution_count": null,
   "metadata": {
    "iooxa": {
     "id": {
      "block": "BICEEs76kmrm2VOmzp9w",
      "project": "rzeiFG3sdIcsFLl4Infw",
      "version": 2
     },
     "outputId": {
      "block": "aNmK8QUAD9OQ9U7pdBg1",
      "project": "rzeiFG3sdIcsFLl4Infw",
      "version": 2
     }
    }
   },
   "outputs": [],
   "source": [
    "# Define the Simulation\n",
    "simulation = Simulation3DEMG3D(\n",
    "        mesh,\n",
    "        survey=survey,\n",
    "        sigmaMap=conductivity_map,\n",
    "        Solver=Pardiso,\n",
    "        verbose=False,\n",
    "        simulation_opts={\n",
    "            'max_workers': 6, \n",
    "            'gridding': 'single',\n",
    "            'model': emg3d.Model(mesh, sigma, mapping='Conductivity'),\n",
    "            'gridding_opts': {\n",
    "                'seasurface': 0,\n",
    "                'center': (0, 0, -1000),\n",
    "                'vector': (mesh.vectorNx[8:-8], mesh.vectorNy[2:-2], mesh.vectorNz[8:-20]),\n",
    "                'domain': ([-1600, 1600], [-1600, 1600], [-2000, 0]),\n",
    "                'min_width_limits': (200, 400, 100),\n",
    "                'max_buffer': 20000,\n",
    "                'lambda_from_center': True,\n",
    "            },\n",
    "#            'solver_opts': {\n",
    "#                'maxit': 1,     # To speed up for testing\n",
    "#                'plain': True   # \" \"  (fails faster)\n",
    "#            },\n",
    "#            'verb': -1,         # To not raise convergence warnings\n",
    "        },\n",
    ")\n",
    "\n",
    "m_true =  np.log(sigma[inds_active])\n",
    "# m_true =  np.ones(mesh.nC)\n",
    "m0 =  np.ones(inds_active.sum()) * np.log(1.)\n",
    "\n",
    "m2 = simulation.emg3d_sim.get_model('TxED-1', 'f-1')\n",
    "m2.grid"
   ]
  },
  {
   "cell_type": "code",
   "execution_count": null,
   "metadata": {
    "iooxa": {
     "id": {
      "block": "ZuJ1qR1pzFLIAKrHyNda",
      "project": "rzeiFG3sdIcsFLl4Infw",
      "version": 2
     },
     "outputId": {
      "block": "DzSvjNNupwp8pTikrUrY",
      "project": "rzeiFG3sdIcsFLl4Infw",
      "version": 2
     }
    }
   },
   "outputs": [],
   "source": [
    "from matplotlib.colors import LogNorm\n",
    "m2.grid.plot_3d_slicer(1/m2.property_x, xslice=12000, yslice=7000,\n",
    "                       zlim=[-2500, 500],\n",
    "                       pcolor_opts={'norm': LogNorm(vmin=0.3, vmax=200)})"
   ]
  },
  {
   "cell_type": "code",
   "execution_count": null,
   "metadata": {
    "iooxa": {
     "id": {
      "block": "ZkXV98RGrRnok5njG6QZ",
      "project": "rzeiFG3sdIcsFLl4Infw",
      "version": 1
     },
     "outputId": null
    }
   },
   "outputs": [],
   "source": [
    "f = simulation.fields(m_true)\n",
    "d_true = simulation.dpred(m_true, f=f)"
   ]
  },
  {
   "cell_type": "code",
   "execution_count": null,
   "metadata": {
    "iooxa": {
     "id": {
      "block": "CZXwkeQOaQsW9hgjQhfa",
      "project": "rzeiFG3sdIcsFLl4Infw",
      "version": 1
     },
     "outputId": null
    }
   },
   "outputs": [],
   "source": [
    "d_0 = simulation.dpred(m0)"
   ]
  },
  {
   "cell_type": "code",
   "execution_count": null,
   "metadata": {
    "iooxa": {
     "id": {
      "block": "LsnmMGLKecMbDu2djq0E",
      "project": "rzeiFG3sdIcsFLl4Infw",
      "version": 1
     },
     "outputId": null
    }
   },
   "outputs": [],
   "source": [
    "relative_error = 0.01\n",
    "noise_floor = 1e-14\n",
    "standard_deviation = np.sqrt(abs(relative_error*d_true)**2 + (noise_floor)**2)"
   ]
  },
  {
   "cell_type": "code",
   "execution_count": null,
   "metadata": {
    "iooxa": {
     "id": {
      "block": "7vClaAoJvWhYMRKiK7Am",
      "project": "rzeiFG3sdIcsFLl4Infw",
      "version": 1
     },
     "outputId": null
    }
   },
   "outputs": [],
   "source": [
    "residual = (d_true - d_0)/standard_deviation"
   ]
  },
  {
   "cell_type": "code",
   "execution_count": null,
   "metadata": {
    "iooxa": {
     "id": {
      "block": "N8weJf7Aft1LhNtMaqQz",
      "project": "rzeiFG3sdIcsFLl4Infw",
      "version": 2
     },
     "outputId": {
      "block": "9xON0MDd14ZuJ3EqrNjY",
      "project": "rzeiFG3sdIcsFLl4Infw",
      "version": 2
     }
    }
   },
   "outputs": [],
   "source": [
    "np.vdot(residual, residual).real"
   ]
  },
  {
   "cell_type": "code",
   "execution_count": null,
   "metadata": {
    "iooxa": {
     "id": {
      "block": "2Y7WDMLDt1q7JuonULqS",
      "project": "rzeiFG3sdIcsFLl4Infw",
      "version": 2
     },
     "outputId": {
      "block": "1zbafvYdELKX2LQzXeYH",
      "project": "rzeiFG3sdIcsFLl4Infw",
      "version": 2
     }
    }
   },
   "outputs": [],
   "source": [
    "plt.semilogy(abs(residual), label='dobs')\n",
    "# plt.semilogy(standard_deviation,label='std')"
   ]
  },
  {
   "cell_type": "code",
   "execution_count": null,
   "metadata": {
    "iooxa": {
     "id": {
      "block": "epLAkfxgvGOEpp4KaVZg",
      "project": "rzeiFG3sdIcsFLl4Infw",
      "version": 2
     },
     "outputId": {
      "block": "auyIA0HTefbc0oakSJte",
      "project": "rzeiFG3sdIcsFLl4Infw",
      "version": 2
     }
    }
   },
   "outputs": [],
   "source": [
    "plt.hist(np.log10(abs(d_true)))"
   ]
  },
  {
   "cell_type": "code",
   "execution_count": null,
   "metadata": {
    "iooxa": {
     "id": {
      "block": "4BWe89LvplGzG8fiQMAT",
      "project": "rzeiFG3sdIcsFLl4Infw",
      "version": 2
     },
     "outputId": {
      "block": "Mw2ewtXPqVVHjj1A7nkj",
      "project": "rzeiFG3sdIcsFLl4Infw",
      "version": 2
     }
    }
   },
   "outputs": [],
   "source": [
    "plt.semilogy(abs(d_true), '.', label='pred')\n"
   ]
  },
  {
   "cell_type": "code",
   "execution_count": null,
   "metadata": {
    "iooxa": {
     "id": {
      "block": "aYHr7VwUjyTELNbU9wIc",
      "project": "rzeiFG3sdIcsFLl4Infw",
      "version": 1
     },
     "outputId": null
    }
   },
   "outputs": [],
   "source": [
    "from SimPEG import (\n",
    "    maps,\n",
    "    data,\n",
    "    data_misfit,\n",
    "    regularization,\n",
    "    optimization,\n",
    "    inverse_problem,\n",
    "    inversion,\n",
    "    directives,\n",
    "    utils,\n",
    ")"
   ]
  },
  {
   "cell_type": "code",
   "execution_count": null,
   "metadata": {
    "iooxa": {
     "id": {
      "block": "Mf7IWNa5KnEqGKKpsA0Q",
      "project": "rzeiFG3sdIcsFLl4Infw",
      "version": 1
     },
     "outputId": null
    }
   },
   "outputs": [],
   "source": [
    "em_data = data.ComplexData(survey, dobs=d_true, standard_deviation=standard_deviation)\n",
    "dmis = data_misfit.L2DataMisfit(data=em_data, simulation=simulation)"
   ]
  },
  {
   "cell_type": "code",
   "execution_count": null,
   "metadata": {
    "iooxa": {
     "id": {
      "block": "ByoGhn2hWjR7YVbK2D8Q",
      "project": "rzeiFG3sdIcsFLl4Infw",
      "version": 1
     },
     "outputId": null
    }
   },
   "outputs": [],
   "source": [
    "from SimPEG import tests\n",
    "adjoint_tol = 1e-10\n",
    "def test_misfit():\n",
    "    passed = tests.checkDerivative(\n",
    "        lambda m: (simulation.dpred(m), lambda mx: simulation.Jvec(m0, mx, f=f)),\n",
    "        m0,\n",
    "        plotIt=False,\n",
    "        num=3,\n",
    "    )\n",
    "\n",
    "def test_adjoint():\n",
    "    # Adjoint Test\n",
    "    f = simulation.fields(m=m0)\n",
    "    # u = np.random.rand(.mesh.nC * .survey.nSrc)\n",
    "    v = np.random.rand(inds_active.sum())\n",
    "#     v = np.random.rand(mesh.nC)\n",
    "    w = np.random.rand(simulation.survey.nD)\n",
    "    wtJv = np.vdot(w, simulation.Jvec(m0, v, f=f)).real\n",
    "    vtJtw = np.vdot(v, simulation.Jtvec(m0, w, f=f))\n",
    "    passed = np.abs(wtJv - vtJtw) < adjoint_tol\n",
    "    print(\"Adjoint Test\", np.abs(wtJv - vtJtw), passed)\n",
    "    print(wtJv, vtJtw)\n",
    "    \n",
    "def test_dataObj():\n",
    "    passed = tests.checkDerivative(\n",
    "        lambda m: [dmis(m), dmis.deriv(m)], m0, plotIt=False, num=2\n",
    "    )    "
   ]
  },
  {
   "cell_type": "code",
   "execution_count": null,
   "metadata": {
    "iooxa": {
     "id": {
      "block": "vloWT6HNfUXTh0Pr6CxC",
      "project": "rzeiFG3sdIcsFLl4Infw",
      "version": 2
     },
     "outputId": {
      "block": "TgqgUedcu3S609uHFNu8",
      "project": "rzeiFG3sdIcsFLl4Infw",
      "version": 2
     }
    }
   },
   "outputs": [],
   "source": [
    "test_dataObj()"
   ]
  },
  {
   "cell_type": "code",
   "execution_count": null,
   "metadata": {
    "iooxa": {
     "id": {
      "block": "CiHra1xjEjEmoyJtE4Om",
      "project": "rzeiFG3sdIcsFLl4Infw",
      "version": 2
     },
     "outputId": {
      "block": "y9yLCjUu1OODQc8WFljq",
      "project": "rzeiFG3sdIcsFLl4Infw",
      "version": 2
     }
    }
   },
   "outputs": [],
   "source": [
    "test_misfit()"
   ]
  },
  {
   "cell_type": "code",
   "execution_count": null,
   "metadata": {
    "iooxa": {
     "id": {
      "block": "3zCHDycYi5uM9PXPrBqi",
      "project": "rzeiFG3sdIcsFLl4Infw",
      "version": 2
     },
     "outputId": {
      "block": "rPa9KuzjKkyfKszRlBH0",
      "project": "rzeiFG3sdIcsFLl4Infw",
      "version": 2
     }
    }
   },
   "outputs": [],
   "source": [
    "test_adjoint()"
   ]
  },
  {
   "cell_type": "code",
   "execution_count": null,
   "metadata": {
    "iooxa": {
     "id": {
      "block": "we7ORXM7HD1BgLaAIjqW",
      "project": "rzeiFG3sdIcsFLl4Infw",
      "version": 1
     },
     "outputId": null
    }
   },
   "outputs": [],
   "source": [
    "from SimPEG import utils"
   ]
  },
  {
   "cell_type": "code",
   "execution_count": null,
   "metadata": {
    "iooxa": {
     "id": {
      "block": "AhmM0eT40RrE0AFanbdy",
      "project": "rzeiFG3sdIcsFLl4Infw",
      "version": 2
     },
     "outputId": {
      "block": "Yj1n0wlpooY4m70DUmHt",
      "project": "rzeiFG3sdIcsFLl4Infw",
      "version": 2
     }
    }
   },
   "outputs": [],
   "source": [
    "%%time\n",
    "# Define the regularization (model objective function)\n",
    "reg = regularization.Tikhonov(\n",
    "    mesh,\n",
    "    indActive=inds_active,\n",
    "    mref=m0,\n",
    "    alpha_s=1e-8,\n",
    "    alpha_x=1,\n",
    "    alpha_y=10,\n",
    "    alpha_z=1\n",
    ")\n",
    "\n",
    "opt = optimization.InexactGaussNewton(\n",
    "    maxIter=20, maxIterLS=20, maxIterCG=20, tolCG=1e-3\n",
    ")\n",
    "\n",
    "inv_prob = inverse_problem.BaseInvProblem(dmis, reg, opt)\n",
    "starting_beta = directives.BetaEstimate_ByEig(beta0_ratio=1)\n",
    "save = directives.SaveOutputDictEveryIteration()\n",
    "\n",
    "beta_schedule = directives.BetaSchedule(coolingFactor=2, coolingRate=1)\n",
    "target_misfit = directives.TargetMisfit(chifact=1)\n",
    "\n",
    "directives_list = [\n",
    "    starting_beta,\n",
    "    beta_schedule,\n",
    "    target_misfit,\n",
    "    save\n",
    "]\n",
    "em_inversion = inversion.BaseInversion(inv_prob, directiveList=directives_list)\n",
    "\n",
    "# Run inversion\n",
    "recovered_conductivity_model = em_inversion.run(m0)"
   ]
  },
  {
   "cell_type": "code",
   "execution_count": null,
   "metadata": {
    "iooxa": {
     "id": {
      "block": "QsNGQGcd2ZiDISYUCnUA",
      "project": "rzeiFG3sdIcsFLl4Infw",
      "version": 1
     },
     "outputId": {
      "block": "RTdAGATBgUh562o3ojuM",
      "project": "rzeiFG3sdIcsFLl4Infw",
      "version": 1
     }
    }
   },
   "outputs": [],
   "source": [
    "target_misfit.target"
   ]
  },
  {
   "cell_type": "code",
   "execution_count": null,
   "metadata": {
    "iooxa": {
     "id": {
      "block": "6PKOKmnLSKc3X2fseDYE",
      "project": "rzeiFG3sdIcsFLl4Infw",
      "version": 2
     },
     "outputId": {
      "block": "9CzpNUjYXQuf7rC3We6H",
      "project": "rzeiFG3sdIcsFLl4Infw",
      "version": 2
     }
    }
   },
   "outputs": [],
   "source": [
    "plt.figure(figsize=(10, 4))\n",
    "#iteration = 16\n",
    "iteration = len(save.outDict.keys())\n",
    "plt.semilogy(abs(em_data.dobs), '-', label='Observed')\n",
    "plt.semilogy(abs(save.outDict[iteration]['dpred']), '.', label='Predicted')\n",
    "plt.legend()"
   ]
  },
  {
   "cell_type": "code",
   "execution_count": null,
   "metadata": {
    "iooxa": {
     "id": {
      "block": "gnwqxI90840oEFgDhbH1",
      "project": "rzeiFG3sdIcsFLl4Infw",
      "version": 2
     },
     "outputId": {
      "block": "NitOIwuCidh1MVslk33E",
      "project": "rzeiFG3sdIcsFLl4Infw",
      "version": 2
     }
    }
   },
   "outputs": [],
   "source": [
    "fig, axs = plt.subplots(1,2, figsize=(8, 4))\n",
    "\n",
    "sigm_est = conductivity_map * save.outDict[iteration]['m']\n",
    "sigmas = [sigm_est, sigma]\n",
    "titles = [\"Estimated\", \"True\"]\n",
    "for ii, ax in enumerate(axs):\n",
    "    out = mesh.plot_slice(\n",
    "        1./sigmas[ii], grid=False, normal='Y', \n",
    "        pcolor_opts={'cmap':'Spectral_r', 'norm':LogNorm(vmin=0.33, vmax=100)}, \n",
    "        ax=ax,\n",
    "    )\n",
    "    ax.set_aspect(1)\n",
    "    ax.set_ylim(-4000, 0)\n",
    "    ax.set_xlim(-2000, 2000)\n",
    "    if ii == 1:\n",
    "        ax.set_yticks([])\n",
    "    ax.set_title(titles[ii])\n",
    "    cb = plt.colorbar(out[0], ax=ax, fraction=0.03, orientation='horizontal')\n",
    "    cb.set_label(\"Resistivity ($\\Omega$ m)\")"
   ]
  },
  {
   "cell_type": "code",
   "execution_count": null,
   "metadata": {
    "iooxa": {
     "id": {
      "block": "jJBnEAS8o99ouFRUgblf",
      "project": "rzeiFG3sdIcsFLl4Infw",
      "version": 1
     },
     "outputId": {
      "block": "ZWHxVF71szxxd2m0PlE2",
      "project": "rzeiFG3sdIcsFLl4Infw",
      "version": 1
     }
    }
   },
   "outputs": [],
   "source": [
    "import SimPEG\n",
    "SimPEG.Report('emg3d')"
   ]
  }
 ],
 "metadata": {
  "iooxa": {
   "id": {
    "block": "Mk6E0e8jVUECPGPwblVE",
    "project": "rzeiFG3sdIcsFLl4Infw",
    "version": 6
   }
  },
  "kernelspec": {
   "display_name": "pg-emg3d",
   "language": "python",
   "name": "pg-emg3d"
  },
  "language_info": {
   "codemirror_mode": {
    "name": "ipython",
    "version": 3
   },
   "file_extension": ".py",
   "mimetype": "text/x-python",
   "name": "python",
   "nbconvert_exporter": "python",
   "pygments_lexer": "ipython3",
   "version": "3.11.9"
  }
 },
 "nbformat": 4,
 "nbformat_minor": 4
}
