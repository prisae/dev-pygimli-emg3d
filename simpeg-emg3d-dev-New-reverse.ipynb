{
 "cells": [
  {
   "cell_type": "markdown",
   "metadata": {
    "iooxa": {
     "id": {
      "block": "FWT4lEQzgTJ4SqfCdbsj",
      "project": "rzeiFG3sdIcsFLl4Infw",
      "version": 3
     }
    }
   },
   "source": [
    "# SimPEG(emg3d) -- small dev-example\n",
    "\n",
    "Use either via\n",
    "\n",
    "- `conda env create -f environment-simpeg-emg3d.yml`\n",
    "\n",
    "(creates env `simpeg-emg3d`), or manually by installing\n",
    "\n",
    "- SimPEG: `pip install git+https://github.com/prisae/simpeg@generalization-for-emg3d`\n",
    "- emg3d: `pip install git+https://github.com/emsig/emg3d@simpeg`\n",
    "- Additionally: `xarray`, `matplotlib`, `ipympl`\n",
    "\n",
    "## TODOs:\n",
    "- Clean-up the two PR's\n",
    "- Change this example to create survey and simulation with emg3d, and use simpeg only for the inversion."
   ]
  },
  {
   "cell_type": "code",
   "execution_count": 1,
   "metadata": {
    "iooxa": {
     "id": {
      "block": "10VtbUUnmcpr8GwQailC",
      "project": "rzeiFG3sdIcsFLl4Infw",
      "version": 5
     },
     "outputId": null
    }
   },
   "outputs": [],
   "source": [
    "import numpy as np\n",
    "import matplotlib.pyplot as plt\n",
    "from matplotlib.colors import LogNorm\n",
    "\n",
    "import emg3d\n",
    "import simpeg\n",
    "import simpeg.electromagnetics.frequency_domain as FDEM"
   ]
  },
  {
   "cell_type": "code",
   "execution_count": 2,
   "metadata": {
    "iooxa": {
     "id": {
      "block": "10VtbUUnmcpr8GwQailC",
      "project": "rzeiFG3sdIcsFLl4Infw",
      "version": 4
     },
     "outputId": null
    }
   },
   "outputs": [],
   "source": [
    "%matplotlib widget"
   ]
  },
  {
   "cell_type": "markdown",
   "metadata": {
    "iooxa": {
     "id": {
      "block": "5NlUlYHPsMWX91bB1YdN",
      "project": "rzeiFG3sdIcsFLl4Infw",
      "version": 3
     }
    }
   },
   "source": [
    "## Create a grid\n",
    "\n",
    "Very small now, for dev purposes."
   ]
  },
  {
   "cell_type": "code",
   "execution_count": 3,
   "metadata": {
    "iooxa": {
     "id": {
      "block": "rRBWeKCf2akYHaJUPqIQ",
      "project": "rzeiFG3sdIcsFLl4Infw",
      "version": 3
     },
     "outputId": {
      "block": "e5Idh82EipRE5WcbjWSh",
      "project": "rzeiFG3sdIcsFLl4Infw",
      "version": 1
     }
    }
   },
   "outputs": [
    {
     "data": {
      "text/html": [
       "<table>\n",
       "  <tr>\n",
       "    <td style='font-weight: bold; font-size: 1.2em; text-align: center;' colspan='3'>TensorMesh</td>\n",
       "    <td style='font-size: 1.2em; text-align: center;'colspan='4'>18,432 cells</td>\n",
       "  </tr>\n",
       "  <tr>\n",
       "    <th></th>\n",
       "    <th></th>\n",
       "    <th colspan='2' style='padding: 5px 20px 5px 20px;'>MESH EXTENT</th>\n",
       "    <th colspan='2' style='padding: 5px 20px 5px 20px;'>CELL WIDTH</th>\n",
       "    <th style='padding: 5px 20px 5px 20px;'>FACTOR</th>\n",
       "  </tr>\n",
       "  <tr>\n",
       "    <th style='padding: 5px 20px 5px 20px;'>dir</th>\n",
       "    <th style='padding: 5px 20px 5px 20px;'>nC</th>\n",
       "    <th style='padding: 5px 20px 5px 20px;'>min</th>\n",
       "    <th style='padding: 5px 20px 5px 20px;'>max</th>\n",
       "    <th style='padding: 5px 20px 5px 20px;'>min</th>\n",
       "    <th style='padding: 5px 20px 5px 20px;'>max</th>\n",
       "    <th style='padding: 5px 20px 5px 20px;'>max</th>\n",
       "  </tr>\n",
       "  <tr>\n",
       "    <td style='padding: 5px 20px 5px 20px;'>x</td>\n",
       "    <td style='padding: 5px 20px 5px 20px;'>32</td>\n",
       "    <td style='padding: 5px 20px 5px 20px;'>-5,197.13</td>\n",
       "    <td style='padding: 5px 20px 5px 20px;'>6,729.30</td>\n",
       "    <td style='padding: 5px 20px 5px 20px;'>200.00</td>\n",
       "    <td style='padding: 5px 20px 5px 20px;'>1,532.17</td>\n",
       "    <td style='padding: 5px 20px 5px 20px;'>1.40</td>\n",
       "  </tr>\n",
       "  <tr>\n",
       "    <td style='padding: 5px 20px 5px 20px;'>y</td>\n",
       "    <td style='padding: 5px 20px 5px 20px;'>24</td>\n",
       "    <td style='padding: 5px 20px 5px 20px;'>-4,186.99</td>\n",
       "    <td style='padding: 5px 20px 5px 20px;'>4,186.99</td>\n",
       "    <td style='padding: 5px 20px 5px 20px;'>200.00</td>\n",
       "    <td style='padding: 5px 20px 5px 20px;'>746.72</td>\n",
       "    <td style='padding: 5px 20px 5px 20px;'>1.21</td>\n",
       "  </tr>\n",
       "  <tr>\n",
       "    <td style='padding: 5px 20px 5px 20px;'>z</td>\n",
       "    <td style='padding: 5px 20px 5px 20px;'>24</td>\n",
       "    <td style='padding: 5px 20px 5px 20px;'>-6,449.09</td>\n",
       "    <td style='padding: 5px 20px 5px 20px;'>4,341.71</td>\n",
       "    <td style='padding: 5px 20px 5px 20px;'>200.00</td>\n",
       "    <td style='padding: 5px 20px 5px 20px;'>1,263.28</td>\n",
       "    <td style='padding: 5px 20px 5px 20px;'>1.23</td>\n",
       "  </tr>\n",
       "</table>\n"
      ],
      "text/plain": [
       "\n",
       "  TensorMesh: 18,432 cells\n",
       "\n",
       "                      MESH EXTENT             CELL WIDTH      FACTOR\n",
       "  dir    nC        min           max         min       max      max\n",
       "  ---   ---  ---------------------------  ------------------  ------\n",
       "   x     32     -5,197.13      6,729.30    200.00  1,532.17    1.40\n",
       "   y     24     -4,186.99      4,186.99    200.00    746.72    1.21\n",
       "   z     24     -6,449.09      4,341.71    200.00  1,263.28    1.23\n"
      ]
     },
     "execution_count": 3,
     "metadata": {},
     "output_type": "execute_result"
    }
   ],
   "source": [
    "frequency = 2.\n",
    "seafloor = -2000.\n",
    "#min_cell = 100.  # => 81,920 cells, 5 sources, 41 receivers\n",
    "min_cell = 200.  # => 18,432 cells, 3 sources, 21 receivers\n",
    "\n",
    "mesh = emg3d.construct_mesh(\n",
    "    center=(min_cell/2, 0, seafloor),  # Smallest cell at center\n",
    "    frequency=1.,          # Reference frequency\n",
    "    properties=(0.3, 1, 1, 0.3),  # Reference resistivity\n",
    "    min_width_limits=min_cell,\n",
    "    # Domain in which we want precise results\n",
    "    domain=([-2000, 2000],    # x-dir: where we have receivers\n",
    "            [-1000, 1000],    # y-dir: just extent of target\n",
    "            [seafloor-1000, seafloor+500]),  # \n",
    "    mapping='Conductivity',\n",
    "    center_on_edge=True,\n",
    ")\n",
    "\n",
    "# Active cells for inversion: everything below water\n",
    "inds_active = mesh.cell_centers[:, 2] < seafloor\n",
    "\n",
    "mesh"
   ]
  },
  {
   "cell_type": "markdown",
   "metadata": {
    "iooxa": {
     "id": {
      "block": "twas5lBJgODX0VA16dEo",
      "project": "rzeiFG3sdIcsFLl4Infw",
      "version": 1
     }
    }
   },
   "source": [
    "## Create a model\n",
    "\n",
    "Deep marine scenario, so we can ignore the air layer for developing."
   ]
  },
  {
   "cell_type": "code",
   "execution_count": 4,
   "metadata": {
    "iooxa": {
     "id": {
      "block": "A1pBbsAcPVRqQJ87oUlZ",
      "project": "rzeiFG3sdIcsFLl4Infw",
      "version": 2
     },
     "outputId": {
      "block": "VLj8vNQwghpBfavpH7pY",
      "project": "rzeiFG3sdIcsFLl4Infw",
      "version": 2
     }
    }
   },
   "outputs": [
    {
     "data": {
      "application/vnd.jupyter.widget-view+json": {
       "model_id": "f6f82439181f4480bfe529f0f21f125a",
       "version_major": 2,
       "version_minor": 0
      },
      "image/png": "[encoded data removed]",
      "text/html": [
       "\n",
       "            <div style=\"display: inline-block;\">\n",
       "                <div class=\"jupyter-widgets widget-label\" style=\"text-align: center;\">\n",
       "                    Figure\n",
       "                </div>\n",
       "                <img src='data:image/png;base64,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' width=640.0/>\n",
       "            </div>\n",
       "        "
      ],
      "text/plain": [
       "Canvas(capture_scroll=True, toolbar=Toolbar(toolitems=[('Home', 'Reset original view', 'home', 'home'), ('Back…"
      ]
     },
     "metadata": {},
     "output_type": "display_data"
    },
    {
     "data": {
      "text/plain": [
       "Model: conductivity; isotropic; 32 x 24 x 24 (18,432)"
      ]
     },
     "execution_count": 4,
     "metadata": {},
     "output_type": "execute_result"
    }
   ],
   "source": [
    "# Initiate with background resistivity\n",
    "sigma = np.ones(mesh.n_cells)\n",
    "\n",
    "# Add water layer\n",
    "sigma[mesh.cell_centers[:, 2] > seafloor] = 1/0.3\n",
    "\n",
    "# Add target\n",
    "inds_target = (\n",
    "    (abs(mesh.cell_centers[:, 0]) < 1000) &\n",
    "    (abs(mesh.cell_centers[:, 1]) < 1000) &\n",
    "    np.logical_and(mesh.cell_centers[:, 2] < seafloor-500,\n",
    "                   mesh.cell_centers[:, 2] > seafloor-700) \n",
    ")\n",
    "sigma[inds_target] = 1/100.\n",
    "\n",
    "# Create model\n",
    "model_true = emg3d.Model(mesh, sigma, mapping='Conductivity')\n",
    "model_start = emg3d.Model(mesh, 1.0, mapping='Conductivity')\n",
    "\n",
    "# QC\n",
    "mesh.plot_3d_slicer(\n",
    "    1/sigma,  # Plot resistivities, not conductivities\n",
    "    pcolor_opts={'edgecolors': 'grey', 'linewidth': 0.5,\n",
    "                 'cmap':'Spectral_r',\n",
    "                 'norm':LogNorm(vmin=0.3, vmax=100)}, \n",
    "    xlim=[-3000, 3000],\n",
    "    ylim=[-2000, 2000],\n",
    "    zlim=[seafloor-1500, seafloor+500],\n",
    "    zslice=seafloor-500,\n",
    ")\n",
    "\n",
    "# QC\n",
    "model_true"
   ]
  },
  {
   "cell_type": "markdown",
   "metadata": {
    "iooxa": {
     "id": {
      "block": "YP86P7MMpySwBCnCrhpQ",
      "project": "rzeiFG3sdIcsFLl4Infw",
      "version": 4
     }
    }
   },
   "source": [
    "## Create a survey\n",
    "\n",
    "For now, we have sources and receivers on the corresponding edges. However, this has to become flexible!"
   ]
  },
  {
   "cell_type": "code",
   "execution_count": 5,
   "metadata": {},
   "outputs": [
    {
     "data": {
      "text/html": [
       "<h3>Survey</h3><div><svg style=\"position: absolute; width: 0; height: 0; overflow: hidden\">\n",
       "<defs>\n",
       "<symbol id=\"icon-database\" viewBox=\"0 0 32 32\">\n",
       "<path d=\"M16 0c-8.837 0-16 2.239-16 5v4c0 2.761 7.163 5 16 5s16-2.239 16-5v-4c0-2.761-7.163-5-16-5z\"></path>\n",
       "<path d=\"M16 17c-8.837 0-16-2.239-16-5v6c0 2.761 7.163 5 16 5s16-2.239 16-5v-6c0 2.761-7.163 5-16 5z\"></path>\n",
       "<path d=\"M16 26c-8.837 0-16-2.239-16-5v6c0 2.761 7.163 5 16 5s16-2.239 16-5v-6c0 2.761-7.163 5-16 5z\"></path>\n",
       "</symbol>\n",
       "<symbol id=\"icon-file-text2\" viewBox=\"0 0 32 32\">\n",
       "<path d=\"M28.681 7.159c-0.694-0.947-1.662-2.053-2.724-3.116s-2.169-2.030-3.116-2.724c-1.612-1.182-2.393-1.319-2.841-1.319h-15.5c-1.378 0-2.5 1.121-2.5 2.5v27c0 1.378 1.122 2.5 2.5 2.5h23c1.378 0 2.5-1.122 2.5-2.5v-19.5c0-0.448-0.137-1.23-1.319-2.841zM24.543 5.457c0.959 0.959 1.712 1.825 2.268 2.543h-4.811v-4.811c0.718 0.556 1.584 1.309 2.543 2.268zM28 29.5c0 0.271-0.229 0.5-0.5 0.5h-23c-0.271 0-0.5-0.229-0.5-0.5v-27c0-0.271 0.229-0.5 0.5-0.5 0 0 15.499-0 15.5 0v7c0 0.552 0.448 1 1 1h7v19.5z\"></path>\n",
       "<path d=\"M23 26h-14c-0.552 0-1-0.448-1-1s0.448-1 1-1h14c0.552 0 1 0.448 1 1s-0.448 1-1 1z\"></path>\n",
       "<path d=\"M23 22h-14c-0.552 0-1-0.448-1-1s0.448-1 1-1h14c0.552 0 1 0.448 1 1s-0.448 1-1 1z\"></path>\n",
       "<path d=\"M23 18h-14c-0.552 0-1-0.448-1-1s0.448-1 1-1h14c0.552 0 1 0.448 1 1s-0.448 1-1 1z\"></path>\n",
       "</symbol>\n",
       "</defs>\n",
       "</svg>\n",
       "<style>/* CSS stylesheet for displaying xarray objects in jupyterlab.\n",
       " *\n",
       " */\n",
       "\n",
       ":root {\n",
       "  --xr-font-color0: var(--jp-content-font-color0, rgba(0, 0, 0, 1));\n",
       "  --xr-font-color2: var(--jp-content-font-color2, rgba(0, 0, 0, 0.54));\n",
       "  --xr-font-color3: var(--jp-content-font-color3, rgba(0, 0, 0, 0.38));\n",
       "  --xr-border-color: var(--jp-border-color2, #e0e0e0);\n",
       "  --xr-disabled-color: var(--jp-layout-color3, #bdbdbd);\n",
       "  --xr-background-color: var(--jp-layout-color0, white);\n",
       "  --xr-background-color-row-even: var(--jp-layout-color1, white);\n",
       "  --xr-background-color-row-odd: var(--jp-layout-color2, #eeeeee);\n",
       "}\n",
       "\n",
       "html[theme=dark],\n",
       "html[data-theme=dark],\n",
       "body[data-theme=dark],\n",
       "body.vscode-dark {\n",
       "  --xr-font-color0: rgba(255, 255, 255, 1);\n",
       "  --xr-font-color2: rgba(255, 255, 255, 0.54);\n",
       "  --xr-font-color3: rgba(255, 255, 255, 0.38);\n",
       "  --xr-border-color: #1F1F1F;\n",
       "  --xr-disabled-color: #515151;\n",
       "  --xr-background-color: #111111;\n",
       "  --xr-background-color-row-even: #111111;\n",
       "  --xr-background-color-row-odd: #313131;\n",
       "}\n",
       "\n",
       ".xr-wrap {\n",
       "  display: block !important;\n",
       "  min-width: 300px;\n",
       "  max-width: 700px;\n",
       "}\n",
       "\n",
       ".xr-text-repr-fallback {\n",
       "  /* fallback to plain text repr when CSS is not injected (untrusted notebook) */\n",
       "  display: none;\n",
       "}\n",
       "\n",
       ".xr-header {\n",
       "  padding-top: 6px;\n",
       "  padding-bottom: 6px;\n",
       "  margin-bottom: 4px;\n",
       "  border-bottom: solid 1px var(--xr-border-color);\n",
       "}\n",
       "\n",
       ".xr-header > div,\n",
       ".xr-header > ul {\n",
       "  display: inline;\n",
       "  margin-top: 0;\n",
       "  margin-bottom: 0;\n",
       "}\n",
       "\n",
       ".xr-obj-type,\n",
       ".xr-array-name {\n",
       "  margin-left: 2px;\n",
       "  margin-right: 10px;\n",
       "}\n",
       "\n",
       ".xr-obj-type {\n",
       "  color: var(--xr-font-color2);\n",
       "}\n",
       "\n",
       ".xr-sections {\n",
       "  padding-left: 0 !important;\n",
       "  display: grid;\n",
       "  grid-template-columns: 150px auto auto 1fr 20px 20px;\n",
       "}\n",
       "\n",
       ".xr-section-item {\n",
       "  display: contents;\n",
       "}\n",
       "\n",
       ".xr-section-item input {\n",
       "  display: none;\n",
       "}\n",
       "\n",
       ".xr-section-item input + label {\n",
       "  color: var(--xr-disabled-color);\n",
       "}\n",
       "\n",
       ".xr-section-item input:enabled + label {\n",
       "  cursor: pointer;\n",
       "  color: var(--xr-font-color2);\n",
       "}\n",
       "\n",
       ".xr-section-item input:enabled + label:hover {\n",
       "  color: var(--xr-font-color0);\n",
       "}\n",
       "\n",
       ".xr-section-summary {\n",
       "  grid-column: 1;\n",
       "  color: var(--xr-font-color2);\n",
       "  font-weight: 500;\n",
       "}\n",
       "\n",
       ".xr-section-summary > span {\n",
       "  display: inline-block;\n",
       "  padding-left: 0.5em;\n",
       "}\n",
       "\n",
       ".xr-section-summary-in:disabled + label {\n",
       "  color: var(--xr-font-color2);\n",
       "}\n",
       "\n",
       ".xr-section-summary-in + label:before {\n",
       "  display: inline-block;\n",
       "  content: '►';\n",
       "  font-size: 11px;\n",
       "  width: 15px;\n",
       "  text-align: center;\n",
       "}\n",
       "\n",
       ".xr-section-summary-in:disabled + label:before {\n",
       "  color: var(--xr-disabled-color);\n",
       "}\n",
       "\n",
       ".xr-section-summary-in:checked + label:before {\n",
       "  content: '▼';\n",
       "}\n",
       "\n",
       ".xr-section-summary-in:checked + label > span {\n",
       "  display: none;\n",
       "}\n",
       "\n",
       ".xr-section-summary,\n",
       ".xr-section-inline-details {\n",
       "  padding-top: 4px;\n",
       "  padding-bottom: 4px;\n",
       "}\n",
       "\n",
       ".xr-section-inline-details {\n",
       "  grid-column: 2 / -1;\n",
       "}\n",
       "\n",
       ".xr-section-details {\n",
       "  display: none;\n",
       "  grid-column: 1 / -1;\n",
       "  margin-bottom: 5px;\n",
       "}\n",
       "\n",
       ".xr-section-summary-in:checked ~ .xr-section-details {\n",
       "  display: contents;\n",
       "}\n",
       "\n",
       ".xr-array-wrap {\n",
       "  grid-column: 1 / -1;\n",
       "  display: grid;\n",
       "  grid-template-columns: 20px auto;\n",
       "}\n",
       "\n",
       ".xr-array-wrap > label {\n",
       "  grid-column: 1;\n",
       "  vertical-align: top;\n",
       "}\n",
       "\n",
       ".xr-preview {\n",
       "  color: var(--xr-font-color3);\n",
       "}\n",
       "\n",
       ".xr-array-preview,\n",
       ".xr-array-data {\n",
       "  padding: 0 5px !important;\n",
       "  grid-column: 2;\n",
       "}\n",
       "\n",
       ".xr-array-data,\n",
       ".xr-array-in:checked ~ .xr-array-preview {\n",
       "  display: none;\n",
       "}\n",
       "\n",
       ".xr-array-in:checked ~ .xr-array-data,\n",
       ".xr-array-preview {\n",
       "  display: inline-block;\n",
       "}\n",
       "\n",
       ".xr-dim-list {\n",
       "  display: inline-block !important;\n",
       "  list-style: none;\n",
       "  padding: 0 !important;\n",
       "  margin: 0;\n",
       "}\n",
       "\n",
       ".xr-dim-list li {\n",
       "  display: inline-block;\n",
       "  padding: 0;\n",
       "  margin: 0;\n",
       "}\n",
       "\n",
       ".xr-dim-list:before {\n",
       "  content: '(';\n",
       "}\n",
       "\n",
       ".xr-dim-list:after {\n",
       "  content: ')';\n",
       "}\n",
       "\n",
       ".xr-dim-list li:not(:last-child):after {\n",
       "  content: ',';\n",
       "  padding-right: 5px;\n",
       "}\n",
       "\n",
       ".xr-has-index {\n",
       "  font-weight: bold;\n",
       "}\n",
       "\n",
       ".xr-var-list,\n",
       ".xr-var-item {\n",
       "  display: contents;\n",
       "}\n",
       "\n",
       ".xr-var-item > div,\n",
       ".xr-var-item label,\n",
       ".xr-var-item > .xr-var-name span {\n",
       "  background-color: var(--xr-background-color-row-even);\n",
       "  margin-bottom: 0;\n",
       "}\n",
       "\n",
       ".xr-var-item > .xr-var-name:hover span {\n",
       "  padding-right: 5px;\n",
       "}\n",
       "\n",
       ".xr-var-list > li:nth-child(odd) > div,\n",
       ".xr-var-list > li:nth-child(odd) > label,\n",
       ".xr-var-list > li:nth-child(odd) > .xr-var-name span {\n",
       "  background-color: var(--xr-background-color-row-odd);\n",
       "}\n",
       "\n",
       ".xr-var-name {\n",
       "  grid-column: 1;\n",
       "}\n",
       "\n",
       ".xr-var-dims {\n",
       "  grid-column: 2;\n",
       "}\n",
       "\n",
       ".xr-var-dtype {\n",
       "  grid-column: 3;\n",
       "  text-align: right;\n",
       "  color: var(--xr-font-color2);\n",
       "}\n",
       "\n",
       ".xr-var-preview {\n",
       "  grid-column: 4;\n",
       "}\n",
       "\n",
       ".xr-index-preview {\n",
       "  grid-column: 2 / 5;\n",
       "  color: var(--xr-font-color2);\n",
       "}\n",
       "\n",
       ".xr-var-name,\n",
       ".xr-var-dims,\n",
       ".xr-var-dtype,\n",
       ".xr-preview,\n",
       ".xr-attrs dt {\n",
       "  white-space: nowrap;\n",
       "  overflow: hidden;\n",
       "  text-overflow: ellipsis;\n",
       "  padding-right: 10px;\n",
       "}\n",
       "\n",
       ".xr-var-name:hover,\n",
       ".xr-var-dims:hover,\n",
       ".xr-var-dtype:hover,\n",
       ".xr-attrs dt:hover {\n",
       "  overflow: visible;\n",
       "  width: auto;\n",
       "  z-index: 1;\n",
       "}\n",
       "\n",
       ".xr-var-attrs,\n",
       ".xr-var-data,\n",
       ".xr-index-data {\n",
       "  display: none;\n",
       "  background-color: var(--xr-background-color) !important;\n",
       "  padding-bottom: 5px !important;\n",
       "}\n",
       "\n",
       ".xr-var-attrs-in:checked ~ .xr-var-attrs,\n",
       ".xr-var-data-in:checked ~ .xr-var-data,\n",
       ".xr-index-data-in:checked ~ .xr-index-data {\n",
       "  display: block;\n",
       "}\n",
       "\n",
       ".xr-var-data > table {\n",
       "  float: right;\n",
       "}\n",
       "\n",
       ".xr-var-name span,\n",
       ".xr-var-data,\n",
       ".xr-index-name div,\n",
       ".xr-index-data,\n",
       ".xr-attrs {\n",
       "  padding-left: 25px !important;\n",
       "}\n",
       "\n",
       ".xr-attrs,\n",
       ".xr-var-attrs,\n",
       ".xr-var-data,\n",
       ".xr-index-data {\n",
       "  grid-column: 1 / -1;\n",
       "}\n",
       "\n",
       "dl.xr-attrs {\n",
       "  padding: 0;\n",
       "  margin: 0;\n",
       "  display: grid;\n",
       "  grid-template-columns: 125px auto;\n",
       "}\n",
       "\n",
       ".xr-attrs dt,\n",
       ".xr-attrs dd {\n",
       "  padding: 0;\n",
       "  margin: 0;\n",
       "  float: left;\n",
       "  padding-right: 10px;\n",
       "  width: auto;\n",
       "}\n",
       "\n",
       ".xr-attrs dt {\n",
       "  font-weight: normal;\n",
       "  grid-column: 1;\n",
       "}\n",
       "\n",
       ".xr-attrs dt:hover span {\n",
       "  display: inline-block;\n",
       "  background: var(--xr-background-color);\n",
       "  padding-right: 10px;\n",
       "}\n",
       "\n",
       ".xr-attrs dd {\n",
       "  grid-column: 2;\n",
       "  white-space: pre-wrap;\n",
       "  word-break: break-all;\n",
       "}\n",
       "\n",
       ".xr-icon-database,\n",
       ".xr-icon-file-text2,\n",
       ".xr-no-icon {\n",
       "  display: inline-block;\n",
       "  vertical-align: middle;\n",
       "  width: 1em;\n",
       "  height: 1.5em !important;\n",
       "  stroke-width: 0;\n",
       "  stroke: currentColor;\n",
       "  fill: currentColor;\n",
       "}\n",
       "</style><pre class='xr-text-repr-fallback'>&lt;xarray.Dataset&gt; Size: 2kB\n",
       "Dimensions:   (src: 3, rec: 21, freq: 1)\n",
       "Coordinates:\n",
       "  * src       (src) &lt;U6 72B &#x27;TxED-1&#x27; &#x27;TxED-2&#x27; &#x27;TxED-3&#x27;\n",
       "  * rec       (rec) &lt;U7 588B &#x27;RxEP-01&#x27; &#x27;RxEP-02&#x27; ... &#x27;RxEP-20&#x27; &#x27;RxEP-21&#x27;\n",
       "  * freq      (freq) &lt;U3 12B &#x27;f-1&#x27;\n",
       "Data variables:\n",
       "    observed  (src, rec, freq) complex128 1kB (nan+nanj) ... (nan+nanj)\n",
       "Attributes:\n",
       "    noise_floor:     None\n",
       "    relative_error:  None</pre><div class='xr-wrap' style='display:none'><div class='xr-header'><div class='xr-obj-type'>xarray.Dataset</div></div><ul class='xr-sections'><li class='xr-section-item'><input id='section-16d9348f-4133-4feb-93e7-22289572f71c' class='xr-section-summary-in' type='checkbox' disabled ><label for='section-16d9348f-4133-4feb-93e7-22289572f71c' class='xr-section-summary'  title='Expand/collapse section'>Dimensions:</label><div class='xr-section-inline-details'><ul class='xr-dim-list'><li><span class='xr-has-index'>src</span>: 3</li><li><span class='xr-has-index'>rec</span>: 21</li><li><span class='xr-has-index'>freq</span>: 1</li></ul></div><div class='xr-section-details'></div></li><li class='xr-section-item'><input id='section-70630ff8-3c90-46ea-a51e-cf6b8f0cb435' class='xr-section-summary-in' type='checkbox'  checked><label for='section-70630ff8-3c90-46ea-a51e-cf6b8f0cb435' class='xr-section-summary' >Coordinates: <span>(3)</span></label><div class='xr-section-inline-details'></div><div class='xr-section-details'><ul class='xr-var-list'><li class='xr-var-item'><div class='xr-var-name'><span class='xr-has-index'>src</span></div><div class='xr-var-dims'>(src)</div><div class='xr-var-dtype'>&lt;U6</div><div class='xr-var-preview xr-preview'>&#x27;TxED-1&#x27; &#x27;TxED-2&#x27; &#x27;TxED-3&#x27;</div><input id='attrs-5519bd62-52c7-40b0-a72a-a0d1c50cfff4' class='xr-var-attrs-in' type='checkbox' ><label for='attrs-5519bd62-52c7-40b0-a72a-a0d1c50cfff4' title='Show/Hide attributes'><svg class='icon xr-icon-file-text2'><use xlink:href='#icon-file-text2'></use></svg></label><input id='data-1d938455-79dd-4d06-8cc9-81167d530110' class='xr-var-data-in' type='checkbox'><label for='data-1d938455-79dd-4d06-8cc9-81167d530110' title='Show/Hide data repr'><svg class='icon xr-icon-database'><use xlink:href='#icon-database'></use></svg></label><div class='xr-var-attrs'><dl class='xr-attrs'><dt><span>Sources :</span></dt><dd>TxED-1: TxElectricDipole: 1.0 A;\n",
       "    center={-2,000.0; 0.0; -1,900.0} m; θ=0.0°, φ=0.0°; l=1.0 m;\n",
       "TxED-2: TxElectricDipole: 1.0 A;\n",
       "    center={-400.0; 0.0; -1,900.0} m; θ=0.0°, φ=0.0°; l=1.0 m;\n",
       "TxED-3: TxElectricDipole: 1.0 A;\n",
       "    center={1,200.0; 0.0; -1,900.0} m; θ=0.0°, φ=0.0°; l=1.0 m.</dd></dl></div><div class='xr-var-data'><pre>array([&#x27;TxED-1&#x27;, &#x27;TxED-2&#x27;, &#x27;TxED-3&#x27;], dtype=&#x27;&lt;U6&#x27;)</pre></div></li><li class='xr-var-item'><div class='xr-var-name'><span class='xr-has-index'>rec</span></div><div class='xr-var-dims'>(rec)</div><div class='xr-var-dtype'>&lt;U7</div><div class='xr-var-preview xr-preview'>&#x27;RxEP-01&#x27; &#x27;RxEP-02&#x27; ... &#x27;RxEP-21&#x27;</div><input id='attrs-4ece7103-66aa-42bc-9cf0-f3e503bbcd8e' class='xr-var-attrs-in' type='checkbox' ><label for='attrs-4ece7103-66aa-42bc-9cf0-f3e503bbcd8e' title='Show/Hide attributes'><svg class='icon xr-icon-file-text2'><use xlink:href='#icon-file-text2'></use></svg></label><input id='data-025f2aef-5b29-4e64-bf14-002e87631de9' class='xr-var-data-in' type='checkbox'><label for='data-025f2aef-5b29-4e64-bf14-002e87631de9' title='Show/Hide data repr'><svg class='icon xr-icon-database'><use xlink:href='#icon-database'></use></svg></label><div class='xr-var-attrs'><dl class='xr-attrs'><dt><span>Receivers :</span></dt><dd>RxEP-01: RxElectricPoint: absolute; complex;\n",
       "    x=-2,000.0 m, y=0.0 m, z=-1,900.0 m, θ=0.0°, φ=0.0°;\n",
       "RxEP-02: RxElectricPoint: absolute; complex;\n",
       "    x=-1,800.0 m, y=0.0 m, z=-1,900.0 m, θ=0.0°, φ=0.0°;\n",
       "RxEP-03: RxElectricPoint: absolute; complex;\n",
       "    x=-1,600.0 m, y=0.0 m, z=-1,900.0 m, θ=0.0°, φ=0.0°;\n",
       "RxEP-04: RxElectricPoint: absolute; complex;\n",
       "    x=-1,400.0 m, y=0.0 m, z=-1,900.0 m, θ=0.0°, φ=0.0°;\n",
       "RxEP-05: RxElectricPoint: absolute; complex;\n",
       "    x=-1,200.0 m, y=0.0 m, z=-1,900.0 m, θ=0.0°, φ=0.0°;\n",
       "RxEP-06: RxElectricPoint: absolute; complex;\n",
       "    x=-1,000.0 m, y=0.0 m, z=-1,900.0 m, θ=0.0°, φ=0.0°;\n",
       "RxEP-07: RxElectricPoint: absolute; complex;\n",
       "    x=-800.0 m, y=0.0 m, z=-1,900.0 m, θ=0.0°, φ=0.0°;\n",
       "RxEP-08: RxElectricPoint: absolute; complex;\n",
       "    x=-600.0 m, y=0.0 m, z=-1,900.0 m, θ=0.0°, φ=0.0°;\n",
       "RxEP-09: RxElectricPoint: absolute; complex;\n",
       "    x=-400.0 m, y=0.0 m, z=-1,900.0 m, θ=0.0°, φ=0.0°;\n",
       "RxEP-10: RxElectricPoint: absolute; complex;\n",
       "    x=-200.0 m, y=0.0 m, z=-1,900.0 m, θ=0.0°, φ=0.0°;\n",
       "RxEP-11: RxElectricPoint: absolute; complex;\n",
       "    x=0.0 m, y=0.0 m, z=-1,900.0 m, θ=0.0°, φ=0.0°;\n",
       "RxEP-12: RxElectricPoint: absolute; complex;\n",
       "    x=200.0 m, y=0.0 m, z=-1,900.0 m, θ=0.0°, φ=0.0°;\n",
       "RxEP-13: RxElectricPoint: absolute; complex;\n",
       "    x=400.0 m, y=0.0 m, z=-1,900.0 m, θ=0.0°, φ=0.0°;\n",
       "RxEP-14: RxElectricPoint: absolute; complex;\n",
       "    x=600.0 m, y=0.0 m, z=-1,900.0 m, θ=0.0°, φ=0.0°;\n",
       "RxEP-15: RxElectricPoint: absolute; complex;\n",
       "    x=800.0 m, y=0.0 m, z=-1,900.0 m, θ=0.0°, φ=0.0°;\n",
       "RxEP-16: RxElectricPoint: absolute; complex;\n",
       "    x=1,000.0 m, y=0.0 m, z=-1,900.0 m, θ=0.0°, φ=0.0°;\n",
       "RxEP-17: RxElectricPoint: absolute; complex;\n",
       "    x=1,200.0 m, y=0.0 m, z=-1,900.0 m, θ=0.0°, φ=0.0°;\n",
       "RxEP-18: RxElectricPoint: absolute; complex;\n",
       "    x=1,400.0 m, y=0.0 m, z=-1,900.0 m, θ=0.0°, φ=0.0°;\n",
       "RxEP-19: RxElectricPoint: absolute; complex;\n",
       "    x=1,600.0 m, y=0.0 m, z=-1,900.0 m, θ=0.0°, φ=0.0°;\n",
       "RxEP-20: RxElectricPoint: absolute; complex;\n",
       "    x=1,800.0 m, y=0.0 m, z=-1,900.0 m, θ=0.0°, φ=0.0°;\n",
       "RxEP-21: RxElectricPoint: absolute; complex;\n",
       "    x=2,000.0 m, y=0.0 m, z=-1,900.0 m, θ=0.0°, φ=0.0°.</dd></dl></div><div class='xr-var-data'><pre>array([&#x27;RxEP-01&#x27;, &#x27;RxEP-02&#x27;, &#x27;RxEP-03&#x27;, &#x27;RxEP-04&#x27;, &#x27;RxEP-05&#x27;, &#x27;RxEP-06&#x27;,\n",
       "       &#x27;RxEP-07&#x27;, &#x27;RxEP-08&#x27;, &#x27;RxEP-09&#x27;, &#x27;RxEP-10&#x27;, &#x27;RxEP-11&#x27;, &#x27;RxEP-12&#x27;,\n",
       "       &#x27;RxEP-13&#x27;, &#x27;RxEP-14&#x27;, &#x27;RxEP-15&#x27;, &#x27;RxEP-16&#x27;, &#x27;RxEP-17&#x27;, &#x27;RxEP-18&#x27;,\n",
       "       &#x27;RxEP-19&#x27;, &#x27;RxEP-20&#x27;, &#x27;RxEP-21&#x27;], dtype=&#x27;&lt;U7&#x27;)</pre></div></li><li class='xr-var-item'><div class='xr-var-name'><span class='xr-has-index'>freq</span></div><div class='xr-var-dims'>(freq)</div><div class='xr-var-dtype'>&lt;U3</div><div class='xr-var-preview xr-preview'>&#x27;f-1&#x27;</div><input id='attrs-b76f7629-d65b-417b-ba9a-2d82ad9a784f' class='xr-var-attrs-in' type='checkbox' ><label for='attrs-b76f7629-d65b-417b-ba9a-2d82ad9a784f' title='Show/Hide attributes'><svg class='icon xr-icon-file-text2'><use xlink:href='#icon-file-text2'></use></svg></label><input id='data-f0c126f5-188f-44dc-9512-7fd18db4a90f' class='xr-var-data-in' type='checkbox'><label for='data-f0c126f5-188f-44dc-9512-7fd18db4a90f' title='Show/Hide data repr'><svg class='icon xr-icon-database'><use xlink:href='#icon-database'></use></svg></label><div class='xr-var-attrs'><dl class='xr-attrs'><dt><span>Frequencies :</span></dt><dd>f-1: 2.0 Hz.</dd></dl></div><div class='xr-var-data'><pre>array([&#x27;f-1&#x27;], dtype=&#x27;&lt;U3&#x27;)</pre></div></li></ul></div></li><li class='xr-section-item'><input id='section-94efbfc6-4a10-4270-9b9c-8997f4f08e80' class='xr-section-summary-in' type='checkbox'  checked><label for='section-94efbfc6-4a10-4270-9b9c-8997f4f08e80' class='xr-section-summary' >Data variables: <span>(1)</span></label><div class='xr-section-inline-details'></div><div class='xr-section-details'><ul class='xr-var-list'><li class='xr-var-item'><div class='xr-var-name'><span>observed</span></div><div class='xr-var-dims'>(src, rec, freq)</div><div class='xr-var-dtype'>complex128</div><div class='xr-var-preview xr-preview'>(nan+nanj) ... (nan+nanj)</div><input id='attrs-ca20d6e5-1e85-49e6-b238-11e77e451922' class='xr-var-attrs-in' type='checkbox' disabled><label for='attrs-ca20d6e5-1e85-49e6-b238-11e77e451922' title='Show/Hide attributes'><svg class='icon xr-icon-file-text2'><use xlink:href='#icon-file-text2'></use></svg></label><input id='data-75a673d2-1756-4548-9365-132439c2a4bf' class='xr-var-data-in' type='checkbox'><label for='data-75a673d2-1756-4548-9365-132439c2a4bf' title='Show/Hide data repr'><svg class='icon xr-icon-database'><use xlink:href='#icon-database'></use></svg></label><div class='xr-var-attrs'><dl class='xr-attrs'></dl></div><div class='xr-var-data'><pre>array([[[nan+nanj],\n",
       "        [nan+nanj],\n",
       "        [nan+nanj],\n",
       "        [nan+nanj],\n",
       "        [nan+nanj],\n",
       "        [nan+nanj],\n",
       "        [nan+nanj],\n",
       "        [nan+nanj],\n",
       "        [nan+nanj],\n",
       "        [nan+nanj],\n",
       "        [nan+nanj],\n",
       "        [nan+nanj],\n",
       "        [nan+nanj],\n",
       "        [nan+nanj],\n",
       "        [nan+nanj],\n",
       "        [nan+nanj],\n",
       "        [nan+nanj],\n",
       "        [nan+nanj],\n",
       "        [nan+nanj],\n",
       "        [nan+nanj],\n",
       "...\n",
       "        [nan+nanj],\n",
       "        [nan+nanj],\n",
       "        [nan+nanj],\n",
       "        [nan+nanj],\n",
       "        [nan+nanj],\n",
       "        [nan+nanj],\n",
       "        [nan+nanj],\n",
       "        [nan+nanj],\n",
       "        [nan+nanj],\n",
       "        [nan+nanj],\n",
       "        [nan+nanj],\n",
       "        [nan+nanj],\n",
       "        [nan+nanj],\n",
       "        [nan+nanj],\n",
       "        [nan+nanj],\n",
       "        [nan+nanj],\n",
       "        [nan+nanj],\n",
       "        [nan+nanj],\n",
       "        [nan+nanj],\n",
       "        [nan+nanj]]])</pre></div></li></ul></div></li><li class='xr-section-item'><input id='section-d7e9c4cc-9ae9-4e8d-8741-3d5719eb02a8' class='xr-section-summary-in' type='checkbox'  ><label for='section-d7e9c4cc-9ae9-4e8d-8741-3d5719eb02a8' class='xr-section-summary' >Indexes: <span>(3)</span></label><div class='xr-section-inline-details'></div><div class='xr-section-details'><ul class='xr-var-list'><li class='xr-var-item'><div class='xr-index-name'><div>src</div></div><div class='xr-index-preview'>PandasIndex</div><div></div><input id='index-f3dc323c-1e16-4024-9405-e3f04629b934' class='xr-index-data-in' type='checkbox'/><label for='index-f3dc323c-1e16-4024-9405-e3f04629b934' title='Show/Hide index repr'><svg class='icon xr-icon-database'><use xlink:href='#icon-database'></use></svg></label><div class='xr-index-data'><pre>PandasIndex(Index([&#x27;TxED-1&#x27;, &#x27;TxED-2&#x27;, &#x27;TxED-3&#x27;], dtype=&#x27;object&#x27;, name=&#x27;src&#x27;))</pre></div></li><li class='xr-var-item'><div class='xr-index-name'><div>rec</div></div><div class='xr-index-preview'>PandasIndex</div><div></div><input id='index-703a224d-b471-44db-bdc1-218842099bb0' class='xr-index-data-in' type='checkbox'/><label for='index-703a224d-b471-44db-bdc1-218842099bb0' title='Show/Hide index repr'><svg class='icon xr-icon-database'><use xlink:href='#icon-database'></use></svg></label><div class='xr-index-data'><pre>PandasIndex(Index([&#x27;RxEP-01&#x27;, &#x27;RxEP-02&#x27;, &#x27;RxEP-03&#x27;, &#x27;RxEP-04&#x27;, &#x27;RxEP-05&#x27;, &#x27;RxEP-06&#x27;,\n",
       "       &#x27;RxEP-07&#x27;, &#x27;RxEP-08&#x27;, &#x27;RxEP-09&#x27;, &#x27;RxEP-10&#x27;, &#x27;RxEP-11&#x27;, &#x27;RxEP-12&#x27;,\n",
       "       &#x27;RxEP-13&#x27;, &#x27;RxEP-14&#x27;, &#x27;RxEP-15&#x27;, &#x27;RxEP-16&#x27;, &#x27;RxEP-17&#x27;, &#x27;RxEP-18&#x27;,\n",
       "       &#x27;RxEP-19&#x27;, &#x27;RxEP-20&#x27;, &#x27;RxEP-21&#x27;],\n",
       "      dtype=&#x27;object&#x27;, name=&#x27;rec&#x27;))</pre></div></li><li class='xr-var-item'><div class='xr-index-name'><div>freq</div></div><div class='xr-index-preview'>PandasIndex</div><div></div><input id='index-aa9848ff-d3f3-4830-b274-fd9dbdf27835' class='xr-index-data-in' type='checkbox'/><label for='index-aa9848ff-d3f3-4830-b274-fd9dbdf27835' title='Show/Hide index repr'><svg class='icon xr-icon-database'><use xlink:href='#icon-database'></use></svg></label><div class='xr-index-data'><pre>PandasIndex(Index([&#x27;f-1&#x27;], dtype=&#x27;object&#x27;, name=&#x27;freq&#x27;))</pre></div></li></ul></div></li><li class='xr-section-item'><input id='section-aca567c1-dc93-4404-baa5-77d226e8e333' class='xr-section-summary-in' type='checkbox'  checked><label for='section-aca567c1-dc93-4404-baa5-77d226e8e333' class='xr-section-summary' >Attributes: <span>(2)</span></label><div class='xr-section-inline-details'></div><div class='xr-section-details'><dl class='xr-attrs'><dt><span>noise_floor :</span></dt><dd>None</dd><dt><span>relative_error :</span></dt><dd>None</dd></dl></div></li></ul></div></div>"
      ],
      "text/plain": [
       ":: Survey ::\n",
       "\n",
       "<xarray.Dataset> Size: 2kB\n",
       "Dimensions:   (src: 3, rec: 21, freq: 1)\n",
       "Coordinates:\n",
       "  * src       (src) <U6 72B 'TxED-1' 'TxED-2' 'TxED-3'\n",
       "  * rec       (rec) <U7 588B 'RxEP-01' 'RxEP-02' ... 'RxEP-20' 'RxEP-21'\n",
       "  * freq      (freq) <U3 12B 'f-1'\n",
       "Data variables:\n",
       "    observed  (src, rec, freq) complex128 1kB (nan+nanj) ... (nan+nanj)\n",
       "Attributes:\n",
       "    noise_floor:     None\n",
       "    relative_error:  None"
      ]
     },
     "execution_count": 5,
     "metadata": {},
     "output_type": "execute_result"
    }
   ],
   "source": [
    "rec_x = mesh.cell_centers_x[abs(mesh.cell_centers_x) < 2100]\n",
    "rec = emg3d.surveys.txrx_coordinates_to_dict(emg3d.RxElectricPoint, (rec_x, 0, seafloor+100, 0, 0))\n",
    "src = emg3d.surveys.txrx_coordinates_to_dict(emg3d.TxElectricDipole, (rec_x[::8], 0, seafloor+100, 0, 0))\n",
    "survey = emg3d.Survey(\n",
    "    sources=src,\n",
    "    receivers=rec,\n",
    "    frequencies=frequency,\n",
    ")\n",
    "survey"
   ]
  },
  {
   "cell_type": "code",
   "execution_count": 6,
   "metadata": {
    "iooxa": {
     "id": {
      "block": "G8wlDsnhmITmKyKj8thR",
      "project": "rzeiFG3sdIcsFLl4Infw",
      "version": 2
     },
     "outputId": {
      "block": "sEq6F6duyXOqwOlJWoji",
      "project": "rzeiFG3sdIcsFLl4Infw",
      "version": 1
     }
    }
   },
   "outputs": [
    {
     "data": {
      "text/plain": [
       "[<matplotlib.lines.Line2D at 0x7b7bd8134110>]"
      ]
     },
     "execution_count": 6,
     "metadata": {},
     "output_type": "execute_result"
    },
    {
     "data": {
      "application/vnd.jupyter.widget-view+json": {
       "model_id": "824240d56319462b8175fd61edcadeb7",
       "version_major": 2,
       "version_minor": 0
      },
      "image/png": "[encoded data removed]",
      "text/html": [
       "\n",
       "            <div style=\"display: inline-block;\">\n",
       "                <div class=\"jupyter-widgets widget-label\" style=\"text-align: center;\">\n",
       "                    Figure\n",
       "                </div>\n",
       "                <img src='data:image/png;base64,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' width=640.0/>\n",
       "            </div>\n",
       "        "
      ],
      "text/plain": [
       "Canvas(toolbar=Toolbar(toolitems=[('Home', 'Reset original view', 'home', 'home'), ('Back', 'Back to previous …"
      ]
     },
     "metadata": {},
     "output_type": "display_data"
    }
   ],
   "source": [
    "rec_coords = survey.receiver_coordinates()\n",
    "src_coords = survey.source_coordinates()\n",
    "# QC\n",
    "mesh.plot_slice(\n",
    "    1./sigma, grid=True, normal='Z', \n",
    "    ind=12,\n",
    "    pcolor_opts={'cmap':'Spectral_r', 'norm':LogNorm(vmin=1, vmax=100)}, \n",
    "    range_x=(-3000, 3000),\n",
    "    range_y=(-2000, 2000),\n",
    ")\n",
    "\n",
    "plt.plot(rec_coords[0], rec_coords[1], 'rv')\n",
    "plt.plot(src_coords[0], src_coords[1], 'w*')"
   ]
  },
  {
   "cell_type": "markdown",
   "metadata": {},
   "source": [
    "## Create a Simulation and observed data"
   ]
  },
  {
   "cell_type": "code",
   "execution_count": 7,
   "metadata": {},
   "outputs": [
    {
     "name": "stdout",
     "output_type": "stream",
     "text": [
      "Data loaded from «/home/dtr/Codes/dev-pygimli-emg3d/toy-simpeg.h5»\n",
      "[emg3d v1.8.4.dev20+ge383ae1.d20240809 (format 1.0) on 2024-08-22T15:47:28.663713].\n"
     ]
    },
    {
     "data": {
      "text/html": [
       "<h3>Simulation</h3><ul>  <li>Survey:    3 sources;    21 receivers;    1 frequencies</li>  <li>Model: conductivity; isotropic; 32 x 24 x 24 (18,432)</li>  <li>Gridding: Frequency- and source-dependent grids; 96 x 40 x 64 (245,760)</li></ul>"
      ],
      "text/plain": [
       ":: Simulation ::\n",
       "\n",
       "- Survey: 3 sources; 21 receivers; 1 frequencies\n",
       "- Model: conductivity; isotropic; 32 x 24 x 24 (18,432)\n",
       "- Gridding: Frequency- and source-dependent grids; 96 x 40 x 64 (245,760)"
      ]
     },
     "execution_count": 7,
     "metadata": {},
     "output_type": "execute_result"
    }
   ],
   "source": [
    "try:\n",
    "    ddata = emg3d.load(f'toy-simpeg.h5')\n",
    "    sim = ddata['sim']\n",
    "    model_true = ddata['model_true']\n",
    "except FileNotFoundError:\n",
    "    # Create an emg3d Simulation instance\n",
    "    sim = emg3d.simulations.Simulation(\n",
    "        survey=survey.copy(),\n",
    "        model=model_true,\n",
    "        gridding='both',\n",
    "        max_workers=10,\n",
    "        gridding_opts={'center_on_edge': False},\n",
    "        receiver_interpolation='linear',\n",
    "        solver_opts = {'tol_gradient': 1e-3},\n",
    "        tqdm_opts=False,\n",
    "    )\n",
    "    sim.compute(observed=True, min_offset=100)\n",
    "    sim.clean('computed')\n",
    "    \n",
    "    sim.model = model_start\n",
    "    \n",
    "    sim.compute()\n",
    "    sim.survey.data['start'] = sim.survey.data.synthetic\n",
    "    sim.clean('computed')\n",
    "    \n",
    "    emg3d.save(f'toy-simpeg.h5', sim=sim, model_true=model_true)\n",
    "\n",
    "\n",
    "sim"
   ]
  },
  {
   "cell_type": "markdown",
   "metadata": {
    "iooxa": {
     "id": {
      "block": "1GrAIBZawIZ5MXqmsRvg",
      "project": "rzeiFG3sdIcsFLl4Infw",
      "version": 2
     }
    }
   },
   "source": [
    "## Create SimPEG-Simulation"
   ]
  },
  {
   "cell_type": "code",
   "execution_count": 8,
   "metadata": {
    "iooxa": {
     "id": {
      "block": "22cCYGtCrdlxFs8hyF7E",
      "project": "rzeiFG3sdIcsFLl4Infw",
      "version": 2
     },
     "outputId": null
    }
   },
   "outputs": [],
   "source": [
    "# TODO move the mapping inside\n",
    "active_map = simpeg.maps.InjectActiveCells(mesh, inds_active, sigma[~inds_active])\n",
    "nP = int(inds_active.sum())\n",
    "conductivity_map = active_map * simpeg.maps.ExpMap(nP=nP)"
   ]
  },
  {
   "cell_type": "code",
   "execution_count": 9,
   "metadata": {
    "iooxa": {
     "id": {
      "block": "HUMWYUlhNOw2HibcvTnw",
      "project": "rzeiFG3sdIcsFLl4Infw",
      "version": 2
     },
     "outputId": null
    }
   },
   "outputs": [],
   "source": [
    "# Define the Simulation\n",
    "simulation = emg3d.inversion.simpeg.FDEMSimulationNew(\n",
    "    sim,\n",
    "    sigmaMap=conductivity_map,\n",
    "    verbose=False,\n",
    ")\n",
    "\n",
    "# True and initial model\n",
    "m_true =  np.log(sigma[inds_active])\n",
    "m0 =  np.ones(m_true.shape) * np.log(1.)"
   ]
  },
  {
   "cell_type": "markdown",
   "metadata": {},
   "source": [
    "# WORK in PROGRESS - HERE"
   ]
  },
  {
   "cell_type": "code",
   "execution_count": 10,
   "metadata": {
    "iooxa": {
     "id": {
      "block": "p7fXhwBDaDddXzh5dBku",
      "project": "rzeiFG3sdIcsFLl4Infw",
      "version": 1
     },
     "outputId": null
    },
    "scrolled": true
   },
   "outputs": [
    {
     "ename": "AttributeError",
     "evalue": "'FDEMSimulationNew' object has no attribute 'emg3d_survey'",
     "output_type": "error",
     "traceback": [
      "\u001b[0;31m---------------------------------------------------------------------------\u001b[0m",
      "\u001b[0;31mAttributeError\u001b[0m                            Traceback (most recent call last)",
      "Cell \u001b[0;32mIn[10], line 1\u001b[0m\n\u001b[0;32m----> 1\u001b[0m f \u001b[38;5;241m=\u001b[39m \u001b[43msimulation\u001b[49m\u001b[38;5;241;43m.\u001b[39;49m\u001b[43mfields\u001b[49m\u001b[43m(\u001b[49m\u001b[43mm_true\u001b[49m\u001b[43m)\u001b[49m\n\u001b[1;32m      2\u001b[0m d_true \u001b[38;5;241m=\u001b[39m simulation\u001b[38;5;241m.\u001b[39mdpred(m_true, f\u001b[38;5;241m=\u001b[39mf)\n",
      "File \u001b[0;32m~/Codes/emg3d/emg3d/inversion/simpeg.py:319\u001b[0m, in \u001b[0;36mFDEMSimulationNew.fields\u001b[0;34m(self, m)\u001b[0m\n\u001b[1;32m    315\u001b[0m \u001b[38;5;28;01mif\u001b[39;00m m \u001b[38;5;129;01mis\u001b[39;00m \u001b[38;5;129;01mnot\u001b[39;00m \u001b[38;5;28;01mNone\u001b[39;00m:\n\u001b[1;32m    316\u001b[0m \n\u001b[1;32m    317\u001b[0m     \u001b[38;5;66;03m# Store model and update emg3d equivalent.\u001b[39;00m\n\u001b[1;32m    318\u001b[0m     \u001b[38;5;28mself\u001b[39m\u001b[38;5;241m.\u001b[39mmodel \u001b[38;5;241m=\u001b[39m m\n\u001b[0;32m--> 319\u001b[0m     \u001b[38;5;28;43mself\u001b[39;49m\u001b[38;5;241;43m.\u001b[39;49m\u001b[43memg3d_sim\u001b[49m\u001b[38;5;241m.\u001b[39mmodel \u001b[38;5;241m=\u001b[39m \u001b[38;5;28mself\u001b[39m\u001b[38;5;241m.\u001b[39memg3d_model\n\u001b[1;32m    321\u001b[0m     \u001b[38;5;66;03m# Clean emg3d-Simulation from old computed data.\u001b[39;00m\n\u001b[1;32m    322\u001b[0m     \u001b[38;5;28mself\u001b[39m\u001b[38;5;241m.\u001b[39memg3d_sim\u001b[38;5;241m.\u001b[39mclean(\u001b[38;5;124m'\u001b[39m\u001b[38;5;124mcomputed\u001b[39m\u001b[38;5;124m'\u001b[39m)\n",
      "File \u001b[0;32m~/Codes/emg3d/emg3d/inversion/simpeg.py:108\u001b[0m, in \u001b[0;36mFDEMSimulationNew.emg3d_sim\u001b[0;34m(self)\u001b[0m\n\u001b[1;32m    102\u001b[0m \u001b[38;5;250m\u001b[39m\u001b[38;5;124;03m\"\"\"emg3d simulation; obtained from SimPEG simulation.\"\"\"\u001b[39;00m\n\u001b[1;32m    104\u001b[0m \u001b[38;5;28;01mif\u001b[39;00m \u001b[38;5;28mgetattr\u001b[39m(\u001b[38;5;28mself\u001b[39m, \u001b[38;5;124m\"\u001b[39m\u001b[38;5;124m_emg3d_sim\u001b[39m\u001b[38;5;124m\"\u001b[39m, \u001b[38;5;28;01mNone\u001b[39;00m) \u001b[38;5;129;01mis\u001b[39;00m \u001b[38;5;28;01mNone\u001b[39;00m:\n\u001b[1;32m    105\u001b[0m \n\u001b[1;32m    106\u001b[0m     \u001b[38;5;66;03m# Create twin Simulation in emg3d.\u001b[39;00m\n\u001b[1;32m    107\u001b[0m     \u001b[38;5;28mself\u001b[39m\u001b[38;5;241m.\u001b[39m_emg3d_sim \u001b[38;5;241m=\u001b[39m simulations\u001b[38;5;241m.\u001b[39mSimulation(\n\u001b[0;32m--> 108\u001b[0m         survey\u001b[38;5;241m=\u001b[39m\u001b[38;5;28;43mself\u001b[39;49m\u001b[38;5;241;43m.\u001b[39;49m\u001b[43memg3d_survey\u001b[49m,\n\u001b[1;32m    109\u001b[0m         \u001b[38;5;241m*\u001b[39m\u001b[38;5;241m*\u001b[39m{  \u001b[38;5;66;03m# The following options can be provided by the user\u001b[39;00m\n\u001b[1;32m    110\u001b[0m             \u001b[38;5;124m'\u001b[39m\u001b[38;5;124mname\u001b[39m\u001b[38;5;124m'\u001b[39m: \u001b[38;5;124m'\u001b[39m\u001b[38;5;124mSimulation created by SimPEG\u001b[39m\u001b[38;5;124m'\u001b[39m,\n\u001b[1;32m    111\u001b[0m             \u001b[38;5;124m'\u001b[39m\u001b[38;5;124mgridding\u001b[39m\u001b[38;5;124m'\u001b[39m: \u001b[38;5;124m'\u001b[39m\u001b[38;5;124msame\u001b[39m\u001b[38;5;124m'\u001b[39m,               \u001b[38;5;66;03m# Default is same for all\u001b[39;00m\n\u001b[1;32m    112\u001b[0m             \u001b[38;5;66;03m# Model: Dummy 1's for init\u001b[39;00m\n\u001b[1;32m    113\u001b[0m             \u001b[38;5;124m'\u001b[39m\u001b[38;5;124mmodel\u001b[39m\u001b[38;5;124m'\u001b[39m: models\u001b[38;5;241m.\u001b[39mModel(\u001b[38;5;28mself\u001b[39m\u001b[38;5;241m.\u001b[39mmesh, mapping\u001b[38;5;241m=\u001b[39m\u001b[38;5;124m'\u001b[39m\u001b[38;5;124mConductivity\u001b[39m\u001b[38;5;124m'\u001b[39m),\n\u001b[1;32m    114\u001b[0m             \u001b[38;5;124m'\u001b[39m\u001b[38;5;124mtqdm_opts\u001b[39m\u001b[38;5;124m'\u001b[39m: \u001b[38;5;28;01mFalse\u001b[39;00m,                  \u001b[38;5;66;03m# Switch-off tqdm\u001b[39;00m\n\u001b[1;32m    115\u001b[0m             \u001b[38;5;124m'\u001b[39m\u001b[38;5;124mreceiver_interpolation\u001b[39m\u001b[38;5;124m'\u001b[39m: \u001b[38;5;124m'\u001b[39m\u001b[38;5;124mlinear\u001b[39m\u001b[38;5;124m'\u001b[39m,  \u001b[38;5;66;03m# Should be linear\u001b[39;00m\n\u001b[1;32m    116\u001b[0m             \u001b[38;5;241m*\u001b[39m\u001b[38;5;241m*\u001b[39m\u001b[38;5;28mself\u001b[39m\u001b[38;5;241m.\u001b[39msimulation_opts,              \u001b[38;5;66;03m# User input\u001b[39;00m\n\u001b[1;32m    117\u001b[0m         }\n\u001b[1;32m    118\u001b[0m     )\n\u001b[1;32m    120\u001b[0m \u001b[38;5;28;01mreturn\u001b[39;00m \u001b[38;5;28mself\u001b[39m\u001b[38;5;241m.\u001b[39m_emg3d_sim\n",
      "\u001b[0;31mAttributeError\u001b[0m: 'FDEMSimulationNew' object has no attribute 'emg3d_survey'"
     ]
    }
   ],
   "source": [
    "f = simulation.fields(m_true)\n",
    "d_true = simulation.dpred(m_true, f=f)"
   ]
  },
  {
   "cell_type": "code",
   "execution_count": null,
   "metadata": {
    "iooxa": {
     "id": {
      "block": "Iju7kclum9WCR65iYRik",
      "project": "rzeiFG3sdIcsFLl4Infw",
      "version": 1
     },
     "outputId": null
    }
   },
   "outputs": [],
   "source": [
    "d_0 = simulation.dpred(m0)"
   ]
  },
  {
   "cell_type": "code",
   "execution_count": null,
   "metadata": {
    "iooxa": {
     "id": {
      "block": "IhmyuM0EHohu2WTQbrbV",
      "project": "rzeiFG3sdIcsFLl4Infw",
      "version": 2
     },
     "outputId": null
    }
   },
   "outputs": [],
   "source": [
    "relative_error = 0.01\n",
    "noise_floor = 1e-14\n",
    "standard_deviation = np.sqrt(abs(relative_error*d_true)**2 + (noise_floor)**2)"
   ]
  },
  {
   "cell_type": "code",
   "execution_count": null,
   "metadata": {
    "iooxa": {
     "id": {
      "block": "KkzXL6N5PnjMaOJ9eEfW",
      "project": "rzeiFG3sdIcsFLl4Infw",
      "version": 1
     },
     "outputId": null
    }
   },
   "outputs": [],
   "source": [
    "residual = (d_true - d_0)/standard_deviation"
   ]
  },
  {
   "cell_type": "markdown",
   "metadata": {
    "iooxa": {
     "id": {
      "block": "StqySpd8fzTKpXgeuQw5",
      "project": "rzeiFG3sdIcsFLl4Infw",
      "version": 1
     }
    }
   },
   "source": [
    "### Question @Seogi: Why are there less data per source than there are receivers?"
   ]
  },
  {
   "cell_type": "code",
   "execution_count": null,
   "metadata": {
    "iooxa": {
     "id": {
      "block": "qA8ZbT588Zl3QVrSzttf",
      "project": "rzeiFG3sdIcsFLl4Infw",
      "version": 3
     },
     "outputId": {
      "block": "O4OL13JxaqUl3qX3FHUH",
      "project": "rzeiFG3sdIcsFLl4Infw",
      "version": 3
     }
    }
   },
   "outputs": [],
   "source": [
    "fig, (ax1, ax2) = plt.subplots(1, 2, figsize=(10, 5))\n",
    "\n",
    "ax1.set_title('Responses (V/m)')\n",
    "ax1.semilogy(abs(d_true), 'o', label='true/observed')\n",
    "ax1.semilogy(abs(d_0), '.', label='initial model')\n",
    "ax1.legend()\n",
    "\n",
    "ax2.set_title('Weighted Residuals')\n",
    "nsrc = xyz_src.shape[0]\n",
    "nrec = len(rec_x)-4\n",
    "x = np.arange(len(residual))\n",
    "for s in range(nsrc):\n",
    "    ax2.semilogy(x[s*nrec:(s+1)*nrec], abs(residual[s*nrec:(s+1)*nrec]), '.')\n",
    "\n",
    "plt.show()"
   ]
  },
  {
   "cell_type": "code",
   "execution_count": null,
   "metadata": {
    "iooxa": {
     "id": {
      "block": "4SuTfqDL788FJt1UE13i",
      "project": "rzeiFG3sdIcsFLl4Infw",
      "version": 2
     },
     "outputId": null
    }
   },
   "outputs": [],
   "source": [
    "em_data = simpeg.data.ComplexData(survey, dobs=d_true, standard_deviation=standard_deviation)\n",
    "dmis = simpeg.data_misfit.L2DataMisfit(data=em_data, simulation=simulation)"
   ]
  },
  {
   "cell_type": "code",
   "execution_count": null,
   "metadata": {
    "iooxa": {
     "id": {
      "block": "7T3nOILivNM6D5uDyw2z",
      "project": "rzeiFG3sdIcsFLl4Infw",
      "version": 3
     },
     "outputId": null
    }
   },
   "outputs": [],
   "source": [
    "adjoint_tol = 1e-10\n",
    "def test_misfit():\n",
    "    passed = simpeg.tests.check_derivative(\n",
    "        lambda m: (simulation.dpred(m), lambda mx: simulation.Jvec(m0, mx, f=f)),\n",
    "        m0,\n",
    "        plotIt=False,\n",
    "        num=3,\n",
    "    )\n",
    "\n",
    "def test_adjoint():\n",
    "    # Adjoint Test\n",
    "    f = simulation.fields(m=m0)\n",
    "    # u = np.random.rand(.mesh.nC * .survey.nSrc)\n",
    "    v = np.random.rand(inds_active.sum())\n",
    "#     v = np.random.rand(mesh.nC)\n",
    "    w = np.random.rand(simulation.survey.nD)\n",
    "    wtJv = np.vdot(w, simulation.Jvec(m0, v, f=f)).real\n",
    "    vtJtw = np.vdot(v, simulation.Jtvec(m0, w, f=f))\n",
    "    passed = np.abs(wtJv - vtJtw) < adjoint_tol\n",
    "    print(\"Adjoint Test\", np.abs(wtJv - vtJtw), passed)\n",
    "    print(wtJv, vtJtw)\n",
    "    \n",
    "def test_dataObj():\n",
    "    passed = simpeg.tests.check_derivative(\n",
    "        lambda m: [dmis(m), dmis.deriv(m)], m0, plotIt=False, num=2\n",
    "    )    "
   ]
  },
  {
   "cell_type": "code",
   "execution_count": null,
   "metadata": {
    "iooxa": {
     "id": {
      "block": "PBuFIhzExObdPZ7IoxUU",
      "project": "rzeiFG3sdIcsFLl4Infw",
      "version": 4
     },
     "outputId": {
      "block": "dUztqzasgyGvf3F3wor6",
      "project": "rzeiFG3sdIcsFLl4Infw",
      "version": 3
     }
    }
   },
   "outputs": [],
   "source": [
    "test_dataObj()"
   ]
  },
  {
   "cell_type": "code",
   "execution_count": null,
   "metadata": {
    "iooxa": {
     "id": {
      "block": "6XZ5ttbEkSSJfQVV46i8",
      "project": "rzeiFG3sdIcsFLl4Infw",
      "version": 2
     },
     "outputId": {
      "block": "BAcvHwcxyLO3mUOMVHRU",
      "project": "rzeiFG3sdIcsFLl4Infw",
      "version": 1
     }
    }
   },
   "outputs": [],
   "source": [
    "test_misfit()"
   ]
  },
  {
   "cell_type": "code",
   "execution_count": null,
   "metadata": {
    "iooxa": {
     "id": {
      "block": "t0fbyqK4zNVIsHZTrVXv",
      "project": "rzeiFG3sdIcsFLl4Infw",
      "version": 4
     },
     "outputId": {
      "block": "73OVBfCEYL6ieThZWOdp",
      "project": "rzeiFG3sdIcsFLl4Infw",
      "version": 3
     }
    }
   },
   "outputs": [],
   "source": [
    "test_adjoint()"
   ]
  },
  {
   "cell_type": "code",
   "execution_count": null,
   "metadata": {
    "iooxa": {
     "id": {
      "block": "HtaQ8wJ2fhsD8bQ6asec",
      "project": "rzeiFG3sdIcsFLl4Infw",
      "version": 8
     },
     "outputId": {
      "block": "iLJUD1IpdCixWlTnMSdy",
      "project": "rzeiFG3sdIcsFLl4Infw",
      "version": 8
     }
    }
   },
   "outputs": [],
   "source": [
    "%%time\n",
    "\n",
    "# Define the regularization (model objective function)\n",
    "reg = simpeg.regularization.WeightedLeastSquares(\n",
    "    mesh,\n",
    "    active_cells=inds_active,\n",
    "    reference_model=m0,\n",
    "    alpha_s=1e-8,\n",
    "    alpha_x=1,\n",
    "    alpha_y=10,\n",
    "    alpha_z=1\n",
    ")\n",
    "\n",
    "nit = 20\n",
    "#nit = 2\n",
    "opt = simpeg.optimization.InexactGaussNewton(\n",
    "    maxIter=nit, maxIterLS=nit, maxIterCG=nit, tolCG=1e-3,\n",
    ")\n",
    "\n",
    "inv_prob = simpeg.inverse_problem.BaseInvProblem(dmis, reg, opt)\n",
    "starting_beta = simpeg.directives.BetaEstimate_ByEig(beta0_ratio=1)\n",
    "save = simpeg.directives.SaveOutputDictEveryIteration()\n",
    "\n",
    "beta_schedule = simpeg.directives.BetaSchedule(coolingFactor=2, coolingRate=1)\n",
    "target_misfit = simpeg.directives.TargetMisfit(chifact=1)\n",
    "\n",
    "directives_list = [\n",
    "    starting_beta,\n",
    "    beta_schedule,\n",
    "    target_misfit,\n",
    "    save\n",
    "]\n",
    "em_inversion = simpeg.inversion.BaseInversion(inv_prob, directiveList=directives_list)\n",
    "\n",
    "# Run inversion\n",
    "recovered_conductivity_model = em_inversion.run(m0)"
   ]
  },
  {
   "cell_type": "code",
   "execution_count": null,
   "metadata": {
    "iooxa": {
     "id": {
      "block": "vHAGtnOvqh3p1m9DohHe",
      "project": "rzeiFG3sdIcsFLl4Infw",
      "version": 5
     },
     "outputId": {
      "block": "rcas5hNb2oZV3k63U0wJ",
      "project": "rzeiFG3sdIcsFLl4Infw",
      "version": 5
     }
    }
   },
   "outputs": [],
   "source": [
    "target_misfit.target"
   ]
  },
  {
   "cell_type": "code",
   "execution_count": null,
   "metadata": {
    "iooxa": {
     "id": {
      "block": "HnQHpPqUPy6hzjZiVMQE",
      "project": "rzeiFG3sdIcsFLl4Infw",
      "version": 7
     },
     "outputId": {
      "block": "5zwl94pFeTEEv5X0O0Tg",
      "project": "rzeiFG3sdIcsFLl4Infw",
      "version": 6
     }
    }
   },
   "outputs": [],
   "source": [
    "plt.figure(figsize=(10, 4))\n",
    "iteration = len(save.outDict.keys())\n",
    "plt.semilogy(abs(em_data.dobs), 'o', label='Observed')\n",
    "plt.semilogy(abs(save.outDict[iteration]['dpred']), '.', label='Predicted')\n",
    "plt.legend()"
   ]
  },
  {
   "cell_type": "code",
   "execution_count": null,
   "metadata": {
    "iooxa": {
     "id": {
      "block": "LvfXhn7QRkEj7i5gllts",
      "project": "rzeiFG3sdIcsFLl4Infw",
      "version": 7
     },
     "outputId": {
      "block": "S6bzrt7WOqz93fwip1nC",
      "project": "rzeiFG3sdIcsFLl4Infw",
      "version": 7
     }
    }
   },
   "outputs": [],
   "source": [
    "fig, axs = plt.subplots(1,2, figsize=(8, 4))\n",
    "\n",
    "sigm_est = conductivity_map * save.outDict[iteration]['m']\n",
    "sigmas = [sigm_est, sigma]\n",
    "titles = [\"Estimated\", \"True\"]\n",
    "for ii, ax in enumerate(axs):\n",
    "    out = mesh.plot_slice(\n",
    "        1./sigmas[ii], grid=False, normal='Y', \n",
    "        pcolor_opts={'cmap':'Spectral_r', 'norm':LogNorm(vmin=0.33, vmax=100)}, \n",
    "        ax=ax,\n",
    "    )\n",
    "    ax.set_aspect(1)\n",
    "    ax.set_ylim(-4000, 0)\n",
    "    ax.set_xlim(-2000, 2000)\n",
    "    if ii == 1:\n",
    "        ax.set_yticks([])\n",
    "    ax.set_title(titles[ii])\n",
    "    cb = plt.colorbar(out[0], ax=ax, fraction=0.03, orientation='horizontal')\n",
    "    cb.set_label(\"Resistivity (Ω m)\")"
   ]
  },
  {
   "cell_type": "code",
   "execution_count": null,
   "metadata": {
    "iooxa": {
     "id": {
      "block": "URVsZCok60iEBhN5ptdF",
      "project": "rzeiFG3sdIcsFLl4Infw",
      "version": 1
     },
     "outputId": null
    },
    "scrolled": true
   },
   "outputs": [],
   "source": [
    "emg3d.Report()"
   ]
  }
 ],
 "metadata": {
  "iooxa": {
   "id": {
    "block": "got9zIutSejuS7qrPobN",
    "project": "rzeiFG3sdIcsFLl4Infw",
    "version": 1
   }
  },
  "kernelspec": {
   "display_name": "simpeg-emg3d",
   "language": "python",
   "name": "simpeg-emg3d"
  },
  "language_info": {
   "codemirror_mode": {
    "name": "ipython",
    "version": 3
   },
   "file_extension": ".py",
   "mimetype": "text/x-python",
   "name": "python",
   "nbconvert_exporter": "python",
   "pygments_lexer": "ipython3",
   "version": "3.12.5"
  }
 },
 "nbformat": 4,
 "nbformat_minor": 4
}
