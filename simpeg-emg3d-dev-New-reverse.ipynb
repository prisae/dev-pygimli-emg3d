{
 "cells": [
  {
   "cell_type": "markdown",
   "metadata": {
    "iooxa": {
     "id": {
      "block": "FWT4lEQzgTJ4SqfCdbsj",
      "project": "rzeiFG3sdIcsFLl4Infw",
      "version": 3
     }
    }
   },
   "source": [
    "# SimPEG(emg3d) -- small dev-example\n",
    "\n",
    "Use either via\n",
    "\n",
    "- `conda env create -f environment-simpeg-emg3d.yml`\n",
    "\n",
    "(creates env `simpeg-emg3d`), or manually by installing\n",
    "\n",
    "- SimPEG: `pip install git+https://github.com/simpeg/simpeg@refs/pull/1515/head`\n",
    "- emg3d: `pip install git+https://github.com/emsig/emg3d@simpeg`\n",
    "- Additionally: `xarray`, `matplotlib`, `ipympl`\n",
    "\n",
    "## TODOs:\n",
    "- Clean-up the two PR's\n",
    "- Change this example to create survey and simulation with emg3d, and use simpeg only for the inversion."
   ]
  },
  {
   "cell_type": "code",
   "execution_count": null,
   "metadata": {
    "iooxa": {
     "id": {
      "block": "10VtbUUnmcpr8GwQailC",
      "project": "rzeiFG3sdIcsFLl4Infw",
      "version": 5
     },
     "outputId": null
    }
   },
   "outputs": [],
   "source": [
    "import numpy as np\n",
    "import matplotlib.pyplot as plt\n",
    "from matplotlib.colors import LogNorm\n",
    "\n",
    "import emg3d\n",
    "import simpeg\n",
    "import simpeg.electromagnetics.frequency_domain as FDEM"
   ]
  },
  {
   "cell_type": "code",
   "execution_count": null,
   "metadata": {
    "iooxa": {
     "id": {
      "block": "10VtbUUnmcpr8GwQailC",
      "project": "rzeiFG3sdIcsFLl4Infw",
      "version": 4
     },
     "outputId": null
    }
   },
   "outputs": [],
   "source": [
    "%matplotlib widget"
   ]
  },
  {
   "cell_type": "markdown",
   "metadata": {
    "iooxa": {
     "id": {
      "block": "5NlUlYHPsMWX91bB1YdN",
      "project": "rzeiFG3sdIcsFLl4Infw",
      "version": 3
     }
    }
   },
   "source": [
    "## Create a grid\n",
    "\n",
    "Very small now, for dev purposes."
   ]
  },
  {
   "cell_type": "code",
   "execution_count": null,
   "metadata": {
    "iooxa": {
     "id": {
      "block": "rRBWeKCf2akYHaJUPqIQ",
      "project": "rzeiFG3sdIcsFLl4Infw",
      "version": 3
     },
     "outputId": {
      "block": "e5Idh82EipRE5WcbjWSh",
      "project": "rzeiFG3sdIcsFLl4Infw",
      "version": 1
     }
    }
   },
   "outputs": [],
   "source": [
    "frequency = 2.\n",
    "seafloor = -2000.\n",
    "#min_cell = 100.  # => 81,920 cells, 5 sources, 41 receivers\n",
    "min_cell = 200.  # => 18,432 cells, 3 sources, 21 receivers\n",
    "\n",
    "mesh = emg3d.construct_mesh(\n",
    "    center=(min_cell/2, 0, seafloor),  # Smallest cell at center\n",
    "    frequency=1.,          # Reference frequency\n",
    "    properties=(0.3, 1, 1, 0.3),  # Reference resistivity\n",
    "    min_width_limits=min_cell,\n",
    "    # Domain in which we want precise results\n",
    "    domain=([-2000, 2000],    # x-dir: where we have receivers\n",
    "            [-1000, 1000],    # y-dir: just extent of target\n",
    "            [seafloor-1000, seafloor+500]),  # \n",
    "    mapping='Conductivity',\n",
    "    center_on_edge=True,\n",
    ")\n",
    "\n",
    "# Active cells for inversion: everything below water\n",
    "inds_active = mesh.cell_centers[:, 2] < seafloor\n",
    "\n",
    "mesh"
   ]
  },
  {
   "cell_type": "markdown",
   "metadata": {
    "iooxa": {
     "id": {
      "block": "twas5lBJgODX0VA16dEo",
      "project": "rzeiFG3sdIcsFLl4Infw",
      "version": 1
     }
    }
   },
   "source": [
    "## Create a model\n",
    "\n",
    "Deep marine scenario, so we can ignore the air layer for developing."
   ]
  },
  {
   "cell_type": "code",
   "execution_count": null,
   "metadata": {
    "iooxa": {
     "id": {
      "block": "A1pBbsAcPVRqQJ87oUlZ",
      "project": "rzeiFG3sdIcsFLl4Infw",
      "version": 2
     },
     "outputId": {
      "block": "VLj8vNQwghpBfavpH7pY",
      "project": "rzeiFG3sdIcsFLl4Infw",
      "version": 2
     }
    }
   },
   "outputs": [],
   "source": [
    "# Initiate with background resistivity\n",
    "sigma = np.ones(mesh.n_cells)\n",
    "\n",
    "# Add water layer\n",
    "sigma[mesh.cell_centers[:, 2] > seafloor] = 1/0.3\n",
    "\n",
    "# Add target\n",
    "inds_target = (\n",
    "    (abs(mesh.cell_centers[:, 0]) < 1000) &\n",
    "    (abs(mesh.cell_centers[:, 1]) < 1000) &\n",
    "    np.logical_and(mesh.cell_centers[:, 2] < seafloor-500,\n",
    "                   mesh.cell_centers[:, 2] > seafloor-700) \n",
    ")\n",
    "sigma[inds_target] = 1/100.\n",
    "\n",
    "# Create model\n",
    "model_true = emg3d.Model(mesh, sigma, mapping='Conductivity')\n",
    "model_start = emg3d.Model(mesh, 1.0, mapping='Conductivity')\n",
    "\n",
    "# QC\n",
    "mesh.plot_3d_slicer(\n",
    "    1/sigma,  # Plot resistivities, not conductivities\n",
    "    pcolor_opts={'edgecolors': 'grey', 'linewidth': 0.5,\n",
    "                 'cmap':'Spectral_r',\n",
    "                 'norm':LogNorm(vmin=0.3, vmax=100)}, \n",
    "    xlim=[-3000, 3000],\n",
    "    ylim=[-2000, 2000],\n",
    "    zlim=[seafloor-1500, seafloor+500],\n",
    "    zslice=seafloor-500,\n",
    ")\n",
    "\n",
    "# QC\n",
    "model_true"
   ]
  },
  {
   "cell_type": "markdown",
   "metadata": {
    "iooxa": {
     "id": {
      "block": "YP86P7MMpySwBCnCrhpQ",
      "project": "rzeiFG3sdIcsFLl4Infw",
      "version": 4
     }
    }
   },
   "source": [
    "## Create a survey\n",
    "\n",
    "For now, we have sources and receivers on the corresponding edges. However, this has to become flexible!"
   ]
  },
  {
   "cell_type": "code",
   "execution_count": null,
   "metadata": {},
   "outputs": [],
   "source": [
    "rec_x = mesh.cell_centers_x[abs(mesh.cell_centers_x) < 2100]\n",
    "rec = emg3d.surveys.txrx_coordinates_to_dict(emg3d.RxElectricPoint, (rec_x, 0, seafloor+100, 0, 0))\n",
    "src = emg3d.surveys.txrx_coordinates_to_dict(emg3d.TxElectricDipole, (rec_x[::8], 0, seafloor+100, 0, 0))\n",
    "survey = emg3d.Survey(\n",
    "    sources=src,\n",
    "    receivers=rec,\n",
    "    frequencies=frequency,\n",
    ")\n",
    "survey"
   ]
  },
  {
   "cell_type": "code",
   "execution_count": null,
   "metadata": {
    "iooxa": {
     "id": {
      "block": "G8wlDsnhmITmKyKj8thR",
      "project": "rzeiFG3sdIcsFLl4Infw",
      "version": 2
     },
     "outputId": {
      "block": "sEq6F6duyXOqwOlJWoji",
      "project": "rzeiFG3sdIcsFLl4Infw",
      "version": 1
     }
    }
   },
   "outputs": [],
   "source": [
    "rec_coords = survey.receiver_coordinates()\n",
    "src_coords = survey.source_coordinates()\n",
    "# QC\n",
    "mesh.plot_slice(\n",
    "    1./sigma, grid=True, normal='Z', \n",
    "    ind=12,\n",
    "    pcolor_opts={'cmap':'Spectral_r', 'norm':LogNorm(vmin=1, vmax=100)}, \n",
    "    range_x=(-3000, 3000),\n",
    "    range_y=(-2000, 2000),\n",
    ")\n",
    "\n",
    "plt.plot(rec_coords[0], rec_coords[1], 'rv')\n",
    "plt.plot(src_coords[0], src_coords[1], 'w*')"
   ]
  },
  {
   "cell_type": "markdown",
   "metadata": {},
   "source": [
    "## Create a Simulation and observed data"
   ]
  },
  {
   "cell_type": "code",
   "execution_count": null,
   "metadata": {},
   "outputs": [],
   "source": [
    "try:\n",
    "    ddata = emg3d.load(f'toy-simpeg.h5')\n",
    "    sim = ddata['sim']\n",
    "    model_true = ddata['model_true']\n",
    "except FileNotFoundError:\n",
    "    # Create an emg3d Simulation instance\n",
    "    sim = emg3d.simulations.Simulation(\n",
    "        survey=survey.copy(),\n",
    "        model=model_true,\n",
    "        gridding='both',\n",
    "        max_workers=10,\n",
    "        gridding_opts={'center_on_edge': False},\n",
    "        receiver_interpolation='linear',\n",
    "        solver_opts = {'tol_gradient': 1e-3},\n",
    "        tqdm_opts=False,\n",
    "    )\n",
    "    sim.compute(observed=True, min_offset=100)\n",
    "    sim.clean('computed')\n",
    "    \n",
    "    sim.model = model_start\n",
    "    \n",
    "    sim.compute()\n",
    "    sim.survey.data['start'] = sim.survey.data.synthetic\n",
    "    sim.clean('computed')\n",
    "    \n",
    "    emg3d.save(f'toy-simpeg.h5', sim=sim, model_true=model_true)\n",
    "\n",
    "\n",
    "sim"
   ]
  },
  {
   "cell_type": "markdown",
   "metadata": {
    "iooxa": {
     "id": {
      "block": "1GrAIBZawIZ5MXqmsRvg",
      "project": "rzeiFG3sdIcsFLl4Infw",
      "version": 2
     }
    }
   },
   "source": [
    "## Create SimPEG-Simulation"
   ]
  },
  {
   "cell_type": "code",
   "execution_count": null,
   "metadata": {
    "iooxa": {
     "id": {
      "block": "22cCYGtCrdlxFs8hyF7E",
      "project": "rzeiFG3sdIcsFLl4Infw",
      "version": 2
     },
     "outputId": null
    }
   },
   "outputs": [],
   "source": [
    "# TODO move the mapping inside\n",
    "active_map = simpeg.maps.InjectActiveCells(mesh, inds_active, sigma[~inds_active])\n",
    "nP = int(inds_active.sum())\n",
    "conductivity_map = active_map * simpeg.maps.ExpMap(nP=nP)"
   ]
  },
  {
   "cell_type": "code",
   "execution_count": null,
   "metadata": {
    "iooxa": {
     "id": {
      "block": "HUMWYUlhNOw2HibcvTnw",
      "project": "rzeiFG3sdIcsFLl4Infw",
      "version": 2
     },
     "outputId": null
    }
   },
   "outputs": [],
   "source": [
    "# Define the Simulation\n",
    "simulation = emg3d.inversion.simpeg.FDEMSimulationNew(\n",
    "    sim,\n",
    "    sigmaMap=conductivity_map,\n",
    "    verbose=False,\n",
    ")\n",
    "\n",
    "# True and initial model\n",
    "m_true =  np.log(sigma[inds_active])\n",
    "m0 =  np.ones(m_true.shape) * np.log(1.)"
   ]
  },
  {
   "cell_type": "markdown",
   "metadata": {},
   "source": [
    "# WORK in PROGRESS - HERE"
   ]
  },
  {
   "cell_type": "code",
   "execution_count": null,
   "metadata": {
    "iooxa": {
     "id": {
      "block": "p7fXhwBDaDddXzh5dBku",
      "project": "rzeiFG3sdIcsFLl4Infw",
      "version": 1
     },
     "outputId": null
    },
    "scrolled": true
   },
   "outputs": [],
   "source": [
    "f = simulation.fields(m_true)\n",
    "d_true = simulation.dpred(m_true, f=f)"
   ]
  },
  {
   "cell_type": "code",
   "execution_count": null,
   "metadata": {
    "iooxa": {
     "id": {
      "block": "Iju7kclum9WCR65iYRik",
      "project": "rzeiFG3sdIcsFLl4Infw",
      "version": 1
     },
     "outputId": null
    }
   },
   "outputs": [],
   "source": [
    "d_0 = simulation.dpred(m0)"
   ]
  },
  {
   "cell_type": "code",
   "execution_count": null,
   "metadata": {
    "iooxa": {
     "id": {
      "block": "IhmyuM0EHohu2WTQbrbV",
      "project": "rzeiFG3sdIcsFLl4Infw",
      "version": 2
     },
     "outputId": null
    }
   },
   "outputs": [],
   "source": [
    "relative_error = 0.01\n",
    "noise_floor = 1e-14\n",
    "standard_deviation = np.sqrt(abs(relative_error*d_true)**2 + (noise_floor)**2)"
   ]
  },
  {
   "cell_type": "code",
   "execution_count": null,
   "metadata": {
    "iooxa": {
     "id": {
      "block": "KkzXL6N5PnjMaOJ9eEfW",
      "project": "rzeiFG3sdIcsFLl4Infw",
      "version": 1
     },
     "outputId": null
    }
   },
   "outputs": [],
   "source": [
    "residual = (d_true - d_0)/standard_deviation"
   ]
  },
  {
   "cell_type": "markdown",
   "metadata": {
    "iooxa": {
     "id": {
      "block": "StqySpd8fzTKpXgeuQw5",
      "project": "rzeiFG3sdIcsFLl4Infw",
      "version": 1
     }
    }
   },
   "source": [
    "### Question @Seogi: Why are there less data per source than there are receivers?"
   ]
  },
  {
   "cell_type": "code",
   "execution_count": null,
   "metadata": {
    "iooxa": {
     "id": {
      "block": "qA8ZbT588Zl3QVrSzttf",
      "project": "rzeiFG3sdIcsFLl4Infw",
      "version": 3
     },
     "outputId": {
      "block": "O4OL13JxaqUl3qX3FHUH",
      "project": "rzeiFG3sdIcsFLl4Infw",
      "version": 3
     }
    }
   },
   "outputs": [],
   "source": [
    "fig, (ax1, ax2) = plt.subplots(1, 2, figsize=(10, 5))\n",
    "\n",
    "ax1.set_title('Responses (V/m)')\n",
    "ax1.semilogy(abs(d_true), 'o', label='true/observed')\n",
    "ax1.semilogy(abs(d_0), '.', label='initial model')\n",
    "ax1.legend()\n",
    "\n",
    "ax2.set_title('Weighted Residuals')\n",
    "nsrc = xyz_src.shape[0]\n",
    "nrec = len(rec_x)-4\n",
    "x = np.arange(len(residual))\n",
    "for s in range(nsrc):\n",
    "    ax2.semilogy(x[s*nrec:(s+1)*nrec], abs(residual[s*nrec:(s+1)*nrec]), '.')\n",
    "\n",
    "plt.show()"
   ]
  },
  {
   "cell_type": "code",
   "execution_count": null,
   "metadata": {
    "iooxa": {
     "id": {
      "block": "4SuTfqDL788FJt1UE13i",
      "project": "rzeiFG3sdIcsFLl4Infw",
      "version": 2
     },
     "outputId": null
    }
   },
   "outputs": [],
   "source": [
    "em_data = simpeg.data.ComplexData(survey, dobs=d_true, standard_deviation=standard_deviation)\n",
    "dmis = simpeg.data_misfit.L2DataMisfit(data=em_data, simulation=simulation)"
   ]
  },
  {
   "cell_type": "code",
   "execution_count": null,
   "metadata": {
    "iooxa": {
     "id": {
      "block": "7T3nOILivNM6D5uDyw2z",
      "project": "rzeiFG3sdIcsFLl4Infw",
      "version": 3
     },
     "outputId": null
    }
   },
   "outputs": [],
   "source": [
    "adjoint_tol = 1e-10\n",
    "def test_misfit():\n",
    "    passed = simpeg.tests.check_derivative(\n",
    "        lambda m: (simulation.dpred(m), lambda mx: simulation.Jvec(m0, mx, f=f)),\n",
    "        m0,\n",
    "        plotIt=False,\n",
    "        num=3,\n",
    "    )\n",
    "\n",
    "def test_adjoint():\n",
    "    # Adjoint Test\n",
    "    f = simulation.fields(m=m0)\n",
    "    # u = np.random.rand(.mesh.nC * .survey.nSrc)\n",
    "    v = np.random.rand(inds_active.sum())\n",
    "#     v = np.random.rand(mesh.nC)\n",
    "    w = np.random.rand(simulation.survey.nD)\n",
    "    wtJv = np.vdot(w, simulation.Jvec(m0, v, f=f)).real\n",
    "    vtJtw = np.vdot(v, simulation.Jtvec(m0, w, f=f))\n",
    "    passed = np.abs(wtJv - vtJtw) < adjoint_tol\n",
    "    print(\"Adjoint Test\", np.abs(wtJv - vtJtw), passed)\n",
    "    print(wtJv, vtJtw)\n",
    "    \n",
    "def test_dataObj():\n",
    "    passed = simpeg.tests.check_derivative(\n",
    "        lambda m: [dmis(m), dmis.deriv(m)], m0, plotIt=False, num=2\n",
    "    )    "
   ]
  },
  {
   "cell_type": "code",
   "execution_count": null,
   "metadata": {
    "iooxa": {
     "id": {
      "block": "PBuFIhzExObdPZ7IoxUU",
      "project": "rzeiFG3sdIcsFLl4Infw",
      "version": 4
     },
     "outputId": {
      "block": "dUztqzasgyGvf3F3wor6",
      "project": "rzeiFG3sdIcsFLl4Infw",
      "version": 3
     }
    }
   },
   "outputs": [],
   "source": [
    "test_dataObj()"
   ]
  },
  {
   "cell_type": "code",
   "execution_count": null,
   "metadata": {
    "iooxa": {
     "id": {
      "block": "6XZ5ttbEkSSJfQVV46i8",
      "project": "rzeiFG3sdIcsFLl4Infw",
      "version": 2
     },
     "outputId": {
      "block": "BAcvHwcxyLO3mUOMVHRU",
      "project": "rzeiFG3sdIcsFLl4Infw",
      "version": 1
     }
    }
   },
   "outputs": [],
   "source": [
    "test_misfit()"
   ]
  },
  {
   "cell_type": "code",
   "execution_count": null,
   "metadata": {
    "iooxa": {
     "id": {
      "block": "t0fbyqK4zNVIsHZTrVXv",
      "project": "rzeiFG3sdIcsFLl4Infw",
      "version": 4
     },
     "outputId": {
      "block": "73OVBfCEYL6ieThZWOdp",
      "project": "rzeiFG3sdIcsFLl4Infw",
      "version": 3
     }
    }
   },
   "outputs": [],
   "source": [
    "test_adjoint()"
   ]
  },
  {
   "cell_type": "code",
   "execution_count": null,
   "metadata": {
    "iooxa": {
     "id": {
      "block": "HtaQ8wJ2fhsD8bQ6asec",
      "project": "rzeiFG3sdIcsFLl4Infw",
      "version": 8
     },
     "outputId": {
      "block": "iLJUD1IpdCixWlTnMSdy",
      "project": "rzeiFG3sdIcsFLl4Infw",
      "version": 8
     }
    }
   },
   "outputs": [],
   "source": [
    "%%time\n",
    "\n",
    "# Define the regularization (model objective function)\n",
    "reg = simpeg.regularization.WeightedLeastSquares(\n",
    "    mesh,\n",
    "    active_cells=inds_active,\n",
    "    reference_model=m0,\n",
    "    alpha_s=1e-8,\n",
    "    alpha_x=1,\n",
    "    alpha_y=10,\n",
    "    alpha_z=1\n",
    ")\n",
    "\n",
    "nit = 20\n",
    "#nit = 2\n",
    "opt = simpeg.optimization.InexactGaussNewton(\n",
    "    maxIter=nit, maxIterLS=nit, maxIterCG=nit, tolCG=1e-3,\n",
    ")\n",
    "\n",
    "inv_prob = simpeg.inverse_problem.BaseInvProblem(dmis, reg, opt)\n",
    "starting_beta = simpeg.directives.BetaEstimate_ByEig(beta0_ratio=1)\n",
    "save = simpeg.directives.SaveOutputDictEveryIteration()\n",
    "\n",
    "beta_schedule = simpeg.directives.BetaSchedule(coolingFactor=2, coolingRate=1)\n",
    "target_misfit = simpeg.directives.TargetMisfit(chifact=1)\n",
    "\n",
    "directives_list = [\n",
    "    starting_beta,\n",
    "    beta_schedule,\n",
    "    target_misfit,\n",
    "    save\n",
    "]\n",
    "em_inversion = simpeg.inversion.BaseInversion(inv_prob, directiveList=directives_list)\n",
    "\n",
    "# Run inversion\n",
    "recovered_conductivity_model = em_inversion.run(m0)"
   ]
  },
  {
   "cell_type": "code",
   "execution_count": null,
   "metadata": {
    "iooxa": {
     "id": {
      "block": "vHAGtnOvqh3p1m9DohHe",
      "project": "rzeiFG3sdIcsFLl4Infw",
      "version": 5
     },
     "outputId": {
      "block": "rcas5hNb2oZV3k63U0wJ",
      "project": "rzeiFG3sdIcsFLl4Infw",
      "version": 5
     }
    }
   },
   "outputs": [],
   "source": [
    "target_misfit.target"
   ]
  },
  {
   "cell_type": "code",
   "execution_count": null,
   "metadata": {
    "iooxa": {
     "id": {
      "block": "HnQHpPqUPy6hzjZiVMQE",
      "project": "rzeiFG3sdIcsFLl4Infw",
      "version": 7
     },
     "outputId": {
      "block": "5zwl94pFeTEEv5X0O0Tg",
      "project": "rzeiFG3sdIcsFLl4Infw",
      "version": 6
     }
    }
   },
   "outputs": [],
   "source": [
    "plt.figure(figsize=(10, 4))\n",
    "iteration = len(save.outDict.keys())\n",
    "plt.semilogy(abs(em_data.dobs), 'o', label='Observed')\n",
    "plt.semilogy(abs(save.outDict[iteration]['dpred']), '.', label='Predicted')\n",
    "plt.legend()"
   ]
  },
  {
   "cell_type": "code",
   "execution_count": null,
   "metadata": {
    "iooxa": {
     "id": {
      "block": "LvfXhn7QRkEj7i5gllts",
      "project": "rzeiFG3sdIcsFLl4Infw",
      "version": 7
     },
     "outputId": {
      "block": "S6bzrt7WOqz93fwip1nC",
      "project": "rzeiFG3sdIcsFLl4Infw",
      "version": 7
     }
    }
   },
   "outputs": [],
   "source": [
    "fig, axs = plt.subplots(1,2, figsize=(8, 4))\n",
    "\n",
    "sigm_est = conductivity_map * save.outDict[iteration]['m']\n",
    "sigmas = [sigm_est, sigma]\n",
    "titles = [\"Estimated\", \"True\"]\n",
    "for ii, ax in enumerate(axs):\n",
    "    out = mesh.plot_slice(\n",
    "        1./sigmas[ii], grid=False, normal='Y', \n",
    "        pcolor_opts={'cmap':'Spectral_r', 'norm':LogNorm(vmin=0.33, vmax=100)}, \n",
    "        ax=ax,\n",
    "    )\n",
    "    ax.set_aspect(1)\n",
    "    ax.set_ylim(-4000, 0)\n",
    "    ax.set_xlim(-2000, 2000)\n",
    "    if ii == 1:\n",
    "        ax.set_yticks([])\n",
    "    ax.set_title(titles[ii])\n",
    "    cb = plt.colorbar(out[0], ax=ax, fraction=0.03, orientation='horizontal')\n",
    "    cb.set_label(\"Resistivity (Ω m)\")"
   ]
  },
  {
   "cell_type": "code",
   "execution_count": null,
   "metadata": {
    "iooxa": {
     "id": {
      "block": "URVsZCok60iEBhN5ptdF",
      "project": "rzeiFG3sdIcsFLl4Infw",
      "version": 1
     },
     "outputId": null
    },
    "scrolled": true
   },
   "outputs": [],
   "source": [
    "emg3d.Report()"
   ]
  }
 ],
 "metadata": {
  "iooxa": {
   "id": {
    "block": "got9zIutSejuS7qrPobN",
    "project": "rzeiFG3sdIcsFLl4Infw",
    "version": 1
   }
  },
  "kernelspec": {
   "display_name": "simpeg-emg3d",
   "language": "python",
   "name": "simpeg-emg3d"
  },
  "language_info": {
   "codemirror_mode": {
    "name": "ipython",
    "version": 3
   },
   "file_extension": ".py",
   "mimetype": "text/x-python",
   "name": "python",
   "nbconvert_exporter": "python",
   "pygments_lexer": "ipython3",
   "version": "3.12.5"
  }
 },
 "nbformat": 4,
 "nbformat_minor": 4
}
