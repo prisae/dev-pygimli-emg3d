{
 "cells": [
  {
   "cell_type": "markdown",
   "metadata": {
    "iooxa": {
     "id": {
      "block": "FWT4lEQzgTJ4SqfCdbsj",
      "project": "rzeiFG3sdIcsFLl4Infw",
      "version": 3
     }
    }
   },
   "source": [
    "# SimPEG(emg3d) -- small dev-example\n",
    "\n",
    "Use either via\n",
    "\n",
    "- `conda env create -f environment-simpeg-emg3d.yml`\n",
    "\n",
    "(creates env `simpeg-emg3d`), or manually by installing\n",
    "\n",
    "- SimPEG: `pip install git+https://github.com/simpeg/simpeg@refs/pull/1515/head`\n",
    "- emg3d: `pip install git+https://github.com/emsig/emg3d@simpeg`\n",
    "- Additionally: `xarray`, `matplotlib`, `ipympl`\n",
    "\n",
    "## TODOs:\n",
    "- Clean-up the two PR's\n",
    "- Change this example to create survey and simulation with emg3d, and use simpeg only for the inversion."
   ]
  },
  {
   "cell_type": "code",
   "execution_count": 1,
   "metadata": {
    "iooxa": {
     "id": {
      "block": "10VtbUUnmcpr8GwQailC",
      "project": "rzeiFG3sdIcsFLl4Infw",
      "version": 5
     },
     "outputId": null
    }
   },
   "outputs": [],
   "source": [
    "import numpy as np\n",
    "import matplotlib.pyplot as plt\n",
    "from matplotlib.colors import LogNorm\n",
    "\n",
    "import emg3d\n",
    "import simpeg\n",
    "import simpeg.electromagnetics.frequency_domain as FDEM"
   ]
  },
  {
   "cell_type": "code",
   "execution_count": 2,
   "metadata": {
    "iooxa": {
     "id": {
      "block": "10VtbUUnmcpr8GwQailC",
      "project": "rzeiFG3sdIcsFLl4Infw",
      "version": 4
     },
     "outputId": null
    }
   },
   "outputs": [],
   "source": [
    "%matplotlib widget"
   ]
  },
  {
   "cell_type": "markdown",
   "metadata": {
    "iooxa": {
     "id": {
      "block": "5NlUlYHPsMWX91bB1YdN",
      "project": "rzeiFG3sdIcsFLl4Infw",
      "version": 3
     }
    }
   },
   "source": [
    "## Create a grid\n",
    "\n",
    "Very small now, for dev purposes."
   ]
  },
  {
   "cell_type": "code",
   "execution_count": 3,
   "metadata": {
    "iooxa": {
     "id": {
      "block": "rRBWeKCf2akYHaJUPqIQ",
      "project": "rzeiFG3sdIcsFLl4Infw",
      "version": 3
     },
     "outputId": {
      "block": "e5Idh82EipRE5WcbjWSh",
      "project": "rzeiFG3sdIcsFLl4Infw",
      "version": 1
     }
    }
   },
   "outputs": [
    {
     "data": {
      "text/html": [
       "<table>\n",
       "  <tr>\n",
       "    <td style='font-weight: bold; font-size: 1.2em; text-align: center;' colspan='3'>TensorMesh</td>\n",
       "    <td style='font-size: 1.2em; text-align: center;'colspan='4'>18,432 cells</td>\n",
       "  </tr>\n",
       "  <tr>\n",
       "    <th></th>\n",
       "    <th></th>\n",
       "    <th colspan='2' style='padding: 5px 20px 5px 20px;'>MESH EXTENT</th>\n",
       "    <th colspan='2' style='padding: 5px 20px 5px 20px;'>CELL WIDTH</th>\n",
       "    <th style='padding: 5px 20px 5px 20px;'>FACTOR</th>\n",
       "  </tr>\n",
       "  <tr>\n",
       "    <th style='padding: 5px 20px 5px 20px;'>dir</th>\n",
       "    <th style='padding: 5px 20px 5px 20px;'>nC</th>\n",
       "    <th style='padding: 5px 20px 5px 20px;'>min</th>\n",
       "    <th style='padding: 5px 20px 5px 20px;'>max</th>\n",
       "    <th style='padding: 5px 20px 5px 20px;'>min</th>\n",
       "    <th style='padding: 5px 20px 5px 20px;'>max</th>\n",
       "    <th style='padding: 5px 20px 5px 20px;'>max</th>\n",
       "  </tr>\n",
       "  <tr>\n",
       "    <td style='padding: 5px 20px 5px 20px;'>x</td>\n",
       "    <td style='padding: 5px 20px 5px 20px;'>32</td>\n",
       "    <td style='padding: 5px 20px 5px 20px;'>-5,197.13</td>\n",
       "    <td style='padding: 5px 20px 5px 20px;'>6,729.30</td>\n",
       "    <td style='padding: 5px 20px 5px 20px;'>200.00</td>\n",
       "    <td style='padding: 5px 20px 5px 20px;'>1,532.17</td>\n",
       "    <td style='padding: 5px 20px 5px 20px;'>1.40</td>\n",
       "  </tr>\n",
       "  <tr>\n",
       "    <td style='padding: 5px 20px 5px 20px;'>y</td>\n",
       "    <td style='padding: 5px 20px 5px 20px;'>24</td>\n",
       "    <td style='padding: 5px 20px 5px 20px;'>-4,186.99</td>\n",
       "    <td style='padding: 5px 20px 5px 20px;'>4,186.99</td>\n",
       "    <td style='padding: 5px 20px 5px 20px;'>200.00</td>\n",
       "    <td style='padding: 5px 20px 5px 20px;'>746.72</td>\n",
       "    <td style='padding: 5px 20px 5px 20px;'>1.21</td>\n",
       "  </tr>\n",
       "  <tr>\n",
       "    <td style='padding: 5px 20px 5px 20px;'>z</td>\n",
       "    <td style='padding: 5px 20px 5px 20px;'>24</td>\n",
       "    <td style='padding: 5px 20px 5px 20px;'>-6,449.09</td>\n",
       "    <td style='padding: 5px 20px 5px 20px;'>4,341.71</td>\n",
       "    <td style='padding: 5px 20px 5px 20px;'>200.00</td>\n",
       "    <td style='padding: 5px 20px 5px 20px;'>1,263.28</td>\n",
       "    <td style='padding: 5px 20px 5px 20px;'>1.23</td>\n",
       "  </tr>\n",
       "</table>\n"
      ],
      "text/plain": [
       "\n",
       "  TensorMesh: 18,432 cells\n",
       "\n",
       "                      MESH EXTENT             CELL WIDTH      FACTOR\n",
       "  dir    nC        min           max         min       max      max\n",
       "  ---   ---  ---------------------------  ------------------  ------\n",
       "   x     32     -5,197.13      6,729.30    200.00  1,532.17    1.40\n",
       "   y     24     -4,186.99      4,186.99    200.00    746.72    1.21\n",
       "   z     24     -6,449.09      4,341.71    200.00  1,263.28    1.23\n"
      ]
     },
     "execution_count": 3,
     "metadata": {},
     "output_type": "execute_result"
    }
   ],
   "source": [
    "frequency = 2.\n",
    "seafloor = -2000.\n",
    "#min_cell = 100.  # => 81,920 cells, 5 sources, 41 receivers\n",
    "min_cell = 200.  # => 18,432 cells, 3 sources, 21 receivers\n",
    "\n",
    "mesh = emg3d.construct_mesh(\n",
    "    center=(min_cell/2, 0, seafloor),  # Smallest cell at center\n",
    "    frequency=1.,          # Reference frequency\n",
    "    properties=(0.3, 1, 1, 0.3),  # Reference resistivity\n",
    "    min_width_limits=min_cell,\n",
    "    # Domain in which we want precise results\n",
    "    domain=([-2000, 2000],    # x-dir: where we have receivers\n",
    "            [-1000, 1000],    # y-dir: just extent of target\n",
    "            [seafloor-1000, seafloor+500]),  # \n",
    "    mapping='Conductivity',\n",
    "    center_on_edge=True,\n",
    ")\n",
    "\n",
    "# Active cells for inversion: everything below water\n",
    "inds_active = mesh.cell_centers[:, 2] < seafloor\n",
    "\n",
    "mesh"
   ]
  },
  {
   "cell_type": "markdown",
   "metadata": {
    "iooxa": {
     "id": {
      "block": "twas5lBJgODX0VA16dEo",
      "project": "rzeiFG3sdIcsFLl4Infw",
      "version": 1
     }
    }
   },
   "source": [
    "## Create a model\n",
    "\n",
    "Deep marine scenario, so we can ignore the air layer for developing."
   ]
  },
  {
   "cell_type": "code",
   "execution_count": 4,
   "metadata": {
    "iooxa": {
     "id": {
      "block": "A1pBbsAcPVRqQJ87oUlZ",
      "project": "rzeiFG3sdIcsFLl4Infw",
      "version": 2
     },
     "outputId": {
      "block": "VLj8vNQwghpBfavpH7pY",
      "project": "rzeiFG3sdIcsFLl4Infw",
      "version": 2
     }
    }
   },
   "outputs": [
    {
     "data": {
      "application/vnd.jupyter.widget-view+json": {
       "model_id": "56cc3565bc4b4f23a6e53add6990d283",
       "version_major": 2,
       "version_minor": 0
      },
      "image/png": "[encoded data removed]",
      "text/html": [
       "\n",
       "            <div style=\"display: inline-block;\">\n",
       "                <div class=\"jupyter-widgets widget-label\" style=\"text-align: center;\">\n",
       "                    Figure\n",
       "                </div>\n",
       "                <img src='data:image/png;base64,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' width=640.0/>\n",
       "            </div>\n",
       "        "
      ],
      "text/plain": [
       "Canvas(capture_scroll=True, toolbar=Toolbar(toolitems=[('Home', 'Reset original view', 'home', 'home'), ('Back…"
      ]
     },
     "metadata": {},
     "output_type": "display_data"
    },
    {
     "data": {
      "text/plain": [
       "Model: conductivity; isotropic; 32 x 24 x 24 (18,432)"
      ]
     },
     "execution_count": 4,
     "metadata": {},
     "output_type": "execute_result"
    }
   ],
   "source": [
    "# Initiate with background resistivity\n",
    "sigma = np.ones(mesh.n_cells)\n",
    "\n",
    "# Add water layer\n",
    "sigma[mesh.cell_centers[:, 2] > seafloor] = 1/0.3\n",
    "\n",
    "# Add target\n",
    "inds_target = (\n",
    "    (abs(mesh.cell_centers[:, 0]) < 1000) &\n",
    "    (abs(mesh.cell_centers[:, 1]) < 1000) &\n",
    "    np.logical_and(mesh.cell_centers[:, 2] < seafloor-500,\n",
    "                   mesh.cell_centers[:, 2] > seafloor-700) \n",
    ")\n",
    "sigma[inds_target] = 1/100.\n",
    "\n",
    "# Create model\n",
    "model = emg3d.Model(mesh, sigma, mapping='Conductivity')\n",
    "\n",
    "# QC\n",
    "mesh.plot_3d_slicer(\n",
    "    1/sigma,  # Plot resistivities, not conductivities\n",
    "    pcolor_opts={'edgecolors': 'grey', 'linewidth': 0.5,\n",
    "                 'cmap':'Spectral_r',\n",
    "                 'norm':LogNorm(vmin=0.3, vmax=100)}, \n",
    "    xlim=[-3000, 3000],\n",
    "    ylim=[-2000, 2000],\n",
    "    zlim=[seafloor-1500, seafloor+500],\n",
    "    zslice=seafloor-500,\n",
    ")\n",
    "\n",
    "# QC\n",
    "model"
   ]
  },
  {
   "cell_type": "markdown",
   "metadata": {
    "iooxa": {
     "id": {
      "block": "YP86P7MMpySwBCnCrhpQ",
      "project": "rzeiFG3sdIcsFLl4Infw",
      "version": 4
     }
    }
   },
   "source": [
    "## Create a survey\n",
    "\n",
    "For now, we have sources and receivers on the corresponding edges. However, this has to become flexible!"
   ]
  },
  {
   "cell_type": "code",
   "execution_count": 5,
   "metadata": {},
   "outputs": [
    {
     "data": {
      "text/html": [
       "<h3>Survey</h3><div><svg style=\"position: absolute; width: 0; height: 0; overflow: hidden\">\n",
       "<defs>\n",
       "<symbol id=\"icon-database\" viewBox=\"0 0 32 32\">\n",
       "<path d=\"M16 0c-8.837 0-16 2.239-16 5v4c0 2.761 7.163 5 16 5s16-2.239 16-5v-4c0-2.761-7.163-5-16-5z\"></path>\n",
       "<path d=\"M16 17c-8.837 0-16-2.239-16-5v6c0 2.761 7.163 5 16 5s16-2.239 16-5v-6c0 2.761-7.163 5-16 5z\"></path>\n",
       "<path d=\"M16 26c-8.837 0-16-2.239-16-5v6c0 2.761 7.163 5 16 5s16-2.239 16-5v-6c0 2.761-7.163 5-16 5z\"></path>\n",
       "</symbol>\n",
       "<symbol id=\"icon-file-text2\" viewBox=\"0 0 32 32\">\n",
       "<path d=\"M28.681 7.159c-0.694-0.947-1.662-2.053-2.724-3.116s-2.169-2.030-3.116-2.724c-1.612-1.182-2.393-1.319-2.841-1.319h-15.5c-1.378 0-2.5 1.121-2.5 2.5v27c0 1.378 1.122 2.5 2.5 2.5h23c1.378 0 2.5-1.122 2.5-2.5v-19.5c0-0.448-0.137-1.23-1.319-2.841zM24.543 5.457c0.959 0.959 1.712 1.825 2.268 2.543h-4.811v-4.811c0.718 0.556 1.584 1.309 2.543 2.268zM28 29.5c0 0.271-0.229 0.5-0.5 0.5h-23c-0.271 0-0.5-0.229-0.5-0.5v-27c0-0.271 0.229-0.5 0.5-0.5 0 0 15.499-0 15.5 0v7c0 0.552 0.448 1 1 1h7v19.5z\"></path>\n",
       "<path d=\"M23 26h-14c-0.552 0-1-0.448-1-1s0.448-1 1-1h14c0.552 0 1 0.448 1 1s-0.448 1-1 1z\"></path>\n",
       "<path d=\"M23 22h-14c-0.552 0-1-0.448-1-1s0.448-1 1-1h14c0.552 0 1 0.448 1 1s-0.448 1-1 1z\"></path>\n",
       "<path d=\"M23 18h-14c-0.552 0-1-0.448-1-1s0.448-1 1-1h14c0.552 0 1 0.448 1 1s-0.448 1-1 1z\"></path>\n",
       "</symbol>\n",
       "</defs>\n",
       "</svg>\n",
       "<style>/* CSS stylesheet for displaying xarray objects in jupyterlab.\n",
       " *\n",
       " */\n",
       "\n",
       ":root {\n",
       "  --xr-font-color0: var(--jp-content-font-color0, rgba(0, 0, 0, 1));\n",
       "  --xr-font-color2: var(--jp-content-font-color2, rgba(0, 0, 0, 0.54));\n",
       "  --xr-font-color3: var(--jp-content-font-color3, rgba(0, 0, 0, 0.38));\n",
       "  --xr-border-color: var(--jp-border-color2, #e0e0e0);\n",
       "  --xr-disabled-color: var(--jp-layout-color3, #bdbdbd);\n",
       "  --xr-background-color: var(--jp-layout-color0, white);\n",
       "  --xr-background-color-row-even: var(--jp-layout-color1, white);\n",
       "  --xr-background-color-row-odd: var(--jp-layout-color2, #eeeeee);\n",
       "}\n",
       "\n",
       "html[theme=dark],\n",
       "html[data-theme=dark],\n",
       "body[data-theme=dark],\n",
       "body.vscode-dark {\n",
       "  --xr-font-color0: rgba(255, 255, 255, 1);\n",
       "  --xr-font-color2: rgba(255, 255, 255, 0.54);\n",
       "  --xr-font-color3: rgba(255, 255, 255, 0.38);\n",
       "  --xr-border-color: #1F1F1F;\n",
       "  --xr-disabled-color: #515151;\n",
       "  --xr-background-color: #111111;\n",
       "  --xr-background-color-row-even: #111111;\n",
       "  --xr-background-color-row-odd: #313131;\n",
       "}\n",
       "\n",
       ".xr-wrap {\n",
       "  display: block !important;\n",
       "  min-width: 300px;\n",
       "  max-width: 700px;\n",
       "}\n",
       "\n",
       ".xr-text-repr-fallback {\n",
       "  /* fallback to plain text repr when CSS is not injected (untrusted notebook) */\n",
       "  display: none;\n",
       "}\n",
       "\n",
       ".xr-header {\n",
       "  padding-top: 6px;\n",
       "  padding-bottom: 6px;\n",
       "  margin-bottom: 4px;\n",
       "  border-bottom: solid 1px var(--xr-border-color);\n",
       "}\n",
       "\n",
       ".xr-header > div,\n",
       ".xr-header > ul {\n",
       "  display: inline;\n",
       "  margin-top: 0;\n",
       "  margin-bottom: 0;\n",
       "}\n",
       "\n",
       ".xr-obj-type,\n",
       ".xr-array-name {\n",
       "  margin-left: 2px;\n",
       "  margin-right: 10px;\n",
       "}\n",
       "\n",
       ".xr-obj-type {\n",
       "  color: var(--xr-font-color2);\n",
       "}\n",
       "\n",
       ".xr-sections {\n",
       "  padding-left: 0 !important;\n",
       "  display: grid;\n",
       "  grid-template-columns: 150px auto auto 1fr 20px 20px;\n",
       "}\n",
       "\n",
       ".xr-section-item {\n",
       "  display: contents;\n",
       "}\n",
       "\n",
       ".xr-section-item input {\n",
       "  display: none;\n",
       "}\n",
       "\n",
       ".xr-section-item input + label {\n",
       "  color: var(--xr-disabled-color);\n",
       "}\n",
       "\n",
       ".xr-section-item input:enabled + label {\n",
       "  cursor: pointer;\n",
       "  color: var(--xr-font-color2);\n",
       "}\n",
       "\n",
       ".xr-section-item input:enabled + label:hover {\n",
       "  color: var(--xr-font-color0);\n",
       "}\n",
       "\n",
       ".xr-section-summary {\n",
       "  grid-column: 1;\n",
       "  color: var(--xr-font-color2);\n",
       "  font-weight: 500;\n",
       "}\n",
       "\n",
       ".xr-section-summary > span {\n",
       "  display: inline-block;\n",
       "  padding-left: 0.5em;\n",
       "}\n",
       "\n",
       ".xr-section-summary-in:disabled + label {\n",
       "  color: var(--xr-font-color2);\n",
       "}\n",
       "\n",
       ".xr-section-summary-in + label:before {\n",
       "  display: inline-block;\n",
       "  content: '►';\n",
       "  font-size: 11px;\n",
       "  width: 15px;\n",
       "  text-align: center;\n",
       "}\n",
       "\n",
       ".xr-section-summary-in:disabled + label:before {\n",
       "  color: var(--xr-disabled-color);\n",
       "}\n",
       "\n",
       ".xr-section-summary-in:checked + label:before {\n",
       "  content: '▼';\n",
       "}\n",
       "\n",
       ".xr-section-summary-in:checked + label > span {\n",
       "  display: none;\n",
       "}\n",
       "\n",
       ".xr-section-summary,\n",
       ".xr-section-inline-details {\n",
       "  padding-top: 4px;\n",
       "  padding-bottom: 4px;\n",
       "}\n",
       "\n",
       ".xr-section-inline-details {\n",
       "  grid-column: 2 / -1;\n",
       "}\n",
       "\n",
       ".xr-section-details {\n",
       "  display: none;\n",
       "  grid-column: 1 / -1;\n",
       "  margin-bottom: 5px;\n",
       "}\n",
       "\n",
       ".xr-section-summary-in:checked ~ .xr-section-details {\n",
       "  display: contents;\n",
       "}\n",
       "\n",
       ".xr-array-wrap {\n",
       "  grid-column: 1 / -1;\n",
       "  display: grid;\n",
       "  grid-template-columns: 20px auto;\n",
       "}\n",
       "\n",
       ".xr-array-wrap > label {\n",
       "  grid-column: 1;\n",
       "  vertical-align: top;\n",
       "}\n",
       "\n",
       ".xr-preview {\n",
       "  color: var(--xr-font-color3);\n",
       "}\n",
       "\n",
       ".xr-array-preview,\n",
       ".xr-array-data {\n",
       "  padding: 0 5px !important;\n",
       "  grid-column: 2;\n",
       "}\n",
       "\n",
       ".xr-array-data,\n",
       ".xr-array-in:checked ~ .xr-array-preview {\n",
       "  display: none;\n",
       "}\n",
       "\n",
       ".xr-array-in:checked ~ .xr-array-data,\n",
       ".xr-array-preview {\n",
       "  display: inline-block;\n",
       "}\n",
       "\n",
       ".xr-dim-list {\n",
       "  display: inline-block !important;\n",
       "  list-style: none;\n",
       "  padding: 0 !important;\n",
       "  margin: 0;\n",
       "}\n",
       "\n",
       ".xr-dim-list li {\n",
       "  display: inline-block;\n",
       "  padding: 0;\n",
       "  margin: 0;\n",
       "}\n",
       "\n",
       ".xr-dim-list:before {\n",
       "  content: '(';\n",
       "}\n",
       "\n",
       ".xr-dim-list:after {\n",
       "  content: ')';\n",
       "}\n",
       "\n",
       ".xr-dim-list li:not(:last-child):after {\n",
       "  content: ',';\n",
       "  padding-right: 5px;\n",
       "}\n",
       "\n",
       ".xr-has-index {\n",
       "  font-weight: bold;\n",
       "}\n",
       "\n",
       ".xr-var-list,\n",
       ".xr-var-item {\n",
       "  display: contents;\n",
       "}\n",
       "\n",
       ".xr-var-item > div,\n",
       ".xr-var-item label,\n",
       ".xr-var-item > .xr-var-name span {\n",
       "  background-color: var(--xr-background-color-row-even);\n",
       "  margin-bottom: 0;\n",
       "}\n",
       "\n",
       ".xr-var-item > .xr-var-name:hover span {\n",
       "  padding-right: 5px;\n",
       "}\n",
       "\n",
       ".xr-var-list > li:nth-child(odd) > div,\n",
       ".xr-var-list > li:nth-child(odd) > label,\n",
       ".xr-var-list > li:nth-child(odd) > .xr-var-name span {\n",
       "  background-color: var(--xr-background-color-row-odd);\n",
       "}\n",
       "\n",
       ".xr-var-name {\n",
       "  grid-column: 1;\n",
       "}\n",
       "\n",
       ".xr-var-dims {\n",
       "  grid-column: 2;\n",
       "}\n",
       "\n",
       ".xr-var-dtype {\n",
       "  grid-column: 3;\n",
       "  text-align: right;\n",
       "  color: var(--xr-font-color2);\n",
       "}\n",
       "\n",
       ".xr-var-preview {\n",
       "  grid-column: 4;\n",
       "}\n",
       "\n",
       ".xr-index-preview {\n",
       "  grid-column: 2 / 5;\n",
       "  color: var(--xr-font-color2);\n",
       "}\n",
       "\n",
       ".xr-var-name,\n",
       ".xr-var-dims,\n",
       ".xr-var-dtype,\n",
       ".xr-preview,\n",
       ".xr-attrs dt {\n",
       "  white-space: nowrap;\n",
       "  overflow: hidden;\n",
       "  text-overflow: ellipsis;\n",
       "  padding-right: 10px;\n",
       "}\n",
       "\n",
       ".xr-var-name:hover,\n",
       ".xr-var-dims:hover,\n",
       ".xr-var-dtype:hover,\n",
       ".xr-attrs dt:hover {\n",
       "  overflow: visible;\n",
       "  width: auto;\n",
       "  z-index: 1;\n",
       "}\n",
       "\n",
       ".xr-var-attrs,\n",
       ".xr-var-data,\n",
       ".xr-index-data {\n",
       "  display: none;\n",
       "  background-color: var(--xr-background-color) !important;\n",
       "  padding-bottom: 5px !important;\n",
       "}\n",
       "\n",
       ".xr-var-attrs-in:checked ~ .xr-var-attrs,\n",
       ".xr-var-data-in:checked ~ .xr-var-data,\n",
       ".xr-index-data-in:checked ~ .xr-index-data {\n",
       "  display: block;\n",
       "}\n",
       "\n",
       ".xr-var-data > table {\n",
       "  float: right;\n",
       "}\n",
       "\n",
       ".xr-var-name span,\n",
       ".xr-var-data,\n",
       ".xr-index-name div,\n",
       ".xr-index-data,\n",
       ".xr-attrs {\n",
       "  padding-left: 25px !important;\n",
       "}\n",
       "\n",
       ".xr-attrs,\n",
       ".xr-var-attrs,\n",
       ".xr-var-data,\n",
       ".xr-index-data {\n",
       "  grid-column: 1 / -1;\n",
       "}\n",
       "\n",
       "dl.xr-attrs {\n",
       "  padding: 0;\n",
       "  margin: 0;\n",
       "  display: grid;\n",
       "  grid-template-columns: 125px auto;\n",
       "}\n",
       "\n",
       ".xr-attrs dt,\n",
       ".xr-attrs dd {\n",
       "  padding: 0;\n",
       "  margin: 0;\n",
       "  float: left;\n",
       "  padding-right: 10px;\n",
       "  width: auto;\n",
       "}\n",
       "\n",
       ".xr-attrs dt {\n",
       "  font-weight: normal;\n",
       "  grid-column: 1;\n",
       "}\n",
       "\n",
       ".xr-attrs dt:hover span {\n",
       "  display: inline-block;\n",
       "  background: var(--xr-background-color);\n",
       "  padding-right: 10px;\n",
       "}\n",
       "\n",
       ".xr-attrs dd {\n",
       "  grid-column: 2;\n",
       "  white-space: pre-wrap;\n",
       "  word-break: break-all;\n",
       "}\n",
       "\n",
       ".xr-icon-database,\n",
       ".xr-icon-file-text2,\n",
       ".xr-no-icon {\n",
       "  display: inline-block;\n",
       "  vertical-align: middle;\n",
       "  width: 1em;\n",
       "  height: 1.5em !important;\n",
       "  stroke-width: 0;\n",
       "  stroke: currentColor;\n",
       "  fill: currentColor;\n",
       "}\n",
       "</style><pre class='xr-text-repr-fallback'>&lt;xarray.Dataset&gt; Size: 2kB\n",
       "Dimensions:   (src: 3, rec: 21, freq: 1)\n",
       "Coordinates:\n",
       "  * src       (src) &lt;U6 72B &#x27;TxEP-1&#x27; &#x27;TxEP-2&#x27; &#x27;TxEP-3&#x27;\n",
       "  * rec       (rec) &lt;U7 588B &#x27;RxEP-01&#x27; &#x27;RxEP-02&#x27; ... &#x27;RxEP-20&#x27; &#x27;RxEP-21&#x27;\n",
       "  * freq      (freq) &lt;U3 12B &#x27;f-1&#x27;\n",
       "Data variables:\n",
       "    observed  (src, rec, freq) complex128 1kB (nan+nanj) ... (nan+nanj)\n",
       "Attributes:\n",
       "    noise_floor:     None\n",
       "    relative_error:  None</pre><div class='xr-wrap' style='display:none'><div class='xr-header'><div class='xr-obj-type'>xarray.Dataset</div></div><ul class='xr-sections'><li class='xr-section-item'><input id='section-6c73bfbb-aded-4768-bad7-24fcce1af04b' class='xr-section-summary-in' type='checkbox' disabled ><label for='section-6c73bfbb-aded-4768-bad7-24fcce1af04b' class='xr-section-summary'  title='Expand/collapse section'>Dimensions:</label><div class='xr-section-inline-details'><ul class='xr-dim-list'><li><span class='xr-has-index'>src</span>: 3</li><li><span class='xr-has-index'>rec</span>: 21</li><li><span class='xr-has-index'>freq</span>: 1</li></ul></div><div class='xr-section-details'></div></li><li class='xr-section-item'><input id='section-56cd3a92-3203-4f79-9c5e-cab51e27b5ca' class='xr-section-summary-in' type='checkbox'  checked><label for='section-56cd3a92-3203-4f79-9c5e-cab51e27b5ca' class='xr-section-summary' >Coordinates: <span>(3)</span></label><div class='xr-section-inline-details'></div><div class='xr-section-details'><ul class='xr-var-list'><li class='xr-var-item'><div class='xr-var-name'><span class='xr-has-index'>src</span></div><div class='xr-var-dims'>(src)</div><div class='xr-var-dtype'>&lt;U6</div><div class='xr-var-preview xr-preview'>&#x27;TxEP-1&#x27; &#x27;TxEP-2&#x27; &#x27;TxEP-3&#x27;</div><input id='attrs-c7c9021c-e9c4-406f-ad29-71c1e9e56667' class='xr-var-attrs-in' type='checkbox' ><label for='attrs-c7c9021c-e9c4-406f-ad29-71c1e9e56667' title='Show/Hide attributes'><svg class='icon xr-icon-file-text2'><use xlink:href='#icon-file-text2'></use></svg></label><input id='data-9eab978e-6fa2-4907-880f-990068028f72' class='xr-var-data-in' type='checkbox'><label for='data-9eab978e-6fa2-4907-880f-990068028f72' title='Show/Hide data repr'><svg class='icon xr-icon-database'><use xlink:href='#icon-database'></use></svg></label><div class='xr-var-attrs'><dl class='xr-attrs'><dt><span>Sources :</span></dt><dd>TxEP-1: TxElectricPoint: 1.0 A;\n",
       "    x=-2,000.0 m, y=0.0 m, z=-1,900.0 m, θ=0.0°, φ=0.0°;\n",
       "TxEP-2: TxElectricPoint: 1.0 A;\n",
       "    x=-400.0 m, y=0.0 m, z=-1,900.0 m, θ=0.0°, φ=0.0°;\n",
       "TxEP-3: TxElectricPoint: 1.0 A;\n",
       "    x=1,200.0 m, y=0.0 m, z=-1,900.0 m, θ=0.0°, φ=0.0°.</dd></dl></div><div class='xr-var-data'><pre>array([&#x27;TxEP-1&#x27;, &#x27;TxEP-2&#x27;, &#x27;TxEP-3&#x27;], dtype=&#x27;&lt;U6&#x27;)</pre></div></li><li class='xr-var-item'><div class='xr-var-name'><span class='xr-has-index'>rec</span></div><div class='xr-var-dims'>(rec)</div><div class='xr-var-dtype'>&lt;U7</div><div class='xr-var-preview xr-preview'>&#x27;RxEP-01&#x27; &#x27;RxEP-02&#x27; ... &#x27;RxEP-21&#x27;</div><input id='attrs-75ca60e0-98aa-462c-91d7-b4d48fc1807a' class='xr-var-attrs-in' type='checkbox' ><label for='attrs-75ca60e0-98aa-462c-91d7-b4d48fc1807a' title='Show/Hide attributes'><svg class='icon xr-icon-file-text2'><use xlink:href='#icon-file-text2'></use></svg></label><input id='data-3056270b-ce71-402f-91ed-94c1362fbe94' class='xr-var-data-in' type='checkbox'><label for='data-3056270b-ce71-402f-91ed-94c1362fbe94' title='Show/Hide data repr'><svg class='icon xr-icon-database'><use xlink:href='#icon-database'></use></svg></label><div class='xr-var-attrs'><dl class='xr-attrs'><dt><span>Receivers :</span></dt><dd>RxEP-01: RxElectricPoint: absolute; complex;\n",
       "    x=-2,000.0 m, y=0.0 m, z=-1,900.0 m, θ=0.0°, φ=0.0°;\n",
       "RxEP-02: RxElectricPoint: absolute; complex;\n",
       "    x=-1,800.0 m, y=0.0 m, z=-1,900.0 m, θ=0.0°, φ=0.0°;\n",
       "RxEP-03: RxElectricPoint: absolute; complex;\n",
       "    x=-1,600.0 m, y=0.0 m, z=-1,900.0 m, θ=0.0°, φ=0.0°;\n",
       "RxEP-04: RxElectricPoint: absolute; complex;\n",
       "    x=-1,400.0 m, y=0.0 m, z=-1,900.0 m, θ=0.0°, φ=0.0°;\n",
       "RxEP-05: RxElectricPoint: absolute; complex;\n",
       "    x=-1,200.0 m, y=0.0 m, z=-1,900.0 m, θ=0.0°, φ=0.0°;\n",
       "RxEP-06: RxElectricPoint: absolute; complex;\n",
       "    x=-1,000.0 m, y=0.0 m, z=-1,900.0 m, θ=0.0°, φ=0.0°;\n",
       "RxEP-07: RxElectricPoint: absolute; complex;\n",
       "    x=-800.0 m, y=0.0 m, z=-1,900.0 m, θ=0.0°, φ=0.0°;\n",
       "RxEP-08: RxElectricPoint: absolute; complex;\n",
       "    x=-600.0 m, y=0.0 m, z=-1,900.0 m, θ=0.0°, φ=0.0°;\n",
       "RxEP-09: RxElectricPoint: absolute; complex;\n",
       "    x=-400.0 m, y=0.0 m, z=-1,900.0 m, θ=0.0°, φ=0.0°;\n",
       "RxEP-10: RxElectricPoint: absolute; complex;\n",
       "    x=-200.0 m, y=0.0 m, z=-1,900.0 m, θ=0.0°, φ=0.0°;\n",
       "RxEP-11: RxElectricPoint: absolute; complex;\n",
       "    x=0.0 m, y=0.0 m, z=-1,900.0 m, θ=0.0°, φ=0.0°;\n",
       "RxEP-12: RxElectricPoint: absolute; complex;\n",
       "    x=200.0 m, y=0.0 m, z=-1,900.0 m, θ=0.0°, φ=0.0°;\n",
       "RxEP-13: RxElectricPoint: absolute; complex;\n",
       "    x=400.0 m, y=0.0 m, z=-1,900.0 m, θ=0.0°, φ=0.0°;\n",
       "RxEP-14: RxElectricPoint: absolute; complex;\n",
       "    x=600.0 m, y=0.0 m, z=-1,900.0 m, θ=0.0°, φ=0.0°;\n",
       "RxEP-15: RxElectricPoint: absolute; complex;\n",
       "    x=800.0 m, y=0.0 m, z=-1,900.0 m, θ=0.0°, φ=0.0°;\n",
       "RxEP-16: RxElectricPoint: absolute; complex;\n",
       "    x=1,000.0 m, y=0.0 m, z=-1,900.0 m, θ=0.0°, φ=0.0°;\n",
       "RxEP-17: RxElectricPoint: absolute; complex;\n",
       "    x=1,200.0 m, y=0.0 m, z=-1,900.0 m, θ=0.0°, φ=0.0°;\n",
       "RxEP-18: RxElectricPoint: absolute; complex;\n",
       "    x=1,400.0 m, y=0.0 m, z=-1,900.0 m, θ=0.0°, φ=0.0°;\n",
       "RxEP-19: RxElectricPoint: absolute; complex;\n",
       "    x=1,600.0 m, y=0.0 m, z=-1,900.0 m, θ=0.0°, φ=0.0°;\n",
       "RxEP-20: RxElectricPoint: absolute; complex;\n",
       "    x=1,800.0 m, y=0.0 m, z=-1,900.0 m, θ=0.0°, φ=0.0°;\n",
       "RxEP-21: RxElectricPoint: absolute; complex;\n",
       "    x=2,000.0 m, y=0.0 m, z=-1,900.0 m, θ=0.0°, φ=0.0°.</dd></dl></div><div class='xr-var-data'><pre>array([&#x27;RxEP-01&#x27;, &#x27;RxEP-02&#x27;, &#x27;RxEP-03&#x27;, &#x27;RxEP-04&#x27;, &#x27;RxEP-05&#x27;, &#x27;RxEP-06&#x27;,\n",
       "       &#x27;RxEP-07&#x27;, &#x27;RxEP-08&#x27;, &#x27;RxEP-09&#x27;, &#x27;RxEP-10&#x27;, &#x27;RxEP-11&#x27;, &#x27;RxEP-12&#x27;,\n",
       "       &#x27;RxEP-13&#x27;, &#x27;RxEP-14&#x27;, &#x27;RxEP-15&#x27;, &#x27;RxEP-16&#x27;, &#x27;RxEP-17&#x27;, &#x27;RxEP-18&#x27;,\n",
       "       &#x27;RxEP-19&#x27;, &#x27;RxEP-20&#x27;, &#x27;RxEP-21&#x27;], dtype=&#x27;&lt;U7&#x27;)</pre></div></li><li class='xr-var-item'><div class='xr-var-name'><span class='xr-has-index'>freq</span></div><div class='xr-var-dims'>(freq)</div><div class='xr-var-dtype'>&lt;U3</div><div class='xr-var-preview xr-preview'>&#x27;f-1&#x27;</div><input id='attrs-9720ab53-7e2c-45e9-b930-c3ca5c10db0f' class='xr-var-attrs-in' type='checkbox' ><label for='attrs-9720ab53-7e2c-45e9-b930-c3ca5c10db0f' title='Show/Hide attributes'><svg class='icon xr-icon-file-text2'><use xlink:href='#icon-file-text2'></use></svg></label><input id='data-ddc446cd-e99b-428a-b2de-625798a0f627' class='xr-var-data-in' type='checkbox'><label for='data-ddc446cd-e99b-428a-b2de-625798a0f627' title='Show/Hide data repr'><svg class='icon xr-icon-database'><use xlink:href='#icon-database'></use></svg></label><div class='xr-var-attrs'><dl class='xr-attrs'><dt><span>Frequencies :</span></dt><dd>f-1: 2.0 Hz.</dd></dl></div><div class='xr-var-data'><pre>array([&#x27;f-1&#x27;], dtype=&#x27;&lt;U3&#x27;)</pre></div></li></ul></div></li><li class='xr-section-item'><input id='section-7f98c167-6e64-4cf7-90c4-f2ef511f1284' class='xr-section-summary-in' type='checkbox'  checked><label for='section-7f98c167-6e64-4cf7-90c4-f2ef511f1284' class='xr-section-summary' >Data variables: <span>(1)</span></label><div class='xr-section-inline-details'></div><div class='xr-section-details'><ul class='xr-var-list'><li class='xr-var-item'><div class='xr-var-name'><span>observed</span></div><div class='xr-var-dims'>(src, rec, freq)</div><div class='xr-var-dtype'>complex128</div><div class='xr-var-preview xr-preview'>(nan+nanj) ... (nan+nanj)</div><input id='attrs-39e1896f-009a-4dc0-bb44-06c718574732' class='xr-var-attrs-in' type='checkbox' disabled><label for='attrs-39e1896f-009a-4dc0-bb44-06c718574732' title='Show/Hide attributes'><svg class='icon xr-icon-file-text2'><use xlink:href='#icon-file-text2'></use></svg></label><input id='data-3ac31bed-695c-4ef6-819c-7a989df774d9' class='xr-var-data-in' type='checkbox'><label for='data-3ac31bed-695c-4ef6-819c-7a989df774d9' title='Show/Hide data repr'><svg class='icon xr-icon-database'><use xlink:href='#icon-database'></use></svg></label><div class='xr-var-attrs'><dl class='xr-attrs'></dl></div><div class='xr-var-data'><pre>array([[[nan+nanj],\n",
       "        [nan+nanj],\n",
       "        [nan+nanj],\n",
       "        [nan+nanj],\n",
       "        [nan+nanj],\n",
       "        [nan+nanj],\n",
       "        [nan+nanj],\n",
       "        [nan+nanj],\n",
       "        [nan+nanj],\n",
       "        [nan+nanj],\n",
       "        [nan+nanj],\n",
       "        [nan+nanj],\n",
       "        [nan+nanj],\n",
       "        [nan+nanj],\n",
       "        [nan+nanj],\n",
       "        [nan+nanj],\n",
       "        [nan+nanj],\n",
       "        [nan+nanj],\n",
       "        [nan+nanj],\n",
       "        [nan+nanj],\n",
       "...\n",
       "        [nan+nanj],\n",
       "        [nan+nanj],\n",
       "        [nan+nanj],\n",
       "        [nan+nanj],\n",
       "        [nan+nanj],\n",
       "        [nan+nanj],\n",
       "        [nan+nanj],\n",
       "        [nan+nanj],\n",
       "        [nan+nanj],\n",
       "        [nan+nanj],\n",
       "        [nan+nanj],\n",
       "        [nan+nanj],\n",
       "        [nan+nanj],\n",
       "        [nan+nanj],\n",
       "        [nan+nanj],\n",
       "        [nan+nanj],\n",
       "        [nan+nanj],\n",
       "        [nan+nanj],\n",
       "        [nan+nanj],\n",
       "        [nan+nanj]]])</pre></div></li></ul></div></li><li class='xr-section-item'><input id='section-62a38ce2-fc5b-40cf-8fc9-b98adb0487ad' class='xr-section-summary-in' type='checkbox'  ><label for='section-62a38ce2-fc5b-40cf-8fc9-b98adb0487ad' class='xr-section-summary' >Indexes: <span>(3)</span></label><div class='xr-section-inline-details'></div><div class='xr-section-details'><ul class='xr-var-list'><li class='xr-var-item'><div class='xr-index-name'><div>src</div></div><div class='xr-index-preview'>PandasIndex</div><div></div><input id='index-4aee7848-c319-4139-b6ae-08b1b014343f' class='xr-index-data-in' type='checkbox'/><label for='index-4aee7848-c319-4139-b6ae-08b1b014343f' title='Show/Hide index repr'><svg class='icon xr-icon-database'><use xlink:href='#icon-database'></use></svg></label><div class='xr-index-data'><pre>PandasIndex(Index([&#x27;TxEP-1&#x27;, &#x27;TxEP-2&#x27;, &#x27;TxEP-3&#x27;], dtype=&#x27;object&#x27;, name=&#x27;src&#x27;))</pre></div></li><li class='xr-var-item'><div class='xr-index-name'><div>rec</div></div><div class='xr-index-preview'>PandasIndex</div><div></div><input id='index-09a2411b-4948-44fc-8e96-b4ccd5f0313d' class='xr-index-data-in' type='checkbox'/><label for='index-09a2411b-4948-44fc-8e96-b4ccd5f0313d' title='Show/Hide index repr'><svg class='icon xr-icon-database'><use xlink:href='#icon-database'></use></svg></label><div class='xr-index-data'><pre>PandasIndex(Index([&#x27;RxEP-01&#x27;, &#x27;RxEP-02&#x27;, &#x27;RxEP-03&#x27;, &#x27;RxEP-04&#x27;, &#x27;RxEP-05&#x27;, &#x27;RxEP-06&#x27;,\n",
       "       &#x27;RxEP-07&#x27;, &#x27;RxEP-08&#x27;, &#x27;RxEP-09&#x27;, &#x27;RxEP-10&#x27;, &#x27;RxEP-11&#x27;, &#x27;RxEP-12&#x27;,\n",
       "       &#x27;RxEP-13&#x27;, &#x27;RxEP-14&#x27;, &#x27;RxEP-15&#x27;, &#x27;RxEP-16&#x27;, &#x27;RxEP-17&#x27;, &#x27;RxEP-18&#x27;,\n",
       "       &#x27;RxEP-19&#x27;, &#x27;RxEP-20&#x27;, &#x27;RxEP-21&#x27;],\n",
       "      dtype=&#x27;object&#x27;, name=&#x27;rec&#x27;))</pre></div></li><li class='xr-var-item'><div class='xr-index-name'><div>freq</div></div><div class='xr-index-preview'>PandasIndex</div><div></div><input id='index-8ffc80d5-3a90-4b61-8a01-a958b78fd163' class='xr-index-data-in' type='checkbox'/><label for='index-8ffc80d5-3a90-4b61-8a01-a958b78fd163' title='Show/Hide index repr'><svg class='icon xr-icon-database'><use xlink:href='#icon-database'></use></svg></label><div class='xr-index-data'><pre>PandasIndex(Index([&#x27;f-1&#x27;], dtype=&#x27;object&#x27;, name=&#x27;freq&#x27;))</pre></div></li></ul></div></li><li class='xr-section-item'><input id='section-a52611a6-92c9-4650-a3d0-a6f75a98ebdb' class='xr-section-summary-in' type='checkbox'  checked><label for='section-a52611a6-92c9-4650-a3d0-a6f75a98ebdb' class='xr-section-summary' >Attributes: <span>(2)</span></label><div class='xr-section-inline-details'></div><div class='xr-section-details'><dl class='xr-attrs'><dt><span>noise_floor :</span></dt><dd>None</dd><dt><span>relative_error :</span></dt><dd>None</dd></dl></div></li></ul></div></div>"
      ],
      "text/plain": [
       ":: Survey ::\n",
       "\n",
       "<xarray.Dataset> Size: 2kB\n",
       "Dimensions:   (src: 3, rec: 21, freq: 1)\n",
       "Coordinates:\n",
       "  * src       (src) <U6 72B 'TxEP-1' 'TxEP-2' 'TxEP-3'\n",
       "  * rec       (rec) <U7 588B 'RxEP-01' 'RxEP-02' ... 'RxEP-20' 'RxEP-21'\n",
       "  * freq      (freq) <U3 12B 'f-1'\n",
       "Data variables:\n",
       "    observed  (src, rec, freq) complex128 1kB (nan+nanj) ... (nan+nanj)\n",
       "Attributes:\n",
       "    noise_floor:     None\n",
       "    relative_error:  None"
      ]
     },
     "execution_count": 5,
     "metadata": {},
     "output_type": "execute_result"
    }
   ],
   "source": [
    "rec_x = mesh.cell_centers_x[abs(mesh.cell_centers_x) < 2100]\n",
    "rec = emg3d.surveys.txrx_coordinates_to_dict(emg3d.RxElectricPoint, (rec_x, 0, seafloor+100, 0, 0))\n",
    "src = emg3d.surveys.txrx_coordinates_to_dict(emg3d.TxElectricPoint, (rec_x[::8], 0, seafloor+100, 0, 0))\n",
    "survey = emg3d.Survey(\n",
    "    sources=src,\n",
    "    receivers=rec,\n",
    "    frequencies=frequency,\n",
    ")\n",
    "survey"
   ]
  },
  {
   "cell_type": "code",
   "execution_count": 6,
   "metadata": {
    "iooxa": {
     "id": {
      "block": "G8wlDsnhmITmKyKj8thR",
      "project": "rzeiFG3sdIcsFLl4Infw",
      "version": 2
     },
     "outputId": {
      "block": "sEq6F6duyXOqwOlJWoji",
      "project": "rzeiFG3sdIcsFLl4Infw",
      "version": 1
     }
    }
   },
   "outputs": [
    {
     "data": {
      "text/plain": [
       "[<matplotlib.lines.Line2D at 0x77b71a9e0b90>]"
      ]
     },
     "execution_count": 6,
     "metadata": {},
     "output_type": "execute_result"
    },
    {
     "data": {
      "application/vnd.jupyter.widget-view+json": {
       "model_id": "612192721012475a99051f3716410826",
       "version_major": 2,
       "version_minor": 0
      },
      "image/png": "[encoded data removed]",
      "text/html": [
       "\n",
       "            <div style=\"display: inline-block;\">\n",
       "                <div class=\"jupyter-widgets widget-label\" style=\"text-align: center;\">\n",
       "                    Figure\n",
       "                </div>\n",
       "                <img src='data:image/png;base64,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' width=640.0/>\n",
       "            </div>\n",
       "        "
      ],
      "text/plain": [
       "Canvas(toolbar=Toolbar(toolitems=[('Home', 'Reset original view', 'home', 'home'), ('Back', 'Back to previous …"
      ]
     },
     "metadata": {},
     "output_type": "display_data"
    }
   ],
   "source": [
    "rec_coords = survey.receiver_coordinates()\n",
    "src_coords = survey.source_coordinates()\n",
    "# QC\n",
    "mesh.plot_slice(\n",
    "    1./sigma, grid=True, normal='Z', \n",
    "    ind=12,\n",
    "    pcolor_opts={'cmap':'Spectral_r', 'norm':LogNorm(vmin=1, vmax=100)}, \n",
    "    range_x=(-3000, 3000),\n",
    "    range_y=(-2000, 2000),\n",
    ")\n",
    "\n",
    "plt.plot(rec_coords[0], rec_coords[1], 'bv')\n",
    "plt.plot(src_coords[0], src_coords[1], 'r*')"
   ]
  },
  {
   "cell_type": "markdown",
   "metadata": {},
   "source": [
    "# WORK in PROGRESS - HERE\n",
    "\n",
    "- Create emg3d-Simulation\n",
    "- Create observed data\n",
    "- SimPEG wrapper\n",
    "- Run inversion, store in simulation"
   ]
  },
  {
   "cell_type": "markdown",
   "metadata": {
    "iooxa": {
     "id": {
      "block": "1GrAIBZawIZ5MXqmsRvg",
      "project": "rzeiFG3sdIcsFLl4Infw",
      "version": 2
     }
    }
   },
   "source": [
    "## Create SimPEG-Simulation"
   ]
  },
  {
   "cell_type": "code",
   "execution_count": null,
   "metadata": {
    "iooxa": {
     "id": {
      "block": "22cCYGtCrdlxFs8hyF7E",
      "project": "rzeiFG3sdIcsFLl4Infw",
      "version": 2
     },
     "outputId": null
    }
   },
   "outputs": [],
   "source": [
    "active_map = simpeg.maps.InjectActiveCells(mesh, inds_active, sigma[~inds_active])\n",
    "nP = int(inds_active.sum())\n",
    "conductivity_map = active_map * simpeg.maps.ExpMap(nP=nP)"
   ]
  },
  {
   "cell_type": "code",
   "execution_count": null,
   "metadata": {
    "iooxa": {
     "id": {
      "block": "HUMWYUlhNOw2HibcvTnw",
      "project": "rzeiFG3sdIcsFLl4Infw",
      "version": 2
     },
     "outputId": null
    },
    "scrolled": true
   },
   "outputs": [],
   "source": [
    "# Define the Simulation\n",
    "simulation = emg3d.inversion.simpeg.FDEMSimulation(\n",
    "        mesh,\n",
    "        survey=survey,\n",
    "        sigmaMap=conductivity_map,\n",
    "        verbose=False,\n",
    "#        simulation_opts={\n",
    "#            'solver_opts': {\n",
    "#                'maxit': 1,     # To speed up for testing\n",
    "#                'plain': True   # \" \"  (fails faster)\n",
    "#            },\n",
    "#            'verb': -1,         # To not raise convergence warnings\n",
    "#        },\n",
    ")\n",
    "\n",
    "# True and initial model\n",
    "m_true =  np.log(sigma[inds_active])\n",
    "m0 =  np.ones(m_true.shape) * np.log(1.)"
   ]
  },
  {
   "cell_type": "markdown",
   "metadata": {
    "iooxa": {
     "id": {
      "block": "fuW1uAeoVFpWngPrXvWp",
      "project": "rzeiFG3sdIcsFLl4Infw",
      "version": 1
     }
    }
   },
   "source": [
    "## QC emg3d-Survey created by SimPEG"
   ]
  },
  {
   "cell_type": "code",
   "execution_count": null,
   "metadata": {
    "iooxa": {
     "id": {
      "block": "HUMWYUlhNOw2HibcvTnw",
      "project": "rzeiFG3sdIcsFLl4Infw",
      "version": 3
     },
     "outputId": {
      "block": "FF3N7mB5gXADn1Gvfkg9",
      "project": "rzeiFG3sdIcsFLl4Infw",
      "version": 1
     }
    }
   },
   "outputs": [],
   "source": [
    "simulation.emg3d_survey"
   ]
  },
  {
   "cell_type": "markdown",
   "metadata": {
    "iooxa": {
     "id": {
      "block": "IrNPonLAogTLY1b46Hwb",
      "project": "rzeiFG3sdIcsFLl4Infw",
      "version": 1
     }
    }
   },
   "source": [
    "## => Currently, `f` returns a emg3d-simulation, and `dpred` an ndarray. This should change to SimPEG fields- and data-objects, I think"
   ]
  },
  {
   "cell_type": "code",
   "execution_count": null,
   "metadata": {
    "iooxa": {
     "id": {
      "block": "p7fXhwBDaDddXzh5dBku",
      "project": "rzeiFG3sdIcsFLl4Infw",
      "version": 1
     },
     "outputId": null
    }
   },
   "outputs": [],
   "source": [
    "f = simulation.fields(m_true)\n",
    "d_true = simulation.dpred(m_true, f=f)"
   ]
  },
  {
   "cell_type": "code",
   "execution_count": null,
   "metadata": {
    "iooxa": {
     "id": {
      "block": "Iju7kclum9WCR65iYRik",
      "project": "rzeiFG3sdIcsFLl4Infw",
      "version": 1
     },
     "outputId": null
    }
   },
   "outputs": [],
   "source": [
    "d_0 = simulation.dpred(m0)"
   ]
  },
  {
   "cell_type": "code",
   "execution_count": null,
   "metadata": {
    "iooxa": {
     "id": {
      "block": "IhmyuM0EHohu2WTQbrbV",
      "project": "rzeiFG3sdIcsFLl4Infw",
      "version": 2
     },
     "outputId": null
    }
   },
   "outputs": [],
   "source": [
    "relative_error = 0.01\n",
    "noise_floor = 1e-14\n",
    "standard_deviation = np.sqrt(abs(relative_error*d_true)**2 + (noise_floor)**2)"
   ]
  },
  {
   "cell_type": "code",
   "execution_count": null,
   "metadata": {
    "iooxa": {
     "id": {
      "block": "KkzXL6N5PnjMaOJ9eEfW",
      "project": "rzeiFG3sdIcsFLl4Infw",
      "version": 1
     },
     "outputId": null
    }
   },
   "outputs": [],
   "source": [
    "residual = (d_true - d_0)/standard_deviation"
   ]
  },
  {
   "cell_type": "markdown",
   "metadata": {
    "iooxa": {
     "id": {
      "block": "StqySpd8fzTKpXgeuQw5",
      "project": "rzeiFG3sdIcsFLl4Infw",
      "version": 1
     }
    }
   },
   "source": [
    "### Question @Seogi: Why are there less data per source than there are receivers?"
   ]
  },
  {
   "cell_type": "code",
   "execution_count": null,
   "metadata": {
    "iooxa": {
     "id": {
      "block": "qA8ZbT588Zl3QVrSzttf",
      "project": "rzeiFG3sdIcsFLl4Infw",
      "version": 3
     },
     "outputId": {
      "block": "O4OL13JxaqUl3qX3FHUH",
      "project": "rzeiFG3sdIcsFLl4Infw",
      "version": 3
     }
    }
   },
   "outputs": [],
   "source": [
    "fig, (ax1, ax2) = plt.subplots(1, 2, figsize=(10, 5))\n",
    "\n",
    "ax1.set_title('Responses (V/m)')\n",
    "ax1.semilogy(abs(d_true), 'o', label='true/observed')\n",
    "ax1.semilogy(abs(d_0), '.', label='initial model')\n",
    "ax1.legend()\n",
    "\n",
    "ax2.set_title('Weighted Residuals')\n",
    "nsrc = xyz_src.shape[0]\n",
    "nrec = len(rec_x)-4\n",
    "x = np.arange(len(residual))\n",
    "for s in range(nsrc):\n",
    "    ax2.semilogy(x[s*nrec:(s+1)*nrec], abs(residual[s*nrec:(s+1)*nrec]), '.')\n",
    "\n",
    "plt.show()"
   ]
  },
  {
   "cell_type": "code",
   "execution_count": null,
   "metadata": {
    "iooxa": {
     "id": {
      "block": "4SuTfqDL788FJt1UE13i",
      "project": "rzeiFG3sdIcsFLl4Infw",
      "version": 2
     },
     "outputId": null
    }
   },
   "outputs": [],
   "source": [
    "em_data = simpeg.data.ComplexData(survey, dobs=d_true, standard_deviation=standard_deviation)\n",
    "dmis = simpeg.data_misfit.L2DataMisfit(data=em_data, simulation=simulation)"
   ]
  },
  {
   "cell_type": "code",
   "execution_count": null,
   "metadata": {
    "iooxa": {
     "id": {
      "block": "7T3nOILivNM6D5uDyw2z",
      "project": "rzeiFG3sdIcsFLl4Infw",
      "version": 3
     },
     "outputId": null
    }
   },
   "outputs": [],
   "source": [
    "adjoint_tol = 1e-10\n",
    "def test_misfit():\n",
    "    passed = simpeg.tests.check_derivative(\n",
    "        lambda m: (simulation.dpred(m), lambda mx: simulation.Jvec(m0, mx, f=f)),\n",
    "        m0,\n",
    "        plotIt=False,\n",
    "        num=3,\n",
    "    )\n",
    "\n",
    "def test_adjoint():\n",
    "    # Adjoint Test\n",
    "    f = simulation.fields(m=m0)\n",
    "    # u = np.random.rand(.mesh.nC * .survey.nSrc)\n",
    "    v = np.random.rand(inds_active.sum())\n",
    "#     v = np.random.rand(mesh.nC)\n",
    "    w = np.random.rand(simulation.survey.nD)\n",
    "    wtJv = np.vdot(w, simulation.Jvec(m0, v, f=f)).real\n",
    "    vtJtw = np.vdot(v, simulation.Jtvec(m0, w, f=f))\n",
    "    passed = np.abs(wtJv - vtJtw) < adjoint_tol\n",
    "    print(\"Adjoint Test\", np.abs(wtJv - vtJtw), passed)\n",
    "    print(wtJv, vtJtw)\n",
    "    \n",
    "def test_dataObj():\n",
    "    passed = simpeg.tests.check_derivative(\n",
    "        lambda m: [dmis(m), dmis.deriv(m)], m0, plotIt=False, num=2\n",
    "    )    "
   ]
  },
  {
   "cell_type": "code",
   "execution_count": null,
   "metadata": {
    "iooxa": {
     "id": {
      "block": "PBuFIhzExObdPZ7IoxUU",
      "project": "rzeiFG3sdIcsFLl4Infw",
      "version": 4
     },
     "outputId": {
      "block": "dUztqzasgyGvf3F3wor6",
      "project": "rzeiFG3sdIcsFLl4Infw",
      "version": 3
     }
    }
   },
   "outputs": [],
   "source": [
    "test_dataObj()"
   ]
  },
  {
   "cell_type": "code",
   "execution_count": null,
   "metadata": {
    "iooxa": {
     "id": {
      "block": "6XZ5ttbEkSSJfQVV46i8",
      "project": "rzeiFG3sdIcsFLl4Infw",
      "version": 2
     },
     "outputId": {
      "block": "BAcvHwcxyLO3mUOMVHRU",
      "project": "rzeiFG3sdIcsFLl4Infw",
      "version": 1
     }
    }
   },
   "outputs": [],
   "source": [
    "test_misfit()"
   ]
  },
  {
   "cell_type": "code",
   "execution_count": null,
   "metadata": {
    "iooxa": {
     "id": {
      "block": "t0fbyqK4zNVIsHZTrVXv",
      "project": "rzeiFG3sdIcsFLl4Infw",
      "version": 4
     },
     "outputId": {
      "block": "73OVBfCEYL6ieThZWOdp",
      "project": "rzeiFG3sdIcsFLl4Infw",
      "version": 3
     }
    }
   },
   "outputs": [],
   "source": [
    "test_adjoint()"
   ]
  },
  {
   "cell_type": "code",
   "execution_count": null,
   "metadata": {
    "iooxa": {
     "id": {
      "block": "HtaQ8wJ2fhsD8bQ6asec",
      "project": "rzeiFG3sdIcsFLl4Infw",
      "version": 8
     },
     "outputId": {
      "block": "iLJUD1IpdCixWlTnMSdy",
      "project": "rzeiFG3sdIcsFLl4Infw",
      "version": 8
     }
    }
   },
   "outputs": [],
   "source": [
    "%%time\n",
    "\n",
    "# Define the regularization (model objective function)\n",
    "reg = simpeg.regularization.WeightedLeastSquares(\n",
    "    mesh,\n",
    "    active_cells=inds_active,\n",
    "    reference_model=m0,\n",
    "    alpha_s=1e-8,\n",
    "    alpha_x=1,\n",
    "    alpha_y=10,\n",
    "    alpha_z=1\n",
    ")\n",
    "\n",
    "nit = 20\n",
    "#nit = 2\n",
    "opt = simpeg.optimization.InexactGaussNewton(\n",
    "    maxIter=nit, maxIterLS=nit, maxIterCG=nit, tolCG=1e-3,\n",
    ")\n",
    "\n",
    "inv_prob = simpeg.inverse_problem.BaseInvProblem(dmis, reg, opt)\n",
    "starting_beta = simpeg.directives.BetaEstimate_ByEig(beta0_ratio=1)\n",
    "save = simpeg.directives.SaveOutputDictEveryIteration()\n",
    "\n",
    "beta_schedule = simpeg.directives.BetaSchedule(coolingFactor=2, coolingRate=1)\n",
    "target_misfit = simpeg.directives.TargetMisfit(chifact=1)\n",
    "\n",
    "directives_list = [\n",
    "    starting_beta,\n",
    "    beta_schedule,\n",
    "    target_misfit,\n",
    "    save\n",
    "]\n",
    "em_inversion = simpeg.inversion.BaseInversion(inv_prob, directiveList=directives_list)\n",
    "\n",
    "# Run inversion\n",
    "recovered_conductivity_model = em_inversion.run(m0)"
   ]
  },
  {
   "cell_type": "code",
   "execution_count": null,
   "metadata": {
    "iooxa": {
     "id": {
      "block": "vHAGtnOvqh3p1m9DohHe",
      "project": "rzeiFG3sdIcsFLl4Infw",
      "version": 5
     },
     "outputId": {
      "block": "rcas5hNb2oZV3k63U0wJ",
      "project": "rzeiFG3sdIcsFLl4Infw",
      "version": 5
     }
    }
   },
   "outputs": [],
   "source": [
    "target_misfit.target"
   ]
  },
  {
   "cell_type": "code",
   "execution_count": null,
   "metadata": {
    "iooxa": {
     "id": {
      "block": "HnQHpPqUPy6hzjZiVMQE",
      "project": "rzeiFG3sdIcsFLl4Infw",
      "version": 7
     },
     "outputId": {
      "block": "5zwl94pFeTEEv5X0O0Tg",
      "project": "rzeiFG3sdIcsFLl4Infw",
      "version": 6
     }
    }
   },
   "outputs": [],
   "source": [
    "plt.figure(figsize=(10, 4))\n",
    "iteration = len(save.outDict.keys())\n",
    "plt.semilogy(abs(em_data.dobs), 'o', label='Observed')\n",
    "plt.semilogy(abs(save.outDict[iteration]['dpred']), '.', label='Predicted')\n",
    "plt.legend()"
   ]
  },
  {
   "cell_type": "code",
   "execution_count": null,
   "metadata": {
    "iooxa": {
     "id": {
      "block": "LvfXhn7QRkEj7i5gllts",
      "project": "rzeiFG3sdIcsFLl4Infw",
      "version": 7
     },
     "outputId": {
      "block": "S6bzrt7WOqz93fwip1nC",
      "project": "rzeiFG3sdIcsFLl4Infw",
      "version": 7
     }
    }
   },
   "outputs": [],
   "source": [
    "fig, axs = plt.subplots(1,2, figsize=(8, 4))\n",
    "\n",
    "sigm_est = conductivity_map * save.outDict[iteration]['m']\n",
    "sigmas = [sigm_est, sigma]\n",
    "titles = [\"Estimated\", \"True\"]\n",
    "for ii, ax in enumerate(axs):\n",
    "    out = mesh.plot_slice(\n",
    "        1./sigmas[ii], grid=False, normal='Y', \n",
    "        pcolor_opts={'cmap':'Spectral_r', 'norm':LogNorm(vmin=0.33, vmax=100)}, \n",
    "        ax=ax,\n",
    "    )\n",
    "    ax.set_aspect(1)\n",
    "    ax.set_ylim(-4000, 0)\n",
    "    ax.set_xlim(-2000, 2000)\n",
    "    if ii == 1:\n",
    "        ax.set_yticks([])\n",
    "    ax.set_title(titles[ii])\n",
    "    cb = plt.colorbar(out[0], ax=ax, fraction=0.03, orientation='horizontal')\n",
    "    cb.set_label(\"Resistivity (Ω m)\")"
   ]
  },
  {
   "cell_type": "code",
   "execution_count": 7,
   "metadata": {
    "iooxa": {
     "id": {
      "block": "URVsZCok60iEBhN5ptdF",
      "project": "rzeiFG3sdIcsFLl4Infw",
      "version": 1
     },
     "outputId": null
    },
    "scrolled": true
   },
   "outputs": [
    {
     "data": {
      "text/html": [
       "<table style='border: 1.5px solid;'>\n",
       "  <tr>\n",
       "     <td style='text-align: center; font-weight: bold; font-size: 1.2em; border: 1px solid;' colspan='6'>Thu Aug 15 14:53:50 2024 CEST</td>\n",
       "  </tr>\n",
       "  <tr>\n",
       "    <td style='text-align: right; border: 1px solid;'>OS</td>\n",
       "    <td style='text-align: left; border: 1px solid;'>Linux (Ubuntu 22.04)</td>\n",
       "    <td style='text-align: right; border: 1px solid;'>CPU(s)</td>\n",
       "    <td style='text-align: left; border: 1px solid;'>16</td>\n",
       "    <td style='text-align: right; border: 1px solid;'>Machine</td>\n",
       "    <td style='text-align: left; border: 1px solid;'>x86_64</td>\n",
       "  </tr>\n",
       "  <tr>\n",
       "    <td style='text-align: right; border: 1px solid;'>Architecture</td>\n",
       "    <td style='text-align: left; border: 1px solid;'>64bit</td>\n",
       "    <td style='text-align: right; border: 1px solid;'>RAM</td>\n",
       "    <td style='text-align: left; border: 1px solid;'>31.0 GiB</td>\n",
       "    <td style='text-align: right; border: 1px solid;'>Environment</td>\n",
       "    <td style='text-align: left; border: 1px solid;'>Jupyter</td>\n",
       "  </tr>\n",
       "  <tr>\n",
       "    <td style='text-align: right; border: 1px solid;'>File system</td>\n",
       "    <td style='text-align: left; border: 1px solid;'>ext4</td>\n",
       "  </tr>\n",
       "  <tr>\n",
       "     <td style='text-align: center; border: 1px solid;' colspan='6'>Python 3.12.5 | packaged by conda-forge | (main, Aug  8 2024, 18:36:51) [GCC 12.4.0]</td>\n",
       "  </tr>\n",
       "  <tr>\n",
       "    <td style='text-align: right; border: 1px solid;'>numpy</td>\n",
       "    <td style='text-align: left; border: 1px solid;'>1.26.4</td>\n",
       "    <td style='text-align: right; border: 1px solid;'>scipy</td>\n",
       "    <td style='text-align: left; border: 1px solid;'>1.14.0</td>\n",
       "    <td style='text-align: right; border: 1px solid;'>numba</td>\n",
       "    <td style='text-align: left; border: 1px solid;'>0.60.0</td>\n",
       "  </tr>\n",
       "  <tr>\n",
       "    <td style='text-align: right; border: 1px solid;'>emg3d</td>\n",
       "    <td style='text-align: left; border: 1px solid;'>1.8.4.dev20+ge383ae1.d20240809</td>\n",
       "    <td style='text-align: right; border: 1px solid;'>empymod</td>\n",
       "    <td style='text-align: left; border: 1px solid;'>2.3.1</td>\n",
       "    <td style='text-align: right; border: 1px solid;'>xarray</td>\n",
       "    <td style='text-align: left; border: 1px solid;'>2024.7.0</td>\n",
       "  </tr>\n",
       "  <tr>\n",
       "    <td style='text-align: right; border: 1px solid;'>discretize</td>\n",
       "    <td style='text-align: left; border: 1px solid;'>0.10.0</td>\n",
       "    <td style='text-align: right; border: 1px solid;'>h5py</td>\n",
       "    <td style='text-align: left; border: 1px solid;'>3.11.0</td>\n",
       "    <td style='text-align: right; border: 1px solid;'>matplotlib</td>\n",
       "    <td style='text-align: left; border: 1px solid;'>3.9.1</td>\n",
       "  </tr>\n",
       "  <tr>\n",
       "    <td style='text-align: right; border: 1px solid;'>tqdm</td>\n",
       "    <td style='text-align: left; border: 1px solid;'>4.66.5</td>\n",
       "    <td style='text-align: right; border: 1px solid;'>IPython</td>\n",
       "    <td style='text-align: left; border: 1px solid;'>8.26.0</td>\n",
       "    <td style= border: 1px solid;'></td>\n",
       "    <td style= border: 1px solid;'></td>\n",
       "  </tr>\n",
       "</table>"
      ],
      "text/plain": [
       "\n",
       "--------------------------------------------------------------------------------\n",
       "  Date: Thu Aug 15 14:53:50 2024 CEST\n",
       "\n",
       "                OS : Linux (Ubuntu 22.04)\n",
       "            CPU(s) : 16\n",
       "           Machine : x86_64\n",
       "      Architecture : 64bit\n",
       "               RAM : 31.0 GiB\n",
       "       Environment : Jupyter\n",
       "       File system : ext4\n",
       "\n",
       "  Python 3.12.5 | packaged by conda-forge | (main, Aug  8 2024, 18:36:51) [GCC\n",
       "  12.4.0]\n",
       "\n",
       "             numpy : 1.26.4\n",
       "             scipy : 1.14.0\n",
       "             numba : 0.60.0\n",
       "             emg3d : 1.8.4.dev20+ge383ae1.d20240809\n",
       "           empymod : 2.3.1\n",
       "            xarray : 2024.7.0\n",
       "        discretize : 0.10.0\n",
       "              h5py : 3.11.0\n",
       "        matplotlib : 3.9.1\n",
       "              tqdm : 4.66.5\n",
       "           IPython : 8.26.0\n",
       "--------------------------------------------------------------------------------"
      ]
     },
     "execution_count": 7,
     "metadata": {},
     "output_type": "execute_result"
    }
   ],
   "source": [
    "emg3d.Report()"
   ]
  }
 ],
 "metadata": {
  "iooxa": {
   "id": {
    "block": "got9zIutSejuS7qrPobN",
    "project": "rzeiFG3sdIcsFLl4Infw",
    "version": 1
   }
  },
  "kernelspec": {
   "display_name": "simpeg-emg3d",
   "language": "python",
   "name": "simpeg-emg3d"
  },
  "language_info": {
   "codemirror_mode": {
    "name": "ipython",
    "version": 3
   },
   "file_extension": ".py",
   "mimetype": "text/x-python",
   "name": "python",
   "nbconvert_exporter": "python",
   "pygments_lexer": "ipython3",
   "version": "3.12.5"
  }
 },
 "nbformat": 4,
 "nbformat_minor": 4
}
