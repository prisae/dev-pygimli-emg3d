{
 "cells": [
  {
   "cell_type": "code",
   "execution_count": null,
   "id": "568756fc-5e80-4c72-a13b-1bd9e0838fa0",
   "metadata": {},
   "outputs": [],
   "source": [
    "import os\n",
    "import pooch\n",
    "import emg3d\n",
    "import numpy as np\n",
    "import matplotlib.pyplot as plt\n",
    "from matplotlib.colors import LogNorm, SymLogNorm\n",
    "\n",
    "# Adjust this path to a folder of your choice.\n",
    "data_path = os.path.join('..', 'download', '')"
   ]
  },
  {
   "cell_type": "code",
   "execution_count": null,
   "id": "bec9b86b-231f-4014-be54-9f75c364bf6d",
   "metadata": {},
   "outputs": [],
   "source": [
    "%matplotlib ipympl"
   ]
  },
  {
   "cell_type": "code",
   "execution_count": null,
   "id": "3adffdbc-cd09-4263-aaf3-3caca94a9499",
   "metadata": {},
   "outputs": [],
   "source": [
    "isurvey = (\n",
    "    'GemPy-II-survey-A.h5',\n",
    "    '5f2ed0b959a4f80f5378a071e6f729c6b7446898be7689ddc9bbd100a8f5bce7',\n",
    "    'surveys',\n",
    ")\n",
    "imodel = (\n",
    "    'GemPy-II.h5',\n",
    "    'ea8c23be80522d3ca8f36742c93758370df89188816f50cb4e1b2a6a3012d659',\n",
    "    'models',\n",
    ")\n",
    "\n",
    "# Download model and survey.\n",
    "for data in [isurvey, imodel]:\n",
    "    pooch.retrieve(\n",
    "        'https://raw.github.com/emsig/data/2021-05-21/emg3d/'+data[2]+'/'+data[0],\n",
    "        data[1], fname=data[0], path=data_path,\n",
    "    )\n",
    "\n",
    "# Load them.\n",
    "survey = emg3d.load(os.path.join(data_path, isurvey[0]))['survey']\n",
    "true_model = emg3d.load(os.path.join(data_path, imodel[0]))['model']\n",
    "grid = true_model.grid"
   ]
  },
  {
   "cell_type": "code",
   "execution_count": null,
   "id": "6588cdc5-c240-4405-be4c-44cd1b0e8f90",
   "metadata": {},
   "outputs": [],
   "source": [
    "# Overwrite all subsurface resistivity values with 1.0\n",
    "model = true_model.copy()\n",
    "res = model.property_x\n",
    "#subsurface = (res > 0.5) & (res < 1000)\n",
    "#res[subsurface] = 1.0\n",
    "model.property_x = res\n",
    "\n",
    "# QC the initial model and the survey.\n",
    "popts = {'norm': LogNorm(vmin=0.3, vmax=200)}\n",
    "grid.plot_3d_slicer(\n",
    "    model.property_x, xslice=12000, yslice=7500, pcolor_opts=popts,\n",
    ")\n",
    "\n",
    "# Plot survey in figure above\n",
    "#fig = plt.gcf()\n",
    "#fig.suptitle('Initial resistivity model (Ohm.m)')\n",
    "#axs = fig.get_children()\n",
    "#rec_coords = survey.receiver_coordinates()\n",
    "#src_coords = survey.source_coordinates()\n",
    "#axs[1].plot(rec_coords[0], rec_coords[1], 'bv')\n",
    "#axs[2].plot(rec_coords[0], rec_coords[2], 'bv')\n",
    "#axs[3].plot(rec_coords[2], rec_coords[1], 'bv')\n",
    "#axs[1].plot(src_coords[0], src_coords[1], 'r*')\n",
    "#axs[2].plot(src_coords[0], src_coords[2], 'r*')\n",
    "#axs[3].plot(src_coords[2], src_coords[1], 'r*')\n",
    "#plt.show()\n"
   ]
  },
  {
   "cell_type": "code",
   "execution_count": null,
   "id": "f195dc67-a252-4159-b04f-506e065546bf",
   "metadata": {},
   "outputs": [],
   "source": []
  }
 ],
 "metadata": {
  "kernelspec": {
   "display_name": "pg-emg3d",
   "language": "python",
   "name": "pg-emg3d"
  },
  "language_info": {
   "codemirror_mode": {
    "name": "ipython",
    "version": 3
   },
   "file_extension": ".py",
   "mimetype": "text/x-python",
   "name": "python",
   "nbconvert_exporter": "python",
   "pygments_lexer": "ipython3",
   "version": "3.9.19"
  }
 },
 "nbformat": 4,
 "nbformat_minor": 5
}
