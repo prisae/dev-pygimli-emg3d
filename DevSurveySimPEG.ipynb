{
 "cells": [
  {
   "cell_type": "code",
   "execution_count": 1,
   "id": "0735cf0c-0248-45ad-a1ec-efd4e79ccbfc",
   "metadata": {},
   "outputs": [],
   "source": [
    "import pytest\n",
    "import numpy as np\n",
    "from numpy.testing import assert_allclose\n",
    "\n",
    "import simpeg.electromagnetics.frequency_domain as fdem\n",
    "import emg3d"
   ]
  },
  {
   "cell_type": "code",
   "execution_count": 2,
   "id": "1860e194-7c3f-4f73-b353-1e3e4b98647e",
   "metadata": {},
   "outputs": [],
   "source": [
    "## Receivers\n",
    "\n",
    "# recset1 and recset2 have one overlapping receiver\n",
    "# This means that they CANNOT be used with the same source (duplicate\n",
    "# receivers)\n",
    "recset1 = np.array([np.arange(2), np.zeros(2), np.zeros(2)]).T\n",
    "recset2 = np.array([np.arange(3)+1, np.zeros(3), np.zeros(3)]).T\n",
    "\n",
    "recset3 = np.array([30, 30, 30]).T\n",
    "\n",
    "rx_ex1 = fdem.receivers.PointElectricField(\n",
    "        locations=recset1, component='complex', orientation='x')\n",
    "rx_ex2 = fdem.receivers.PointElectricField(\n",
    "        locations=recset2, component='complex', orientation='x')\n",
    "rx_ey1 = fdem.receivers.PointElectricField(\n",
    "        locations=recset1, component='complex', orientation='y')\n",
    "rx_hy1 = fdem.receivers.PointMagneticField(\n",
    "        locations=recset1, component='complex', orientation='x')\n",
    "\n",
    "rx_hx3 = fdem.receivers.PointMagneticField(\n",
    "        locations=recset3, component='complex', orientation='x')\n",
    "\n",
    "## Sources\n",
    "wire_src_loc = ([-100, -100, 0], [-100, 100, 0])\n",
    "\n",
    "# 1b == 1a, to test that the conversion works even so\n",
    "pts_src_loc1a = (-10, -5, 7)\n",
    "pts_src_loc1b = (-10, -5, 7)\n",
    "\n",
    "pts_src_loc2 = (-20, -20, -20)\n",
    "\n",
    "src_list = []\n",
    "\n",
    "# pts_src_loc1a for two freqs\n",
    "for frequency in [1., 2.]:\n",
    "    src_list.append(fdem.sources.LineCurrent(\n",
    "        location=pts_src_loc1a, azimuth=90, elevation=0,\n",
    "        receiver_list=[rx_ex1, rx_ey1, rx_hy1], frequency=frequency))\n",
    "\n",
    "# Another source with the rx_ex2\n",
    "src_list.append(fdem.sources.ElectricDipole(\n",
    "    location=pts_src_loc2, azimuth=0, elevation=0,\n",
    "    receiver_list=[rx_ex2], frequency=2.))\n",
    "\n",
    "# 1 extra freq, for only one receiver, wire source\n",
    "src_list.append(fdem.sources.LineCurrent(\n",
    "        location=wire_src_loc, receiver_list=[rx_hx3, ],\n",
    "        frequency=20.))\n",
    "\n",
    "# pts source for the same frequency\n",
    "src_list.append(fdem.sources.ElectricDipole(\n",
    "    location=pts_src_loc1b, azimuth=90, elevation=0,\n",
    "        receiver_list=[rx_ex2], frequency=20.))\n",
    "\n",
    "## SimPEG survey and conversion  [test on its own]\n",
    "simpeg_survey = fdem.Survey(src_list)\n",
    "emg3d_survey, data_map = emg3d.inversion.simpeg.survey_to_emg3d(simpeg_survey)"
   ]
  },
  {
   "cell_type": "code",
   "execution_count": 3,
   "id": "3bcf3833-a820-4cff-a6b3-2804f99ae2f0",
   "metadata": {},
   "outputs": [],
   "source": [
    "data = np.random.randint(100, 999, simpeg_survey.nD)\n",
    "\n",
    "# Create map\n",
    "emg3d_data = np.full(emg3d_survey.shape, np.nan)\n",
    "\n",
    "# Forward map\n",
    "emg3d_data[data_map] = data\n",
    "\n",
    "# Map back\n",
    "edata = emg3d_data[data_map]\n",
    "\n",
    "# Check\n",
    "assert_allclose(data, edata)"
   ]
  },
  {
   "cell_type": "code",
   "execution_count": 4,
   "id": "bdfc7fc1-d8b3-483d-90ed-725bfa3b4174",
   "metadata": {},
   "outputs": [],
   "source": [
    "# Should fail because of duplicate source\n",
    "new_simpeg_survey = fdem.Survey([\n",
    "    fdem.sources.ElectricDipole(\n",
    "        location=pts_src_loc2, azimuth=0, elevation=0,\n",
    "        receiver_list=[rx_ex2, rx_ex1], frequency=2.)\n",
    "])\n",
    "with pytest.raises(ValueError, match=\"Duplicate source-receiver-freq\"):\n",
    "    emg3d.inversion.simpeg.survey_to_emg3d(new_simpeg_survey)"
   ]
  },
  {
   "cell_type": "code",
   "execution_count": null,
   "id": "5a8f2b0e-c9e1-4f19-8cea-78364b42670a",
   "metadata": {},
   "outputs": [],
   "source": []
  }
 ],
 "metadata": {
  "kernelspec": {
   "display_name": "simpeg-emg3d",
   "language": "python",
   "name": "simpeg-emg3d"
  },
  "language_info": {
   "codemirror_mode": {
    "name": "ipython",
    "version": 3
   },
   "file_extension": ".py",
   "mimetype": "text/x-python",
   "name": "python",
   "nbconvert_exporter": "python",
   "pygments_lexer": "ipython3",
   "version": "3.12.5"
  }
 },
 "nbformat": 4,
 "nbformat_minor": 5
}
