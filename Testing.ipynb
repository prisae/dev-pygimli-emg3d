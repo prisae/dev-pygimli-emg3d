{
 "cells": [
  {
   "cell_type": "code",
   "execution_count": 1,
   "id": "b9e884b3",
   "metadata": {},
   "outputs": [],
   "source": [
    "import numpy as np\n",
    "import emg3d\n",
    "import pygimli as pg\n",
    "from emg3d.inversion.pygimli import Kernel, Inversion"
   ]
  },
  {
   "cell_type": "code",
   "execution_count": 2,
   "id": "d62193e6-18e3-4a2c-b01b-8c7fe46cb380",
   "metadata": {},
   "outputs": [],
   "source": [
    "grid = emg3d.TensorMesh([[1, 1], [1, 1], [1, 1, 1]])\n",
    "model = emg3d.Model(grid, np.arange(1, grid.n_cells+1)*100, mapping='Conductivity')\n",
    "survey = emg3d.Survey(emg3d.TxElectricPoint((1, 1, 1, 1, 1)), emg3d.RxElectricPoint((3, 3, 3, 3, 3)), 1)\n",
    "sim = emg3d.Simulation(survey=survey, model=model)"
   ]
  },
  {
   "cell_type": "code",
   "execution_count": 3,
   "id": "21d77088-e67d-41cb-88b8-a40f35132239",
   "metadata": {},
   "outputs": [],
   "source": [
    "markers = np.zeros(model.shape, order='F', dtype=int)\n",
    "markers[::2, :, :] = 1\n",
    "markers[:, ::2, :] = 2\n",
    "markers[:-1, :, ::2] = 3"
   ]
  },
  {
   "cell_type": "code",
   "execution_count": 4,
   "id": "b5e77f8c-891e-4f82-9feb-72ba1ff76919",
   "metadata": {},
   "outputs": [],
   "source": [
    "fop = Kernel(simulation=sim, markers=markers)\n",
    "INV = Inversion(fop=fop)\n",
    "\n",
    "INV.fop.setRegionProperties(2, background=True)\n",
    "INV.fop.setRegionProperties(3, limits=(20, 30), startModel=25.0)\n",
    "INV.fop.setRegionProperties(1, single=True, limits=(100, 200), startModel=150)\n",
    "INV.fop.setRegionProperties(0, fix=True, startModel=999)"
   ]
  },
  {
   "cell_type": "code",
   "execution_count": 5,
   "id": "e1feb8d8-e03d-41bf-8c96-72229bc8c877",
   "metadata": {},
   "outputs": [
    {
     "data": {
      "text/plain": [
       "array([ 100.,  500.,  900.,  300.,  700., 1100.,  200.,  600., 1000.,\n",
       "        400.,  800., 1200.])"
      ]
     },
     "execution_count": 5,
     "metadata": {},
     "output_type": "execute_result"
    }
   ],
   "source": [
    "model.property_x.ravel()"
   ]
  },
  {
   "cell_type": "code",
   "execution_count": 6,
   "id": "89bc4cbc-5edd-4b50-ab92-3a6c5491b111",
   "metadata": {},
   "outputs": [
    {
     "data": {
      "text/plain": [
       "array([3, 2, 3, 0, 2, 2, 1, 0, 3, 2, 3, 0])"
      ]
     },
     "execution_count": 6,
     "metadata": {},
     "output_type": "execute_result"
    }
   ],
   "source": [
    "markers.ravel('F')"
   ]
  },
  {
   "cell_type": "code",
   "execution_count": 7,
   "id": "e3c2afa4-fe30-480b-9c68-ee0dd79de8b4",
   "metadata": {},
   "outputs": [
    {
     "data": {
      "text/plain": [
       "12 [8, 4, 9, 0, 5, 6, 3, 1, 10, 7, 11, 2]"
      ]
     },
     "execution_count": 7,
     "metadata": {},
     "output_type": "execute_result"
    }
   ],
   "source": [
    "fop.mesh().cellMarkers()"
   ]
  },
  {
   "cell_type": "code",
   "execution_count": 8,
   "id": "d3780c75-7c5b-4e8b-9415-3b75e21e7f75",
   "metadata": {},
   "outputs": [
    {
     "data": {
      "text/plain": [
       "array([ 700.,  100.,  300.,  900., 1100.])"
      ]
     },
     "execution_count": 8,
     "metadata": {},
     "output_type": "execute_result"
    }
   ],
   "source": [
    "gmodel = fop.model2gimli(model.property_x)\n",
    "gmodel"
   ]
  },
  {
   "cell_type": "code",
   "execution_count": 9,
   "id": "cdac189b-a261-428f-ba41-4064cde5f420",
   "metadata": {},
   "outputs": [
    {
     "data": {
      "text/plain": [
       "array([[[ 100.,  500.,  900.],\n",
       "        [ 300.,  700., 1100.]],\n",
       "\n",
       "       [[ 200.,  600., 1000.],\n",
       "        [ 999.,  999.,  999.]]])"
      ]
     },
     "execution_count": 9,
     "metadata": {},
     "output_type": "execute_result"
    }
   ],
   "source": [
    "fop.model2emg3d(gmodel)"
   ]
  },
  {
   "cell_type": "raw",
   "id": "2f0c044d-e2c3-46e1-81e8-c1af03df0b10",
   "metadata": {},
   "source": [
    "array([ 700.,  100.,  300.,  900., 1100.])"
   ]
  },
  {
   "cell_type": "raw",
   "id": "7f86343d-e26a-4c9e-8b9a-e01b9fbdcb4c",
   "metadata": {},
   "source": [
    "array([[[ 100.,  500.,  900.],\n",
    "        [ 300.,  700., 1100.]],\n",
    "\n",
    "       [[ 200.,  600., 1000.],\n",
    "        [ 999.,  999.,  999.]]])"
   ]
  },
  {
   "cell_type": "code",
   "execution_count": null,
   "id": "89e254db-08d7-4518-a609-94f4c6d3ab93",
   "metadata": {},
   "outputs": [],
   "source": []
  }
 ],
 "metadata": {
  "hide_input": false,
  "kernelspec": {
   "display_name": "pg-emg3d",
   "language": "python",
   "name": "pg-emg3d"
  },
  "language_info": {
   "codemirror_mode": {
    "name": "ipython",
    "version": 3
   },
   "file_extension": ".py",
   "mimetype": "text/x-python",
   "name": "python",
   "nbconvert_exporter": "python",
   "pygments_lexer": "ipython3",
   "version": "3.11.9"
  },
  "toc": {
   "base_numbering": 1,
   "nav_menu": {},
   "number_sections": false,
   "sideBar": true,
   "skip_h1_title": false,
   "title_cell": "Table of Contents",
   "title_sidebar": "Contents",
   "toc_cell": false,
   "toc_position": {},
   "toc_section_display": true,
   "toc_window_display": false
  },
  "varInspector": {
   "cols": {
    "lenName": 16,
    "lenType": 16,
    "lenVar": 40
   },
   "kernels_config": {
    "python": {
     "delete_cmd_postfix": "",
     "delete_cmd_prefix": "del ",
     "library": "var_list.py",
     "varRefreshCmd": "print(var_dic_list())"
    },
    "r": {
     "delete_cmd_postfix": ") ",
     "delete_cmd_prefix": "rm(",
     "library": "var_list.r",
     "varRefreshCmd": "cat(var_dic_list()) "
    }
   },
   "position": {
    "height": "446.849px",
    "left": "931px",
    "right": "20px",
    "top": "120px",
    "width": "329px"
   },
   "types_to_exclude": [
    "module",
    "function",
    "builtin_function_or_method",
    "instance",
    "_Feature"
   ],
   "window_display": false
  }
 },
 "nbformat": 4,
 "nbformat_minor": 5
}
