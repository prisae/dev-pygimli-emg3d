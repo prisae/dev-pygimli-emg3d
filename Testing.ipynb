{
 "cells": [
  {
   "cell_type": "code",
   "execution_count": 1,
   "id": "b9e884b3",
   "metadata": {},
   "outputs": [],
   "source": [
    "import numpy as np\n",
    "import emg3d\n",
    "import pygimli as pg\n",
    "from emg3d.inversion.pygimli import Kernel, Inversion"
   ]
  },
  {
   "cell_type": "code",
   "execution_count": 2,
   "id": "943ec6d3-76b4-475f-ae8b-4304abbb11b6",
   "metadata": {},
   "outputs": [],
   "source": [
    "survey = emg3d.Survey(emg3d.TxElectricPoint((1, 1, 1, 1, 1)), emg3d.RxElectricPoint((3, 3, 3, 3, 3)), 1)\n",
    "grid = emg3d.TensorMesh([[1, 2, 3, 4], [2.5, 3.5], [1.1, 2.2, 3.3]])\n",
    "model = emg3d.Model(grid, np.arange(1, grid.n_cells+1)*100, mapping='Conductivity')\n",
    "sim = emg3d.Simulation(survey=survey, model=model)"
   ]
  },
  {
   "cell_type": "code",
   "execution_count": 26,
   "id": "21d77088-e67d-41cb-88b8-a40f35132239",
   "metadata": {},
   "outputs": [],
   "source": [
    "markers = np.zeros(model.shape, order='F', dtype=int)\n",
    "markers[::2, :, :] = 1\n",
    "#markers[:, ::2, :] = 2\n",
    "#markers[:, :, ::2] = 3\n",
    "markers[0, 0, 0] = 2"
   ]
  },
  {
   "cell_type": "code",
   "execution_count": 27,
   "id": "b5e77f8c-891e-4f82-9feb-72ba1ff76919",
   "metadata": {},
   "outputs": [],
   "source": [
    "fop = Kernel(simulation=sim, markers=markers)\n",
    "INV = Inversion(fop=fop)\n",
    "\n",
    "#INV.fop.setRegionProperties(0, background=True)\n",
    "INV.fop.setRegionProperties(0, limits=(20, 30), startModel=25.0)\n",
    "INV.fop.setRegionProperties(1, limits=(20, 30), startModel=25.0)\n",
    "#INV.fop.setRegionProperties(0, single=True, limits=(100, 200), startModel=150)\n",
    "INV.fop.setRegionProperties(2, fix=True, startModel=300)"
   ]
  },
  {
   "cell_type": "code",
   "execution_count": 28,
   "id": "9d75931a-6b7c-4c29-be73-88b220e93e64",
   "metadata": {},
   "outputs": [
    {
     "data": {
      "text/plain": [
       "(array([[[ 100.,  900., 1700.],\n",
       "         [ 500., 1300., 2100.]],\n",
       " \n",
       "        [[ 200., 1000., 1800.],\n",
       "         [ 600., 1400., 2200.]],\n",
       " \n",
       "        [[ 300., 1100., 1900.],\n",
       "         [ 700., 1500., 2300.]],\n",
       " \n",
       "        [[ 400., 1200., 2000.],\n",
       "         [ 800., 1600., 2400.]]]),\n",
       " array([[[2, 1, 1],\n",
       "         [1, 1, 1]],\n",
       " \n",
       "        [[0, 0, 0],\n",
       "         [0, 0, 0]],\n",
       " \n",
       "        [[1, 1, 1],\n",
       "         [1, 1, 1]],\n",
       " \n",
       "        [[0, 0, 0],\n",
       "         [0, 0, 0]]]))"
      ]
     },
     "execution_count": 28,
     "metadata": {},
     "output_type": "execute_result"
    }
   ],
   "source": [
    "model.property_x, markers"
   ]
  },
  {
   "cell_type": "code",
   "execution_count": 29,
   "id": "bb1956a2-11e9-4d2e-ac75-04289d7b1ad6",
   "metadata": {},
   "outputs": [
    {
     "name": "stderr",
     "output_type": "stream",
     "text": [
      "09/07/24 - 09:27:03 - pyGIMLi - \u001b[0;32;49mINFO\u001b[0m - [False  True False  True False  True False  True False  True False  True\n",
      " False  True False  True False  True False  True False  True False  True]\n",
      "09/07/24 - 09:27:03 - pyGIMLi - \u001b[0;32;49mINFO\u001b[0m - [ True False  True False  True False  True False False  True False  True\n",
      "  True False  True False False  True False  True False  True False  True]\n",
      "09/07/24 - 09:27:03 - pyGIMLi - \u001b[0;32;49mINFO\u001b[0m - [ 100.  200.  300.  400.  500.  600.  700.  800.  900. 1000. 1100. 1200.\n",
      " 1300. 1400. 1500. 1600. 1700. 1800. 1900. 2000. 2100. 2200. 2300. 2400.]\n",
      "09/07/24 - 09:27:03 - pyGIMLi - \u001b[0;32;49mINFO\u001b[0m - [False False  True False  True False  True False  True False  True False\n",
      "  True False  True False  True False  True False  True False  True False]\n",
      "09/07/24 - 09:27:03 - pyGIMLi - \u001b[0;32;49mINFO\u001b[0m - [False  True False  True False  True False  True False False  True False\n",
      " False  True False  True  True False  True False  True False  True False]\n",
      "09/07/24 - 09:27:03 - pyGIMLi - \u001b[0;32;49mINFO\u001b[0m - [ 100.  200.  300.  400.  500.  600.  700.  800.  900. 1000. 1100. 1200.\n",
      " 1300. 1400. 1500. 1600. 1700. 1800. 1900. 2000. 2100. 2200. 2300. 2400.]\n",
      "09/07/24 - 09:27:03 - pyGIMLi - \u001b[0;32;49mINFO\u001b[0m - [ True False False False False False False False False False False False\n",
      " False False False False False False False False False False False False]\n",
      "09/07/24 - 09:27:03 - pyGIMLi - \u001b[0;32;49mINFO\u001b[0m - [False False False False False False False False  True False False False\n",
      " False False False False False False False False False False False False]\n",
      "09/07/24 - 09:27:03 - pyGIMLi - \u001b[0;32;49mINFO\u001b[0m - [ 100.  200.  300.  400.  500.  600.  700.  800.  900. 1000. 1100. 1200.\n",
      " 1300. 1400. 1500. 1600. 1700. 1800. 1900. 2000. 2100. 2200. 2300. 2400.]\n"
     ]
    },
    {
     "data": {
      "text/plain": [
       "array([[[ 100.,  300., 2000.],\n",
       "        [ 300.,  700., 2200.]],\n",
       "\n",
       "       [[1300.,  500.,  900.],\n",
       "        [1500., 1800., 1100.]],\n",
       "\n",
       "       [[ 200., 1700., 2100.],\n",
       "        [ 400.,  800., 2300.]],\n",
       "\n",
       "       [[1400.,  600., 1000.],\n",
       "        [1600., 1900., 1200.]]])"
      ]
     },
     "execution_count": 29,
     "metadata": {},
     "output_type": "execute_result"
    }
   ],
   "source": [
    "fop.model2emg3d(model.property_x.ravel('F')) #np.arange(1, model.size+1))#np.array([1, 1, 1, 1, 1, 1, 1.]))"
   ]
  },
  {
   "cell_type": "code",
   "execution_count": 7,
   "id": "0e96d79d-e6e9-412c-91bd-9de7a9c8d300",
   "metadata": {},
   "outputs": [],
   "source": [
    "#fop.model2gimli(np.ones(model.shape))"
   ]
  },
  {
   "cell_type": "code",
   "execution_count": null,
   "id": "49b67d81-ba59-4dfa-9fb0-f5bbe295ab7a",
   "metadata": {},
   "outputs": [],
   "source": []
  }
 ],
 "metadata": {
  "hide_input": false,
  "kernelspec": {
   "display_name": "pg-emg3d",
   "language": "python",
   "name": "pg-emg3d"
  },
  "language_info": {
   "codemirror_mode": {
    "name": "ipython",
    "version": 3
   },
   "file_extension": ".py",
   "mimetype": "text/x-python",
   "name": "python",
   "nbconvert_exporter": "python",
   "pygments_lexer": "ipython3",
   "version": "3.9.19"
  },
  "toc": {
   "base_numbering": 1,
   "nav_menu": {},
   "number_sections": false,
   "sideBar": true,
   "skip_h1_title": false,
   "title_cell": "Table of Contents",
   "title_sidebar": "Contents",
   "toc_cell": false,
   "toc_position": {},
   "toc_section_display": true,
   "toc_window_display": false
  },
  "varInspector": {
   "cols": {
    "lenName": 16,
    "lenType": 16,
    "lenVar": 40
   },
   "kernels_config": {
    "python": {
     "delete_cmd_postfix": "",
     "delete_cmd_prefix": "del ",
     "library": "var_list.py",
     "varRefreshCmd": "print(var_dic_list())"
    },
    "r": {
     "delete_cmd_postfix": ") ",
     "delete_cmd_prefix": "rm(",
     "library": "var_list.r",
     "varRefreshCmd": "cat(var_dic_list()) "
    }
   },
   "position": {
    "height": "446.849px",
    "left": "931px",
    "right": "20px",
    "top": "120px",
    "width": "329px"
   },
   "types_to_exclude": [
    "module",
    "function",
    "builtin_function_or_method",
    "instance",
    "_Feature"
   ],
   "window_display": false
  }
 },
 "nbformat": 4,
 "nbformat_minor": 5
}
