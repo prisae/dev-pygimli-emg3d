{
 "cells": [
  {
   "cell_type": "markdown",
   "metadata": {
    "iooxa": {
     "id": {
      "block": "FWT4lEQzgTJ4SqfCdbsj",
      "project": "rzeiFG3sdIcsFLl4Infw",
      "version": 3
     }
    }
   },
   "source": [
    "# SimPEG(emg3d) -- small dev-example\n",
    "\n",
    "Use either via\n",
    "\n",
    "- `conda env create -f environment-simpeg-emg3d.yml`\n",
    "\n",
    "(creates env `simpeg-emg3d`), or manually by installing\n",
    "\n",
    "- SimPEG: `pip install git+https://github.com/prisae/simpeg@generalization-for-emg3d`\n",
    "- emg3d: `pip install git+https://github.com/emsig/emg3d@simpeg`\n",
    "- Additionally: `xarray`, `matplotlib`, `ipympl`\n",
    "\n",
    "## TODOs:\n",
    "- Clean-up the two PR's\n",
    "- Change this example to create survey and simulation with emg3d, and use simpeg only for the inversion."
   ]
  },
  {
   "cell_type": "code",
   "execution_count": 1,
   "metadata": {
    "iooxa": {
     "id": {
      "block": "10VtbUUnmcpr8GwQailC",
      "project": "rzeiFG3sdIcsFLl4Infw",
      "version": 5
     },
     "outputId": null
    }
   },
   "outputs": [],
   "source": [
    "import numpy as np\n",
    "import matplotlib.pyplot as plt\n",
    "from matplotlib.colors import LogNorm\n",
    "\n",
    "import emg3d\n",
    "import simpeg\n",
    "import simpeg.electromagnetics.frequency_domain as FDEM"
   ]
  },
  {
   "cell_type": "code",
   "execution_count": 2,
   "metadata": {
    "iooxa": {
     "id": {
      "block": "10VtbUUnmcpr8GwQailC",
      "project": "rzeiFG3sdIcsFLl4Infw",
      "version": 4
     },
     "outputId": null
    }
   },
   "outputs": [],
   "source": [
    "%matplotlib widget"
   ]
  },
  {
   "cell_type": "markdown",
   "metadata": {
    "iooxa": {
     "id": {
      "block": "5NlUlYHPsMWX91bB1YdN",
      "project": "rzeiFG3sdIcsFLl4Infw",
      "version": 3
     }
    }
   },
   "source": [
    "## Create a grid\n",
    "\n",
    "Very small now, for dev purposes."
   ]
  },
  {
   "cell_type": "code",
   "execution_count": 3,
   "metadata": {
    "iooxa": {
     "id": {
      "block": "rRBWeKCf2akYHaJUPqIQ",
      "project": "rzeiFG3sdIcsFLl4Infw",
      "version": 3
     },
     "outputId": {
      "block": "e5Idh82EipRE5WcbjWSh",
      "project": "rzeiFG3sdIcsFLl4Infw",
      "version": 1
     }
    }
   },
   "outputs": [
    {
     "data": {
      "text/html": [
       "<table>\n",
       "  <tr>\n",
       "    <td style='font-weight: bold; font-size: 1.2em; text-align: center;' colspan='3'>TensorMesh</td>\n",
       "    <td style='font-size: 1.2em; text-align: center;'colspan='4'>18,432 cells</td>\n",
       "  </tr>\n",
       "  <tr>\n",
       "    <th></th>\n",
       "    <th></th>\n",
       "    <th colspan='2' style='padding: 5px 20px 5px 20px;'>MESH EXTENT</th>\n",
       "    <th colspan='2' style='padding: 5px 20px 5px 20px;'>CELL WIDTH</th>\n",
       "    <th style='padding: 5px 20px 5px 20px;'>FACTOR</th>\n",
       "  </tr>\n",
       "  <tr>\n",
       "    <th style='padding: 5px 20px 5px 20px;'>dir</th>\n",
       "    <th style='padding: 5px 20px 5px 20px;'>nC</th>\n",
       "    <th style='padding: 5px 20px 5px 20px;'>min</th>\n",
       "    <th style='padding: 5px 20px 5px 20px;'>max</th>\n",
       "    <th style='padding: 5px 20px 5px 20px;'>min</th>\n",
       "    <th style='padding: 5px 20px 5px 20px;'>max</th>\n",
       "    <th style='padding: 5px 20px 5px 20px;'>max</th>\n",
       "  </tr>\n",
       "  <tr>\n",
       "    <td style='padding: 5px 20px 5px 20px;'>x</td>\n",
       "    <td style='padding: 5px 20px 5px 20px;'>32</td>\n",
       "    <td style='padding: 5px 20px 5px 20px;'>-5,197.13</td>\n",
       "    <td style='padding: 5px 20px 5px 20px;'>6,729.30</td>\n",
       "    <td style='padding: 5px 20px 5px 20px;'>200.00</td>\n",
       "    <td style='padding: 5px 20px 5px 20px;'>1,532.17</td>\n",
       "    <td style='padding: 5px 20px 5px 20px;'>1.40</td>\n",
       "  </tr>\n",
       "  <tr>\n",
       "    <td style='padding: 5px 20px 5px 20px;'>y</td>\n",
       "    <td style='padding: 5px 20px 5px 20px;'>24</td>\n",
       "    <td style='padding: 5px 20px 5px 20px;'>-4,186.99</td>\n",
       "    <td style='padding: 5px 20px 5px 20px;'>4,186.99</td>\n",
       "    <td style='padding: 5px 20px 5px 20px;'>200.00</td>\n",
       "    <td style='padding: 5px 20px 5px 20px;'>746.72</td>\n",
       "    <td style='padding: 5px 20px 5px 20px;'>1.21</td>\n",
       "  </tr>\n",
       "  <tr>\n",
       "    <td style='padding: 5px 20px 5px 20px;'>z</td>\n",
       "    <td style='padding: 5px 20px 5px 20px;'>24</td>\n",
       "    <td style='padding: 5px 20px 5px 20px;'>-6,449.09</td>\n",
       "    <td style='padding: 5px 20px 5px 20px;'>4,341.71</td>\n",
       "    <td style='padding: 5px 20px 5px 20px;'>200.00</td>\n",
       "    <td style='padding: 5px 20px 5px 20px;'>1,263.28</td>\n",
       "    <td style='padding: 5px 20px 5px 20px;'>1.23</td>\n",
       "  </tr>\n",
       "</table>\n"
      ],
      "text/plain": [
       "\n",
       "  TensorMesh: 18,432 cells\n",
       "\n",
       "                      MESH EXTENT             CELL WIDTH      FACTOR\n",
       "  dir    nC        min           max         min       max      max\n",
       "  ---   ---  ---------------------------  ------------------  ------\n",
       "   x     32     -5,197.13      6,729.30    200.00  1,532.17    1.40\n",
       "   y     24     -4,186.99      4,186.99    200.00    746.72    1.21\n",
       "   z     24     -6,449.09      4,341.71    200.00  1,263.28    1.23\n"
      ]
     },
     "execution_count": 3,
     "metadata": {},
     "output_type": "execute_result"
    }
   ],
   "source": [
    "frequency = 2.\n",
    "seafloor = -2000.\n",
    "#min_cell = 100.  # => 81,920 cells, 5 sources, 41 receivers\n",
    "min_cell = 200.  # => 18,432 cells, 3 sources, 21 receivers\n",
    "\n",
    "mesh = emg3d.construct_mesh(\n",
    "    center=(min_cell/2, 0, seafloor),  # Smallest cell at center\n",
    "    frequency=1.,          # Reference frequency\n",
    "    properties=(0.3, 1, 1, 0.3),  # Reference resistivity\n",
    "    min_width_limits=min_cell,\n",
    "    # Domain in which we want precise results\n",
    "    domain=([-2000, 2000],    # x-dir: where we have receivers\n",
    "            [-1000, 1000],    # y-dir: just extent of target\n",
    "            [seafloor-1000, seafloor+500]),  # \n",
    "    mapping='Conductivity',\n",
    "    center_on_edge=True,\n",
    ")\n",
    "\n",
    "# Active cells for inversion: everything below water\n",
    "inds_active = mesh.cell_centers[:, 2] < seafloor\n",
    "\n",
    "mesh"
   ]
  },
  {
   "cell_type": "markdown",
   "metadata": {
    "iooxa": {
     "id": {
      "block": "twas5lBJgODX0VA16dEo",
      "project": "rzeiFG3sdIcsFLl4Infw",
      "version": 1
     }
    }
   },
   "source": [
    "## Create a model\n",
    "\n",
    "Deep marine scenario, so we can ignore the air layer for developing."
   ]
  },
  {
   "cell_type": "code",
   "execution_count": 4,
   "metadata": {
    "iooxa": {
     "id": {
      "block": "A1pBbsAcPVRqQJ87oUlZ",
      "project": "rzeiFG3sdIcsFLl4Infw",
      "version": 2
     },
     "outputId": {
      "block": "VLj8vNQwghpBfavpH7pY",
      "project": "rzeiFG3sdIcsFLl4Infw",
      "version": 2
     }
    }
   },
   "outputs": [
    {
     "data": {
      "application/vnd.jupyter.widget-view+json": {
       "model_id": "6989e51268d1475bbec1223083f6930c",
       "version_major": 2,
       "version_minor": 0
      },
      "image/png": "[encoded data removed]",
      "text/html": [
       "\n",
       "            <div style=\"display: inline-block;\">\n",
       "                <div class=\"jupyter-widgets widget-label\" style=\"text-align: center;\">\n",
       "                    Figure\n",
       "                </div>\n",
       "                <img src='data:image/png;base64,iVBORw0KGgoAAAANSUhEUgAAAoAAAAHgCAYAAAA10dzkAAAAOXRFWHRTb2Z0d2FyZQBNYXRwbG90bGliIHZlcnNpb24zLjkuMSwgaHR0cHM6Ly9tYXRwbG90bGliLm9yZy/TGe4hAAAACXBIWXMAAA9hAAAPYQGoP6dpAABoiElEQVR4nO3df1xUVf4/8NcwwoAkI4gCY6Bo1mJYGliO1eJUApr6adetXD9L8l2jWCBXR7f80S5oH3/sLpmbP8tM2nTXdte11nILLMNV0UBhgyxNBUFhQs0gfzAgnO8fxNXhl3dghrkz83r2uA+cO+9z7jncAd6de889KiGEABERERG5DQ9HN4CIiIiIehYTQCIiIiI3wwSQiIiIyM0wASQiIiJyM0wAiYiIiNwME0AiIiIiN8MEkIiIiMjNMAEkIiIicjNMAImIiIjcDBNAIiIiIjfDBJCIiIjIzTABJCIiInIzTACJiIiI3AwTQCIiIiI3wwSQiIiIyM0wASQiIiJyM0wAiYiIiNwME0AiIiIiN8MEkIiIiMjNMAEkIiIicjNMAImIiIjcDBNAIiIiIjfDBJCIiIjIzTABJCIiInIzTACJiIiI3AwTQCIiIiI3wwSQiIiIyM0wASQiIiJyM0wAiYiIiNwME0AiIiIiN8MEkIiIiMjNMAEkIiIicjNMAImIiIjcDBNAIiIiIjfDBJCIiIjIzTABJCIiInIzTACJiIiI3AwTQCIiIiI3wwSQiIiIyM0wASQiIiJyM0wAiYiIiNwME0AiIiIiN8MEkIiIiMjNMAEkIiIicjNMAImIiIjcDBNAIiIiIjfDBJCIiIjIzTABJCIiInIzTACJiIiI3AwTQCIiIiI3wwSQiIiIyEoVFRUYN24chg8fjrvuugt///vfHd0kq6iEEMLRjSAiIiJyJlVVVfjmm28wcuRIVFdX45577sGxY8fg6+vr6KbJorgRwOXLl2P06NHo06cPBgwYgMceewzHjh2ziBFCICMjAzqdDj4+Phg3bhy++OILixiz2YznnnsOgYGB8PX1xZQpU3DmzBmLmIsXLyIhIQFarRZarRYJCQn47rvvZLfVbDYjIyMDZrO5y/1VIlftF+C6fXPVfgGu2zdX7Reg7L4puW3d5cp9U6KQkBCMHDkSADBgwAAEBATg22+/dWyjrCEUJi4uTmzevFmUlJSIoqIi8eijj4qwsDBx6dIlKWbFihWiT58+Yvv27aK4uFg8+eSTIiQkRNTW1koxycnJYuDAgSInJ0ccOXJEGAwGcffdd4tr165JMfHx8SIyMlIcOHBAHDhwQERGRopJkybJbmtNTY0AIGpqamzTeYVw1X4J4bp9c9V+CeG6fXPVfgmh7L4puW3d5cp9s4fc3FwxadIkERISIgCIHTt2tIlZu3atGDx4sNBoNOKee+4Re/fubbeu/Px8ceedd9q5xbaluASwterqagFA5ObmCiGEaGpqEsHBwWLFihVSTF1dndBqtWLDhg1CCCG+++474enpKbZt2ybFnD17Vnh4eIgPP/xQCCHE0aNHBQBx8OBBKSYvL08AEF999ZWstrnqD5ur9ksI1+2bq/ZLCNftm6v2Swhl903JbesuV+6bPezatUssWrRIbN++vd0EcNu2bcLT01Ns3LhRHD16VPz6178Wvr6+4vTp0xZx58+fFxEREWL//v092PruU9wl4NZqamoAAAEBAQCA0tJSmEwmxMbGSjEajQYxMTE4cOAAAODw4cNoaGiwiNHpdIiMjJRi8vLyoNVqcd9990kxY8aMgVarlWKIiIjINU2YMAH/93//h5/+9Kftvr9y5UrMnDkTTz/9NCIiIrBq1SqEhoZi/fr1UozZbMZPfvITLFiwAGPHju2ppttEL0c3oDNCCBiNRjzwwAOIjIwEAJhMJgBAUFCQRWxQUBBOnz4txXh5ecHf379NTEt5k8mEAQMGtDnmgAEDpJjWzGazxb0VLfcLtiSprqK2ttbiqytx1b65ar8A1+2bq/YLuP47sampSVZ8U1MTKisr0adPH6hUKns2zaW/7z3dNyEELly4gICAAHh4XB9P0mg00Gg03a6/rq4O9fX1Vrep9WeoK+2pr6/H4cOHMX/+fIv9sbGx0iCREAKJiYl46KGHkJCQYFX9SqDoBDAtLQ2ff/459u3b1+a91ie4vZPeWuuY9uI7q2f58uVYvHhxm/1hYWGdHtdZhYaGOroJduOqfZPTr127dmHixInSV2fhzufMWX377bfo27fvTeMqKyt7/PvQU8dzxM+boz9T6enpyMjI6FYddXV1CPbRogbWJYC33HILLl261O32nD9/Ho2Nje0ONrUMEu3fvx/vvPMO7rrrLrz77rsAgLfffhsjRoyw6liOotgE8LnnnsO//vUv7N27F7feequ0Pzg4GEDzCF5ISIi0v7q6WjpRwcHBqK+vx8WLFy1GAaurq6Uh2uDgYHzzzTdtjnvu3Lk2J7zFggULYDQapdc1NTUICwvDjH++Ci9fH1n96rfnJC4YhsqKtUZ36rWmrDPFOvr4So316ePX/LWvH5I+2mj3Nijxe+BKsbYsa6s66y9fxVs/nYV+/frJiu/Tpw8AYOr4VfD0vP67dPBdpSj7PFxWHdbG9tR56+jnTWmfna6UaznP5eXl0Gq10n5bjP7V19ejBvVY5Xk/fGSmKldxDbMv7UdFRQX8/Pxs0p7OBpseeOAB2aPcSqS4BFAIgeeeew47duzAp59+ivBwyx/o8PBwBAcHIycnB6NGjQLQ/EHJzc3F73//ewBAVFQUPD09kZOTgyeeeAJA8/N6SkpK8Ic//AEAoNfrUVNTg88++wz33nsvAODQoUOoqanp8Dp+R8PIXr4+8PLtLat/3t7esmOt0Z16rSnrTLGOPr5iY1XXv7aug+fB+WJtWdbWdcq9nNsS5+npA68bEkBvb2+L1zdtozWxPXXeOvh5U9pnpzufG61Wa5Fw2VJvD0/0VslLVVSi+Zvt5+fX7fYEBgZCrVa3uSXsxsEmZ6e4BDA1NRV/+ctf8N5776FPnz7SN1+r1cLHxwcqlQqzZ8/GsmXLMGzYMAwbNgzLli1D7969MX36dCl25syZmDt3Lvr164eAgADMmzcPI0aMwCOPPAIAiIiIQHx8PJKSkvDaa68BAJ555hlMmjQJd9xxh2M6T0RERBK1GlDLvC1UbcNlLby8vBAVFYWcnBz85Cc/kfbn5OTgf/7nf2x3IAdSXALYMrtm3LhxFvs3b96MxMREAMDzzz+Pq1evIiUlBRcvXsR9992H7Oxs6TICALzyyivo1asXnnjiCVy9ehUPP/wwsrKyoFarpZitW7di1qxZ0mzhKVOmYM2aNfbtIBEREcni4aGCh8yRZI8fRgBHjx4NtVqN1NRUpKamdhh/6dIlnDhxQnpdWlqKoqIiBAQEICwsDEajEQkJCYiOjoZer8frr7+O8vJyJCcnd69TCqG4BFDIWJlOpVIhIyOj05s6vb29sXr1aqxevbrDmICAAGzZsqUrzSQiIiI78/AAPGSOAHr8kD7k5+fLugRcUFAAg8EgvW65x3/GjBnIysrCk08+iQsXLmDJkiWoqqpCZGQkdu3ahUGDBlndDyVSXAJIREREBAAeautHAOUaN27cTQedUlJSkJKSYlW9zkIl5Ay5Ubtqa2uh1Woxf/58eHt7O7o5RLIYDAbExMQgNzcXe/bscXRzyAXV1dVhxYoVqKmpkTUS48q/S135583a82yNls/E1oCH0NtD3ljVlaZr+N9vP7FLe1wRRwBt4IJhqOzZU/13f41zjwyzeRu6U681ZZ0p1tHHV2ps0w/3wTZ5qdvUwfPgfLG2LGurOusvXwFWWH+css/DLWbyDhl1CqcKh8gqa21sT523jn7elPbZ6Uq5rp5na3ioVfCQeQ1Y7kghNVP8UnBERETkntQe1m1A8ySQ4cOHY+3atY5tvMJxBJCIiIgUycPDihHAHx66KHcSiLtjAkhERESKpFI3zwSWFcsrwFZhAkhERESK5OEBK0YAyRpMAImIiEiRmhNAmbH2bYrL4feLiIiIFMnDQ9U8E1jO5nF9JRBOArk5jgASERGRIt04u/emsVauBOLumAASERGRIrWM7smKBWeBWIMJIBERESmSVfcAcl0zqzABJCIiIkWy6jmAVq4F7O6YABIREZEiqT1V6CXzErBaZqJIzZgAEhERkSJ5qJs3WbH2bYrL4feLiIiIFEmtUkHtIXNT8TEw1uAIIBERESmSVZNAfojjY2DkYQJIREREimTVY2A4CcQqTACJiIhIkboyAkjyKO7btXfvXkyePBk6nQ4qlQrvvvuuxfuJiYlQqVQW25gxYyxizGYznnvuOQQGBsLX1xdTpkzBmTNnLGIuXryIhIQEaLVaaLVaJCQk4LvvvrNz74iIiEgulYewaiP5FJcAXr58GXfffTfWrFnTYUx8fDyqqqqkbdeuXRbvz549Gzt27MC2bduwb98+XLp0CZMmTUJjY6MUM336dBQVFeHDDz/Ehx9+iKKiIiQkJNitX0RERGQdlYd1G8mnuEvAEyZMwIQJEzqN0Wg0CA4Obve9mpoabNq0CW+//TYeeeQRAMCWLVsQGhqK3bt3Iy4uDl9++SU+/PBDHDx4EPfddx8AYOPGjdDr9Th27BjuuOMO23aKiIiIrKZSCahU8kb25MZRM8UlgHJ8+umnGDBgAPr27YuYmBgsXboUAwYMAAAcPnwYDQ0NiI2NleJ1Oh0iIyNx4MABxMXFIS8vD1qtVkr+AGDMmDHQarU4cOCA1Qlgvz0n4e3tLTu+/+6vraq/J+q1pqwzxTr6+EqM9TDc2vy1vhH997Stg+fB+WJtWdYWddbV1XXpGIPvKm3zu3TIqFOyy1sT21PnrbOfN6V9dqwt19XzbA1rRvY4Amgdp0sAJ0yYgMcffxyDBg1CaWkpfvvb3+Khhx7C4cOHodFoYDKZ4OXlBX9/f4tyQUFBMJlMAACTySQljDcaMGCAFNMes9kMs9ksva6trQUAXDAMhZdvb1nt77/7a5x7ZJisWGt0p15ryjpTrKOPr9TYJnXzU1WbvNRt6uB5cL5YW5a1VZ31l68AK6w/Ttnn4fDy9JFeDxl1CqcKh8gqa21sT523jn7elPbZ6Uq5lvPc8rewhUajgUajsboN7VF5CHjIvLev5R7A0aNHQ61WIzU1FampqTZphytyugTwySeflP4dGRmJ6OhoDBo0CB988AF++tOfdlhOCAGV6voU8Rv/3VFMa8uXL8fixYu72HIiIiLXExoaavE6PT0dGRkZNqlbpbJiBPCHP998DqA8TpcAthYSEoJBgwbh66+bh66Dg4NRX1+PixcvWowCVldXY+zYsVLMN99806auc+fOISgoqMNjLViwAEajUXpdW1vb5oNPRETkTioqKiwSLluN/gGwanYvZwFbx+mvmF+4cAEVFRUICQkBAERFRcHT0xM5OTlSTFVVFUpKSqQEUK/Xo6amBp999pkUc+jQIdTU1Egx7dFoNPDz87PYiIiI3Fnrv4u2TQA5C9heFDcCeOnSJZw4cUJ6XVpaiqKiIgQEBCAgIAAZGRmYOnUqQkJCUFZWhoULFyIwMBA/+clPAABarRYzZ87E3Llz0a9fPwQEBGDevHkYMWKENCs4IiIC8fHxSEpKwmuvvQYAeOaZZzBp0iTOACYiIlIIPgjafhSXABYUFMBgMEivWy65zpgxA+vXr0dxcTH+/Oc/47vvvkNISAgMBgPeeecd9OnTRyrzyiuvoFevXnjiiSdw9epVPPzww8jKyoL6h5txAWDr1q2YNWuWNFt4ypQpnT57kIiIiHoWHwNjP4pLAMeNGwchOj6JH3300U3r8Pb2xurVq7F69eoOYwICArBly5YutZGIiIjsj4+BsR/FJYBEREREACeB2BMTQCIiIlIkdS9A3UteYqdm/mcVDpgSERGRInVlFvDo0aMxfPhwrF271rGNVziOABIREZEiqWDFJBA0x/FB0PIwASQiIiJF4iQQ+2ECSERERIrESSD2wwSQiIiIFEllxYOgOQJoHSaAREREpEgcAbQfJoBERESkSLwH0H6YABIREZEicSk4+1GJztZdo07V1tZCq9Vi/vz58Pb2dnRziGQxGAyIiYlBbm4u9uzZ4+jmkAuqq6vDihUrUFNTI+txHK78u9SVf96sPc/WaPlMnJk5Dn5e8saqauuv4dZNn9qlPa6II4A2cMEwFF6+vWXF9t/9Nc49MszmbehOvdaUdaZYRx9fqbFNanXzVy91mzp4Hpwv1pZlbVVn/eUrwArrj1P2eTi8PH2k10NGncKpwiGyylob21PnraOfN6V9drpSrqvn2Rq8B9B+mAASERGRIvEeQPthAkhERETK5KEC1Cr5sSQb82UiIiJSJJWHyqoN4FrAcnEEkIiIiJRJ7dG8yY0F1wKWiwkgERERKZOHSv6lXV4CtgoTQCIiIlIklRpQybwHUKW2c2NcDBNAIiIiUiaOANoNE0AiIiJSJrUVs4DlxhEABc4C3rt3LyZPngydTgeVSoV3333X4n0hBDIyMqDT6eDj44Nx48bhiy++sIgxm8147rnnEBgYCF9fX0yZMgVnzpyxiLl48SISEhKg1Wqh1WqRkJCA7777zs69IyIiIrlUvdRQecrcevEasDUUlwBevnwZd999N9asWdPu+3/4wx+wcuVKrFmzBvn5+QgODsb48ePx/fffSzGzZ8/Gjh07sG3bNuzbtw+XLl3CpEmT0NjYKMVMnz4dRUVF+PDDD/Hhhx+iqKgICQkJdu8fERERydOVx8CQPIq7BDxhwgRMmDCh3feEEFi1ahUWLVqEn/70pwCAt956C0FBQfjLX/6CZ599FjU1Ndi0aRPefvttPPLIIwCALVu2IDQ0FLt370ZcXBy+/PJLfPjhhzh48CDuu+8+AMDGjRuh1+tx7Ngx3HHHHT3TWSIiIuoYLwHbjeJGADtTWloKk8mE2NhYaZ9Go0FMTAwOHDgAADh8+DAaGhosYnQ6HSIjI6WYvLw8aLVaKfkDgDFjxkCr1Uox7TGbzaitrbXYiIiI3Fnrv4tms9l2lbckgHI3kk1xI4CdMZlMAICgoCCL/UFBQTh9+rQU4+XlBX9//zYxLeVNJhMGDBjQpv4BAwZIMe1Zvnw5Fi9e3GZ/vz0n4e3tLbsf/Xd/LTvWGt2p15qyzhTr6OMrMdbDcGvz1/pG9N/Ttg6eB+eLtWVZW9RZV1fXpWMMvqu0ze/SIaNOyS5vTWxPnbfOft6U9tmxtlzLeQ4NDbXYn56ejoyMjC61oTVrLu3yErB1nCoBbKFSWZ5kIUSbfa21jmkv/mb1LFiwAEajUXpdW1uL0NBQXDAMhZdvb1lt77/7a5x7ZJisWGt0p15ryjpTbP/dXyNs8V5ZdZan/9htYtX3PtD89XJDmzrs0QZr63SWz5dSYm1Z1lZ11l++Aqyw/jhln4fDy9NHej1k1CmcKhwiq6y1sfY6b60/6x39vCnhs97dci3nuaKiwmLlDY1GY/XxO8RLwHbjVAlgcHAwgOYRvJCQEGl/dXW1NCoYHByM+vp6XLx40WIUsLq6GmPHjpVivvnmmzb1nzt3rs3o4o00Go1tP9hEREROzs/Pz35Lr6k8AA+Zd6upnOquNodzqu9WeHg4goODkZOTI+2rr69Hbm6ulNxFRUXB09PTIqaqqgolJSVSjF6vR01NDT777DMp5tChQ6ipqZFiiIiIyLFUapVVG8mnuBHAS5cu4cSJE9Lr0tJSFBUVISAgAGFhYZg9ezaWLVuGYcOGYdiwYVi2bBl69+6N6dOnAwC0Wi1mzpyJuXPnol+/fggICMC8efMwYsQIaVZwREQE4uPjkZSUhNdeew0A8Mwzz2DSpEmcAUxERKQUXAnEbhSXABYUFMBgMEivW+65mzFjBrKysvD888/j6tWrSElJwcWLF3HfffchOzsbffr0kcq88sor6NWrF5544glcvXoVDz/8MLKysqBWX39I5NatWzFr1ixptvCUKVM6fPYgEREROQDvAbQbxSWA48aNgxCiw/dVKhUyMjI6nWHk7e2N1atXY/Xq1R3GBAQEYMuWLd1pKhEREdkRZwHbj1PdA0hERERuRO1h3QZg9OjRGD58ONauXevgxiub4kYAiYiIiAAAalhxCbj5S35+vv1mJbsQJoBERESkSCqVFZeAb/I8YLLEBJCIiIiUiZNA7IYJIBERESkTHwNjNyrR2ZRb6lRtbS20Wi3mz59v1VrARI5kMBgQExOD3Nxc7Nmzx9HNIRdUV1eHFStWoKamRta9WK78u9SVf96sPc/WaPlMXHx7Ovx6e8krc6Ue/gl/sUt7XBFHAG2AawErM5ZrAbcfy7WAXSvWlmVtVSfXAr7OHdYCtisPK5aCkxtHAJgAEhERkVL1UjdvcmNJNiaAREREpEwcAbQbJoBERESkTCorJoHwMTBWYQJIREREysQRQLthAkhERETKxATQbpgAEhERkTLxOYB2wwSQiIiIlMlDZcUIIBNAazABJCIiImXiJWC7YQJIREREysRLwHbDBJCIiIiUiSOAdsO1gLvBldevJNflymuTkjJwLeDrXPnnrUfWAt79a/j5auSVuWyG/yN/4lrAMnEE0Aa4FrAyY7kWcPuxXAvYtWJtWdZWdXIt4Ou4FnD3qFQqqGQ+4FluHDVzyvHSjIwM6UPRsgUHB0vvCyGQkZEBnU4HHx8fjBs3Dl988YVFHWazGc899xwCAwPh6+uLKVOm4MyZMz3dFSIiIuqIyuP6ZeCbbSqnTGkcxmm/W3feeSeqqqqkrbi4WHrvD3/4A1auXIk1a9YgPz8fwcHBGD9+PL7//nspZvbs2dixYwe2bduGffv24dKlS5g0aRIaGxsd0R0iIiJqTW7yZ829ggTAiS8B9+rVy2LUr4UQAqtWrcKiRYvw05/+FADw1ltvISgoCH/5y1/w7LPPoqamBps2bcLbb7+NRx55BACwZcsWhIaGYvfu3YiLi+vRvhAREVE7OAvYbpw2Xf7666+h0+kQHh6OadOm4dSpUwCA0tJSmEwmxMbGSrEajQYxMTE4cOAAAODw4cNoaGiwiNHpdIiMjJRiiIiIyME4Amg3Tvnduu+++/DnP/8ZH330ETZu3AiTyYSxY8fiwoULMJlMAICgoCCLMkFBQdJ7JpMJXl5e8Pf37zCmPWazGbW1tRYbERGRO2v9d9FsNtuu8pYRQLlbD/vJT34Cf39//OxnP+vxY3eXUyaAEyZMwNSpUzFixAg88sgj+OCDDwA0X+pt0Xo2kBDipjOEbhazfPlyaLVaaQsNDe1GL4iIiJxfaGioxd/G5cuX267ylqXgZG09nwDOmjULf/7zn3v8uLbglAlga76+vhgxYgS+/vpr6b7A1iN51dXV0qhgcHAw6uvrcfHixQ5j2rNgwQLU1NRIW0VFhY17QkRE5FwqKios/jYuWLDAdpX3Ulu39TCDwYA+ffr0+HFtwSUSQLPZjC+//BIhISEIDw9HcHAwcnJypPfr6+uRm5uLsWPHAgCioqLg6elpEVNVVYWSkhIppj0ajQZ+fn4WGxERkTtr/XdRo5H34GZZ7HgP4N69ezF58mTodDqoVCq8++67bWLWrVuH8PBweHt7IyoqCv/5z39s1DHHc8oEcN68ecjNzUVpaSkOHTqEn/3sZ6itrcWMGTOgUqkwe/ZsLFu2DDt27EBJSQkSExPRu3dvTJ8+HQCg1Woxc+ZMzJ07Fx9//DEKCwvxi1/8QrqkTERERApgx+cAXr58GXfffTfWrFnT7vvvvPMOZs+ejUWLFqGwsBAPPvggJkyYgPLyclv0zOGc8jEwZ86cwc9//nOcP38e/fv3x5gxY3Dw4EEMGjQIAPD888/j6tWrSElJwcWLF3HfffchOzvbYpj2lVdeQa9evfDEE0/g6tWrePjhh5GVlQW1uueHkImIiKgdXXgMTOsJmhqNpt1RyQkTJmDChAkdVrdy5UrMnDkTTz/9NABg1apV+Oijj7B+/Xrb3ufoIE6ZAG7btq3T91UqFTIyMpCRkdFhjLe3N1avXo3Vq1fbuHVERERkE9Zc2v0hrvUEzfT09E7zgfbU19fj8OHDmD9/vsX+2NhYl3lcnEoIIRzdCGflyguYk+ty5cXpSRnq6uqwYsUK1NTUyLpX2pV/l7ryz5u159kaLZ+J70qWwq+PvM9E7fd16Bu5CBUVFRbt6WgE8EYqlQo7duzAY489BgCorKzEwIEDsX//fou5AcuWLcNbb72FY8eOAQDi4uJw5MgRXL58GQEBAdixYwdGjx5tZW8dwylHAJXmgmEovHx7y4q1x0Lt3a1XCQva2yO2vYXZO1Ke/mO3ie1ocXp7tcHaOp3l86WUWFuWtVWd9ZevACusP07Z5+Hw8vSRXg8ZdQqnCofIKmttrL3OW+vPekc/b0r4rHe3XFfPs1VUVtzb90OcLSdp3uyRch999JFNjuMITACJiIhImbpwCdgWAgMDoVarO32knLNzylnARERE5AZUquujgDfdmkfmRo8ejeHDh2Pt2rVdPqyXlxeioqIsHhcHADk5OZ0+Ls6ZcASQiIiIlKkLl4Dz8/NlXQK+dOkSTpw4Ib0uLS1FUVERAgICEBYWBqPRiISEBERHR0Ov1+P1119HeXk5kpOTu9QVpWECSERERMrUhQRQroKCAhgMBum10WgEAMyYMQNZWVl48sknceHCBSxZsgRVVVWIjIzErl27pEfOOTsmgERERKRMdrwHcNy4cbjZg1BSUlKQkpJiVb3OggkgERERKZMdRwDdHb9bREREpEyyJ4BcTxRtMQnEHXAEkIiIiJTJjpNA3B0TQCIiIlIoKxJAXtS0ChNAIiIiUiYHPQjaHXAt4G5w5fUryXW58tqkpAxcC/g6V/5564m1gGvK34Cfn7ylVmtrr0Ab9rRd2uOKOAJoA1wLWJmxXAu4/ViuBexasbYsa6s6uRbwdVwLuJs8ejVvcmNJNo6XEhERkTJxFrDdMF0mIiIiZerCPYCcBSwPE0AiIiJSJj4I2m44CaQbamtrsX//fvj09QNU8sp41DeiyUtt87Z0p15ryjpTrEd9I9SXG2TV2ejr6TaxpecqkTDjKbz91p8R3l9n9zZYW6ezfL6UEmvLsjarUwCGsQ9YNQlk//790Hj1geqGX6Zqz0Y0Nsg7rrWx9jpvrT/rHf28KeGz3u1yVp5na0iTQL7ZZt0kkKBpnAQiExPAbmj5gBIRUVvWzgIm52TXBLD6b9YlgAOeYAIok9tfAl63bh3++Mc/oqqqCnfeeSdWrVqFBx98UHb5Xbt2cQRQobEcAWw/liOArhVry7I2q/OHkSFr7Nq1iyOANmpDT48A2hWfA2g3bp0AvvPOO5g9ezbWrVuH+++/H6+99homTJiAo0ePIiwsTFYdEydORNJHG+U/BmaPnR4D0416rSnrTLH99/AxMO3F3v7BQgBAeH8djj+6zO5tsNtjYJzos2jPWFuWtVWd9ZevWH2MiRMnYtrE15T3GBgrz1vrz3pHP29K+Kx3t1xXzrPVVCor7gFs/p+H0aNHQ61WIzU1FampqXZsnHPr8LuamJiIvXvl/dJ2VitXrsTMmTPx9NNPIyIiAqtWrUJoaCjWr1/v6KYRERFRFx4Dk5+fj6NHjzL5u4kOE8Dvv/8esbGxGDZsGJYtW4azZ8/2ZLvsrr6+HocPH0ZsbKzF/tjYWBw4cMBBrSIiIiJJFxJAkqfD79b27dtx9uxZpKWl4e9//zsGDx6MCRMm4B//+AcaGuTdz6Nk58+fR2NjI4KCgiz2BwUFwWQytVvGbDajtrbWYiMiInJnrf8ums1m21XOBNBuZM8CLiwsxJtvvok33ngDt9xyC37xi18gJSUFw4bZ/n62nlBZWYmBAwfiwIED0Ov10v6lS5fi7bffxldffdWmTEZGBhYvXtxmvyuuX0muy5XXJiVl4FrA17nyz1vLeW4tPT0dGRkZ3apbmgVcsxN+fr4yy1yGVjuZs4BlkjUJpKqqCtnZ2cjOzoZarcbEiRPxxRdfYPjw4fjDH/6AOXPm2LudNhcYGAi1Wt1mtK+6urrNqGCLBQsWwGg0Sq9ra2sRGhrKtYAVGsu1gNuP5VrArhVry7K2qpNrAV/nDmsBV1RUWCRcGo3G6uN3RAgBuU+r41PtrNPheGlDQwO2b9+OSZMmYdCgQfj73/+OOXPmoKqqCm+99Rays7Px9ttvY8mSJT3ZXpvx8vJCVFQUcnJyLPbn5ORg7Nix7ZbRaDTw8/Oz2IiIiNxZ67+LNk0A0WTVRvJ1OAIYEhKCpqYm/PznP8dnn32GkSNHtomJi4tD37597dg8+zIajUhISEB0dDT0ej1ef/11lJeXIzk52dFNIyIicnvih//kxpJ8HSaAr7zyCh5//PFO78fw9/dHaWmpXRrWE5588klcuHABS5YsQVVVFSIjI7Fr1y4MGjTI0U0jIiJye0I0QQh5I3stcXwOoDwdJoAJCQk92Q6HSUlJQUpKiqObQURERK10ZQQwPz+ft2jJ4NYrgRAREZFyNU8CkTsCyEvA1mACSERERIrUhEY0oVF2LMnHBJCIiIgUqSv3AJI8TACJiIhIkTgL2H6YABIREZEicQTQfpgAEhERkSJxBNB+ZK8FTG258vqV5LpceW1SUgauBXydK/+8WXuerdHymThzPgt+fvKWWq2tvYJbAxO5FrBMHAG0Aa4FrMxYrgXcfizXAnatWFuWtVWdXAv4OndYC9ieurIWMB8ELQ8TQCIiIlIka9b4bYnjg6DlYQJIREREisR7AO2HCSAREREpEmcB2w8TQCIiIlIkAfkjexz/sw4TQCIiIlImK0YAwRFAqzABJCIiIkXiPYD2wwSQiIiIFKkrs4BJHiaAREREpEhdeQ4gycMEkIiIiBSJI4D2wwSQiIiIFIkjgPbDtYC7wZXXryTX5cprk5IycC3g61z5560n1gI+VvUK+vj53LwAgO9rr+KOkDlcC1gmjgDaANcCVmYs1wJuP5ZrAbtWrC3L2qpOrgV8HdcC7p6GJhUamlSyYwGuBSyXh6Mb0BWDBw+GSqWy2ObPn28RU15ejsmTJ8PX1xeBgYGYNWsW6uvrLWKKi4sRExMDHx8fDBw4EEuWLOEQMhERkUI0Ces2oHkt4KNHjzL5uwmnHQFcsmQJkpKSpNe33HKL9O/GxkY8+uij6N+/P/bt24cLFy5gxowZEEJg9erVAJqHl8ePHw+DwYD8/HwcP34ciYmJ8PX1xdy5c3u8P0RERGSpSajQJOSNAMqNo2ZOmwD26dMHwcHB7b6XnZ2No0ePoqKiAjqdDgDw8ssvIzExEUuXLoWfnx+2bt2Kuro6ZGVlQaPRIDIyEsePH8fKlSthNBqhUvGDRERE5EhNAmiUeWGuiRfwrOKUl4AB4Pe//z369euHkSNHYunSpRaXd/Py8hAZGSklfwAQFxcHs9mMw4cPSzExMTHQaDQWMZWVlSgrK2v3mGazGbW1tRYbERGRO2v9d9FsNtus7pYRQLkbyeeUCeCvf/1rbNu2DXv27EFaWhpWrVqFlJQU6X2TyYSgoCCLMv7+/vDy8oLJZOowpuV1S0xry5cvh1arlbbQ0FBbdouIiMjphIaGWvxtXL58uc3q7so9gCSPYi4BZ2RkYPHixZ3G5OfnIzo6GnPmzJH23XXXXfD398fPfvYzaVQQQLuXcIUQFvtbx7RMAOno8u+CBQtgNBql17W1tUwCiYjIrVVUVFg8duXGK2vd1ShUaJQ5sic3jpopJgFMS0vDtGnTOo0ZPHhwu/vHjBkDADhx4gT69euH4OBgHDp0yCLm4sWLaGhokEb5goOD24z0VVdXA0CbkcEWGo3Gph9sIiIiZ+fn52e35+41/bDJjSX5FJMABgYGIjAwsEtlCwsLAQAhISEAAL1ej6VLl6Kqqkral52dDY1Gg6ioKClm4cKFqK+vh5eXlxSj0+k6TDSJiIio5zTBilnA4AigNZzuHsC8vDy88sorKCoqQmlpKf72t7/h2WefxZQpUxAWFgYAiI2NxfDhw5GQkIDCwkJ8/PHHmDdvHpKSkqT/S5k+fTo0Gg0SExNRUlKCHTt2YNmyZZwBTEREpBC8B9B+FDMCKJdGo8E777yDxYsXw2w2Y9CgQUhKSsLzzz8vxajVanzwwQdISUnB/fffDx8fH0yfPh2ZmZlSjFarRU5ODlJTUxEdHQ1/f38YjUaLe/yIiIjIcXgPoP1wLeBucOX1K8l1ufLapKQMXAv4Olf+eeuJtYA/PrEWvn3krQV8+furePi2VK4FLJPTjQAqEdcCVmYs1wJuP5ZrAbtWrC3L2qpOrgV8HdcC7h6uBGI/TACJiIhIkRqtWAlEbhw1YwJIREREisQRQPthAkhERESKZM3sXs4Ctg4TQCIiIlIkXgK2H6d7DiARERG5h5ZLwHI3ABg9ejSGDx+OtWvXOrj1ysYRQCIiIlKka00qNDTJu7fv2g9x+fn5fAyMDEwAiYiISJF4D6D9MAEkIiIiReIsYPthAkhERESKxEkg9sMEkIiIiBSp+RKw3BFAOzfGxXAt4G5w5fUryXW58tqkpAxcC/g6V/5564m1gLMKX0fvPvKWWr3y/RUkjnqGawHLxBFAG+BawMqM5VrA7cdyLWDXirVlWVvVybWAr+NawN3DS8D2wwSQiIiIFKkRViSAdm2J62ECSERERIokrHgMDG9osw4TQCIiIlIkXgK2HyaAREREpEhMAO2HCSAREREpEhNA+2ECSERERIrEpeDsx8PRDWht6dKlGDt2LHr37o2+ffu2G1NeXo7JkyfD19cXgYGBmDVrFurr6y1iiouLERMTAx8fHwwcOBBLlixB60ce5ubmIioqCt7e3hgyZAg2bNhgr24RERGRlVpGAOVuJJ/iRgDr6+vx+OOPQ6/XY9OmTW3eb2xsxKOPPor+/ftj3759uHDhAmbMmAEhBFavXg2g+QGS48ePh8FgQH5+Po4fP47ExET4+vpi7ty5AIDS0lJMnDgRSUlJ2LJlC/bv34+UlBT0798fU6dO7dE+ExERUVtNViR2HAG0juISwMWLFwMAsrKy2n0/OzsbR48eRUVFBXQ6HQDg5ZdfRmJiIpYuXQo/Pz9s3boVdXV1yMrKgkajQWRkJI4fP46VK1fCaDRCpVJhw4YNCAsLw6pVqwAAERERKCgoQGZmJhNAIiIiBeAlYPtR3CXgm8nLy0NkZKSU/AFAXFwczGYzDh8+LMXExMRAo9FYxFRWVqKsrEyKiY2Ntag7Li4OBQUFaGhosH9HiIiIqFO8BGw/ihsBvBmTyYSgoCCLff7+/vDy8oLJZJJiBg8ebBHTUsZkMiE8PLzdeoKCgnDt2jWcP38eISEhbY5tNpthNpul17W1tbboEhERkdNq/bdQo9FYDMB0B2cB20+PJIAZGRnSpd2O5OfnIzo6WlZ9KpWqzT4hhMX+1jEtE0CsjbnR8uXL2+1Hvz0nrVrAvP/ur2XHWqM79VpT1pliy9N/LLtOd4kd6usJAGj09Wy3Dnu0wZo6Hf2ZccZYW5a1RZ11dXVdOsbgu0rb/C4dMuqU7PLWxNrrXLT+rHf286a0z4615VrOc2hoqMX+9PR0ZGRkdKkNrTU0qaBuav9vcnuxJF+PJIBpaWmYNm1apzGtR+w6EhwcjEOHDlnsu3jxIhoaGqQRveDgYGk0sEV1dTUA3DSmV69e6NevX7vHXrBgAYxGo/S6trYWoaGhuGAYCi/f3rLab4+F2rtbrxIWtLdHrKOPr9TYJrW6+auXuk0dPA/OF2vLsraqs/7yFWCF9ccp+zwcXp4+0usho07hVOEQWWWtje2p89bRz5vSPjtdKddynisqKuDn5yftt9XoH8ARQHvqkQQwMDAQgYGBNqlLr9dj6dKlqKqqki7TZmdnQ6PRICoqSopZuHAh6uvr4eXlJcXodDop0dTr9di5c6dF3dnZ2YiOjoanp2e7x7blsDYREZEr8PPzs0gAbYmzgO1HcZNAysvLUVRUhPLycjQ2NqKoqAhFRUW4dOkSACA2NhbDhw9HQkICCgsL8fHHH2PevHlISkqSPoDTp0+HRqNBYmIiSkpKsGPHDixbtkyaAQwAycnJOH36NIxGI7788ku8+eab2LRpE+bNm+ewvhMREdF1TU3WbSSf4hLA3/3udxg1ahTS09Nx6dIljBo1CqNGjUJBQQEAQK1W44MPPoC3tzfuv/9+PPHEE3jssceQmZkp1aHVapGTk4MzZ84gOjoaKSkpMBqNFpdvw8PDsWvXLnz66acYOXIkXnrpJbz66qt8BAwREZFCKH0W8Pvvv4877rgDw4YNwxtvvNHzDegGxc0CzsrK6vAZgC3CwsLw/vvvdxozYsQI7N27t9OYmJgYHDlyxNomEhERUQ9ohBX3ANq1JW1du3YNRqMRe/bsgZ+fH+655x789Kc/RUBAQA+3pGsUNwJIREREBFx/ELTcrSd99tlnuPPOOzFw4ED06dMHEydOxEcffdSzjegGJoBERESkSPa8BLx3715MnjwZOp0OKpUK7777bpuYdevWITw8HN7e3oiKisJ//vMf6b3KykoMHDhQen3rrbfi7NmzXe1qj2MCSERERIpkzwTw8uXLuPvuu7FmzZp233/nnXcwe/ZsLFq0CIWFhXjwwQcxYcIElJeXA7j+7OAbdfQcYSVS3D2AREREREDXHgMjd2WSCRMmYMKECR3Wt3LlSsycORNPP/00AGDVqlX46KOPsH79eixfvhwDBw60GPE7c+YM7rvvPnmNVQCOABIREZEideUewNDQUGi1Wmlbvny51cetr6/H4cOHERsba7E/NjYWBw4cAADce++9KCkpwdmzZ/H9999j165diIuL63afewpHAImIiEiRurISiC1WJjl//jwaGxul1cNaBAUFSauI9erVCy+//DIMBgOamprw/PPPd7iSmBIxASQiIiJFampSoUnmGr8tcbZcmaT1PX1CCIt9U6ZMwZQpU2xyrJ7GBJCIiIgUqalRhaZGmQmgzDg5AgMDoVarpdG+FtXV1W1GBZ2VSrQ3jYVkqa2thVarxfz58+Ht7e3o5hDJYjAYEBMTg9zcXOzZs8fRzSEXVFdXhxUrVqCmpkbWSIwr/y515Z83a8+zNVo+E9PffRNevr1llam/fAV/eeyXuP3226FWq5GamorU1FRZZVUqFXbs2IHHHntM2nffffchKioK69atk/YNHz4c//M//9Ol+wqVhiOANnDBMFT2B7T/7q9x7pFhNm9Dd+q1pqwzxTr6+EqNbVKrm796qdvUwfPgfLG2LGurOusvXwFWWH+css/D4eXpI70eMuoUThUOkVXW2tieOm8d/bwp7bPTlXJdPc/W6Mol4Pz8fFkJ6aVLl3DixAnpdWlpKYqKihAQEICwsDAYjUYkJCQgOjoaer0er7/+OsrLy5GcnNy1zigME0AiIiJSpK4kgHIVFBTAYDBIr41GIwBgxowZyMrKwpNPPokLFy5gyZIlqKqqQmRkJHbt2oVBgwZZdRylYgJIREREiiSa5N8DKKxMAMeNG9fuw5xvlJKSgpSUFKvqdRZMAImIiEiRrl3zgOqavEcWX5MZR8343SIiIiJFamqybgOA0aNHY/jw4Vi7dq1jG69wHAEkIiIiRerKY2DkTgJxd0wAiYiISJHsOQnE3TEBJCIiIkViAmg/TACJiIhIkRobVfCQeQm40YYrgbgDJoBERESkSE3CihFAwQTQGoqbBbx06VKMHTsWvXv3Rt++fduNUalUbbYNGzZYxBQXFyMmJgY+Pj4YOHAglixZ0uZ5P7m5uYiKioK3tzeGDBnSpg4iIiJyHPHDJWA5W8tzADkLWB7FjQDW19fj8ccfh16vx6ZNmzqM27x5M+Lj46XXWq1W+ndtbS3Gjx8Pg8GA/Px8HD9+HImJifD19cXcuXMBNC/5MnHiRCQlJWHLli3Yv38/UlJS0L9/f0ydOtV+HSQiIiJZ7LkUnLtTXAK4ePFiAEBWVlancX379kVwcHC7723duhV1dXXIysqCRqNBZGQkjh8/jpUrV8JoNEojhmFhYVi1ahUAICIiAgUFBcjMzGQCSEREpABdeQwMyaO4S8BypaWlITAwEKNHj8aGDRvQ1PIESAB5eXmIiYmBRqOR9sXFxaGyshJlZWVSTGxsrEWdcXFxKCgoQENDQ4/0gYiIiDom9/KvNSOF1ExxI4ByvPTSS3j44Yfh4+ODjz/+GHPnzsX58+fx4osvAgBMJhMGDx5sUSYoKEh6Lzw8HCaTSdp3Y8y1a9dw/vx5hISEtDmu2WyG2WyWXtfW1tq4Z0RERM6l9d9CjUZjMQDTHc0rfMi9BGyTQ7qNHhkBzMjIaHfixo1bQUGB7PpefPFF6PV6jBw5EnPnzsWSJUvwxz/+0SJGpbL8wLRMALlxv5yYGy1fvhxarVbaQkNDZbeZiIjIFYWGhlr8bVy+fLnN6uYIoP30yAhgWloapk2b1mlM6xE7a4wZMwa1tbX45ptvEBQUhODgYJhMJouY6upqANdHAjuK6dWrF/r169fucRYsWACj0Si9rq2tZRJIRERuraKiwmLSha1G/4Cu3QM4evRoqNVqpKamIjU11WZtcTU9kgAGBgYiMDDQbvUXFhbC29tbemyMXq/HwoULUV9fDy8vLwBAdnY2dDqdlGjq9Xrs3LnTop7s7GxER0fD09Oz3eN0NKzdb89JeHt7y25v/91fy461RnfqtaasM8U6+vhKjPUw3Nr8tb4R/fe0rYPnwflibVnWFnXW1dV16RiD7ypt87t0yKhTsstbE9tT562znzelfXasLddynv38/Ow267YrzwHkLGB5FHcPYHl5Ob799luUl5ejsbERRUVFAIDbbrsNt9xyC3bu3AmTyQS9Xg8fHx/s2bMHixYtwjPPPCMlZ9OnT8fixYuRmJiIhQsX4uuvv8ayZcvwu9/9Trq8m5ycjDVr1sBoNCIpKQl5eXnYtGkT/vrXv1rd5guGofDy7S0rtv/ur3HukWFWH8Oe9VpT1pliHX18pcY2qdXNX73UbergeXC+WFuWtVWd9ZevACusP07Z5+Hw8vSRXg8ZdQqnCofIKmttbE+dt45+3pT22elKua6eZ2twKTj7UVwC+Lvf/Q5vvfWW9HrUqFEAgD179mDcuHHw9PTEunXrYDQa0dTUhCFDhmDJkiUWw7xarRY5OTlITU1FdHQ0/P39YTQaLS7fhoeHY9euXZgzZw7Wrl0LnU6HV199lY+AISIiUghhxSVgwcfAWEVxCWBWVlanzwCMj4+3eAB0R0aMGIG9e/d2GhMTE4MjR45Y20QiIiLqAU1NKqg4AmgXiksAiYiIiADA41oTPK7Je76LkBlHzZgAEhERkSKpGgVUjUJ2LMnHBJCIiIgUSdUk4NEkL7FrkhlHzZx2KTgiIiJybR6iOQGUtf2wmMPo0aMxfPhwrF271sGtVzaOABIREZEiqZoEVDJH9lri+BxAeZgAEhERkSJ5NAIeMu/t82i0c2NcDBNAIiIiUiQPK+4BlBtHzZgAEhERkSIxAbQfJoBERESkSF25B5DkYQJIREREisQRQPthAkhERESK5NEorJgEwgTQGkwAiYiISJFangMoN5bk44OgiYiISJl+uAdQzoYmPgjaGhwBJCIiIkXqyj2AfBC0PEwAiYiISJF4D6D9MAEkIiIiReJjYOyHCSAREREpkkdTEzyammTHknwqIThtpqtqa2uh1Woxf/58eHt7O7o5RLIYDAbExMQgNzcXe/bscXRzyAXV1dVhxYoVqKmpkXUvliv/LnXlnzdrz7M1Wj4Tk3++GZ5evWWVaai/gp1//X92aY8r4gigDVwwDIWXr7wPaP/dX+PcI8Ns3obu1GtNWWeKdfTxlRrbpFY3f/VSt6mD58H5Ym1Z1lZ11l++Aqyw/jhln4fDy9NHej1k1CmcKhwiq6y1sT113jr6eVPaZ6cr5bp6nq2hvtYEtUreyF7TNY4AWoMJIBERESkSVwKxH0U9B7CsrAwzZ85EeHg4fHx8MHToUKSnp6O+vt4irry8HJMnT4avry8CAwMxa9asNjHFxcWIiYmBj48PBg4ciCVLlqD11e7c3FxERUXB29sbQ4YMwYYNG+zeRyIiIpKnJQGUu5F8ihoB/Oqrr9DU1ITXXnsNt912G0pKSpCUlITLly8jMzMTANDY2IhHH30U/fv3x759+3DhwgXMmDEDQgisXr0aQPO9A+PHj4fBYEB+fj6OHz+OxMRE+Pr6Yu7cuQCA0tJSTJw4EUlJSdiyZQv279+PlJQU9O/fH1OnTnXY94CIiIiaeTQKeHjwMTD2oKgEMD4+HvHx8dLrIUOG4NixY1i/fr2UAGZnZ+Po0aOoqKiATqcDALz88stITEzE0qVL4efnh61bt6Kurg5ZWVnQaDSIjIzE8ePHsXLlShiNRqhUKmzYsAFhYWFYtWoVACAiIgIFBQXIzMxkAkhERKQETVY83oW3AFpFUQlge2pqahAQECC9zsvLQ2RkpJT8AUBcXBzMZjMOHz4Mg8GAvLw8xMTEQKPRWMQsWLAAZWVlCA8PR15eHmJjYy2OFRcXh02bNqGhoQGenp5t2mI2m2E2my3aBgD1l6/K7k9dXV3zjbM21p16rSnrTLGOPr5iY/v88FWgTR08D84Xa8uytqqz5Xei3IdMtMQ1NFj+Lq2rq0N9g7zfr1bH9tR56+DnTWmfna6UaznPLX8LW2g0Gou/v93RWH8F12QmgI3X5P8tJgBCwU6cOCH8/PzExo0bpX1JSUli/PjxbWK9vLzEX/7yFyGEEOPHjxdJSUkW7589e1YAEAcOHBBCCDFs2DCxdOlSi5j9+/cLAKKysrLd9qSnpwsA3Lhx48ZNxlZRUSHrd31FRYXD28rNdlt6erqs896Zq1eviuDgYKuP7efnJ+644w4REREh1qxZ0+12uLIeGQHMyMjA4sWLO43Jz89HdHS09LqyshLx8fF4/PHH8fTTT1vEqlSqNuWFEBb7W8eIH/4P09qYGy1YsABGo1F63dTUhG+//Rb9+vXrsAwRkbsRQuD777+3uFLTGZ1Oh4qKCvTp08fuv0tra2sRGhqKiooKl3tWXE/3TQiBCxcuICAgAB4e1+eU2mL0z9vbG6WlpW0meN6Ml5eXyz1L0l56JAFMS0vDtGnTOo0ZPHiw9O/KykoYDAbo9Xq8/vrrFnHBwcE4dOiQxb6LFy+ioaEBQUFBUozJZLKIqa6uBoCbxvTq1Qv9+vVrt43tDWv37du3034REbkjrVYrO9bDwwO33nqrHVvTlp+fn8slgC16sm/WnGdreXt7M5mzox5JAAMDAxEYGCgr9uzZszAYDIiKisLmzZst/q8CAPR6PZYuXYqqqiqEhIQAaJ4YotFoEBUVJcUsXLgQ9fX18PLykmJ0Op2UaOr1euzcudOi7uzsbERHR7d7/x8RERGRq1DUcwArKysxbtw4hIaGIjMzE+fOnYPJZLIYqYuNjcXw4cORkJCAwsJCfPzxx5g3bx6SkpKk/+OZPn06NBoNEhMTUVJSgh07dmDZsmXSDGAASE5OxunTp2E0GvHll1/izTffxKZNmzBv3jyH9J2IiIiopyhqFnB2djZOnDiBEydOtLkc0HJ/nlqtxgcffICUlBTcf//98PHxwfTp06XHxADNQ9I5OTlITU1FdHQ0/P39YTQaLe7fCw8Px65duzBnzhysXbsWOp0Or776Kh8BQ0TkwjQaDdLT0202S1VJXLlvZHsqIWTO0yciIiIil6CoS8AAsHTpUowdOxa9e/fucIKFSqVqs7Vexo1LwRERERG1T1GXgAGgvr4ejz/+OPR6PTZt2tRh3ObNmy1WDblxJhKXgiMiIiLqmOISwJbnBWZlZXUa17dvXwQHB7f7HpeCIyIiIuqY4i4By5WWlobAwECMHj0aGzZsQFPT9UUAO1oKrrKyEmVlZVJMe0vBFRQUoKGhoUf6QEREROQIihsBlOOll17Cww8/DB8fH3z88ceYO3cuzp8/jxdffBEAYDKZLB4sDVx/ALTJZEJ4eDhMJpO078aYa9eu4fz589IzBm/Uei1grgRCRNRWZytE2GOGallZGV566SV88sknMJlM0Ol0+MUvfoFFixZJz4IFgPLycqSmpuKTTz6xeILEjTHFxcVIS0vDZ599hoCAADz77LP47W9/a/E7Pjc3F0ajEV988QV0Oh2ef/55JCcn27xfLaZMmYKioiJUV1fD398fjzzyCH7/+99brLTirH0jB+qJ9ebkrKGbn59vUWbz5s1Cq9XKqj8zM1P4+flJr8ePHy+eeeYZi5gzZ84IACIvL08I0bwW8LJlyyxi9u3bJwCIqqqqLveDGzelb7t27bL4yo1bT222WCO2Pf/+979FYmKi+Oijj8TJkyfFe++9JwYMGCDmzp0rxVy7dk1ERkYKg8Egjhw5InJycoROpxNpaWlSTE1NjQgKChLTpk0TxcXFYvv27aJPnz4iMzNTijl16pTo3bu3+PWvfy2OHj0qNm7cKDw9PcU//vEPu/RNCCFWrlwp8vLyRFlZmdi/f7/Q6/VCr9e7RN/IcXrkMTDnz5/H+fPnO40ZPHiwxZIvWVlZmD17Nr777rub1r9//3488MAD0qjeU089hZqaGrz33ntSTGFhIe655x6cOnUK4eHh+PGPf4xRo0bhT3/6kxSzY8cOPPHEE7hy5Uq7q4G0HgGsqalBWFgYpo5fBU9Pn5u2EwAG31WKss/DZcVaozv1WlPWmWIdfXylxiYZh+PhRx7Ex7v/g40rj9q9DUr8HrhSrC3L2qrOhoar2J4zG+Xl5RYT9Ow1AtieP/7xj1i/fj1OnToFAPj3v/+NSZMmoaKiQho527ZtGxITE1FdXQ0/Pz+sX78eCxYswDfffCO1c8WKFVi9ejXOnDkDlUqFF154Af/617/w5ZdfSsdKTk7Gf//7X+Tl5fVI3/71r3/hscceg9lshqenp0v1jXqO4paC64rCwkJ4e3tLj42x11JwHf3y8vT0gZfMBNDb21t2rDW6U681ZZ0p1tHHV2qsCirpa+s6eB6cL9aWZW1dp1arddh6uzU1NQgICJBe5+XlITIy0uKyaVxcHMxmMw4fPgyDwdDh/eMLFixAWVkZwsPDO7x/fNOmTWhoaLD7UqLffvsttm7dirFjx0rHcpW+Uc9S3CSQ8vJyFBUVoby8HI2NjSgqKkJRUREuXboEANi5cyc2btyIkpISnDx5Em+88QYWLVqEZ555Rvpgcyk4IiL3dfLkSaxevdri3rX27vv29/eHl5eXtNxoR/eGt7zXWUzL/eP28sILL8DX1xf9+vVDeXm5xRUuZ+8bOYbiEsDf/e53GDVqFNLT03Hp0iWMGjUKo0aNQkFBAQDA09MT69atg16vx1133YU//elPWLJkCV5++WWpjpal4M6cOYPo6GikpKR0uBTcp59+ipEjR+Kll17iUnBERAqSkZHR7oP/b9xa/ja0qKysRHx8PB5//HE8/fTTFu+1N1lPCGGxv3VMy11S1sbYum+/+c1vUFhYiOzsbKjVajz11FMWixsoqW/kHBQ3CzgrK6vTZwDGx8dbPAC6IyNGjMDevXs7jYmJicGRI0esbWIbg+8qtbh/8WaGjDrV7WPaul5ryjpTrKOPr8RYteegH742tlsHz4PzxdqyrC3qrKurA3Z1/5hpaWmYNm1apzE3PvGhsrISBoMBer0er7/+ukVccHAwDh06ZLHv4sWLaGhokEa9goODpdGwFtXV1QBw05hevXqhX79+dutby61Ut99+OyIiIhAaGoqDBw9Cr9crrm/kHBSXADqjss/DZd8fM2TUKZwqHGLzNnSnXmvKOlOso4+v1NgfP6AGADQ2qNvUwfPgfLG2LGurOusbrtrkuNbcP3727FkYDAZERUVh8+bNFo+fAZrv+166dCmqqqqkx3xlZ2dDo9EgKipKirHH/ePd7VtrLaNyLZMSldY3cg6KuwRMRERkjcrKSowbNw6hoaHIzMzEuXPnYDKZLEazYmNjMXz4cCQkJKCwsBAff/wx5s2bh6SkJGmiihLvH//ss8+wZs0aFBUV4fTp09izZw+mT5+OoUOHQq/XO3XfyLE4AkhERE4tOzsbJ06cwIkTJ3DrrbdavNcyWqZWq/HBBx8gJSUF999/v8XDklu03D+empqK6Oho+Pv7d3j/+Jw5c7B27VrodDq73j/u4+ODf/7zn0hPT8fly5cREhKC+Ph4bNu2TZr46Kx9I8diAkhERE4tMTERiYmJN40LCwvD+++/32lMT94/LseIESPwySef3DTOGftGjsVLwERERERuhgkgERERkZthAkhERETkZpgAEhEREbkZJoBEREREboYJIBEREZGbYQJIRERE5GZU4sbVpMkqtbW10Gq1mD9/vlVrARM5ksFgQExMDHJzc7Fnzx5HN4dcUF1dHVasWIGamhppJQoiUhY+CNoGuBawMmMdfXylxnItYNeKtWVZW9Vpq7WAich+eAmYiIiIyM0wASQiIiJyM0wAiYiIiNwME0AiIiIiN8MEkIiIiMjNKCoBLCsrw8yZMxEeHg4fHx8MHToU6enpqK+vt4grLy/H5MmT4evri8DAQMyaNatNTHFxMWJiYuDj44OBAwdiyZIlaP3Em9zcXERFRcHb2xtDhgzBhg0b7N5HIiIiIkdT1GNgvvrqKzQ1NeG1117DbbfdhpKSEiQlJeHy5cvIzMwEADQ2NuLRRx9F//79sW/fPly4cAEzZsyAEAKrV68G0Px8vvHjx8NgMCA/Px/Hjx9HYmIifH19MXfuXABAaWkpJk6ciKSkJGzZsgX79+9HSkoK+vfvj6lTpzrse0BERERkb4pKAOPj4xEfHy+9HjJkCI4dO4b169dLCWB2djaOHj2KiooK6HQ6AMDLL7+MxMRELF26FH5+fti6dSvq6uqQlZUFjUaDyMhIHD9+HCtXroTRaIRKpcKGDRsQFhaGVatWAQAiIiJQUFCAzMxMJoBERETk0hR1Cbg9NTU1CAgIkF7n5eUhMjJSSv4AIC4uDmazGYcPH5ZiYmJioNFoLGIqKytRVlYmxcTGxlocKy4uDgUFBWhoaLBjj4iIiIgcS9EJ4MmTJ7F69WokJydL+0wmE4KCgizi/P394eXlBZPJ1GFMy+ubxVy7dg3nz59vtz1msxm1tbUWGxERta/170uz2ezoJhHRD3rkEnBGRgYWL17caUx+fj6io6Ol15WVlYiPj8fjjz+Op59+2iJWpVK1KS+EsNjfOqZlAoi1MTdavnx5u/0YfFepVWsBDxl1SnasNbpTrzVlnSnW0cdXYqzac9APXxvbrYPnwflibVnWFnXW1dUBu4DQ0FCL/enp6cjIyLBxy4ioK3okAUxLS8O0adM6jRk8eLD078rKShgMBuj1erz++usWccHBwTh06JDFvosXL6KhoUEa0QsODpZG+lpUV1cDwE1jevXqhX79+rXbxgULFsBoNEqva2trERoaiguGofDy7d1p/1r03/01zj0yTFasNbpTrzVlnSnW0cdXamyTunkt4CYvdZs6eB6cL9aWZW1VZ/3lK8AKoKKiAn5+ftL+G2/LISLH6pEEMDAwEIGBgbJiz549C4PBgKioKGzevBkeHpZXqfV6PZYuXYqqqiqEhIQAaJ4YotFoEBUVJcUsXLgQ9fX18PLykmJ0Op2UaOr1euzcudOi7uzsbERHR8PT07Pdtmk0Gv4CIyKSyc/PzyIBJCLlUNQ9gJWVlRg3bhxCQ0ORmZmJc+fOwWQyWYzUxcbGYvjw4UhISEBhYSE+/vhjzJs3D0lJSdIvmunTp0Oj0SAxMRElJSXYsWMHli1bJs0ABoDk5GScPn0aRqMRX375Jd58801s2rQJ8+bNc0jfiYiIiHqKoh4Dk52djRMnTuDEiRO49dZbLd5ruT9PrVbjgw8+QEpKCu6//374+Phg+vTp0mNiAECr1SInJwepqamIjo6Gv78/jEajxeXb8PBw7Nq1C3PmzMHatWuh0+nw6quv8hEwRERE5PIUlQAmJiYiMTHxpnFhYWF4//33O40ZMWIE9u7d22lMTEwMjhw5Yk0TiYiIiJyeoi4BExEREZH9MQEkIiIicjNMAImIiIjcDBNAIiIiIjfDBJCIiIjIzahEy/NVyGq1tbXQarWYP3++VUvBETmSwWBATEwMcnNzsWfPHkc3h1xQXV0dVqxYgZqaGj4ImkihFPUYGGfFpeCUGevo4ys1lkvBuVasLcvaqs6WpeCISLl4CZiIiIjIzTABJCIiInIzTACJiIiI3AwTQCIiIiI3wwSQiIiIyM0wASQiIiJyM0wAiYiIiNwME0AiIiIiN8MEkIiIiMjNMAEkIiIicjNcC7gbuBYwOSOuBUz2xrWAiZRPUWsBl5WV4aWXXsInn3wCk8kEnU6HX/ziF1i0aBG8vLykOJVK1abs+vXrkZycLL0uLi5GWloaPvvsMwQEBODZZ5/Fb3/7W4uyubm5MBqN+OKLL6DT6fD8889b1CEX1wJWZmz/3V8jbPFeWXWWp//YbWLV9z7Q/PVyQ5s67NEGa+t0ls+XUmJtWdZWdXItYCLlU1QC+NVXX6GpqQmvvfYabrvtNpSUlCApKQmXL19GZmamRezmzZsRHx8vvdZqtdK/a2trMX78eBgMBuTn5+P48eNITEyEr68v5s6dCwAoLS3FxIkTkZSUhC1btmD//v1ISUlB//79MXXq1J7pMBEREZEDdJgAPvTQQ4iJiUF6errF/osXL2Lq1Kn45JNPbN6Y+Ph4i6RuyJAhOHbsGNavX98mAezbty+Cg4PbrWfr1q2oq6tDVlYWNBoNIiMjcfz4caxcuRJGoxEqlQobNmxAWFgYVq1aBQCIiIhAQUEBMjMzmQASERGRS+vwHkAPDw/069cP999/P7Zu3QpfX18AwDfffAOdTofGxsYeaeCLL76IDz/8EAUFBdcbrVJh4MCBqKurQ3h4OGbOnIlnnnkGHh7Nc1qeeuop1NTU4L333pPKFBYW4p577sGpU6cQHh6OH//4xxg1ahT+9Kc/STE7duzAE088gStXrsDT07NNW8xmM8xms/S6trYWxcXF8OnrB7S9Kt0uj/pGNHmprf022LVea8o6U6xHfSPUlxtk1dno6+k2saXnKpEw4ym8/dafEd5fZ/c2WFuns3y+lBJry7I2q1MAhrEPoKKiwuIeQI1GA41GY9O2EVHXdHoJePfu3Xj22WcxZswY7Ny5E4MHD+6hZjU7efIkVq9ejZdfftli/0svvYSHH34YPj4++PjjjzF37lycP38eL774IgDAZDK1aWtQUJD0Xnh4OEwmk7Tvxphr167h/PnzCAkJadOe5cuXY/HixTbsIZHjJMx4ytFNIBcXGhpq8To9PR0ZGRmOaQwRWeg0AQwJCUFubi5++ctfYvTo0fj73/+OiIgIqw+SkZFx08QpPz8f0dHR0uvKykrEx8fj8ccfx9NPP20R25LoAcDIkSMBAEuWLLHY33qiSMtA54375cTcaMGCBTAajdJrjgAqO5YjgO3HcgTQtWJtWdZmdXYyAkhEytBhAtiSBGk0GmzduhX/93//h/j4eLzwwgtWHyQtLQ3Tpk3rNObGEbvKykoYDAbo9Xq8/vrrN61/zJgxqK2txTfffIOgoCAEBwfDZDJZxFRXVwO4PhLYUUyvXr3Qr1+/do/T3uWLiRMnIumjjfJnAe+x0yzgbtRrTVlniu2/h7OA24u9/YOFAIDw/jocf3SZ3dtgt1nATvRZtGesLcvaqs76y1cAAH5+fnwMDJFCdZgAtr418MUXX0RERARmzJhh9UECAwMRGBgoK/bs2bMwGAyIiorC5s2bpfv6OlNYWAhvb2/07dsXAKDX67Fw4ULU19dLj4/Jzs6GTqeTEk29Xo+dO3da1JOdnY3o6Oh27/8jIiIichUdZlelpaXo37+/xb6pU6fi0KFDePPNN+3SmMrKSowbNw6hoaHIzMzEuXPnYDKZLEbqdu7ciY0bN6KkpAQnT57EG2+8gUWLFuGZZ56RRuemT58OjUaDxMRElJSUYMeOHVi2bJk0AxgAkpOTcfr0aRiNRnz55Zd48803sWnTJsybN88ufSMiIiJSig5HAAcNGtTu/jvvvBN33nmnXRqTnZ2NEydO4MSJE7j11lst3msZkfT09MS6detgNBrR1NSEIUOGYMmSJUhNTZVitVotcnJykJqaiujoaPj7+8NoNFrcvxceHo5du3Zhzpw5WLt2LXQ6HV599VU+AoaIiIhcHpeC6wYuBUfOiEvBkb1xKTgi5VPUSiDOikvBKTPW0cdXamyTunk2Z5OXuk0dPA/OF2vLsraqk0vBESnfzWdYEBEREZFLYQJIRERE5GaYABIRERG5GSaARERERG6GCSARERGRm2ECSERERORmmAASERERuRkmgERERERuhgkgERERkZthAkhERETkZrgWcDdwLWByRlwLmOyNawETKR/XArYBrgWszFhHH1+psVwL2LVibVnWVnVyLWAi5eMlYCIiIiI3wwSQiIiIyM0wASQiIiJyM0wAiYiIiNwME0AiIiIiN6O4BHDKlCkICwuDt7c3QkJCkJCQgMrKSouY8vJyTJ48Gb6+vggMDMSsWbNQX19vEVNcXIyYmBj4+Phg4MCBWLJkCVo/8SY3NxdRUVHw9vbGkCFDsGHDBrv3j4iIiMjRFJcAGgwG/O1vf8OxY8ewfft2nDx5Ej/72c+k9xsbG/Hoo4/i8uXL2LdvH7Zt24bt27dj7ty5UkxtbS3Gjx8PnU6H/Px8rF69GpmZmVi5cqUUU1paiokTJ+LBBx9EYWEhFi5ciFmzZmH79u092l8iIiKinqa45wDOmTNH+vegQYMwf/58PPbYY2hoaICnpyeys7Nx9OhRVFRUQKfTAQBefvllJCYmYunSpfDz88PWrVtRV1eHrKwsaDQaREZG4vjx41i5ciWMRiNUKhU2bNiAsLAwrFq1CgAQERGBgoICZGZmYurUqY7oOhEREVGPUNwI4I2+/fZbbN26FWPHjoWnpycAIC8vD5GRkVLyBwBxcXEwm804fPiwFBMTEwONRmMRU1lZibKyMikmNjbW4nhxcXEoKChAQ0NDu+0xm82ora212IiIqH2tf1+azWZHN4mIfqC4EUAAeOGFF7BmzRpcuXIFY8aMwfvvvy+9ZzKZEBQUZBHv7+8PLy8vmEwmKWbw4MEWMS1lTCYTwsPD260nKCgI165dw/nz5xESEtKmXcuXL8fixYvb7O+356RVS8H13/217FhrdKdea8o6U6yjj6/EWA/Drc1f6xvRf0/bOngenC/WlmVtUWddXR0AIDQ01GJ/eno6MjIybNksIuqiHkkAMzIy2k2cbpSfn4/o6GgAwG9+8xvMnDkTp0+fxuLFi/HUU0/h/fffh0qlAgDp642EEBb7W8e0TACxNuZGCxYsgNFolF7X1tYiNDSUS8EpNNbRx1dqLJeCc61YW5a1VZ0tS8FVVFRYrAV841UZInKsHkkA09LSMG3atE5jbhyxCwwMRGBgIG6//XZEREQgNDQUBw8ehF6vR3BwMA4dOmRR9uLFi2hoaJBG9IKDg6XRwBbV1dUAcNOYXr16oV+/fu22UaPR8BcYEZFMfn5+FgkgESlHjySALQldV7SMyrXcO6LX67F06VJUVVVJl2mzs7Oh0WgQFRUlxSxcuBD19fXw8vKSYnQ6nZRo6vV67Ny50+JY2dnZiI6Olu43JCIiInJFipoE8tlnn2HNmjUoKirC6dOnsWfPHkyfPh1Dhw6FXq8HAMTGxmL48OFISEhAYWEhPv74Y8ybNw9JSUnS/2lOnz4dGo0GiYmJKCkpwY4dO7Bs2TJpBjAAJCcn4/Tp0zAajfjyyy/x5ptvYtOmTZg3b57D+k9ERETUExSVAPr4+OCf//wnHn74Ydxxxx345S9/icjISOTm5kqXXtVqNT744AN4e3vj/vvvxxNPPIHHHnsMmZmZUj1arRY5OTk4c+YMoqOjkZKSAqPRaHH/Xnh4OHbt2oVPP/0UI0eOxEsvvYRXX32Vj4AhIiIil6eoWcAjRozAJ598ctO4sLAwi5nBHdW1d+/eTmNiYmJw5MgRq9pIRERE5OwUNQJIRERERPbHBJCIiIjIzTABJCIiInIzTACJiIiI3AwTQCIiIiI3wwSQiIiIyM0wASQiIiJyM0wAiYiIiNyMSrQstktWq62thVarxfz58+Ht7e3o5hDJYjAYEBMTg9zcXOzZs8fRzSEXVFdXhxUrVqCmpkZaopOIlEVRK4E4qwuGofDy7S0rtv/ur3HukWE2b0N36rWmrDPFOvr4So1tUqubv3qp29TB8+B8sbYsa6s66y9fAVbYtAlEZGO8BExERETkZpgAEhEREbkZJoBEREREboYJIBEREZGbYQJIRERE5GaYABIRERG5GSaARERERG6GCSARERGRm1FcAjhlyhSEhYXB29sbISEhSEhIQGVlpUWMSqVqs23YsMEipri4GDExMfDx8cHAgQOxZMkStF70JDc3F1FRUfD29saQIUPa1EFERETkihSXABoMBvztb3/DsWPHsH37dpw8eRI/+9nP2sRt3rwZVVVV0jZjxgzpvdraWowfPx46nQ75+flYvXo1MjMzsXLlSimmtLQUEydOxIMPPojCwkIsXLgQs2bNwvbt23ukn0RERESOoril4ObMmSP9e9CgQZg/fz4ee+wxNDQ0wNPTU3qvb9++CA4ObreOrVu3oq6uDllZWdBoNIiMjMTx48excuVKGI1GacQwLCwMq1atAgBERESgoKAAmZmZmDp1ql37SERERORIiksAb/Ttt99i69atGDt2rEXyBwBpaWl4+umnER4ejpkzZ+KZZ56Bh0fzgGZeXh5iYmKg0Wik+Li4OCxYsABlZWUIDw9HXl4eYmNjLeqMi4vDpk2b2iSbLcxmM8xms/S6pqYGAFB/+arsPtXV1TWvk2lj3anXmrLOFOvo4ys2ts8PXwXa1MHz4Hyxtixrqzpbfie2/I5sodFoLH4vE5EDCQV6/vnnRe/evQUAMWbMGHH+/HmL91966SVx4MABUVhYKDIzM0Xv3r3FSy+9JL0/fvx4kZSUZFHm7NmzAoA4cOCAEEKIYcOGiaVLl1rE7N+/XwAQlZWV7bYrPT1dAODGjRs3bl3Y0tPTbfAXgohsoUdGADMyMrB48eJOY/Lz8xEdHQ0A+M1vfoOZM2fi9OnTWLx4MZ566im8//77UKlUAIAXX3xRKjdy5EgAwJIlSyz2t8S2ED9MALlxv5yYGy1YsABGo1F6/d1332HQoEEoLy+HVqvttH/OpLa2FqGhoaioqICfn5+jm2NTrto3V+0X4Lp9c9V+Ac0jf2FhYTh9+jT69u0r7efoH5Fy9EgCmJaWhmnTpnUaM3jwYOnfgYGBCAwMxO23346IiAiEhobi4MGD0Ov17ZYdM2YMamtr8c033yAoKAjBwcEwmUwWMdXV1QCAoKAgAOgwplevXujXr1+7x+no8oVWq3W5X+AA4Ofn55L9Aly3b67aL8B1++aq/QKa79V21b4RObseSQBbErquaBmVu/Heu9YKCwvh7e0t/Z+mXq/HwoULUV9fDy8vLwBAdnY2dDqdlGjq9Xrs3LnTop7s7GxER0e3e/8fERERkatQ1GNgPvvsM6xZswZFRUU4ffo09uzZg+nTp2Po0KHS6N/OnTuxceNGlJSU4OTJk3jjjTewaNEiPPPMM9Lo3PTp06HRaJCYmIiSkhLs2LEDy5Ytk2YAA0BycjJOnz4No9GIL7/8Em+++SY2bdqEefPmOaz/RERERD1BUbOAfXx88M9//hPp6em4fPkyQkJCEB8fj23btknJnaenJ9atWwej0YimpiYMGTIES5YsQWpqqlSPVqtFTk4OUlNTER0dDX9/fxiNRov798LDw7Fr1y7MmTMHa9euhU6nw6uvvmrVI2A0Gg3S09Nd7r4WV+0X4Lp9c9V+Aa7bN1ftF+DafSNyFSohWi2PQUREREQuTVGXgImIiIjI/pgAEhEREbkZJoBEREREboYJIBEREZGbYQLYjilTpiAsLAze3t4ICQlBQkICKisrLWLKy8sxefJk+Pr6IjAwELNmzUJ9fb1FTHFxMWJiYuDj44OBAwdiyZIlaD3nJjc3F1FRUfD29saQIUOwYcMGu/SprKwMM2fORHh4OHx8fDB06FCkp6e3abOz9avF0qVLMXbsWPTu3dti5YEbOWvf5Fi3bh3Cw8Ph7e2NqKgo/Oc//3F0kyzs3bsXkydPhk6ng0qlwrvvvmvxvhACGRkZ0Ol08PHxwbhx4/DFF19YxJjNZjz33HMIDAyEr68vpkyZgjNnzljEXLx4EQkJCdBqtdBqtUhISMB3331nt34tX74co0ePRp8+fTBgwAA89thjOHbsmNP3bf369bjrrrukh1Tr9Xr8+9//duo+EVErDlqCTtFWrlwp8vLyRFlZmdi/f7/Q6/VCr9dL71+7dk1ERkYKg8Egjhw5InJycoROpxNpaWlSTE1NjQgKChLTpk0TxcXFYvv27aJPnz4iMzNTijl16pTo3bu3+PWvfy2OHj0qNm7cKDw9PcU//vEPm/fp3//+t0hMTBQfffSROHnypHjvvffEgAEDxNy5c526Xy1+97vfiZUrVwqj0Si0Wm2b9525bzezbds24enpKTZu3CiOHj0qfv3rXwtfX19x+vRph7WptV27dolFixaJ7du3CwBix44dFu+vWLFC9OnTR2zfvl0UFxeLJ598UoSEhIja2lopJjk5WQwcOFDk5OSII0eOCIPBIO6++25x7do1KSY+Pl5ERkaKAwcOiAMHDojIyEgxadIku/UrLi5ObN68WZSUlIiioiLx6KOPirCwMHHp0iWn7tu//vUv8cEHH4hjx46JY8eOiYULFwpPT09RUlLitH0iIktMAGV47733hEqlEvX19UKI5j9mHh4e4uzZs1LMX//6V6HRaERNTY0QQoh169YJrVYr6urqpJjly5cLnU4nmpqahBBCPP/88+JHP/qRxbGeffZZMWbMGHt3SQghxB/+8AcRHh4uvXaFfm3evLndBNAV+taRe++9VyQnJ1vs+9GPfiTmz5/voBZ1rnUC2NTUJIKDg8WKFSukfXV1dUKr1YoNGzYIIYT47rvvhKenp9i2bZsUc/bsWeHh4SE+/PBDIYQQR48eFQDEwYMHpZi8vDwBQHz11Vd27lWz6upqAUDk5uYKIVyrb/7+/uKNN95wqT4RuTNeAr6Jb7/9Flu3bsXYsWOlJeLy8vIQGRkJnU4nxcXFxcFsNuPw4cNSTExMjMWDUOPi4lBZWYmysjIpJjY21uJ4cXFxKCgoQENDg5171rxge0BAgPTaVfrVHlftW319PQ4fPtymTbGxsThw4ECPt6crSktLYTKZLPqg0WgQExMj9eHw4cNoaGiwiNHpdIiMjJRi8vLyoNVqcd9990kxY8aMgVar7bHvRU1NDQBIP1eu0LfGxkZs27YNly9fhl6vd4k+ERHvAezQCy+8AF9fX/Tr1w/l5eV47733pPdMJhOCgoIs4v39/eHl5QWTydRhTMvrm8Vcu3YN58+ft3mfbnTy5EmsXr0aycnJ0j5X6FdHXLVv58+fR2NjY7ttammz0rW0s7M+mEwmeHl5wd/fv9OYAQMGtKl/wIABPfK9EELAaDTigQceQGRkpNSmlnbeyBn6VlxcjFtuuQUajQbJycnYsWMHhg8f7tR9IqLr3CYBzMjIgEql6nQrKCiQ4n/zm9+gsLAQ2dnZUKvVeOqppywmA7SsKXwjIYTF/tYxLeWtjbFlvwCgsrIS8fHxePzxx/H0009bvKeUfnW1b51RUt9srb02ObI9XdGVPtzs/MmtxxbS0tLw+eef469//Wub95yxb3fccQeKiopw8OBB/OpXv8KMGTNw9OjRDtvjDH0iousUtRawPaWlpWHatGmdxgwePFj6d2BgIAIDA3H77bcjIiICoaGhOHjwIPR6PYKDg3Ho0CGLshcvXkRDQ4P0f8XBwcFt/i+2uroaAG4a06tXL/Tr188u/aqsrITBYIBer8frr79uEaekfnWlb51RWt9sJTAwEGq1ut02tR6hUarg4GAAzSNCISEh0v4b+xAcHIz6+npcvHjRYlSpuroaY8eOlWK++eabNvWfO3fO7t+L5557Dv/617+wd+9e3HrrrdJ+Z+6bl5cXbrvtNgBAdHQ08vPz8ac//QkvvPCC0/aJiG7Qo3ccOqny8nIBQOzZs0cIcX1CQWVlpRSzbdu2NhMK+vbtK8xmsxSzYsWKNhMKIiIiLI6VnJxstwkFZ86cEcOGDRPTpk2zmInXwln7daObTQJx5r515N577xW/+tWvLPZFREQ43SSQ3//+99I+s9nc7qSCd955R4qprKxsd1LBoUOHpJiDBw/adVJBU1OTSE1NFTqdThw/frzd9521b6099NBDYsaMGS7VJyJ3xgSwlUOHDonVq1eLwsJCUVZWJj755BPxwAMPiKFDh0qzQ1seKfLwww+LI0eOiN27d4tbb73V4pEi3333nQgKChI///nPRXFxsfjnP/8p/Pz82n2kyJw5c8TRo0fFpk2b7PZIkbNnz4rbbrtNPPTQQ+LMmTOiqqpK2lo4Y79anD59WhQWForFixeLW265RRQWForCwkLx/fffO33fbqblMTCbNm0SR48eFbNnzxa+vr6irKzMYW1q7fvvv5fOCQCxcuVKUVhYKD2qZsWKFUKr1Yp//vOfori4WPz85z9v97Eit956q9i9e7c4cuSIeOihh9p9rMhdd90l8vLyRF5enhgxYoRdHyvyq1/9Smi1WvHpp59a/ExduXJFinHGvi1YsEDs3btXlJaWis8//1wsXLhQeHh4iOzsbKftExFZYgLYyueffy4MBoMICAgQGo1GDB48WCQnJ4szZ85YxJ0+fVo8+uijwsfHRwQEBIi0tDSLx4e01PXggw8KjUYjgoODRUZGhjSS1OLTTz8Vo0aNEl5eXmLw4MFi/fr1dunX5s2bBYB2N2fuV4sZM2a027eWUVtn7psca9euFYMGDRJeXl7innvukR5DohR79uxp9/zMmDFDCNE8Upaeni6Cg4OFRqMRP/7xj0VxcbFFHVevXhVpaWkiICBA+Pj4iEmTJony8nKLmAsXLoj//d//FX369BF9+vQR//u//ysuXrxot3519DO1efNmKcYZ+/bLX/5S+jz1799fPPzww1Ly56x9IiJLKiFaLXNARERERC7NbWYBExEREVEzJoBEREREboYJIBEREZGbYQJIRERE5GaYABIRERG5GSaARERERG6GCSARERGRm2ECSERERORmmAASERERuRkmgERERERuhgkgkRM7d+4cgoODsWzZMmnfoUOH4OXlhezsbAe2jIiIlIxrARM5uV27duGxxx7DgQMH8KMf/QijRo3Co48+ilWrVjm6aUREpFBMAIlcQGpqKnbv3o3Ro0fjv//9L/Lz8+Ht7e3oZhERkUIxASRyAVevXkVkZCQqKipQUFCAu+66y9FNIiIiBeM9gEQu4NSpU6isrERTUxNOnz7t6OYQEZHCcQSQyMnV19fj3nvvxciRI/GjH/0IK1euRHFxMYKCghzdNCIiUigmgERO7je/+Q3+8Y9/4L///S9uueUWGAwG9OnTB++//76jm0ZERArFS8BETuzTTz/FqlWr8Pbbb8PPzw8eHh54++23sW/fPqxfv97RzSMiIoXiCCARERGRm+EIIBEREZGbYQJIRERE5GaYABIRERG5GSaARERERG6GCSARERGRm2ECSERERORmmAASERERuRkmgERERERuhgkgERERkZthAkhERETkZpgAEhEREbkZJoBEREREbub/A0CK3qekMHHEAAAAAElFTkSuQmCC' width=640.0/>\n",
       "            </div>\n",
       "        "
      ],
      "text/plain": [
       "Canvas(capture_scroll=True, toolbar=Toolbar(toolitems=[('Home', 'Reset original view', 'home', 'home'), ('Back…"
      ]
     },
     "metadata": {},
     "output_type": "display_data"
    },
    {
     "data": {
      "text/plain": [
       "Model: conductivity; isotropic; 32 x 24 x 24 (18,432)"
      ]
     },
     "execution_count": 4,
     "metadata": {},
     "output_type": "execute_result"
    }
   ],
   "source": [
    "# Initiate with background resistivity\n",
    "sigma = np.ones(mesh.n_cells)\n",
    "\n",
    "# Add water layer\n",
    "sigma[mesh.cell_centers[:, 2] > seafloor] = 1/0.3\n",
    "\n",
    "# Add target\n",
    "inds_target = (\n",
    "    (abs(mesh.cell_centers[:, 0]) < 1000) &\n",
    "    (abs(mesh.cell_centers[:, 1]) < 1000) &\n",
    "    np.logical_and(mesh.cell_centers[:, 2] < seafloor-500,\n",
    "                   mesh.cell_centers[:, 2] > seafloor-700) \n",
    ")\n",
    "sigma[inds_target] = 1/100.\n",
    "\n",
    "# Create model\n",
    "model = emg3d.Model(mesh, sigma, mapping='Conductivity')\n",
    "\n",
    "# QC\n",
    "mesh.plot_3d_slicer(\n",
    "    1/sigma,  # Plot resistivities, not conductivities\n",
    "    pcolor_opts={'edgecolors': 'grey', 'linewidth': 0.5,\n",
    "                 'cmap':'Spectral_r',\n",
    "                 'norm':LogNorm(vmin=0.3, vmax=100)}, \n",
    "    xlim=[-3000, 3000],\n",
    "    ylim=[-2000, 2000],\n",
    "    zlim=[seafloor-1500, seafloor+500],\n",
    "    zslice=seafloor-500,\n",
    ")\n",
    "\n",
    "# QC\n",
    "model"
   ]
  },
  {
   "cell_type": "markdown",
   "metadata": {
    "iooxa": {
     "id": {
      "block": "YP86P7MMpySwBCnCrhpQ",
      "project": "rzeiFG3sdIcsFLl4Infw",
      "version": 4
     }
    }
   },
   "source": [
    "## Create a survey\n",
    "\n",
    "For now, we have sources and receivers on the corresponding edges. However, this has to become flexible!"
   ]
  },
  {
   "cell_type": "code",
   "execution_count": 5,
   "metadata": {
    "iooxa": {
     "id": {
      "block": "G8wlDsnhmITmKyKj8thR",
      "project": "rzeiFG3sdIcsFLl4Infw",
      "version": 2
     },
     "outputId": {
      "block": "sEq6F6duyXOqwOlJWoji",
      "project": "rzeiFG3sdIcsFLl4Infw",
      "version": 1
     }
    }
   },
   "outputs": [
    {
     "data": {
      "text/plain": [
       "[<matplotlib.lines.Line2D at 0x738f179f5c40>]"
      ]
     },
     "execution_count": 5,
     "metadata": {},
     "output_type": "execute_result"
    },
    {
     "data": {
      "application/vnd.jupyter.widget-view+json": {
       "model_id": "922b68d84be54b23a2dd6585049141c7",
       "version_major": 2,
       "version_minor": 0
      },
      "image/png": "[encoded data removed]",
      "text/html": [
       "\n",
       "            <div style=\"display: inline-block;\">\n",
       "                <div class=\"jupyter-widgets widget-label\" style=\"text-align: center;\">\n",
       "                    Figure\n",
       "                </div>\n",
       "                <img src='data:image/png;base64,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' width=640.0/>\n",
       "            </div>\n",
       "        "
      ],
      "text/plain": [
       "Canvas(toolbar=Toolbar(toolitems=[('Home', 'Reset original view', 'home', 'home'), ('Back', 'Back to previous …"
      ]
     },
     "metadata": {},
     "output_type": "display_data"
    }
   ],
   "source": [
    "# Receiver line\n",
    "rec_x = mesh.cell_centers_x[abs(mesh.cell_centers_x) < 2100]\n",
    "xyz_rx = simpeg.utils.ndgrid(rec_x, 0, seafloor+100)\n",
    "\n",
    "# Source line\n",
    "# xyz_src = SimPEG.utils.ndgrid(rec_x[::5], 0, seafloor+100)  # 8 sources\n",
    "xyz_src = simpeg.utils.ndgrid(rec_x[::8], 0, seafloor+100)  # 5 sources\n",
    "\n",
    "# QC\n",
    "mesh.plot_slice(\n",
    "    1./sigma, grid=True, normal='Z', \n",
    "    ind=12,\n",
    "    pcolor_opts={'cmap':'Spectral_r', 'norm':LogNorm(vmin=1, vmax=100)}, \n",
    "    range_x=(-3000, 3000),\n",
    "    range_y=(-2000, 2000),\n",
    ")\n",
    "plt.plot(xyz_rx[:,0], xyz_rx[:,1], 'r.')\n",
    "plt.plot(xyz_src[:,0], xyz_src[:,1], 'w*')"
   ]
  },
  {
   "cell_type": "markdown",
   "metadata": {
    "iooxa": {
     "id": {
      "block": "iP5997pABURolvBDjeqh",
      "project": "rzeiFG3sdIcsFLl4Infw",
      "version": 1
     }
    }
   },
   "source": [
    "### For now we only have one receiver list.\n",
    "\n",
    "**However, we have to test with arbitrary source/receiver/frequency combination, if the interaction SimPEG(emg3d) works.**"
   ]
  },
  {
   "cell_type": "code",
   "execution_count": 6,
   "metadata": {
    "iooxa": {
     "id": {
      "block": "jHBSPC9DYYXMR1Imswnr",
      "project": "rzeiFG3sdIcsFLl4Infw",
      "version": 4
     },
     "outputId": null
    }
   },
   "outputs": [],
   "source": [
    "rx_list = [\n",
    "    FDEM.receivers.PointElectricField(\n",
    "        orientation='x', component=\"complex\", locations=xyz_rx),\n",
    "]\n",
    "\n",
    "src_list = []\n",
    "for ii in range(xyz_src.shape[0]):\n",
    "    src = FDEM.sources.ElectricDipole(\n",
    "        rx_list, location=xyz_src[ii,:], frequency=frequency, azimuth=0, elevation=0)\n",
    "    src_list.append(src)\n",
    "\n",
    "survey = FDEM.Survey(src_list)"
   ]
  },
  {
   "cell_type": "markdown",
   "metadata": {
    "iooxa": {
     "id": {
      "block": "1GrAIBZawIZ5MXqmsRvg",
      "project": "rzeiFG3sdIcsFLl4Infw",
      "version": 2
     }
    }
   },
   "source": [
    "## Create SimPEG-Simulation"
   ]
  },
  {
   "cell_type": "code",
   "execution_count": 7,
   "metadata": {
    "iooxa": {
     "id": {
      "block": "22cCYGtCrdlxFs8hyF7E",
      "project": "rzeiFG3sdIcsFLl4Infw",
      "version": 2
     },
     "outputId": null
    }
   },
   "outputs": [],
   "source": [
    "active_map = simpeg.maps.InjectActiveCells(mesh, inds_active, sigma[~inds_active])\n",
    "nP = int(inds_active.sum())\n",
    "conductivity_map = active_map * simpeg.maps.ExpMap(nP=nP)"
   ]
  },
  {
   "cell_type": "code",
   "execution_count": 8,
   "metadata": {
    "iooxa": {
     "id": {
      "block": "HUMWYUlhNOw2HibcvTnw",
      "project": "rzeiFG3sdIcsFLl4Infw",
      "version": 2
     },
     "outputId": null
    },
    "scrolled": true
   },
   "outputs": [],
   "source": [
    "# Define the Simulation\n",
    "simulation = emg3d.inversion.simpeg.FDEMSimulation(\n",
    "        mesh,\n",
    "        survey=survey,\n",
    "        sigmaMap=conductivity_map,\n",
    "        verbose=False,\n",
    "#        simulation_opts={\n",
    "#            'solver_opts': {\n",
    "#                'maxit': 1,     # To speed up for testing\n",
    "#                'plain': True   # \" \"  (fails faster)\n",
    "#            },\n",
    "#            'verb': -1,         # To not raise convergence warnings\n",
    "#        },\n",
    ")\n",
    "\n",
    "# True and initial model\n",
    "m_true =  np.log(sigma[inds_active])\n",
    "m0 =  np.ones(m_true.shape) * np.log(1.)"
   ]
  },
  {
   "cell_type": "markdown",
   "metadata": {
    "iooxa": {
     "id": {
      "block": "fuW1uAeoVFpWngPrXvWp",
      "project": "rzeiFG3sdIcsFLl4Infw",
      "version": 1
     }
    }
   },
   "source": [
    "## QC emg3d-Survey created by SimPEG"
   ]
  },
  {
   "cell_type": "code",
   "execution_count": 9,
   "metadata": {
    "iooxa": {
     "id": {
      "block": "HUMWYUlhNOw2HibcvTnw",
      "project": "rzeiFG3sdIcsFLl4Infw",
      "version": 3
     },
     "outputId": {
      "block": "FF3N7mB5gXADn1Gvfkg9",
      "project": "rzeiFG3sdIcsFLl4Infw",
      "version": 1
     }
    }
   },
   "outputs": [
    {
     "data": {
      "text/html": [
       "<h3>Survey «Survey created by SimPEG»</h3><div><svg style=\"position: absolute; width: 0; height: 0; overflow: hidden\">\n",
       "<defs>\n",
       "<symbol id=\"icon-database\" viewBox=\"0 0 32 32\">\n",
       "<path d=\"M16 0c-8.837 0-16 2.239-16 5v4c0 2.761 7.163 5 16 5s16-2.239 16-5v-4c0-2.761-7.163-5-16-5z\"></path>\n",
       "<path d=\"M16 17c-8.837 0-16-2.239-16-5v6c0 2.761 7.163 5 16 5s16-2.239 16-5v-6c0 2.761-7.163 5-16 5z\"></path>\n",
       "<path d=\"M16 26c-8.837 0-16-2.239-16-5v6c0 2.761 7.163 5 16 5s16-2.239 16-5v-6c0 2.761-7.163 5-16 5z\"></path>\n",
       "</symbol>\n",
       "<symbol id=\"icon-file-text2\" viewBox=\"0 0 32 32\">\n",
       "<path d=\"M28.681 7.159c-0.694-0.947-1.662-2.053-2.724-3.116s-2.169-2.030-3.116-2.724c-1.612-1.182-2.393-1.319-2.841-1.319h-15.5c-1.378 0-2.5 1.121-2.5 2.5v27c0 1.378 1.122 2.5 2.5 2.5h23c1.378 0 2.5-1.122 2.5-2.5v-19.5c0-0.448-0.137-1.23-1.319-2.841zM24.543 5.457c0.959 0.959 1.712 1.825 2.268 2.543h-4.811v-4.811c0.718 0.556 1.584 1.309 2.543 2.268zM28 29.5c0 0.271-0.229 0.5-0.5 0.5h-23c-0.271 0-0.5-0.229-0.5-0.5v-27c0-0.271 0.229-0.5 0.5-0.5 0 0 15.499-0 15.5 0v7c0 0.552 0.448 1 1 1h7v19.5z\"></path>\n",
       "<path d=\"M23 26h-14c-0.552 0-1-0.448-1-1s0.448-1 1-1h14c0.552 0 1 0.448 1 1s-0.448 1-1 1z\"></path>\n",
       "<path d=\"M23 22h-14c-0.552 0-1-0.448-1-1s0.448-1 1-1h14c0.552 0 1 0.448 1 1s-0.448 1-1 1z\"></path>\n",
       "<path d=\"M23 18h-14c-0.552 0-1-0.448-1-1s0.448-1 1-1h14c0.552 0 1 0.448 1 1s-0.448 1-1 1z\"></path>\n",
       "</symbol>\n",
       "</defs>\n",
       "</svg>\n",
       "<style>/* CSS stylesheet for displaying xarray objects in jupyterlab.\n",
       " *\n",
       " */\n",
       "\n",
       ":root {\n",
       "  --xr-font-color0: var(--jp-content-font-color0, rgba(0, 0, 0, 1));\n",
       "  --xr-font-color2: var(--jp-content-font-color2, rgba(0, 0, 0, 0.54));\n",
       "  --xr-font-color3: var(--jp-content-font-color3, rgba(0, 0, 0, 0.38));\n",
       "  --xr-border-color: var(--jp-border-color2, #e0e0e0);\n",
       "  --xr-disabled-color: var(--jp-layout-color3, #bdbdbd);\n",
       "  --xr-background-color: var(--jp-layout-color0, white);\n",
       "  --xr-background-color-row-even: var(--jp-layout-color1, white);\n",
       "  --xr-background-color-row-odd: var(--jp-layout-color2, #eeeeee);\n",
       "}\n",
       "\n",
       "html[theme=dark],\n",
       "html[data-theme=dark],\n",
       "body[data-theme=dark],\n",
       "body.vscode-dark {\n",
       "  --xr-font-color0: rgba(255, 255, 255, 1);\n",
       "  --xr-font-color2: rgba(255, 255, 255, 0.54);\n",
       "  --xr-font-color3: rgba(255, 255, 255, 0.38);\n",
       "  --xr-border-color: #1F1F1F;\n",
       "  --xr-disabled-color: #515151;\n",
       "  --xr-background-color: #111111;\n",
       "  --xr-background-color-row-even: #111111;\n",
       "  --xr-background-color-row-odd: #313131;\n",
       "}\n",
       "\n",
       ".xr-wrap {\n",
       "  display: block !important;\n",
       "  min-width: 300px;\n",
       "  max-width: 700px;\n",
       "}\n",
       "\n",
       ".xr-text-repr-fallback {\n",
       "  /* fallback to plain text repr when CSS is not injected (untrusted notebook) */\n",
       "  display: none;\n",
       "}\n",
       "\n",
       ".xr-header {\n",
       "  padding-top: 6px;\n",
       "  padding-bottom: 6px;\n",
       "  margin-bottom: 4px;\n",
       "  border-bottom: solid 1px var(--xr-border-color);\n",
       "}\n",
       "\n",
       ".xr-header > div,\n",
       ".xr-header > ul {\n",
       "  display: inline;\n",
       "  margin-top: 0;\n",
       "  margin-bottom: 0;\n",
       "}\n",
       "\n",
       ".xr-obj-type,\n",
       ".xr-array-name {\n",
       "  margin-left: 2px;\n",
       "  margin-right: 10px;\n",
       "}\n",
       "\n",
       ".xr-obj-type {\n",
       "  color: var(--xr-font-color2);\n",
       "}\n",
       "\n",
       ".xr-sections {\n",
       "  padding-left: 0 !important;\n",
       "  display: grid;\n",
       "  grid-template-columns: 150px auto auto 1fr 20px 20px;\n",
       "}\n",
       "\n",
       ".xr-section-item {\n",
       "  display: contents;\n",
       "}\n",
       "\n",
       ".xr-section-item input {\n",
       "  display: none;\n",
       "}\n",
       "\n",
       ".xr-section-item input + label {\n",
       "  color: var(--xr-disabled-color);\n",
       "}\n",
       "\n",
       ".xr-section-item input:enabled + label {\n",
       "  cursor: pointer;\n",
       "  color: var(--xr-font-color2);\n",
       "}\n",
       "\n",
       ".xr-section-item input:enabled + label:hover {\n",
       "  color: var(--xr-font-color0);\n",
       "}\n",
       "\n",
       ".xr-section-summary {\n",
       "  grid-column: 1;\n",
       "  color: var(--xr-font-color2);\n",
       "  font-weight: 500;\n",
       "}\n",
       "\n",
       ".xr-section-summary > span {\n",
       "  display: inline-block;\n",
       "  padding-left: 0.5em;\n",
       "}\n",
       "\n",
       ".xr-section-summary-in:disabled + label {\n",
       "  color: var(--xr-font-color2);\n",
       "}\n",
       "\n",
       ".xr-section-summary-in + label:before {\n",
       "  display: inline-block;\n",
       "  content: '►';\n",
       "  font-size: 11px;\n",
       "  width: 15px;\n",
       "  text-align: center;\n",
       "}\n",
       "\n",
       ".xr-section-summary-in:disabled + label:before {\n",
       "  color: var(--xr-disabled-color);\n",
       "}\n",
       "\n",
       ".xr-section-summary-in:checked + label:before {\n",
       "  content: '▼';\n",
       "}\n",
       "\n",
       ".xr-section-summary-in:checked + label > span {\n",
       "  display: none;\n",
       "}\n",
       "\n",
       ".xr-section-summary,\n",
       ".xr-section-inline-details {\n",
       "  padding-top: 4px;\n",
       "  padding-bottom: 4px;\n",
       "}\n",
       "\n",
       ".xr-section-inline-details {\n",
       "  grid-column: 2 / -1;\n",
       "}\n",
       "\n",
       ".xr-section-details {\n",
       "  display: none;\n",
       "  grid-column: 1 / -1;\n",
       "  margin-bottom: 5px;\n",
       "}\n",
       "\n",
       ".xr-section-summary-in:checked ~ .xr-section-details {\n",
       "  display: contents;\n",
       "}\n",
       "\n",
       ".xr-array-wrap {\n",
       "  grid-column: 1 / -1;\n",
       "  display: grid;\n",
       "  grid-template-columns: 20px auto;\n",
       "}\n",
       "\n",
       ".xr-array-wrap > label {\n",
       "  grid-column: 1;\n",
       "  vertical-align: top;\n",
       "}\n",
       "\n",
       ".xr-preview {\n",
       "  color: var(--xr-font-color3);\n",
       "}\n",
       "\n",
       ".xr-array-preview,\n",
       ".xr-array-data {\n",
       "  padding: 0 5px !important;\n",
       "  grid-column: 2;\n",
       "}\n",
       "\n",
       ".xr-array-data,\n",
       ".xr-array-in:checked ~ .xr-array-preview {\n",
       "  display: none;\n",
       "}\n",
       "\n",
       ".xr-array-in:checked ~ .xr-array-data,\n",
       ".xr-array-preview {\n",
       "  display: inline-block;\n",
       "}\n",
       "\n",
       ".xr-dim-list {\n",
       "  display: inline-block !important;\n",
       "  list-style: none;\n",
       "  padding: 0 !important;\n",
       "  margin: 0;\n",
       "}\n",
       "\n",
       ".xr-dim-list li {\n",
       "  display: inline-block;\n",
       "  padding: 0;\n",
       "  margin: 0;\n",
       "}\n",
       "\n",
       ".xr-dim-list:before {\n",
       "  content: '(';\n",
       "}\n",
       "\n",
       ".xr-dim-list:after {\n",
       "  content: ')';\n",
       "}\n",
       "\n",
       ".xr-dim-list li:not(:last-child):after {\n",
       "  content: ',';\n",
       "  padding-right: 5px;\n",
       "}\n",
       "\n",
       ".xr-has-index {\n",
       "  font-weight: bold;\n",
       "}\n",
       "\n",
       ".xr-var-list,\n",
       ".xr-var-item {\n",
       "  display: contents;\n",
       "}\n",
       "\n",
       ".xr-var-item > div,\n",
       ".xr-var-item label,\n",
       ".xr-var-item > .xr-var-name span {\n",
       "  background-color: var(--xr-background-color-row-even);\n",
       "  margin-bottom: 0;\n",
       "}\n",
       "\n",
       ".xr-var-item > .xr-var-name:hover span {\n",
       "  padding-right: 5px;\n",
       "}\n",
       "\n",
       ".xr-var-list > li:nth-child(odd) > div,\n",
       ".xr-var-list > li:nth-child(odd) > label,\n",
       ".xr-var-list > li:nth-child(odd) > .xr-var-name span {\n",
       "  background-color: var(--xr-background-color-row-odd);\n",
       "}\n",
       "\n",
       ".xr-var-name {\n",
       "  grid-column: 1;\n",
       "}\n",
       "\n",
       ".xr-var-dims {\n",
       "  grid-column: 2;\n",
       "}\n",
       "\n",
       ".xr-var-dtype {\n",
       "  grid-column: 3;\n",
       "  text-align: right;\n",
       "  color: var(--xr-font-color2);\n",
       "}\n",
       "\n",
       ".xr-var-preview {\n",
       "  grid-column: 4;\n",
       "}\n",
       "\n",
       ".xr-index-preview {\n",
       "  grid-column: 2 / 5;\n",
       "  color: var(--xr-font-color2);\n",
       "}\n",
       "\n",
       ".xr-var-name,\n",
       ".xr-var-dims,\n",
       ".xr-var-dtype,\n",
       ".xr-preview,\n",
       ".xr-attrs dt {\n",
       "  white-space: nowrap;\n",
       "  overflow: hidden;\n",
       "  text-overflow: ellipsis;\n",
       "  padding-right: 10px;\n",
       "}\n",
       "\n",
       ".xr-var-name:hover,\n",
       ".xr-var-dims:hover,\n",
       ".xr-var-dtype:hover,\n",
       ".xr-attrs dt:hover {\n",
       "  overflow: visible;\n",
       "  width: auto;\n",
       "  z-index: 1;\n",
       "}\n",
       "\n",
       ".xr-var-attrs,\n",
       ".xr-var-data,\n",
       ".xr-index-data {\n",
       "  display: none;\n",
       "  background-color: var(--xr-background-color) !important;\n",
       "  padding-bottom: 5px !important;\n",
       "}\n",
       "\n",
       ".xr-var-attrs-in:checked ~ .xr-var-attrs,\n",
       ".xr-var-data-in:checked ~ .xr-var-data,\n",
       ".xr-index-data-in:checked ~ .xr-index-data {\n",
       "  display: block;\n",
       "}\n",
       "\n",
       ".xr-var-data > table {\n",
       "  float: right;\n",
       "}\n",
       "\n",
       ".xr-var-name span,\n",
       ".xr-var-data,\n",
       ".xr-index-name div,\n",
       ".xr-index-data,\n",
       ".xr-attrs {\n",
       "  padding-left: 25px !important;\n",
       "}\n",
       "\n",
       ".xr-attrs,\n",
       ".xr-var-attrs,\n",
       ".xr-var-data,\n",
       ".xr-index-data {\n",
       "  grid-column: 1 / -1;\n",
       "}\n",
       "\n",
       "dl.xr-attrs {\n",
       "  padding: 0;\n",
       "  margin: 0;\n",
       "  display: grid;\n",
       "  grid-template-columns: 125px auto;\n",
       "}\n",
       "\n",
       ".xr-attrs dt,\n",
       ".xr-attrs dd {\n",
       "  padding: 0;\n",
       "  margin: 0;\n",
       "  float: left;\n",
       "  padding-right: 10px;\n",
       "  width: auto;\n",
       "}\n",
       "\n",
       ".xr-attrs dt {\n",
       "  font-weight: normal;\n",
       "  grid-column: 1;\n",
       "}\n",
       "\n",
       ".xr-attrs dt:hover span {\n",
       "  display: inline-block;\n",
       "  background: var(--xr-background-color);\n",
       "  padding-right: 10px;\n",
       "}\n",
       "\n",
       ".xr-attrs dd {\n",
       "  grid-column: 2;\n",
       "  white-space: pre-wrap;\n",
       "  word-break: break-all;\n",
       "}\n",
       "\n",
       ".xr-icon-database,\n",
       ".xr-icon-file-text2,\n",
       ".xr-no-icon {\n",
       "  display: inline-block;\n",
       "  vertical-align: middle;\n",
       "  width: 1em;\n",
       "  height: 1.5em !important;\n",
       "  stroke-width: 0;\n",
       "  stroke: currentColor;\n",
       "  fill: currentColor;\n",
       "}\n",
       "</style><pre class='xr-text-repr-fallback'>&lt;xarray.Dataset&gt; Size: 2kB\n",
       "Dimensions:   (src: 3, rec: 21, freq: 1)\n",
       "Coordinates:\n",
       "  * src       (src) &lt;U6 72B &#x27;TxED-1&#x27; &#x27;TxED-2&#x27; &#x27;TxED-3&#x27;\n",
       "  * rec       (rec) &lt;U7 588B &#x27;RxEP-01&#x27; &#x27;RxEP-02&#x27; ... &#x27;RxEP-20&#x27; &#x27;RxEP-21&#x27;\n",
       "  * freq      (freq) &lt;U3 12B &#x27;f-1&#x27;\n",
       "Data variables:\n",
       "    observed  (src, rec, freq) complex128 1kB (nan+nanj) ... (nan+nanj)\n",
       "    indices   (src, rec, freq) int64 504B 0 1 2 3 4 5 6 ... 56 57 58 59 60 61 62\n",
       "Attributes:\n",
       "    noise_floor:     1.0\n",
       "    relative_error:  None</pre><div class='xr-wrap' style='display:none'><div class='xr-header'><div class='xr-obj-type'>xarray.Dataset</div></div><ul class='xr-sections'><li class='xr-section-item'><input id='section-7a356e50-4d68-4a1a-a036-276f4233c41d' class='xr-section-summary-in' type='checkbox' disabled ><label for='section-7a356e50-4d68-4a1a-a036-276f4233c41d' class='xr-section-summary'  title='Expand/collapse section'>Dimensions:</label><div class='xr-section-inline-details'><ul class='xr-dim-list'><li><span class='xr-has-index'>src</span>: 3</li><li><span class='xr-has-index'>rec</span>: 21</li><li><span class='xr-has-index'>freq</span>: 1</li></ul></div><div class='xr-section-details'></div></li><li class='xr-section-item'><input id='section-1744d4c1-3337-4e95-84a2-5a5a29e3cc0e' class='xr-section-summary-in' type='checkbox'  checked><label for='section-1744d4c1-3337-4e95-84a2-5a5a29e3cc0e' class='xr-section-summary' >Coordinates: <span>(3)</span></label><div class='xr-section-inline-details'></div><div class='xr-section-details'><ul class='xr-var-list'><li class='xr-var-item'><div class='xr-var-name'><span class='xr-has-index'>src</span></div><div class='xr-var-dims'>(src)</div><div class='xr-var-dtype'>&lt;U6</div><div class='xr-var-preview xr-preview'>&#x27;TxED-1&#x27; &#x27;TxED-2&#x27; &#x27;TxED-3&#x27;</div><input id='attrs-928f0e93-feb6-497b-8e15-6697fbc85331' class='xr-var-attrs-in' type='checkbox' ><label for='attrs-928f0e93-feb6-497b-8e15-6697fbc85331' title='Show/Hide attributes'><svg class='icon xr-icon-file-text2'><use xlink:href='#icon-file-text2'></use></svg></label><input id='data-d8b59d7c-9cff-42c9-9b7c-144c37f737e4' class='xr-var-data-in' type='checkbox'><label for='data-d8b59d7c-9cff-42c9-9b7c-144c37f737e4' title='Show/Hide data repr'><svg class='icon xr-icon-database'><use xlink:href='#icon-database'></use></svg></label><div class='xr-var-attrs'><dl class='xr-attrs'><dt><span>Sources :</span></dt><dd>TxED-1: TxElectricDipole: 1.0 A;\n",
       "    center={-2,000.0; 0.0; -1,900.0} m; θ=0.0°, φ=0.0°; l=1.0 m;\n",
       "TxED-2: TxElectricDipole: 1.0 A;\n",
       "    center={-400.0; 0.0; -1,900.0} m; θ=0.0°, φ=0.0°; l=1.0 m;\n",
       "TxED-3: TxElectricDipole: 1.0 A;\n",
       "    center={1,200.0; 0.0; -1,900.0} m; θ=0.0°, φ=0.0°; l=1.0 m.</dd></dl></div><div class='xr-var-data'><pre>array([&#x27;TxED-1&#x27;, &#x27;TxED-2&#x27;, &#x27;TxED-3&#x27;], dtype=&#x27;&lt;U6&#x27;)</pre></div></li><li class='xr-var-item'><div class='xr-var-name'><span class='xr-has-index'>rec</span></div><div class='xr-var-dims'>(rec)</div><div class='xr-var-dtype'>&lt;U7</div><div class='xr-var-preview xr-preview'>&#x27;RxEP-01&#x27; &#x27;RxEP-02&#x27; ... &#x27;RxEP-21&#x27;</div><input id='attrs-2a3fc733-eb78-4913-9b54-9aa32832fb76' class='xr-var-attrs-in' type='checkbox' ><label for='attrs-2a3fc733-eb78-4913-9b54-9aa32832fb76' title='Show/Hide attributes'><svg class='icon xr-icon-file-text2'><use xlink:href='#icon-file-text2'></use></svg></label><input id='data-d739b7d0-703f-42bb-a407-ef1d3c4fab9b' class='xr-var-data-in' type='checkbox'><label for='data-d739b7d0-703f-42bb-a407-ef1d3c4fab9b' title='Show/Hide data repr'><svg class='icon xr-icon-database'><use xlink:href='#icon-database'></use></svg></label><div class='xr-var-attrs'><dl class='xr-attrs'><dt><span>Receivers :</span></dt><dd>RxEP-01: RxElectricPoint: absolute; complex;\n",
       "    x=-2,000.0 m, y=0.0 m, z=-1,900.0 m, θ=0.0°, φ=0.0°;\n",
       "RxEP-02: RxElectricPoint: absolute; complex;\n",
       "    x=-1,800.0 m, y=0.0 m, z=-1,900.0 m, θ=0.0°, φ=0.0°;\n",
       "RxEP-03: RxElectricPoint: absolute; complex;\n",
       "    x=-1,600.0 m, y=0.0 m, z=-1,900.0 m, θ=0.0°, φ=0.0°;\n",
       "RxEP-04: RxElectricPoint: absolute; complex;\n",
       "    x=-1,400.0 m, y=0.0 m, z=-1,900.0 m, θ=0.0°, φ=0.0°;\n",
       "RxEP-05: RxElectricPoint: absolute; complex;\n",
       "    x=-1,200.0 m, y=0.0 m, z=-1,900.0 m, θ=0.0°, φ=0.0°;\n",
       "RxEP-06: RxElectricPoint: absolute; complex;\n",
       "    x=-1,000.0 m, y=0.0 m, z=-1,900.0 m, θ=0.0°, φ=0.0°;\n",
       "RxEP-07: RxElectricPoint: absolute; complex;\n",
       "    x=-800.0 m, y=0.0 m, z=-1,900.0 m, θ=0.0°, φ=0.0°;\n",
       "RxEP-08: RxElectricPoint: absolute; complex;\n",
       "    x=-600.0 m, y=0.0 m, z=-1,900.0 m, θ=0.0°, φ=0.0°;\n",
       "RxEP-09: RxElectricPoint: absolute; complex;\n",
       "    x=-400.0 m, y=0.0 m, z=-1,900.0 m, θ=0.0°, φ=0.0°;\n",
       "RxEP-10: RxElectricPoint: absolute; complex;\n",
       "    x=-200.0 m, y=0.0 m, z=-1,900.0 m, θ=0.0°, φ=0.0°;\n",
       "RxEP-11: RxElectricPoint: absolute; complex;\n",
       "    x=0.0 m, y=0.0 m, z=-1,900.0 m, θ=0.0°, φ=0.0°;\n",
       "RxEP-12: RxElectricPoint: absolute; complex;\n",
       "    x=200.0 m, y=0.0 m, z=-1,900.0 m, θ=0.0°, φ=0.0°;\n",
       "RxEP-13: RxElectricPoint: absolute; complex;\n",
       "    x=400.0 m, y=0.0 m, z=-1,900.0 m, θ=0.0°, φ=0.0°;\n",
       "RxEP-14: RxElectricPoint: absolute; complex;\n",
       "    x=600.0 m, y=0.0 m, z=-1,900.0 m, θ=0.0°, φ=0.0°;\n",
       "RxEP-15: RxElectricPoint: absolute; complex;\n",
       "    x=800.0 m, y=0.0 m, z=-1,900.0 m, θ=0.0°, φ=0.0°;\n",
       "RxEP-16: RxElectricPoint: absolute; complex;\n",
       "    x=1,000.0 m, y=0.0 m, z=-1,900.0 m, θ=0.0°, φ=0.0°;\n",
       "RxEP-17: RxElectricPoint: absolute; complex;\n",
       "    x=1,200.0 m, y=0.0 m, z=-1,900.0 m, θ=0.0°, φ=0.0°;\n",
       "RxEP-18: RxElectricPoint: absolute; complex;\n",
       "    x=1,400.0 m, y=0.0 m, z=-1,900.0 m, θ=0.0°, φ=0.0°;\n",
       "RxEP-19: RxElectricPoint: absolute; complex;\n",
       "    x=1,600.0 m, y=0.0 m, z=-1,900.0 m, θ=0.0°, φ=0.0°;\n",
       "RxEP-20: RxElectricPoint: absolute; complex;\n",
       "    x=1,800.0 m, y=0.0 m, z=-1,900.0 m, θ=0.0°, φ=0.0°;\n",
       "RxEP-21: RxElectricPoint: absolute; complex;\n",
       "    x=2,000.0 m, y=0.0 m, z=-1,900.0 m, θ=0.0°, φ=0.0°.</dd></dl></div><div class='xr-var-data'><pre>array([&#x27;RxEP-01&#x27;, &#x27;RxEP-02&#x27;, &#x27;RxEP-03&#x27;, &#x27;RxEP-04&#x27;, &#x27;RxEP-05&#x27;, &#x27;RxEP-06&#x27;,\n",
       "       &#x27;RxEP-07&#x27;, &#x27;RxEP-08&#x27;, &#x27;RxEP-09&#x27;, &#x27;RxEP-10&#x27;, &#x27;RxEP-11&#x27;, &#x27;RxEP-12&#x27;,\n",
       "       &#x27;RxEP-13&#x27;, &#x27;RxEP-14&#x27;, &#x27;RxEP-15&#x27;, &#x27;RxEP-16&#x27;, &#x27;RxEP-17&#x27;, &#x27;RxEP-18&#x27;,\n",
       "       &#x27;RxEP-19&#x27;, &#x27;RxEP-20&#x27;, &#x27;RxEP-21&#x27;], dtype=&#x27;&lt;U7&#x27;)</pre></div></li><li class='xr-var-item'><div class='xr-var-name'><span class='xr-has-index'>freq</span></div><div class='xr-var-dims'>(freq)</div><div class='xr-var-dtype'>&lt;U3</div><div class='xr-var-preview xr-preview'>&#x27;f-1&#x27;</div><input id='attrs-e3d769f5-5f58-413a-bb6e-47a57becdf8a' class='xr-var-attrs-in' type='checkbox' ><label for='attrs-e3d769f5-5f58-413a-bb6e-47a57becdf8a' title='Show/Hide attributes'><svg class='icon xr-icon-file-text2'><use xlink:href='#icon-file-text2'></use></svg></label><input id='data-c0b1aa5b-a4cf-4527-9627-5fe201c7ca5a' class='xr-var-data-in' type='checkbox'><label for='data-c0b1aa5b-a4cf-4527-9627-5fe201c7ca5a' title='Show/Hide data repr'><svg class='icon xr-icon-database'><use xlink:href='#icon-database'></use></svg></label><div class='xr-var-attrs'><dl class='xr-attrs'><dt><span>Frequencies :</span></dt><dd>f-1: 2.0 Hz.</dd></dl></div><div class='xr-var-data'><pre>array([&#x27;f-1&#x27;], dtype=&#x27;&lt;U3&#x27;)</pre></div></li></ul></div></li><li class='xr-section-item'><input id='section-357529eb-ed57-49bb-b99f-8f9043649d08' class='xr-section-summary-in' type='checkbox'  checked><label for='section-357529eb-ed57-49bb-b99f-8f9043649d08' class='xr-section-summary' >Data variables: <span>(2)</span></label><div class='xr-section-inline-details'></div><div class='xr-section-details'><ul class='xr-var-list'><li class='xr-var-item'><div class='xr-var-name'><span>observed</span></div><div class='xr-var-dims'>(src, rec, freq)</div><div class='xr-var-dtype'>complex128</div><div class='xr-var-preview xr-preview'>(nan+nanj) ... (nan+nanj)</div><input id='attrs-c5bceeda-864f-4f7d-8716-1dcdccbddc1c' class='xr-var-attrs-in' type='checkbox' disabled><label for='attrs-c5bceeda-864f-4f7d-8716-1dcdccbddc1c' title='Show/Hide attributes'><svg class='icon xr-icon-file-text2'><use xlink:href='#icon-file-text2'></use></svg></label><input id='data-677e2c33-433f-4301-8a06-8af5e2dcdbc4' class='xr-var-data-in' type='checkbox'><label for='data-677e2c33-433f-4301-8a06-8af5e2dcdbc4' title='Show/Hide data repr'><svg class='icon xr-icon-database'><use xlink:href='#icon-database'></use></svg></label><div class='xr-var-attrs'><dl class='xr-attrs'></dl></div><div class='xr-var-data'><pre>array([[[nan+nanj],\n",
       "        [nan+nanj],\n",
       "        [nan+nanj],\n",
       "        [nan+nanj],\n",
       "        [nan+nanj],\n",
       "        [nan+nanj],\n",
       "        [nan+nanj],\n",
       "        [nan+nanj],\n",
       "        [nan+nanj],\n",
       "        [nan+nanj],\n",
       "        [nan+nanj],\n",
       "        [nan+nanj],\n",
       "        [nan+nanj],\n",
       "        [nan+nanj],\n",
       "        [nan+nanj],\n",
       "        [nan+nanj],\n",
       "        [nan+nanj],\n",
       "        [nan+nanj],\n",
       "        [nan+nanj],\n",
       "        [nan+nanj],\n",
       "...\n",
       "        [nan+nanj],\n",
       "        [nan+nanj],\n",
       "        [nan+nanj],\n",
       "        [nan+nanj],\n",
       "        [nan+nanj],\n",
       "        [nan+nanj],\n",
       "        [nan+nanj],\n",
       "        [nan+nanj],\n",
       "        [nan+nanj],\n",
       "        [nan+nanj],\n",
       "        [nan+nanj],\n",
       "        [nan+nanj],\n",
       "        [nan+nanj],\n",
       "        [nan+nanj],\n",
       "        [nan+nanj],\n",
       "        [nan+nanj],\n",
       "        [nan+nanj],\n",
       "        [nan+nanj],\n",
       "        [nan+nanj],\n",
       "        [nan+nanj]]])</pre></div></li><li class='xr-var-item'><div class='xr-var-name'><span>indices</span></div><div class='xr-var-dims'>(src, rec, freq)</div><div class='xr-var-dtype'>int64</div><div class='xr-var-preview xr-preview'>0 1 2 3 4 5 6 ... 57 58 59 60 61 62</div><input id='attrs-f906b9fb-3062-4c55-8c95-3c4fad766341' class='xr-var-attrs-in' type='checkbox' disabled><label for='attrs-f906b9fb-3062-4c55-8c95-3c4fad766341' title='Show/Hide attributes'><svg class='icon xr-icon-file-text2'><use xlink:href='#icon-file-text2'></use></svg></label><input id='data-a06df6f1-6a10-43df-b732-2202fd926cc1' class='xr-var-data-in' type='checkbox'><label for='data-a06df6f1-6a10-43df-b732-2202fd926cc1' title='Show/Hide data repr'><svg class='icon xr-icon-database'><use xlink:href='#icon-database'></use></svg></label><div class='xr-var-attrs'><dl class='xr-attrs'></dl></div><div class='xr-var-data'><pre>array([[[ 0],\n",
       "        [ 1],\n",
       "        [ 2],\n",
       "        [ 3],\n",
       "        [ 4],\n",
       "        [ 5],\n",
       "        [ 6],\n",
       "        [ 7],\n",
       "        [ 8],\n",
       "        [ 9],\n",
       "        [10],\n",
       "        [11],\n",
       "        [12],\n",
       "        [13],\n",
       "        [14],\n",
       "        [15],\n",
       "        [16],\n",
       "        [17],\n",
       "        [18],\n",
       "        [19],\n",
       "...\n",
       "        [43],\n",
       "        [44],\n",
       "        [45],\n",
       "        [46],\n",
       "        [47],\n",
       "        [48],\n",
       "        [49],\n",
       "        [50],\n",
       "        [51],\n",
       "        [52],\n",
       "        [53],\n",
       "        [54],\n",
       "        [55],\n",
       "        [56],\n",
       "        [57],\n",
       "        [58],\n",
       "        [59],\n",
       "        [60],\n",
       "        [61],\n",
       "        [62]]])</pre></div></li></ul></div></li><li class='xr-section-item'><input id='section-db1e21e6-b796-4f11-bc32-df5dfff98036' class='xr-section-summary-in' type='checkbox'  ><label for='section-db1e21e6-b796-4f11-bc32-df5dfff98036' class='xr-section-summary' >Indexes: <span>(3)</span></label><div class='xr-section-inline-details'></div><div class='xr-section-details'><ul class='xr-var-list'><li class='xr-var-item'><div class='xr-index-name'><div>src</div></div><div class='xr-index-preview'>PandasIndex</div><div></div><input id='index-796652de-f193-4022-8527-30cc1c3355a7' class='xr-index-data-in' type='checkbox'/><label for='index-796652de-f193-4022-8527-30cc1c3355a7' title='Show/Hide index repr'><svg class='icon xr-icon-database'><use xlink:href='#icon-database'></use></svg></label><div class='xr-index-data'><pre>PandasIndex(Index([&#x27;TxED-1&#x27;, &#x27;TxED-2&#x27;, &#x27;TxED-3&#x27;], dtype=&#x27;object&#x27;, name=&#x27;src&#x27;))</pre></div></li><li class='xr-var-item'><div class='xr-index-name'><div>rec</div></div><div class='xr-index-preview'>PandasIndex</div><div></div><input id='index-d29d0535-50ff-4712-ac85-02647ceee34b' class='xr-index-data-in' type='checkbox'/><label for='index-d29d0535-50ff-4712-ac85-02647ceee34b' title='Show/Hide index repr'><svg class='icon xr-icon-database'><use xlink:href='#icon-database'></use></svg></label><div class='xr-index-data'><pre>PandasIndex(Index([&#x27;RxEP-01&#x27;, &#x27;RxEP-02&#x27;, &#x27;RxEP-03&#x27;, &#x27;RxEP-04&#x27;, &#x27;RxEP-05&#x27;, &#x27;RxEP-06&#x27;,\n",
       "       &#x27;RxEP-07&#x27;, &#x27;RxEP-08&#x27;, &#x27;RxEP-09&#x27;, &#x27;RxEP-10&#x27;, &#x27;RxEP-11&#x27;, &#x27;RxEP-12&#x27;,\n",
       "       &#x27;RxEP-13&#x27;, &#x27;RxEP-14&#x27;, &#x27;RxEP-15&#x27;, &#x27;RxEP-16&#x27;, &#x27;RxEP-17&#x27;, &#x27;RxEP-18&#x27;,\n",
       "       &#x27;RxEP-19&#x27;, &#x27;RxEP-20&#x27;, &#x27;RxEP-21&#x27;],\n",
       "      dtype=&#x27;object&#x27;, name=&#x27;rec&#x27;))</pre></div></li><li class='xr-var-item'><div class='xr-index-name'><div>freq</div></div><div class='xr-index-preview'>PandasIndex</div><div></div><input id='index-d8a5f426-3292-4abf-8613-4fb547ae7d6a' class='xr-index-data-in' type='checkbox'/><label for='index-d8a5f426-3292-4abf-8613-4fb547ae7d6a' title='Show/Hide index repr'><svg class='icon xr-icon-database'><use xlink:href='#icon-database'></use></svg></label><div class='xr-index-data'><pre>PandasIndex(Index([&#x27;f-1&#x27;], dtype=&#x27;object&#x27;, name=&#x27;freq&#x27;))</pre></div></li></ul></div></li><li class='xr-section-item'><input id='section-27e66b31-8503-4043-9bb6-abd168a05135' class='xr-section-summary-in' type='checkbox'  checked><label for='section-27e66b31-8503-4043-9bb6-abd168a05135' class='xr-section-summary' >Attributes: <span>(2)</span></label><div class='xr-section-inline-details'></div><div class='xr-section-details'><dl class='xr-attrs'><dt><span>noise_floor :</span></dt><dd>1.0</dd><dt><span>relative_error :</span></dt><dd>None</dd></dl></div></li></ul></div></div>"
      ],
      "text/plain": [
       ":: Survey «Survey created by SimPEG» ::\n",
       "\n",
       "<xarray.Dataset> Size: 2kB\n",
       "Dimensions:   (src: 3, rec: 21, freq: 1)\n",
       "Coordinates:\n",
       "  * src       (src) <U6 72B 'TxED-1' 'TxED-2' 'TxED-3'\n",
       "  * rec       (rec) <U7 588B 'RxEP-01' 'RxEP-02' ... 'RxEP-20' 'RxEP-21'\n",
       "  * freq      (freq) <U3 12B 'f-1'\n",
       "Data variables:\n",
       "    observed  (src, rec, freq) complex128 1kB (nan+nanj) ... (nan+nanj)\n",
       "    indices   (src, rec, freq) int64 504B 0 1 2 3 4 5 6 ... 56 57 58 59 60 61 62\n",
       "Attributes:\n",
       "    noise_floor:     1.0\n",
       "    relative_error:  None"
      ]
     },
     "execution_count": 9,
     "metadata": {},
     "output_type": "execute_result"
    }
   ],
   "source": [
    "simulation.emg3d_survey"
   ]
  },
  {
   "cell_type": "markdown",
   "metadata": {
    "iooxa": {
     "id": {
      "block": "IrNPonLAogTLY1b46Hwb",
      "project": "rzeiFG3sdIcsFLl4Infw",
      "version": 1
     }
    }
   },
   "source": [
    "## => Currently, `f` returns a emg3d-simulation, and `dpred` an ndarray. This should change to SimPEG fields- and data-objects, I think"
   ]
  },
  {
   "cell_type": "code",
   "execution_count": 10,
   "metadata": {
    "iooxa": {
     "id": {
      "block": "p7fXhwBDaDddXzh5dBku",
      "project": "rzeiFG3sdIcsFLl4Infw",
      "version": 1
     },
     "outputId": null
    }
   },
   "outputs": [],
   "source": [
    "f = simulation.fields(m_true)\n",
    "d_true = simulation.dpred(m_true, f=f)"
   ]
  },
  {
   "cell_type": "code",
   "execution_count": 11,
   "metadata": {
    "iooxa": {
     "id": {
      "block": "Iju7kclum9WCR65iYRik",
      "project": "rzeiFG3sdIcsFLl4Infw",
      "version": 1
     },
     "outputId": null
    }
   },
   "outputs": [],
   "source": [
    "d_0 = simulation.dpred(m0)"
   ]
  },
  {
   "cell_type": "code",
   "execution_count": 12,
   "metadata": {
    "iooxa": {
     "id": {
      "block": "IhmyuM0EHohu2WTQbrbV",
      "project": "rzeiFG3sdIcsFLl4Infw",
      "version": 2
     },
     "outputId": null
    }
   },
   "outputs": [],
   "source": [
    "relative_error = 0.01\n",
    "noise_floor = 1e-14\n",
    "standard_deviation = np.sqrt(abs(relative_error*d_true)**2 + (noise_floor)**2)"
   ]
  },
  {
   "cell_type": "code",
   "execution_count": 13,
   "metadata": {
    "iooxa": {
     "id": {
      "block": "KkzXL6N5PnjMaOJ9eEfW",
      "project": "rzeiFG3sdIcsFLl4Infw",
      "version": 1
     },
     "outputId": null
    }
   },
   "outputs": [],
   "source": [
    "residual = (d_true - d_0)/standard_deviation"
   ]
  },
  {
   "cell_type": "markdown",
   "metadata": {
    "iooxa": {
     "id": {
      "block": "StqySpd8fzTKpXgeuQw5",
      "project": "rzeiFG3sdIcsFLl4Infw",
      "version": 1
     }
    }
   },
   "source": [
    "### Question @Seogi: Why are there less data per source than there are receivers?"
   ]
  },
  {
   "cell_type": "code",
   "execution_count": 14,
   "metadata": {
    "iooxa": {
     "id": {
      "block": "qA8ZbT588Zl3QVrSzttf",
      "project": "rzeiFG3sdIcsFLl4Infw",
      "version": 3
     },
     "outputId": {
      "block": "O4OL13JxaqUl3qX3FHUH",
      "project": "rzeiFG3sdIcsFLl4Infw",
      "version": 3
     }
    }
   },
   "outputs": [
    {
     "data": {
      "application/vnd.jupyter.widget-view+json": {
       "model_id": "81d560c14e1f44deaf387d804c0bd83e",
       "version_major": 2,
       "version_minor": 0
      },
      "image/png": "[encoded data removed]",
      "text/html": [
       "\n",
       "            <div style=\"display: inline-block;\">\n",
       "                <div class=\"jupyter-widgets widget-label\" style=\"text-align: center;\">\n",
       "                    Figure\n",
       "                </div>\n",
       "                <img src='data:image/png;base64,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' width=1000.0/>\n",
       "            </div>\n",
       "        "
      ],
      "text/plain": [
       "Canvas(toolbar=Toolbar(toolitems=[('Home', 'Reset original view', 'home', 'home'), ('Back', 'Back to previous …"
      ]
     },
     "metadata": {},
     "output_type": "display_data"
    }
   ],
   "source": [
    "fig, (ax1, ax2) = plt.subplots(1, 2, figsize=(10, 5))\n",
    "\n",
    "ax1.set_title('Responses (V/m)')\n",
    "ax1.semilogy(abs(d_true), 'o', label='true/observed')\n",
    "ax1.semilogy(abs(d_0), '.', label='initial model')\n",
    "ax1.legend()\n",
    "\n",
    "ax2.set_title('Weighted Residuals')\n",
    "nsrc = xyz_src.shape[0]\n",
    "nrec = len(rec_x)-4\n",
    "x = np.arange(len(residual))\n",
    "for s in range(nsrc):\n",
    "    ax2.semilogy(x[s*nrec:(s+1)*nrec], abs(residual[s*nrec:(s+1)*nrec]), '.')\n",
    "\n",
    "plt.show()"
   ]
  },
  {
   "cell_type": "code",
   "execution_count": 15,
   "metadata": {
    "iooxa": {
     "id": {
      "block": "4SuTfqDL788FJt1UE13i",
      "project": "rzeiFG3sdIcsFLl4Infw",
      "version": 2
     },
     "outputId": null
    }
   },
   "outputs": [],
   "source": [
    "# NOTE: Once https://github.com/simpeg/simpeg/pull/1523 is in, the `tolist()` can be removed\n",
    "em_data = simpeg.data.Data(survey, dobs=d_true.tolist(), standard_deviation=standard_deviation)\n",
    "dmis = simpeg.data_misfit.L2DataMisfit(data=em_data, simulation=simulation)"
   ]
  },
  {
   "cell_type": "code",
   "execution_count": 16,
   "metadata": {
    "iooxa": {
     "id": {
      "block": "7T3nOILivNM6D5uDyw2z",
      "project": "rzeiFG3sdIcsFLl4Infw",
      "version": 3
     },
     "outputId": null
    }
   },
   "outputs": [],
   "source": [
    "adjoint_tol = 1e-10\n",
    "def test_misfit():\n",
    "    passed = simpeg.tests.check_derivative(\n",
    "        lambda m: (simulation.dpred(m), lambda mx: simulation.Jvec(m0, mx, f=f)),\n",
    "        m0,\n",
    "        plotIt=False,\n",
    "        num=3,\n",
    "    )\n",
    "\n",
    "def test_adjoint():\n",
    "    # Adjoint Test\n",
    "    f = simulation.fields(m=m0)\n",
    "    # u = np.random.rand(.mesh.nC * .survey.nSrc)\n",
    "    v = np.random.rand(inds_active.sum())\n",
    "#     v = np.random.rand(mesh.nC)\n",
    "    w = np.random.rand(simulation.survey.nD)\n",
    "    wtJv = np.vdot(w, simulation.Jvec(m0, v, f=f)).real\n",
    "    vtJtw = np.vdot(v, simulation.Jtvec(m0, w, f=f))\n",
    "    passed = np.abs(wtJv - vtJtw) < adjoint_tol\n",
    "    print(\"Adjoint Test\", np.abs(wtJv - vtJtw), passed)\n",
    "    print(wtJv, vtJtw)\n",
    "    \n",
    "def test_dataObj():\n",
    "    passed = simpeg.tests.check_derivative(\n",
    "        lambda m: [dmis(m), dmis.deriv(m)], m0, plotIt=False, num=2\n",
    "    )    "
   ]
  },
  {
   "cell_type": "code",
   "execution_count": 17,
   "metadata": {
    "iooxa": {
     "id": {
      "block": "PBuFIhzExObdPZ7IoxUU",
      "project": "rzeiFG3sdIcsFLl4Infw",
      "version": 4
     },
     "outputId": {
      "block": "dUztqzasgyGvf3F3wor6",
      "project": "rzeiFG3sdIcsFLl4Infw",
      "version": 3
     }
    }
   },
   "outputs": [
    {
     "name": "stdout",
     "output_type": "stream",
     "text": [
      "==================== check_derivative ====================\n",
      "iter    h         |ft-f0|   |ft-f0-h*J0*dx|  Order\n",
      "---------------------------------------------------------\n",
      " 0   1.00e-01    8.523e+02     7.670e+02      nan\n",
      " 1   1.00e-02    1.596e+01     7.438e+00      2.013\n",
      "========================= PASS! =========================\n",
      "Awesome, Dtr, just awesome.\n",
      "\n"
     ]
    }
   ],
   "source": [
    "test_dataObj()"
   ]
  },
  {
   "cell_type": "code",
   "execution_count": 18,
   "metadata": {
    "iooxa": {
     "id": {
      "block": "6XZ5ttbEkSSJfQVV46i8",
      "project": "rzeiFG3sdIcsFLl4Infw",
      "version": 2
     },
     "outputId": {
      "block": "BAcvHwcxyLO3mUOMVHRU",
      "project": "rzeiFG3sdIcsFLl4Infw",
      "version": 1
     }
    }
   },
   "outputs": [
    {
     "name": "stdout",
     "output_type": "stream",
     "text": [
      "==================== check_derivative ====================\n",
      "iter    h         |ft-f0|   |ft-f0-h*J0*dx|  Order\n",
      "---------------------------------------------------------\n",
      " 0   1.00e-01    1.204e-10     1.417e-11      nan\n",
      " 1   1.00e-02    1.230e-11     1.436e-13      1.994\n",
      " 2   1.00e-03    1.233e-12     1.438e-15      1.999\n",
      "========================= PASS! =========================\n",
      "Yay passed!\n",
      "\n"
     ]
    }
   ],
   "source": [
    "test_misfit()"
   ]
  },
  {
   "cell_type": "code",
   "execution_count": 19,
   "metadata": {
    "iooxa": {
     "id": {
      "block": "t0fbyqK4zNVIsHZTrVXv",
      "project": "rzeiFG3sdIcsFLl4Infw",
      "version": 4
     },
     "outputId": {
      "block": "73OVBfCEYL6ieThZWOdp",
      "project": "rzeiFG3sdIcsFLl4Infw",
      "version": 3
     }
    }
   },
   "outputs": [
    {
     "name": "stdout",
     "output_type": "stream",
     "text": [
      "Adjoint Test 1.0854965343682698e-17 True\n",
      "5.816742546382218e-10 5.816742437832564e-10\n"
     ]
    }
   ],
   "source": [
    "test_adjoint()"
   ]
  },
  {
   "cell_type": "code",
   "execution_count": 20,
   "metadata": {
    "iooxa": {
     "id": {
      "block": "HtaQ8wJ2fhsD8bQ6asec",
      "project": "rzeiFG3sdIcsFLl4Infw",
      "version": 8
     },
     "outputId": {
      "block": "iLJUD1IpdCixWlTnMSdy",
      "project": "rzeiFG3sdIcsFLl4Infw",
      "version": 8
     }
    }
   },
   "outputs": [
    {
     "name": "stdout",
     "output_type": "stream",
     "text": [
      "\n",
      "Running inversion with SimPEG v0.14.3.dev3195+ge0766b7bb.d20240815\n",
      "\n",
      "                        simpeg.InvProblem is setting bfgsH0 to the inverse of the eval2Deriv.\n",
      "                        ***Done using same Solver, and solver_opts as the FDEMSimulation problem***\n",
      "                        \n",
      "model has any nan: 0\n",
      "============================ Inexact Gauss Newton ============================\n",
      "  #     beta     phi_d     phi_m       f      |proj(x-g)-x|  LS    Comment   \n",
      "-----------------------------------------------------------------------------\n",
      "x0 has any nan: 0\n",
      "   0  2.43e-02  5.57e+04  0.00e+00  5.57e+04    1.55e+04      0              \n"
     ]
    },
    {
     "name": "stderr",
     "output_type": "stream",
     "text": [
      "/home/dtr/Codes/simpeg-prisae/simpeg/utils/code_utils.py:261: ComplexWarning: Casting complex values to real discards the imaginary part\n",
      "  printer[\"format\"] % printer[\"value\"](obj)\n"
     ]
    },
    {
     "name": "stdout",
     "output_type": "stream",
     "text": [
      "   1  1.22e-02  2.12e+04  1.99e+05  2.37e+04    6.27e+03      0              \n"
     ]
    },
    {
     "name": "stderr",
     "output_type": "stream",
     "text": [
      "/home/dtr/Codes/simpeg-prisae/simpeg/utils/code_utils.py:261: ComplexWarning: Casting complex values to real discards the imaginary part\n",
      "  printer[\"format\"] % printer[\"value\"](obj)\n"
     ]
    },
    {
     "name": "stdout",
     "output_type": "stream",
     "text": [
      "   2  6.08e-03  1.18e+04  1.48e+05  1.27e+04    1.23e+04      0              \n"
     ]
    },
    {
     "name": "stderr",
     "output_type": "stream",
     "text": [
      "/home/dtr/Codes/simpeg-prisae/simpeg/utils/code_utils.py:261: ComplexWarning: Casting complex values to real discards the imaginary part\n",
      "  printer[\"format\"] % printer[\"value\"](obj)\n"
     ]
    },
    {
     "name": "stdout",
     "output_type": "stream",
     "text": [
      "   3  3.04e-03  3.51e+03  1.46e+05  3.95e+03    4.13e+03      0              \n"
     ]
    },
    {
     "name": "stderr",
     "output_type": "stream",
     "text": [
      "/home/dtr/Codes/simpeg-prisae/simpeg/utils/code_utils.py:261: ComplexWarning: Casting complex values to real discards the imaginary part\n",
      "  printer[\"format\"] % printer[\"value\"](obj)\n"
     ]
    },
    {
     "name": "stdout",
     "output_type": "stream",
     "text": [
      "   4  1.52e-03  1.79e+03  1.86e+05  2.08e+03    1.77e+03      0   Skip BFGS  \n"
     ]
    },
    {
     "name": "stderr",
     "output_type": "stream",
     "text": [
      "/home/dtr/Codes/simpeg-prisae/simpeg/utils/code_utils.py:261: ComplexWarning: Casting complex values to real discards the imaginary part\n",
      "  printer[\"format\"] % printer[\"value\"](obj)\n"
     ]
    },
    {
     "name": "stdout",
     "output_type": "stream",
     "text": [
      "   5  7.60e-04  1.38e+03  2.24e+05  1.55e+03    2.12e+03      1   Skip BFGS  \n"
     ]
    },
    {
     "name": "stderr",
     "output_type": "stream",
     "text": [
      "/home/dtr/Codes/simpeg-prisae/simpeg/utils/code_utils.py:261: ComplexWarning: Casting complex values to real discards the imaginary part\n",
      "  printer[\"format\"] % printer[\"value\"](obj)\n"
     ]
    },
    {
     "name": "stdout",
     "output_type": "stream",
     "text": [
      "   6  3.80e-04  1.26e+03  3.11e+05  1.38e+03    2.57e+03      0   Skip BFGS  \n"
     ]
    },
    {
     "name": "stderr",
     "output_type": "stream",
     "text": [
      "/home/dtr/Codes/simpeg-prisae/simpeg/utils/code_utils.py:261: ComplexWarning: Casting complex values to real discards the imaginary part\n",
      "  printer[\"format\"] % printer[\"value\"](obj)\n"
     ]
    },
    {
     "name": "stdout",
     "output_type": "stream",
     "text": [
      "   7  1.90e-04  7.65e+02  3.04e+05  8.22e+02    2.30e+02      0              \n"
     ]
    },
    {
     "name": "stderr",
     "output_type": "stream",
     "text": [
      "/home/dtr/Codes/simpeg-prisae/simpeg/utils/code_utils.py:261: ComplexWarning: Casting complex values to real discards the imaginary part\n",
      "  printer[\"format\"] % printer[\"value\"](obj)\n"
     ]
    },
    {
     "name": "stdout",
     "output_type": "stream",
     "text": [
      "   8  9.50e-05  6.92e+02  3.65e+05  7.26e+02    3.75e+02      0              \n"
     ]
    },
    {
     "name": "stderr",
     "output_type": "stream",
     "text": [
      "/home/dtr/Codes/simpeg-prisae/simpeg/utils/code_utils.py:261: ComplexWarning: Casting complex values to real discards the imaginary part\n",
      "  printer[\"format\"] % printer[\"value\"](obj)\n"
     ]
    },
    {
     "name": "stdout",
     "output_type": "stream",
     "text": [
      "   9  4.75e-05  6.01e+02  4.54e+05  6.23e+02    5.08e+02      0              \n"
     ]
    },
    {
     "name": "stderr",
     "output_type": "stream",
     "text": [
      "/home/dtr/Codes/simpeg-prisae/simpeg/utils/code_utils.py:261: ComplexWarning: Casting complex values to real discards the imaginary part\n",
      "  printer[\"format\"] % printer[\"value\"](obj)\n"
     ]
    },
    {
     "name": "stdout",
     "output_type": "stream",
     "text": [
      "  10  2.38e-05  4.91e+02  7.50e+05  5.09e+02    7.22e+02      0              \n"
     ]
    },
    {
     "name": "stderr",
     "output_type": "stream",
     "text": [
      "/home/dtr/Codes/simpeg-prisae/simpeg/utils/code_utils.py:261: ComplexWarning: Casting complex values to real discards the imaginary part\n",
      "  printer[\"format\"] % printer[\"value\"](obj)\n"
     ]
    },
    {
     "name": "stdout",
     "output_type": "stream",
     "text": [
      "  11  1.19e-05  4.18e+02  7.76e+05  4.28e+02    8.82e+01      0              \n"
     ]
    },
    {
     "name": "stderr",
     "output_type": "stream",
     "text": [
      "/home/dtr/Codes/simpeg-prisae/simpeg/utils/code_utils.py:261: ComplexWarning: Casting complex values to real discards the imaginary part\n",
      "  printer[\"format\"] % printer[\"value\"](obj)\n"
     ]
    },
    {
     "name": "stdout",
     "output_type": "stream",
     "text": [
      "  12  5.94e-06  3.95e+02  1.05e+06  4.02e+02    4.37e+02      0              \n"
     ]
    },
    {
     "name": "stderr",
     "output_type": "stream",
     "text": [
      "/home/dtr/Codes/simpeg-prisae/simpeg/utils/code_utils.py:261: ComplexWarning: Casting complex values to real discards the imaginary part\n",
      "  printer[\"format\"] % printer[\"value\"](obj)\n"
     ]
    },
    {
     "name": "stdout",
     "output_type": "stream",
     "text": [
      "  13  2.97e-06  3.66e+02  1.17e+06  3.69e+02    1.42e+02      0              \n"
     ]
    },
    {
     "name": "stderr",
     "output_type": "stream",
     "text": [
      "/home/dtr/Codes/simpeg-prisae/simpeg/utils/code_utils.py:261: ComplexWarning: Casting complex values to real discards the imaginary part\n",
      "  printer[\"format\"] % printer[\"value\"](obj)\n"
     ]
    },
    {
     "name": "stdout",
     "output_type": "stream",
     "text": [
      "  14  1.48e-06  3.48e+02  1.31e+06  3.50e+02    1.40e+02      0              \n"
     ]
    },
    {
     "name": "stderr",
     "output_type": "stream",
     "text": [
      "/home/dtr/Codes/simpeg-prisae/simpeg/utils/code_utils.py:261: ComplexWarning: Casting complex values to real discards the imaginary part\n",
      "  printer[\"format\"] % printer[\"value\"](obj)\n"
     ]
    },
    {
     "name": "stdout",
     "output_type": "stream",
     "text": [
      "  15  7.42e-07  3.32e+02  1.64e+06  3.33e+02    5.00e+02      0              \n"
     ]
    },
    {
     "name": "stderr",
     "output_type": "stream",
     "text": [
      "/home/dtr/Codes/simpeg-prisae/simpeg/utils/code_utils.py:261: ComplexWarning: Casting complex values to real discards the imaginary part\n",
      "  printer[\"format\"] % printer[\"value\"](obj)\n"
     ]
    },
    {
     "name": "stdout",
     "output_type": "stream",
     "text": [
      "  16  3.71e-07  2.96e+02  1.98e+06  2.97e+02    5.44e+02      0              \n"
     ]
    },
    {
     "name": "stderr",
     "output_type": "stream",
     "text": [
      "/home/dtr/Codes/simpeg-prisae/simpeg/utils/code_utils.py:261: ComplexWarning: Casting complex values to real discards the imaginary part\n",
      "  printer[\"format\"] % printer[\"value\"](obj)\n"
     ]
    },
    {
     "name": "stdout",
     "output_type": "stream",
     "text": [
      "  17  1.86e-07  2.66e+02  2.08e+06  2.66e+02    1.97e+02      0   Skip BFGS  \n"
     ]
    },
    {
     "name": "stderr",
     "output_type": "stream",
     "text": [
      "/home/dtr/Codes/simpeg-prisae/simpeg/utils/code_utils.py:261: ComplexWarning: Casting complex values to real discards the imaginary part\n",
      "  printer[\"format\"] % printer[\"value\"](obj)\n"
     ]
    },
    {
     "name": "stdout",
     "output_type": "stream",
     "text": [
      "  18  9.28e-08  2.55e+02  1.99e+06  2.55e+02    1.57e+02      0              \n"
     ]
    },
    {
     "name": "stderr",
     "output_type": "stream",
     "text": [
      "/home/dtr/Codes/simpeg-prisae/simpeg/utils/code_utils.py:261: ComplexWarning: Casting complex values to real discards the imaginary part\n",
      "  printer[\"format\"] % printer[\"value\"](obj)\n"
     ]
    },
    {
     "name": "stdout",
     "output_type": "stream",
     "text": [
      "  19  4.64e-08  2.35e+02  2.13e+06  2.35e+02    3.38e+02      0   Skip BFGS  \n"
     ]
    },
    {
     "name": "stderr",
     "output_type": "stream",
     "text": [
      "/home/dtr/Codes/simpeg-prisae/simpeg/utils/code_utils.py:261: ComplexWarning: Casting complex values to real discards the imaginary part\n",
      "  printer[\"format\"] % printer[\"value\"](obj)\n"
     ]
    },
    {
     "name": "stdout",
     "output_type": "stream",
     "text": [
      "  20  2.32e-08  2.23e+02  2.07e+06  2.23e+02    7.99e+01      0              \n",
      "------------------------- STOP! -------------------------\n",
      "1 : |fc-fOld| = 1.1810e+01 <= tolF*(1+|f0|) = 5.5659e+03\n",
      "0 : |xc-x_last| = 3.3198e+00 <= tolX*(1+|x0|) = 1.0000e-01\n",
      "0 : |proj(x-g)-x|    = 7.9886e+01 <= tolG          = 1.0000e-01\n",
      "0 : |proj(x-g)-x|    = 7.9886e+01 <= 1e3*eps       = 1.0000e-02\n",
      "1 : maxIter   =      20    <= iter          =     20\n",
      "------------------------- DONE! -------------------------\n",
      "CPU times: user 38 s, sys: 36.3 s, total: 1min 14s\n",
      "Wall time: 17min 21s\n"
     ]
    },
    {
     "name": "stderr",
     "output_type": "stream",
     "text": [
      "/home/dtr/Codes/simpeg-prisae/simpeg/utils/code_utils.py:261: ComplexWarning: Casting complex values to real discards the imaginary part\n",
      "  printer[\"format\"] % printer[\"value\"](obj)\n"
     ]
    }
   ],
   "source": [
    "%%time\n",
    "\n",
    "# Define the regularization (model objective function)\n",
    "reg = simpeg.regularization.WeightedLeastSquares(\n",
    "    mesh,\n",
    "    active_cells=inds_active,\n",
    "    reference_model=m0,\n",
    "    alpha_s=1e-8,\n",
    "    alpha_x=1,\n",
    "    alpha_y=10,\n",
    "    alpha_z=1\n",
    ")\n",
    "\n",
    "nit = 20\n",
    "#nit = 2\n",
    "opt = simpeg.optimization.InexactGaussNewton(\n",
    "    maxIter=nit, maxIterLS=nit, maxIterCG=nit, tolCG=1e-3,\n",
    ")\n",
    "\n",
    "inv_prob = simpeg.inverse_problem.BaseInvProblem(dmis, reg, opt)\n",
    "starting_beta = simpeg.directives.BetaEstimate_ByEig(beta0_ratio=1)\n",
    "save = simpeg.directives.SaveOutputDictEveryIteration()\n",
    "\n",
    "beta_schedule = simpeg.directives.BetaSchedule(coolingFactor=2, coolingRate=1)\n",
    "target_misfit = simpeg.directives.TargetMisfit(chifact=1)\n",
    "\n",
    "directives_list = [\n",
    "    starting_beta,\n",
    "    beta_schedule,\n",
    "    target_misfit,\n",
    "    save\n",
    "]\n",
    "em_inversion = simpeg.inversion.BaseInversion(inv_prob, directiveList=directives_list)\n",
    "\n",
    "# Run inversion\n",
    "recovered_conductivity_model = em_inversion.run(m0)\n",
    "\n",
    "# NOTE: The ComplexWarnings will disapear once https://github.com/simpeg/simpeg/pull/1524 is in."
   ]
  },
  {
   "cell_type": "code",
   "execution_count": 21,
   "metadata": {
    "iooxa": {
     "id": {
      "block": "vHAGtnOvqh3p1m9DohHe",
      "project": "rzeiFG3sdIcsFLl4Infw",
      "version": 5
     },
     "outputId": {
      "block": "rcas5hNb2oZV3k63U0wJ",
      "project": "rzeiFG3sdIcsFLl4Infw",
      "version": 5
     }
    }
   },
   "outputs": [
    {
     "data": {
      "text/plain": [
       "63.0"
      ]
     },
     "execution_count": 21,
     "metadata": {},
     "output_type": "execute_result"
    }
   ],
   "source": [
    "target_misfit.target"
   ]
  },
  {
   "cell_type": "code",
   "execution_count": 22,
   "metadata": {
    "iooxa": {
     "id": {
      "block": "HnQHpPqUPy6hzjZiVMQE",
      "project": "rzeiFG3sdIcsFLl4Infw",
      "version": 7
     },
     "outputId": {
      "block": "5zwl94pFeTEEv5X0O0Tg",
      "project": "rzeiFG3sdIcsFLl4Infw",
      "version": 6
     }
    }
   },
   "outputs": [
    {
     "data": {
      "text/plain": [
       "<matplotlib.legend.Legend at 0x738fcc977d70>"
      ]
     },
     "execution_count": 22,
     "metadata": {},
     "output_type": "execute_result"
    },
    {
     "data": {
      "application/vnd.jupyter.widget-view+json": {
       "model_id": "3fcecf69aa304ef2a8f977c20c71a14c",
       "version_major": 2,
       "version_minor": 0
      },
      "image/png": "[encoded data removed]",
      "text/html": [
       "\n",
       "            <div style=\"display: inline-block;\">\n",
       "                <div class=\"jupyter-widgets widget-label\" style=\"text-align: center;\">\n",
       "                    Figure\n",
       "                </div>\n",
       "                <img src='data:image/png;base64,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' width=1000.0/>\n",
       "            </div>\n",
       "        "
      ],
      "text/plain": [
       "Canvas(toolbar=Toolbar(toolitems=[('Home', 'Reset original view', 'home', 'home'), ('Back', 'Back to previous …"
      ]
     },
     "metadata": {},
     "output_type": "display_data"
    }
   ],
   "source": [
    "plt.figure(figsize=(10, 4))\n",
    "iteration = len(save.outDict.keys())\n",
    "plt.semilogy(abs(em_data.dobs), 'o', label='Observed')\n",
    "plt.semilogy(abs(save.outDict[iteration]['dpred']), '.', label='Predicted')\n",
    "plt.legend()"
   ]
  },
  {
   "cell_type": "code",
   "execution_count": 23,
   "metadata": {
    "iooxa": {
     "id": {
      "block": "LvfXhn7QRkEj7i5gllts",
      "project": "rzeiFG3sdIcsFLl4Infw",
      "version": 7
     },
     "outputId": {
      "block": "S6bzrt7WOqz93fwip1nC",
      "project": "rzeiFG3sdIcsFLl4Infw",
      "version": 7
     }
    }
   },
   "outputs": [
    {
     "data": {
      "application/vnd.jupyter.widget-view+json": {
       "model_id": "094392c1b854405db2139061fb3f98ec",
       "version_major": 2,
       "version_minor": 0
      },
      "image/png": "[encoded data removed]",
      "text/html": [
       "\n",
       "            <div style=\"display: inline-block;\">\n",
       "                <div class=\"jupyter-widgets widget-label\" style=\"text-align: center;\">\n",
       "                    Figure\n",
       "                </div>\n",
       "                <img src='data:image/png;base64,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' width=800.0/>\n",
       "            </div>\n",
       "        "
      ],
      "text/plain": [
       "Canvas(toolbar=Toolbar(toolitems=[('Home', 'Reset original view', 'home', 'home'), ('Back', 'Back to previous …"
      ]
     },
     "metadata": {},
     "output_type": "display_data"
    }
   ],
   "source": [
    "fig, axs = plt.subplots(1,2, figsize=(8, 4))\n",
    "\n",
    "sigm_est = conductivity_map * save.outDict[iteration]['m']\n",
    "sigmas = [sigm_est, sigma]\n",
    "titles = [\"Estimated\", \"True\"]\n",
    "for ii, ax in enumerate(axs):\n",
    "    out = mesh.plot_slice(\n",
    "        1./sigmas[ii], grid=False, normal='Y', \n",
    "        pcolor_opts={'cmap':'Spectral_r', 'norm':LogNorm(vmin=0.33, vmax=100)}, \n",
    "        ax=ax,\n",
    "    )\n",
    "    ax.set_aspect(1)\n",
    "    ax.set_ylim(-4000, 0)\n",
    "    ax.set_xlim(-2000, 2000)\n",
    "    if ii == 1:\n",
    "        ax.set_yticks([])\n",
    "    ax.set_title(titles[ii])\n",
    "    cb = plt.colorbar(out[0], ax=ax, fraction=0.03, orientation='horizontal')\n",
    "    cb.set_label(\"Resistivity (Ω m)\")"
   ]
  },
  {
   "cell_type": "code",
   "execution_count": 24,
   "metadata": {
    "iooxa": {
     "id": {
      "block": "URVsZCok60iEBhN5ptdF",
      "project": "rzeiFG3sdIcsFLl4Infw",
      "version": 1
     },
     "outputId": null
    },
    "scrolled": true
   },
   "outputs": [
    {
     "data": {
      "text/html": [
       "<table style='border: 1.5px solid;'>\n",
       "  <tr>\n",
       "     <td style='text-align: center; font-weight: bold; font-size: 1.2em; border: 1px solid;' colspan='6'>Tue Aug 27 17:23:33 2024 CEST</td>\n",
       "  </tr>\n",
       "  <tr>\n",
       "    <td style='text-align: right; border: 1px solid;'>OS</td>\n",
       "    <td style='text-align: left; border: 1px solid;'>Linux (Ubuntu 22.04)</td>\n",
       "    <td style='text-align: right; border: 1px solid;'>CPU(s)</td>\n",
       "    <td style='text-align: left; border: 1px solid;'>16</td>\n",
       "    <td style='text-align: right; border: 1px solid;'>Machine</td>\n",
       "    <td style='text-align: left; border: 1px solid;'>x86_64</td>\n",
       "  </tr>\n",
       "  <tr>\n",
       "    <td style='text-align: right; border: 1px solid;'>Architecture</td>\n",
       "    <td style='text-align: left; border: 1px solid;'>64bit</td>\n",
       "    <td style='text-align: right; border: 1px solid;'>RAM</td>\n",
       "    <td style='text-align: left; border: 1px solid;'>31.0 GiB</td>\n",
       "    <td style='text-align: right; border: 1px solid;'>Environment</td>\n",
       "    <td style='text-align: left; border: 1px solid;'>Jupyter</td>\n",
       "  </tr>\n",
       "  <tr>\n",
       "    <td style='text-align: right; border: 1px solid;'>File system</td>\n",
       "    <td style='text-align: left; border: 1px solid;'>ext4</td>\n",
       "  </tr>\n",
       "  <tr>\n",
       "     <td style='text-align: center; border: 1px solid;' colspan='6'>Python 3.12.5 | packaged by conda-forge | (main, Aug  8 2024, 18:36:51) [GCC 12.4.0]</td>\n",
       "  </tr>\n",
       "  <tr>\n",
       "    <td style='text-align: right; border: 1px solid;'>numpy</td>\n",
       "    <td style='text-align: left; border: 1px solid;'>1.26.4</td>\n",
       "    <td style='text-align: right; border: 1px solid;'>scipy</td>\n",
       "    <td style='text-align: left; border: 1px solid;'>1.14.0</td>\n",
       "    <td style='text-align: right; border: 1px solid;'>numba</td>\n",
       "    <td style='text-align: left; border: 1px solid;'>0.60.0</td>\n",
       "  </tr>\n",
       "  <tr>\n",
       "    <td style='text-align: right; border: 1px solid;'>emg3d</td>\n",
       "    <td style='text-align: left; border: 1px solid;'>1.8.4.dev20+ge383ae1.d20240809</td>\n",
       "    <td style='text-align: right; border: 1px solid;'>empymod</td>\n",
       "    <td style='text-align: left; border: 1px solid;'>2.3.1</td>\n",
       "    <td style='text-align: right; border: 1px solid;'>xarray</td>\n",
       "    <td style='text-align: left; border: 1px solid;'>2024.7.0</td>\n",
       "  </tr>\n",
       "  <tr>\n",
       "    <td style='text-align: right; border: 1px solid;'>discretize</td>\n",
       "    <td style='text-align: left; border: 1px solid;'>0.10.0</td>\n",
       "    <td style='text-align: right; border: 1px solid;'>h5py</td>\n",
       "    <td style='text-align: left; border: 1px solid;'>3.11.0</td>\n",
       "    <td style='text-align: right; border: 1px solid;'>matplotlib</td>\n",
       "    <td style='text-align: left; border: 1px solid;'>3.9.1</td>\n",
       "  </tr>\n",
       "  <tr>\n",
       "    <td style='text-align: right; border: 1px solid;'>tqdm</td>\n",
       "    <td style='text-align: left; border: 1px solid;'>4.66.5</td>\n",
       "    <td style='text-align: right; border: 1px solid;'>IPython</td>\n",
       "    <td style='text-align: left; border: 1px solid;'>8.26.0</td>\n",
       "    <td style='text-align: right; border: 1px solid;'>simpeg</td>\n",
       "    <td style='text-align: left; border: 1px solid;'>0.14.3.dev3195+ge0766b7bb.d20240815</td>\n",
       "  </tr>\n",
       "</table>"
      ],
      "text/plain": [
       "\n",
       "--------------------------------------------------------------------------------\n",
       "  Date: Tue Aug 27 17:23:33 2024 CEST\n",
       "\n",
       "                OS : Linux (Ubuntu 22.04)\n",
       "            CPU(s) : 16\n",
       "           Machine : x86_64\n",
       "      Architecture : 64bit\n",
       "               RAM : 31.0 GiB\n",
       "       Environment : Jupyter\n",
       "       File system : ext4\n",
       "\n",
       "  Python 3.12.5 | packaged by conda-forge | (main, Aug  8 2024, 18:36:51) [GCC\n",
       "  12.4.0]\n",
       "\n",
       "             numpy : 1.26.4\n",
       "             scipy : 1.14.0\n",
       "             numba : 0.60.0\n",
       "             emg3d : 1.8.4.dev20+ge383ae1.d20240809\n",
       "           empymod : 2.3.1\n",
       "            xarray : 2024.7.0\n",
       "        discretize : 0.10.0\n",
       "              h5py : 3.11.0\n",
       "        matplotlib : 3.9.1\n",
       "              tqdm : 4.66.5\n",
       "           IPython : 8.26.0\n",
       "            simpeg : 0.14.3.dev3195+ge0766b7bb.d20240815\n",
       "--------------------------------------------------------------------------------"
      ]
     },
     "execution_count": 24,
     "metadata": {},
     "output_type": "execute_result"
    }
   ],
   "source": [
    "emg3d.Report()"
   ]
  }
 ],
 "metadata": {
  "iooxa": {
   "id": {
    "block": "got9zIutSejuS7qrPobN",
    "project": "rzeiFG3sdIcsFLl4Infw",
    "version": 1
   }
  },
  "kernelspec": {
   "display_name": "simpeg-emg3d",
   "language": "python",
   "name": "simpeg-emg3d"
  },
  "language_info": {
   "codemirror_mode": {
    "name": "ipython",
    "version": 3
   },
   "file_extension": ".py",
   "mimetype": "text/x-python",
   "name": "python",
   "nbconvert_exporter": "python",
   "pygments_lexer": "ipython3",
   "version": "3.12.5"
  }
 },
 "nbformat": 4,
 "nbformat_minor": 4
}
