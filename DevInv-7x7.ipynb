{
 "cells": [
  {
   "cell_type": "markdown",
   "id": "49f2dccb",
   "metadata": {},
   "source": [
    "# Draft `pyGIMLi(emg3d)` - Inversion\n",
    "\n",
    "**An attempt at using `pyGIMLi` as an inversion framework for `emg3d` computations.**\n",
    "\n",
    "=> Create an environment using the provided `environment.yml`: `conda env create`.\n",
    "\n",
    "For developing purposes, we take a very simple model and survey:\n",
    "- Simple double-halfspace model water-subsurface with a resistive block.\n",
    "- Survey: A single 2D line, 7 sources, 7 frequencies.\n",
    "\n",
    "**Current Limitations**\n",
    "- Only isotropic models supported\n",
    "- Without el. perm. and magn. perm."
   ]
  },
  {
   "cell_type": "code",
   "execution_count": null,
   "id": "b9e884b3",
   "metadata": {},
   "outputs": [],
   "source": [
    "import numpy as np\n",
    "import matplotlib.pyplot as plt\n",
    "from matplotlib.colors import LogNorm\n",
    "\n",
    "import emg3d\n",
    "import pygimli as pg"
   ]
  },
  {
   "cell_type": "markdown",
   "id": "6bae9abc",
   "metadata": {},
   "source": [
    "## Load survey (incl. data), initial model, and create a Simulation"
   ]
  },
  {
   "cell_type": "code",
   "execution_count": null,
   "id": "3a8fde72",
   "metadata": {},
   "outputs": [],
   "source": [
    "inp_data = emg3d.load('pginv-7x7.h5')        # Finer model (but still coarse)\n",
    "\n",
    "inp_survey = inp_data['survey']\n",
    "inp_model = inp_data['model']\n",
    "inp_grid = inp_model.grid\n",
    "inp_model"
   ]
  },
  {
   "cell_type": "code",
   "execution_count": null,
   "id": "8b85a60d",
   "metadata": {},
   "outputs": [],
   "source": [
    "# The model is resistivity. Change it to conductivity\n",
    "# TODO: make this internally happen, so that pyGIMLi\n",
    "# always gets a conductivity model!\n",
    "con_model = emg3d.Model(inp_grid, 1/inp_model.property_x, mapping='Conductivity')\n",
    "con_model"
   ]
  },
  {
   "cell_type": "code",
   "execution_count": null,
   "id": "fb0b334f",
   "metadata": {},
   "outputs": [],
   "source": [
    "# For dev-purposes, we only select one source\n",
    "# [for dev-purposes it is also a very simple model]\n",
    "#inp_survey = inp_survey.select(sources='TxED-1')\n",
    "inp_survey"
   ]
  },
  {
   "cell_type": "markdown",
   "id": "8842abc9",
   "metadata": {},
   "source": [
    "## Create a Starting Model"
   ]
  },
  {
   "cell_type": "code",
   "execution_count": null,
   "id": "ba9b8e8f",
   "metadata": {},
   "outputs": [],
   "source": [
    "hx = np.ones(58)*250.0\n",
    "hy = np.ones(26)*250.0\n",
    "hz = np.ones(15)*250.0\n",
    "grid = emg3d.TensorMesh([hx, hy, hz], [-7250, -3250, -3500])\n",
    "\n",
    "model = emg3d.Model(grid, 1.0, mapping='Conductivity')\n",
    "model.property_x[:, :, -1:] = 3.33\n",
    "\n",
    "# QC\n",
    "grid"
   ]
  },
  {
   "cell_type": "markdown",
   "id": "438d5cbe",
   "metadata": {},
   "source": [
    "## Create a Simulation"
   ]
  },
  {
   "cell_type": "code",
   "execution_count": null,
   "id": "07e74fae",
   "metadata": {},
   "outputs": [],
   "source": [
    "# Create an emg3d Simulation instance\n",
    "sim = emg3d.simulations.Simulation(\n",
    "    survey=inp_survey,\n",
    "    model=model,\n",
    "    gridding='both', #'same',  # I would like to make that more flexible in the future\n",
    "    gridding_opts={'vector': 'xyz'},\n",
    "    max_workers=50,    # Adjust as needed\n",
    "    receiver_interpolation='linear',  # Currently necessary for the gradient\n",
    "    #solver_opts={'plain': True, 'maxit': 1},  # Just for dev-purpose\n",
    "    #solver_opts={'tol': 1e-4},                # Just for dev-purpose\n",
    "    tqdm_opts=False,  # Switch off verbose progress bars\n",
    ")\n",
    "sim"
   ]
  },
  {
   "cell_type": "markdown",
   "id": "b94a4de1",
   "metadata": {},
   "source": [
    "## Instantiate and run inversion"
   ]
  },
  {
   "cell_type": "code",
   "execution_count": null,
   "id": "8ee151b4",
   "metadata": {},
   "outputs": [],
   "source": [
    "markers = np.zeros(sim.model.shape, dtype=int)\n",
    "markers[1:-1, :, :][:, 1:-1, :][:, :, 1:-2] = 1\n",
    "\n",
    "fop = emg3d.inversion.pygimli.Kernel(simulation=sim, markers=markers, pgthreads=1)\n",
    "\n",
    "INV = emg3d.inversion.pygimli.Inversion(fop=fop)\n",
    "\n",
    "INV.setRegularization(1, limits=(0.001, 2), startModel=1)\n",
    "INV.setRegularization(0, background=True)"
   ]
  },
  {
   "cell_type": "code",
   "execution_count": null,
   "id": "030d854c",
   "metadata": {},
   "outputs": [],
   "source": [
    "#fop.obs_errors[fop.obs_errors > 0.5] = 1e8\n",
    "invmodel = INV.run(\n",
    "    #maxIter=4, # just to test\n",
    "    lam=1,\n",
    "    #verbose=True,\n",
    "    #startModel=...,\n",
    "    #isReference=True,\n",
    ")"
   ]
  },
  {
   "cell_type": "code",
   "execution_count": null,
   "id": "73517d05-fae9-4d01-8378-7580a794ca15",
   "metadata": {},
   "outputs": [],
   "source": [
    "emg3d.save('result.h5', model=invmodel)"
   ]
  },
  {
   "cell_type": "markdown",
   "id": "919334b7",
   "metadata": {},
   "source": [
    "## Plots"
   ]
  },
  {
   "cell_type": "raw",
   "id": "14f52465-ae57-4d5d-9ade-0f9fb1a14585",
   "metadata": {},
   "source": [
    "# Add inversion result to data;\n",
    "# I should wrap these few lines into a function, as they are used above as well\n",
    "idata = np.ones(sim.survey.shape, dtype=sim.data.observed.dtype)*np.nan\n",
    "x = np.asarray(INV.response)\n",
    "idata[sim._finite_data] = x[:x.size//2] + 1j*x[x.size//2:]\n",
    "sim.survey.data['inv'] = sim.survey.data.observed.copy(data=idata)\n",
    "\n",
    "# Compute the 2-layer model as comparison\n",
    "sim.clean('computed')\n",
    "sim.model = model\n",
    "sim.compute()  # <- puts it into 'synthetic'"
   ]
  },
  {
   "cell_type": "raw",
   "id": "1afeac87-1aca-4ee2-9a69-52f54767cf11",
   "metadata": {},
   "source": [
    "# Store final model as model to be saved with the simulation\n",
    "sim.model = emg3d.Model(grid, np.array(INV.model), mapping='Conductivity')\n",
    "sim.to_file('Simulation-7x7.h5')"
   ]
  },
  {
   "cell_type": "raw",
   "id": "588ec3ab-fbfc-40aa-b530-4c9eba8606e9",
   "metadata": {},
   "source": [
    "popts1 = {'cmap':'Spectral_r','norm':LogNorm(vmin=0.3, vmax=100)}\n",
    "popts2 = {'edgecolors': 'grey', 'linewidth': 0.5, 'cmap':'Spectral_r','norm':LogNorm(vmin=0.3, vmax=100)}\n",
    "opts = {'v_type': 'CC', 'normal': 'Y'}\n",
    "\n",
    "rec_coords = sim.survey.receiver_coordinates()\n",
    "src_coords = sim.survey.source_coordinates()\n",
    "\n",
    "fig, axs = plt.subplots(2, 3, figsize=(9, 6), constrained_layout=True, sharex=True, sharey='col')\n",
    "(ax1, ax2, ax3), (ax4, ax5, ax6) = axs\n",
    "\n",
    "# True model\n",
    "out1, = inp_grid.plot_slice(inp_data['true_model'].property_x.ravel('F'), ax=ax1, pcolor_opts=popts1, **opts)\n",
    "ax1.set_title(f\"True Model (Ohm.m)\")\n",
    "ax1.plot(rec_coords[0], rec_coords[1], 'bv')\n",
    "ax1.plot(src_coords[0], src_coords[1], 'r*')\n",
    "\n",
    "# Start model\n",
    "out2, = model.grid.plot_slice(1/model.property_x.ravel('F'), ax=ax2, pcolor_opts=popts1, **opts)\n",
    "ax2.set_title(f\"Start Model (Ohm.m)\")\n",
    "\n",
    "# Final inversion model\n",
    "out3, = model.grid.plot_slice(1/sim.model.property_x.ravel('F'), ax=ax3, pcolor_opts=popts1, **opts)\n",
    "ax3.set_title(f\"Final Model (Ohm.m)\")\n",
    "\n",
    "opts['normal'] = 'Z'\n",
    "opts['ind'] = 4\n",
    "\n",
    "# True model\n",
    "out4, = inp_grid.plot_slice(inp_data['true_model'].property_x.ravel('F'), ax=ax4, pcolor_opts=popts1, **opts)\n",
    "ax4.set_title(f\"True Model (Ohm.m)\")\n",
    "ax4.plot(rec_coords[0], rec_coords[2], 'bv')\n",
    "ax4.plot(src_coords[0], src_coords[2], 'r*')\n",
    "\n",
    "# Start model\n",
    "out5, = model.grid.plot_slice(1/model.property_x.ravel('F'), ax=ax5, pcolor_opts=popts1, **opts)\n",
    "ax5.set_title(f\"Start Model (Ohm.m)\")\n",
    "\n",
    "# Final inversion model\n",
    "out6, = model.grid.plot_slice(1/sim.model.property_x.ravel('F'), ax=ax6, pcolor_opts=popts1, **opts)\n",
    "ax6.set_title(f\"Final Model (Ohm.m)\")\n",
    "\n",
    "plt.colorbar(out1, ax=axs, orientation='horizontal', fraction=.1, shrink=.8, aspect=30)\n",
    "plt.savefig('ModelFit-7x7.png', dpi=300)"
   ]
  },
  {
   "cell_type": "raw",
   "id": "f0f787df-75d9-48c6-962a-a3db00cccbb8",
   "metadata": {},
   "source": [
    "def pos(data):\n",
    "    \"\"\"Return positive data; set negative data to NaN.\"\"\"\n",
    "    return np.where(data > 0, data, np.nan)\n",
    "    \n",
    "\n",
    "height = sim.survey.shape[2]*1.7+2\n",
    "fig, axs = plt.subplots(sim.survey.shape[2], 3, figsize=(9, height), constrained_layout=True, sharex=True, sharey=True)\n",
    "axs = np.atleast_2d(axs)  # So it works if only 1 freq\n",
    "\n",
    "# Data\n",
    "obs = sim.data.observed\n",
    "syn = sim.data.inv\n",
    "syn.data[~np.isfinite(obs.data)] = np.nan+1j*np.nan\n",
    "two = sim.data.synthetic\n",
    "two.data[~np.isfinite(obs.data)] = np.nan+1j*np.nan\n",
    "\n",
    "rec_coords = sim.survey.receiver_coordinates()\n",
    "\n",
    "for ii, freq in enumerate(sim.survey.frequencies.keys()):\n",
    "    for i, src in enumerate(sim.survey.sources.keys()):\n",
    "        #if i in [1, 3, 5]:\n",
    "        #    continue\n",
    "        \n",
    "        # Observed data\n",
    "        axs[ii, 0].plot(rec_coords[0], abs(obs.loc[src, :, freq].data), f\"C{i}.\",\n",
    "                        label='observed' if i == 0 else '')\n",
    "        axs[ii, 1].plot(rec_coords[0], pos(obs.loc[src, :, freq].data.real), f\"C{i}.\",\n",
    "                        label='positive' if i == 0 else '')\n",
    "        axs[ii, 1].plot(rec_coords[0], pos(-obs.loc[src, :, freq].data.real), f\"C{i}x\", ms=3,\n",
    "                        label='negative' if i == 0 else '')\n",
    "        axs[ii, 2].plot(rec_coords[0], pos(obs.loc[src, :, freq].data.imag), f\"C{i}.\")\n",
    "        axs[ii, 2].plot(rec_coords[0], pos(-obs.loc[src, :, freq].data.imag), f\"C{i}x\", ms=3)\n",
    "        \n",
    "        # Start model\n",
    "        axs[ii, 0].plot(rec_coords[0], abs(two.loc[src, :, freq].data), f\"C{i}--\", alpha=.4, lw=0.5,\n",
    "                        label='start' if i == 0 else '')\n",
    "        axs[ii, 1].plot(rec_coords[0], abs(two.loc[src, :, freq].data.real), f\"C{i}--\", alpha=.4, lw=0.5)\n",
    "        axs[ii, 2].plot(rec_coords[0], abs(two.loc[src, :, freq].data.imag), f\"C{i}--\", alpha=.4, lw=0.5)\n",
    "        \n",
    "        # Inverted data\n",
    "        axs[ii, 0].plot(rec_coords[0], abs(syn.loc[src, :, freq].data), f\"k-\", lw=0.8,\n",
    "                        label='inversion' if i == 0 else '')\n",
    "        axs[ii, 1].plot(rec_coords[0], pos(syn.loc[src, :, freq].data.real), f\"k-\", lw=0.8)\n",
    "        axs[ii, 1].plot(rec_coords[0], pos(-syn.loc[src, :, freq].data.real), f\"k--\", lw=0.8)\n",
    "        axs[ii, 2].plot(rec_coords[0], pos(syn.loc[src, :, freq].data.imag), f\"k-\", lw=0.8,\n",
    "                        label='positive' if i == 0 else '')\n",
    "        axs[ii, 2].plot(rec_coords[0], pos(-syn.loc[src, :, freq].data.imag), f\"k--\", lw=0.8,\n",
    "                        label='negative' if i == 0 else '')\n",
    "        \n",
    "\n",
    "    axs[ii, 0].set_ylabel(f'$f={sim.survey.frequencies[freq]}$ Hz')     \n",
    "\n",
    "        \n",
    "axs[0, 0].set_yscale('log')\n",
    "axs[0, 0].set_ylim([3e-16, 2e-7])\n",
    "\n",
    "axs[0, 0].set_title('Amplitude: $|E_x|$ (V/m)')\n",
    "axs[0, 1].set_title('Real $|\\Re(E_x)|$ (V/m)')\n",
    "axs[0, 2].set_title('Imaginary $|\\Im(E_x)|$ (V/m)')\n",
    "\n",
    "axs[0, 0].legend(framealpha=1)\n",
    "axs[0, 1].legend(framealpha=1)\n",
    "axs[0, 2].legend(framealpha=1)\n",
    "\n",
    "axs[-1, 1].set_xlabel('x-coordinate (m)')\n",
    "plt.savefig('ResponseFit-7x7.png', dpi=300)\n",
    "plt.show()"
   ]
  },
  {
   "cell_type": "code",
   "execution_count": null,
   "id": "a070e494",
   "metadata": {},
   "outputs": [],
   "source": [
    "emg3d.Report()"
   ]
  }
 ],
 "metadata": {
  "hide_input": false,
  "kernelspec": {
   "display_name": "pg-emg3d",
   "language": "python",
   "name": "pg-emg3d"
  },
  "language_info": {
   "codemirror_mode": {
    "name": "ipython",
    "version": 3
   },
   "file_extension": ".py",
   "mimetype": "text/x-python",
   "name": "python",
   "nbconvert_exporter": "python",
   "pygments_lexer": "ipython3",
   "version": "3.11.9"
  },
  "toc": {
   "base_numbering": 1,
   "nav_menu": {},
   "number_sections": false,
   "sideBar": true,
   "skip_h1_title": false,
   "title_cell": "Table of Contents",
   "title_sidebar": "Contents",
   "toc_cell": false,
   "toc_position": {},
   "toc_section_display": true,
   "toc_window_display": false
  },
  "varInspector": {
   "cols": {
    "lenName": 16,
    "lenType": 16,
    "lenVar": 40
   },
   "kernels_config": {
    "python": {
     "delete_cmd_postfix": "",
     "delete_cmd_prefix": "del ",
     "library": "var_list.py",
     "varRefreshCmd": "print(var_dic_list())"
    },
    "r": {
     "delete_cmd_postfix": ") ",
     "delete_cmd_prefix": "rm(",
     "library": "var_list.r",
     "varRefreshCmd": "cat(var_dic_list()) "
    }
   },
   "position": {
    "height": "446.849px",
    "left": "931px",
    "right": "20px",
    "top": "120px",
    "width": "329px"
   },
   "types_to_exclude": [
    "module",
    "function",
    "builtin_function_or_method",
    "instance",
    "_Feature"
   ],
   "window_display": false
  }
 },
 "nbformat": 4,
 "nbformat_minor": 5
}
