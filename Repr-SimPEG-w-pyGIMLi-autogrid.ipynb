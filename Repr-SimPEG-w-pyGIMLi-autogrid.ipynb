{
 "cells": [
  {
   "cell_type": "markdown",
   "metadata": {
    "iooxa": {
     "id": {
      "block": "bliAY43zX9Ur4dXCk2aC",
      "project": "rzeiFG3sdIcsFLl4Infw",
      "version": 2
     }
    }
   },
   "source": [
    "# marine controlled-source EM inversion -- _with automatic grid_\n",
    "\n",
    "- use of `emg3d` + `SimPEG`\n",
    "\n",
    "based on `simpeg-emg3d-inversion.ipynb`\n",
    "\n",
    "This example uses a different computational mesh than the inversion mesh; but the same for all sources and all frequencies. The main point is that the computational mesh has a much larger extent than the inversion mesh.\n",
    "\n",
    "Using the up-to-date (2022-03-11) branch:\n",
    "\n",
    "- SimPEG: https://github.com/simpeg/simpeg/tree/emg3d-solver\n",
    "- emg3d: `>=v1.5.0`."
   ]
  },
  {
   "cell_type": "code",
   "execution_count": 1,
   "metadata": {
    "iooxa": {
     "id": {
      "block": "AJHyju6cuRS9wkbeBGzq",
      "project": "rzeiFG3sdIcsFLl4Infw",
      "version": 1
     },
     "outputId": null
    }
   },
   "outputs": [],
   "source": [
    "import numpy as np\n",
    "import matplotlib.pyplot as plt\n",
    "from matplotlib.colors import LogNorm\n",
    "\n",
    "import emg3d\n",
    "import SimPEG\n",
    "import discretize\n",
    "from pymatsolver import Pardiso\n",
    "import SimPEG.electromagnetics.frequency_domain as FDEM"
   ]
  },
  {
   "cell_type": "markdown",
   "metadata": {
    "iooxa": {
     "id": {
      "block": "vdjBibtQpFvXQMz7R9DA",
      "project": "rzeiFG3sdIcsFLl4Infw",
      "version": 1
     }
    }
   },
   "source": [
    "## Create a model"
   ]
  },
  {
   "cell_type": "code",
   "execution_count": 2,
   "metadata": {
    "iooxa": {
     "id": {
      "block": "ZqAztqKq6v7TzY61MWNv",
      "project": "rzeiFG3sdIcsFLl4Infw",
      "version": 1
     },
     "outputId": null
    }
   },
   "outputs": [],
   "source": [
    "hx = np.ones(24)*200\n",
    "hy = np.ones(12)*200\n",
    "hz = np.ones(16)*200"
   ]
  },
  {
   "cell_type": "code",
   "execution_count": 3,
   "metadata": {
    "iooxa": {
     "id": {
      "block": "j9yJtj0xeYQry1RTyod1",
      "project": "rzeiFG3sdIcsFLl4Infw",
      "version": 1
     },
     "outputId": null
    }
   },
   "outputs": [],
   "source": [
    "mesh = discretize.TensorMesh([hx, hy, hz], x0=[-2400, -1200, -3000])"
   ]
  },
  {
   "cell_type": "code",
   "execution_count": 4,
   "metadata": {
    "iooxa": {
     "id": {
      "block": "uzOcRPqNxwUqeCxmuOUF",
      "project": "rzeiFG3sdIcsFLl4Infw",
      "version": 1
     },
     "outputId": {
      "block": "6zvXVUbSzDa5qMvKH7qL",
      "project": "rzeiFG3sdIcsFLl4Infw",
      "version": 1
     }
    }
   },
   "outputs": [
    {
     "data": {
      "text/plain": [
       "(-3000.0, 0.0)"
      ]
     },
     "execution_count": 4,
     "metadata": {},
     "output_type": "execute_result"
    },
    {
     "data": {
      "image/png": "[encoded data removed]",
      "text/plain": [
       "<Figure size 576x288 with 1 Axes>"
      ]
     },
     "metadata": {
      "needs_background": "light"
     },
     "output_type": "display_data"
    }
   ],
   "source": [
    "inds_air = mesh.cell_centers[:,2]>0.\n",
    "inds_seafloor = mesh.cell_centers[:,2]<-1000.\n",
    "inds_hydrocarbon = (\n",
    "    np.logical_and(mesh.cell_centers[:,2]<-1600, mesh.cell_centers[:,2]>-2000) \n",
    "    & np.logical_and(mesh.cell_centers[:,0]>-1000, mesh.cell_centers[:,0]<1000)\n",
    "    & np.logical_and(mesh.cell_centers[:,1]>-1000, mesh.cell_centers[:,1]<1000)\n",
    ")\n",
    "\n",
    "sigma = np.ones(mesh.n_cells) * 1./0.33\n",
    "sigma[inds_air] = 1./1e8\n",
    "sigma[inds_seafloor] = 1./1.\n",
    "sigma[inds_hydrocarbon] = 1./100\n",
    "fig, ax = plt.subplots(1,1, figsize=(8, 4))\n",
    "mesh.plot_slice(\n",
    "    1./sigma, grid=True, normal='Y', \n",
    "#     grid_opts={'color':'grey', 'linewidth':1},\n",
    "    pcolor_opts={'cmap':'Spectral_r', 'norm':LogNorm(vmin=0.33, vmax=100)}, \n",
    "    ax=ax,\n",
    ")\n",
    "ax.set_aspect(1)\n",
    "ax.set_ylim(mesh.vectorNz.min(), 0)"
   ]
  },
  {
   "cell_type": "code",
   "execution_count": 5,
   "metadata": {
    "iooxa": {
     "id": {
      "block": "30VqQvq3qDIRA4oxRqKx",
      "project": "rzeiFG3sdIcsFLl4Infw",
      "version": 1
     },
     "outputId": null
    }
   },
   "outputs": [],
   "source": [
    "inds_active = mesh.cell_centers[:,2]<-1000."
   ]
  },
  {
   "cell_type": "markdown",
   "metadata": {
    "iooxa": {
     "id": {
      "block": "8ce1Xgeu8mo5wAC7VKca",
      "project": "rzeiFG3sdIcsFLl4Infw",
      "version": 1
     }
    }
   },
   "source": [
    "## Create a survey"
   ]
  },
  {
   "cell_type": "code",
   "execution_count": 6,
   "metadata": {
    "iooxa": {
     "id": {
      "block": "8f0OUlpuueihJ1FoHXjD",
      "project": "rzeiFG3sdIcsFLl4Infw",
      "version": 1
     },
     "outputId": null
    }
   },
   "outputs": [],
   "source": [
    "# there is funcy behavior ... had to use this way ???\n",
    "rec_x = np.arange(-2100, 2101, 44)\n",
    "rec_y =  np.r_[0.0]\n",
    "rec_z = np.array([-850])\n",
    "xyz_rx = SimPEG.utils.ndgrid(rec_x, rec_y, rec_z)\n",
    "src_x = np.arange(-2000, 2001, 500)\n",
    "src_y = np.r_[0]\n",
    "src_z = np.array([-1000])\n",
    "xyz_src = SimPEG.utils.ndgrid(src_x, src_y, src_z)"
   ]
  },
  {
   "cell_type": "code",
   "execution_count": 7,
   "metadata": {
    "iooxa": {
     "id": {
      "block": "06Lvf12o1KOrzkpKcqla",
      "project": "rzeiFG3sdIcsFLl4Infw",
      "version": 1
     },
     "outputId": {
      "block": "tbmVNdQbRnZIo8SrWw3f",
      "project": "rzeiFG3sdIcsFLl4Infw",
      "version": 1
     }
    }
   },
   "outputs": [
    {
     "data": {
      "text/plain": [
       "(-5000.0, 5000.0)"
      ]
     },
     "execution_count": 7,
     "metadata": {},
     "output_type": "execute_result"
    },
    {
     "data": {
      "image/png": "[encoded data removed]",
      "text/plain": [
       "<Figure size 432x288 with 1 Axes>"
      ]
     },
     "metadata": {
      "needs_background": "light"
     },
     "output_type": "display_data"
    }
   ],
   "source": [
    "mesh.plot_slice(\n",
    "    1./sigma, grid=True, normal='Z', \n",
    "    ind=6,\n",
    "    pcolor_opts={'cmap':'Spectral_r', 'norm':LogNorm(vmin=1, vmax=100)}, \n",
    ")\n",
    "plt.plot(xyz_rx[:,0], xyz_rx[:,1], 'r.')\n",
    "plt.plot(xyz_src[:,0], xyz_src[:,1], 'w*')\n",
    "plt.gca().set_aspect(1)\n",
    "plt.xlim(-5000, 5000)\n",
    "plt.ylim(-5000, 5000)"
   ]
  },
  {
   "cell_type": "code",
   "execution_count": 8,
   "metadata": {
    "iooxa": {
     "id": {
      "block": "emuz2U5dLjIkswF5L8oQ",
      "project": "rzeiFG3sdIcsFLl4Infw",
      "version": 1
     },
     "outputId": null
    }
   },
   "outputs": [],
   "source": [
    "frequency = 1\n",
    "rx_list = [\n",
    "    FDEM.receivers.PointElectricField(\n",
    "        orientation='x', component=\"complex\", locations=xyz_rx),\n",
    "]\n",
    "\n",
    "# vector = np.real(sfield.field/-sfield.smu0)\n",
    "src_list = []\n",
    "for ii in range(xyz_src.shape[0]):\n",
    "    src = FDEM.sources.ElectricDipole(rx_list, location=xyz_src[ii,:], frequency=frequency, azimuth=0, elevation=0)\n",
    "    src_list.append(src)\n",
    "survey = FDEM.Survey(src_list)"
   ]
  },
  {
   "cell_type": "markdown",
   "metadata": {
    "iooxa": {
     "id": {
      "block": "8DbjjYodvUEjf8IXXJ8p",
      "project": "rzeiFG3sdIcsFLl4Infw",
      "version": 1
     }
    }
   },
   "source": [
    "## Create simulation"
   ]
  },
  {
   "cell_type": "code",
   "execution_count": 9,
   "metadata": {
    "iooxa": {
     "id": {
      "block": "9nWZ61gZ2UyBGpXWZyLM",
      "project": "rzeiFG3sdIcsFLl4Infw",
      "version": 1
     },
     "outputId": null
    }
   },
   "outputs": [],
   "source": [
    "active_map = SimPEG.maps.InjectActiveCells(mesh, inds_active, sigma[~inds_active])\n",
    "nP = int(inds_active.sum())\n",
    "conductivity_map = active_map * SimPEG.maps.ExpMap(nP=nP)\n",
    "# conductivity_map = SimPEG.maps.IdentityMap(mesh)"
   ]
  },
  {
   "cell_type": "code",
   "execution_count": 10,
   "metadata": {
    "iooxa": {
     "id": {
      "block": "BICEEs76kmrm2VOmzp9w",
      "project": "rzeiFG3sdIcsFLl4Infw",
      "version": 1
     },
     "outputId": {
      "block": "aNmK8QUAD9OQ9U7pdBg1",
      "project": "rzeiFG3sdIcsFLl4Infw",
      "version": 1
     }
    }
   },
   "outputs": [
    {
     "data": {
      "text/html": [
       "<table>\n",
       "  <tr>\n",
       "    <td style='font-weight: bold; font-size: 1.2em; text-align: center;' colspan='3'>TensorMesh</td>\n",
       "    <td style='font-size: 1.2em; text-align: center;'colspan='4'>61,440 cells</td>\n",
       "  </tr>\n",
       "  <tr>\n",
       "    <th></th>\n",
       "    <th></th>\n",
       "    <th colspan='2' style='padding: 5px 20px 5px 20px;'>MESH EXTENT</th>\n",
       "    <th colspan='2' style='padding: 5px 20px 5px 20px;'>CELL WIDTH</th>\n",
       "    <th style='padding: 5px 20px 5px 20px;'>FACTOR</th>\n",
       "  </tr>\n",
       "  <tr>\n",
       "    <th style='padding: 5px 20px 5px 20px;'>dir</th>\n",
       "    <th style='padding: 5px 20px 5px 20px;'>nC</th>\n",
       "    <th style='padding: 5px 20px 5px 20px;'>min</th>\n",
       "    <th style='padding: 5px 20px 5px 20px;'>max</th>\n",
       "    <th style='padding: 5px 20px 5px 20px;'>min</th>\n",
       "    <th style='padding: 5px 20px 5px 20px;'>max</th>\n",
       "    <th style='padding: 5px 20px 5px 20px;'>max</th>\n",
       "  </tr>\n",
       "  <tr>\n",
       "    <td style='padding: 5px 20px 5px 20px;'>x</td>\n",
       "    <td style='padding: 5px 20px 5px 20px;'>48</td>\n",
       "    <td style='padding: 5px 20px 5px 20px;'>-50,019.12</td>\n",
       "    <td style='padding: 5px 20px 5px 20px;'>50,019.12</td>\n",
       "    <td style='padding: 5px 20px 5px 20px;'>200.00</td>\n",
       "    <td style='padding: 5px 20px 5px 20px;'>12,475.57</td>\n",
       "    <td style='padding: 5px 20px 5px 20px;'>1.34</td>\n",
       "  </tr>\n",
       "  <tr>\n",
       "    <td style='padding: 5px 20px 5px 20px;'>y</td>\n",
       "    <td style='padding: 5px 20px 5px 20px;'>40</td>\n",
       "    <td style='padding: 5px 20px 5px 20px;'>-51,022.23</td>\n",
       "    <td style='padding: 5px 20px 5px 20px;'>51,022.23</td>\n",
       "    <td style='padding: 5px 20px 5px 20px;'>200.00</td>\n",
       "    <td style='padding: 5px 20px 5px 20px;'>15,165.89</td>\n",
       "    <td style='padding: 5px 20px 5px 20px;'>1.43</td>\n",
       "  </tr>\n",
       "  <tr>\n",
       "    <td style='padding: 5px 20px 5px 20px;'>z</td>\n",
       "    <td style='padding: 5px 20px 5px 20px;'>32</td>\n",
       "    <td style='padding: 5px 20px 5px 20px;'>-5,276.91</td>\n",
       "    <td style='padding: 5px 20px 5px 20px;'>50,104.92</td>\n",
       "    <td style='padding: 5px 20px 5px 20px;'>200.00</td>\n",
       "    <td style='padding: 5px 20px 5px 20px;'>13,148.46</td>\n",
       "    <td style='padding: 5px 20px 5px 20px;'>1.35</td>\n",
       "  </tr>\n",
       "</table>\n"
      ],
      "text/plain": [
       "\n",
       "  TensorMesh: 61,440 cells\n",
       "\n",
       "                      MESH EXTENT             CELL WIDTH      FACTOR\n",
       "  dir    nC        min           max         min       max      max\n",
       "  ---   ---  ---------------------------  ------------------  ------\n",
       "   x     48    -50,019.12     50,019.12    200.00 12,475.57    1.34\n",
       "   y     40    -51,022.23     51,022.23    200.00 15,165.89    1.43\n",
       "   z     32     -5,276.91     50,104.92    200.00 13,148.46    1.35\n"
      ]
     },
     "execution_count": 10,
     "metadata": {},
     "output_type": "execute_result"
    }
   ],
   "source": [
    "# Define the Simulation\n",
    "simulation = FDEM.Simulation3DEMG3D(\n",
    "        mesh,\n",
    "        survey=survey,\n",
    "        sigmaMap=conductivity_map,\n",
    "        solver=Pardiso,\n",
    "        verbose=False,\n",
    "        simulation_opts={\n",
    "            'max_workers': 10, \n",
    "            'gridding': 'single',\n",
    "            'model': emg3d.Model(mesh, sigma, mapping='Conductivity'),\n",
    "            'gridding_opts': {\n",
    "                'seasurface': 0.0,\n",
    "                'center': (0, 0, -1000),\n",
    "                'vector': 'xyz',\n",
    "                'domain': ([-2000, 2000], [-1500, 1500], [-2500, 0]),\n",
    "                'min_width_limits': (200, 400, 100),\n",
    "                'max_buffer': 50_000,\n",
    "                'lambda_from_center': True,\n",
    "                'center_on_edge': False,\n",
    "            },\n",
    "        },\n",
    ")\n",
    "\n",
    "m_true =  np.log(sigma[inds_active])\n",
    "# m_true =  np.ones(mesh.nC)\n",
    "m0 =  np.ones(inds_active.sum()) * np.log(1.)\n",
    "\n",
    "m2 = simulation.emg3d_sim.get_model('TxED-1', 'f-1')\n",
    "m2.grid"
   ]
  },
  {
   "cell_type": "code",
   "execution_count": 11,
   "metadata": {
    "iooxa": {
     "id": {
      "block": "ZuJ1qR1pzFLIAKrHyNda",
      "project": "rzeiFG3sdIcsFLl4Infw",
      "version": 1
     },
     "outputId": {
      "block": "DzSvjNNupwp8pTikrUrY",
      "project": "rzeiFG3sdIcsFLl4Infw",
      "version": 1
     }
    }
   },
   "outputs": [
    {
     "data": {
      "image/png": "[encoded data removed]",
      "text/plain": [
       "<Figure size 432x288 with 4 Axes>"
      ]
     },
     "metadata": {
      "needs_background": "light"
     },
     "output_type": "display_data"
    }
   ],
   "source": [
    "m2.grid.plot_3d_slicer(1/m2.property_x, xslice=12000, yslice=7000,\n",
    "                       zlim=[-2500, 500],\n",
    "                       pcolor_opts={'norm': LogNorm(vmin=0.3, vmax=200)})"
   ]
  },
  {
   "cell_type": "code",
   "execution_count": 12,
   "metadata": {
    "iooxa": {
     "id": {
      "block": "ZkXV98RGrRnok5njG6QZ",
      "project": "rzeiFG3sdIcsFLl4Infw",
      "version": 1
     },
     "outputId": null
    }
   },
   "outputs": [],
   "source": [
    "f = simulation.fields(m_true)\n",
    "d_true = simulation.dpred(m_true, f=f)"
   ]
  },
  {
   "cell_type": "code",
   "execution_count": 13,
   "metadata": {
    "iooxa": {
     "id": {
      "block": "CZXwkeQOaQsW9hgjQhfa",
      "project": "rzeiFG3sdIcsFLl4Infw",
      "version": 1
     },
     "outputId": null
    }
   },
   "outputs": [],
   "source": [
    "d_0 = simulation.dpred(m0)"
   ]
  },
  {
   "cell_type": "code",
   "execution_count": 14,
   "metadata": {
    "iooxa": {
     "id": {
      "block": "LsnmMGLKecMbDu2djq0E",
      "project": "rzeiFG3sdIcsFLl4Infw",
      "version": 1
     },
     "outputId": null
    }
   },
   "outputs": [],
   "source": [
    "relative_error = 0.01\n",
    "noise_floor = 1e-14\n",
    "standard_deviation = np.sqrt(abs(relative_error*d_true)**2 + (noise_floor)**2)"
   ]
  },
  {
   "cell_type": "code",
   "execution_count": 15,
   "metadata": {
    "iooxa": {
     "id": {
      "block": "7vClaAoJvWhYMRKiK7Am",
      "project": "rzeiFG3sdIcsFLl4Infw",
      "version": 1
     },
     "outputId": null
    }
   },
   "outputs": [],
   "source": [
    "residual = (d_true - d_0)/standard_deviation"
   ]
  },
  {
   "cell_type": "code",
   "execution_count": 16,
   "metadata": {
    "iooxa": {
     "id": {
      "block": "N8weJf7Aft1LhNtMaqQz",
      "project": "rzeiFG3sdIcsFLl4Infw",
      "version": 1
     },
     "outputId": {
      "block": "9xON0MDd14ZuJ3EqrNjY",
      "project": "rzeiFG3sdIcsFLl4Infw",
      "version": 1
     }
    }
   },
   "outputs": [
    {
     "data": {
      "text/plain": [
       "412050.71990387136"
      ]
     },
     "execution_count": 16,
     "metadata": {},
     "output_type": "execute_result"
    }
   ],
   "source": [
    "np.vdot(residual, residual).real"
   ]
  },
  {
   "cell_type": "code",
   "execution_count": 17,
   "metadata": {
    "iooxa": {
     "id": {
      "block": "2Y7WDMLDt1q7JuonULqS",
      "project": "rzeiFG3sdIcsFLl4Infw",
      "version": 1
     },
     "outputId": {
      "block": "1zbafvYdELKX2LQzXeYH",
      "project": "rzeiFG3sdIcsFLl4Infw",
      "version": 1
     }
    }
   },
   "outputs": [
    {
     "data": {
      "text/plain": [
       "[<matplotlib.lines.Line2D at 0x7ffea0f1ec70>]"
      ]
     },
     "execution_count": 17,
     "metadata": {},
     "output_type": "execute_result"
    },
    {
     "data": {
      "image/png": "[encoded data removed]",
      "text/plain": [
       "<Figure size 432x288 with 1 Axes>"
      ]
     },
     "metadata": {
      "needs_background": "light"
     },
     "output_type": "display_data"
    }
   ],
   "source": [
    "plt.semilogy(abs(residual), label='dobs')\n",
    "# plt.semilogy(standard_deviation,label='std')"
   ]
  },
  {
   "cell_type": "code",
   "execution_count": 18,
   "metadata": {
    "iooxa": {
     "id": {
      "block": "epLAkfxgvGOEpp4KaVZg",
      "project": "rzeiFG3sdIcsFLl4Infw",
      "version": 1
     },
     "outputId": {
      "block": "auyIA0HTefbc0oakSJte",
      "project": "rzeiFG3sdIcsFLl4Infw",
      "version": 1
     }
    }
   },
   "outputs": [
    {
     "data": {
      "text/plain": [
       "(array([ 31.,  65., 115., 136., 109.,  91.,  78.,  81.,  99.,  59.]),\n",
       " array([-13.84936453, -13.27002032, -12.69067611, -12.1113319 ,\n",
       "        -11.53198769, -10.95264348, -10.37329927,  -9.79395506,\n",
       "         -9.21461085,  -8.63526664,  -8.05592243]),\n",
       " <BarContainer object of 10 artists>)"
      ]
     },
     "execution_count": 18,
     "metadata": {},
     "output_type": "execute_result"
    },
    {
     "data": {
      "image/png": "[encoded data removed]",
      "text/plain": [
       "<Figure size 432x288 with 1 Axes>"
      ]
     },
     "metadata": {
      "needs_background": "light"
     },
     "output_type": "display_data"
    }
   ],
   "source": [
    "plt.hist(np.log10(abs(d_true)))"
   ]
  },
  {
   "cell_type": "code",
   "execution_count": 19,
   "metadata": {
    "iooxa": {
     "id": {
      "block": "4BWe89LvplGzG8fiQMAT",
      "project": "rzeiFG3sdIcsFLl4Infw",
      "version": 1
     },
     "outputId": {
      "block": "Mw2ewtXPqVVHjj1A7nkj",
      "project": "rzeiFG3sdIcsFLl4Infw",
      "version": 1
     }
    }
   },
   "outputs": [
    {
     "data": {
      "image/png": "[encoded data removed]",
      "text/plain": [
       "<Figure size 720x360 with 2 Axes>"
      ]
     },
     "metadata": {
      "needs_background": "light"
     },
     "output_type": "display_data"
    }
   ],
   "source": [
    "fig, (ax1, ax2) = plt.subplots(1, 2, figsize=(10, 5))\n",
    "\n",
    "ax1.set_title('Responses (V/m)')\n",
    "ax1.semilogy(abs(d_true), 'o', label='true/observed')\n",
    "ax1.semilogy(abs(d_0), '.', label='initial model')\n",
    "ax1.legend()\n",
    "\n",
    "ax2.set_title('Weighted Residuals')\n",
    "nsrc = xyz_src.shape[0]\n",
    "nrec = len(rec_x)-4\n",
    "x = np.arange(len(residual))\n",
    "for s in range(nsrc):\n",
    "    ax2.semilogy(x[s*nrec:(s+1)*nrec], abs(residual[s*nrec:(s+1)*nrec]), '.')\n",
    "\n",
    "plt.show()"
   ]
  },
  {
   "cell_type": "code",
   "execution_count": 20,
   "metadata": {
    "iooxa": {
     "id": {
      "block": "Mf7IWNa5KnEqGKKpsA0Q",
      "project": "rzeiFG3sdIcsFLl4Infw",
      "version": 1
     },
     "outputId": null
    }
   },
   "outputs": [],
   "source": [
    "em_data = SimPEG.data.ComplexData(survey, dobs=d_true, standard_deviation=standard_deviation)\n",
    "dmis = SimPEG.data_misfit.L2DataMisfit(data=em_data, simulation=simulation)"
   ]
  },
  {
   "cell_type": "code",
   "execution_count": 21,
   "metadata": {
    "iooxa": {
     "id": {
      "block": "ByoGhn2hWjR7YVbK2D8Q",
      "project": "rzeiFG3sdIcsFLl4Infw",
      "version": 1
     },
     "outputId": null
    }
   },
   "outputs": [],
   "source": [
    "def test_misfit():\n",
    "    passed = discretize.tests.check_derivative(\n",
    "        fctn=lambda m: (simulation.dpred(m), lambda mx: simulation.Jvec(m0, mx, f=f)),\n",
    "        x0=m0,\n",
    "        plotIt=False,\n",
    "        num=3,\n",
    "    )\n",
    "\n",
    "def test_adjoint():\n",
    "    f = simulation.fields(m=m0)   \n",
    "    _ = discretize.tests.assert_isadjoint(\n",
    "        forward=lambda u: simulation.Jvec(m0, u, f=f).real,\n",
    "        adjoint=lambda v: simulation.Jtvec(m0, v, f=f),\n",
    "        shape_u=inds_active.sum(),\n",
    "        shape_v=simulation.survey.nD,\n",
    "        assert_error=False,\n",
    "    )\n",
    "    \n",
    "def test_dataObj():\n",
    "    discretize.tests.check_derivative(\n",
    "        fctn=lambda m: [dmis(m), dmis.deriv(m)],\n",
    "        x0=m0,\n",
    "        plotIt=False,\n",
    "        num=2,\n",
    "    )"
   ]
  },
  {
   "cell_type": "code",
   "execution_count": 22,
   "metadata": {
    "iooxa": {
     "id": {
      "block": "vloWT6HNfUXTh0Pr6CxC",
      "project": "rzeiFG3sdIcsFLl4Infw",
      "version": 1
     },
     "outputId": {
      "block": "TgqgUedcu3S609uHFNu8",
      "project": "rzeiFG3sdIcsFLl4Infw",
      "version": 1
     }
    }
   },
   "outputs": [
    {
     "name": "stdout",
     "output_type": "stream",
     "text": [
      "==================== checkDerivative ====================\n",
      "iter    h         |ft-f0|   |ft-f0-h*J0*dx|  Order\n",
      "---------------------------------------------------------\n",
      " 0   1.00e-01    1.078e+04     5.360e+03      nan\n",
      " 1   1.00e-02    5.943e+02     5.192e+01      2.014\n",
      "========================= PASS! =========================\n",
      "The test be workin!\n",
      "\n"
     ]
    }
   ],
   "source": [
    "test_dataObj()"
   ]
  },
  {
   "cell_type": "code",
   "execution_count": 23,
   "metadata": {
    "iooxa": {
     "id": {
      "block": "CiHra1xjEjEmoyJtE4Om",
      "project": "rzeiFG3sdIcsFLl4Infw",
      "version": 1
     },
     "outputId": {
      "block": "y9yLCjUu1OODQc8WFljq",
      "project": "rzeiFG3sdIcsFLl4Infw",
      "version": 1
     }
    }
   },
   "outputs": [
    {
     "name": "stdout",
     "output_type": "stream",
     "text": [
      "==================== checkDerivative ====================\n",
      "iter    h         |ft-f0|   |ft-f0-h*J0*dx|  Order\n",
      "---------------------------------------------------------\n",
      " 0   1.00e-01    3.760e-10     5.291e-11      nan\n",
      " 1   1.00e-02    3.661e-11     5.384e-13      1.992\n",
      " 2   1.00e-03    3.653e-12     5.394e-15      1.999\n",
      "========================= PASS! =========================\n",
      "You are awesome.\n",
      "\n"
     ]
    }
   ],
   "source": [
    "test_misfit()"
   ]
  },
  {
   "cell_type": "code",
   "execution_count": 24,
   "metadata": {
    "iooxa": {
     "id": {
      "block": "3zCHDycYi5uM9PXPrBqi",
      "project": "rzeiFG3sdIcsFLl4Infw",
      "version": 1
     },
     "outputId": {
      "block": "rPa9KuzjKkyfKszRlBH0",
      "project": "rzeiFG3sdIcsFLl4Infw",
      "version": 1
     }
    }
   },
   "outputs": [
    {
     "name": "stdout",
     "output_type": "stream",
     "text": [
      "Adjoint test PASSED ::  7.361e-17 < 4.325e-15  :: |rhs-lhs| < atol + rtol|lhs|\n"
     ]
    }
   ],
   "source": [
    "test_adjoint()"
   ]
  },
  {
   "cell_type": "code",
   "execution_count": 25,
   "metadata": {
    "iooxa": {
     "id": {
      "block": "AhmM0eT40RrE0AFanbdy",
      "project": "rzeiFG3sdIcsFLl4Infw",
      "version": 1
     },
     "outputId": {
      "block": "Yj1n0wlpooY4m70DUmHt",
      "project": "rzeiFG3sdIcsFLl4Infw",
      "version": 1
     }
    }
   },
   "outputs": [
    {
     "name": "stdout",
     "output_type": "stream",
     "text": [
      "\n",
      "            SimPEG.InvProblem is setting bfgsH0 to the inverse of the eval2Deriv.\n",
      "            ***Done using same Solver and solverOpts as the problem***\n"
     ]
    },
    {
     "name": "stderr",
     "output_type": "stream",
     "text": [
      "/home/dwm/miniconda3/envs/inv-dev/lib/python3.9/site-packages/pymatsolver/direct.py:23: PardisoTypeConversionWarning: Converting csc_matrix matrix to CSR format, will slow down.\n",
      "  self.solver = MKLPardisoSolver(\n"
     ]
    },
    {
     "name": "stdout",
     "output_type": "stream",
     "text": [
      "model has any nan: 0\n",
      "============================ Inexact Gauss Newton ============================\n",
      "  #     beta     phi_d     phi_m       f      |proj(x-g)-x|  LS    Comment   \n",
      "-----------------------------------------------------------------------------\n",
      "x0 has any nan: 0\n",
      "   0  5.16e+00  2.06e+05  0.00e+00  2.06e+05    6.52e+04      0              \n"
     ]
    },
    {
     "name": "stderr",
     "output_type": "stream",
     "text": [
      "/home/dwm/miniconda3/envs/inv-dev/lib/python3.9/site-packages/pymatsolver/direct.py:73: PardisoTypeConversionWarning: Converting csc_matrix matrix to CSR format, will slow down.\n",
      "  self.solver.refactor(self.A)\n"
     ]
    },
    {
     "name": "stdout",
     "output_type": "stream",
     "text": [
      "   1  2.58e+00  6.53e+04  2.19e+03  7.09e+04    1.55e+04      0              \n",
      "   2  1.29e+00  3.45e+04  6.08e+03  4.23e+04    6.87e+03      0              \n",
      "   3  6.45e-01  2.16e+04  1.06e+04  2.85e+04    5.21e+03      0   Skip BFGS  \n",
      "   4  3.22e-01  1.49e+04  1.62e+04  2.01e+04    4.79e+03      0   Skip BFGS  \n",
      "   5  1.61e-01  9.60e+03  2.49e+04  1.36e+04    3.60e+03      0   Skip BFGS  \n",
      "   6  8.06e-02  6.79e+03  3.45e+04  9.57e+03    3.31e+03      0   Skip BFGS  \n",
      "   7  4.03e-02  4.83e+03  4.69e+04  6.72e+03    1.72e+03      0   Skip BFGS  \n",
      "   8  2.01e-02  3.62e+03  5.74e+04  4.77e+03    1.25e+03      0              \n",
      "   9  1.01e-02  2.98e+03  6.35e+04  3.61e+03    1.27e+03      0              \n",
      "  10  5.04e-03  2.10e+03  1.01e+05  2.60e+03    3.15e+03      0              \n",
      "  11  2.52e-03  1.54e+03  1.01e+05  1.80e+03    7.64e+02      0              \n",
      "  12  1.26e-03  1.24e+03  1.20e+05  1.39e+03    1.35e+03      0              \n",
      "  13  6.30e-04  9.80e+02  1.33e+05  1.06e+03    7.38e+02      0              \n",
      "  14  3.15e-04  8.34e+02  1.49e+05  8.81e+02    1.20e+03      0              \n",
      "  15  1.57e-04  6.95e+02  1.76e+05  7.22e+02    5.97e+02      0              \n",
      "  16  7.87e-05  6.17e+02  1.86e+05  6.32e+02    4.83e+02      0              \n",
      "  17  3.93e-05  5.65e+02  1.92e+05  5.73e+02    6.60e+02      0              \n",
      "  18  1.97e-05  5.06e+02  2.12e+05  5.10e+02    6.45e+02      0   Skip BFGS  \n",
      "  19  9.84e-06  4.66e+02  2.08e+05  4.68e+02    5.06e+02      0              \n",
      "------------------------- STOP! -------------------------\n",
      "1 : |fc-fOld| = 0.0000e+00 <= tolF*(1+|f0|) = 2.0603e+04\n",
      "0 : |xc-x_last| = 5.7647e+00 <= tolX*(1+|x0|) = 1.0000e-01\n",
      "0 : |proj(x-g)-x|    = 5.0617e+02 <= tolG          = 1.0000e-01\n",
      "0 : |proj(x-g)-x|    = 5.0617e+02 <= 1e3*eps       = 1.0000e-02\n",
      "1 : maxIter   =      20    <= iter          =     20\n",
      "------------------------- DONE! -------------------------\n",
      "CPU times: user 21min 25s, sys: 6min 6s, total: 27min 31s\n",
      "Wall time: 1h 22min 27s\n"
     ]
    }
   ],
   "source": [
    "%%time\n",
    "\n",
    "# Define the regularization (model objective function)\n",
    "reg = SimPEG.regularization.Tikhonov(\n",
    "    mesh,\n",
    "    indActive=inds_active,\n",
    "    mref=m0,\n",
    "    alpha_s=1e-8,\n",
    "    alpha_x=1,\n",
    "    alpha_y=10,\n",
    "    alpha_z=1\n",
    ")\n",
    "\n",
    "opt = SimPEG.optimization.InexactGaussNewton(\n",
    "    maxIter=20,\n",
    "    #maxIterLS=20,\n",
    "    maxIterCG=20,\n",
    "    tolCG=1e-3\n",
    ")\n",
    "\n",
    "inv_prob = SimPEG.inverse_problem.BaseInvProblem(dmis, reg, opt)\n",
    "starting_beta = SimPEG.directives.BetaEstimate_ByEig(beta0_ratio=1)\n",
    "save = SimPEG.directives.SaveOutputDictEveryIteration()\n",
    "\n",
    "beta_schedule = SimPEG.directives.BetaSchedule(coolingFactor=2, coolingRate=1)\n",
    "target_misfit = SimPEG.directives.TargetMisfit(chifact=1)\n",
    "\n",
    "directives_list = [\n",
    "    starting_beta,\n",
    "    beta_schedule,\n",
    "    target_misfit,\n",
    "    save\n",
    "]\n",
    "em_inversion = SimPEG.inversion.BaseInversion(inv_prob, directiveList=directives_list)\n",
    "\n",
    "# Run inversion\n",
    "recovered_conductivity_model = em_inversion.run(m0)"
   ]
  },
  {
   "cell_type": "code",
   "execution_count": 26,
   "metadata": {
    "iooxa": {
     "id": {
      "block": "QsNGQGcd2ZiDISYUCnUA",
      "project": "rzeiFG3sdIcsFLl4Infw",
      "version": 1
     },
     "outputId": {
      "block": "RTdAGATBgUh562o3ojuM",
      "project": "rzeiFG3sdIcsFLl4Infw",
      "version": 1
     }
    }
   },
   "outputs": [
    {
     "data": {
      "text/plain": [
       "432.0"
      ]
     },
     "execution_count": 26,
     "metadata": {},
     "output_type": "execute_result"
    }
   ],
   "source": [
    "target_misfit.target"
   ]
  },
  {
   "cell_type": "code",
   "execution_count": 27,
   "metadata": {
    "iooxa": {
     "id": {
      "block": "6PKOKmnLSKc3X2fseDYE",
      "project": "rzeiFG3sdIcsFLl4Infw",
      "version": 1
     },
     "outputId": {
      "block": "9CzpNUjYXQuf7rC3We6H",
      "project": "rzeiFG3sdIcsFLl4Infw",
      "version": 1
     }
    }
   },
   "outputs": [
    {
     "data": {
      "text/plain": [
       "<matplotlib.legend.Legend at 0x7ffea04b8be0>"
      ]
     },
     "execution_count": 27,
     "metadata": {},
     "output_type": "execute_result"
    },
    {
     "data": {
      "image/png": "[encoded data removed]",
      "text/plain": [
       "<Figure size 720x288 with 1 Axes>"
      ]
     },
     "metadata": {
      "needs_background": "light"
     },
     "output_type": "display_data"
    }
   ],
   "source": [
    "plt.figure(figsize=(10, 4))\n",
    "iteration = len(save.outDict.keys())\n",
    "plt.semilogy(abs(em_data.dobs), 'o', label='Observed')\n",
    "plt.semilogy(abs(save.outDict[iteration]['dpred']), '.', label='Predicted')\n",
    "plt.legend()"
   ]
  },
  {
   "cell_type": "code",
   "execution_count": 61,
   "metadata": {
    "iooxa": {
     "id": {
      "block": "gnwqxI90840oEFgDhbH1",
      "project": "rzeiFG3sdIcsFLl4Infw",
      "version": 1
     },
     "outputId": {
      "block": "NitOIwuCidh1MVslk33E",
      "project": "rzeiFG3sdIcsFLl4Infw",
      "version": 1
     }
    }
   },
   "outputs": [
    {
     "data": {
      "image/png": "[encoded data removed]",
      "text/plain": [
       "<Figure size 576x432 with 5 Axes>"
      ]
     },
     "metadata": {
      "needs_background": "light"
     },
     "output_type": "display_data"
    }
   ],
   "source": [
    "opts = {'grid': False}\n",
    "popts = {'cmap':'Spectral_r', 'norm':LogNorm(vmin=0.33, vmax=200)}\n",
    "\n",
    "fig, axs = plt.subplots(2, 2, figsize=(8, 6), sharex=True, sharey='row', constrained_layout=True)\n",
    "\n",
    "sigm_est = conductivity_map * save.outDict[iteration]['m']\n",
    "sigmas = [sigm_est, sigma]\n",
    "titles = [\"Estimated\", \"True\"]\n",
    "for ii, ax in enumerate(axs[0, :]):\n",
    "    out = mesh.plot_slice(\n",
    "        1./sigmas[ii], grid=False, normal='Y',\n",
    "        pcolor_opts=popts, ax=ax)\n",
    "    ax.set_title(titles[ii])\n",
    "    ax.set_xlabel('')\n",
    "\n",
    "for ii, ax in enumerate(axs[1, :]):\n",
    "    out = mesh.plot_slice(\n",
    "        1./sigmas[ii], grid=False, normal='Z', ind=5,\n",
    "        pcolor_opts=popts, ax=ax)\n",
    "    ax.set_title('')\n",
    "    \n",
    "for ax in axs[:, 1]:\n",
    "    ax.set_ylabel('')\n",
    "       \n",
    "cb = plt.colorbar(out[0], ax=axs, fraction=0.03, extend='max', orientation='horizontal')\n",
    "cb.set_label(\"Resistivity ($\\Omega$ m)\")"
   ]
  },
  {
   "cell_type": "code",
   "execution_count": 29,
   "metadata": {},
   "outputs": [
    {
     "data": {
      "text/html": [
       "<table style='border: 3px solid #ddd;'>\n",
       "  <tr>\n",
       "     <td style='text-align: center; font-weight: bold; font-size: 1.2em; border: 2px solid #fff;' colspan='6'>Wed Mar 30 22:13:03 2022 CEST</td>\n",
       "  </tr>\n",
       "  <tr>\n",
       "    <td style='text-align: right; background-color: #ccc; border: 2px solid #fff;'>OS</td>\n",
       "    <td style='text-align: left; border: 2px solid #fff;'>Linux</td>\n",
       "    <td style='text-align: right; background-color: #ccc; border: 2px solid #fff;'>CPU(s)</td>\n",
       "    <td style='text-align: left; border: 2px solid #fff;'>32</td>\n",
       "    <td style='text-align: right; background-color: #ccc; border: 2px solid #fff;'>Machine</td>\n",
       "    <td style='text-align: left; border: 2px solid #fff;'>x86_64</td>\n",
       "  </tr>\n",
       "  <tr>\n",
       "    <td style='text-align: right; background-color: #ccc; border: 2px solid #fff;'>Architecture</td>\n",
       "    <td style='text-align: left; border: 2px solid #fff;'>64bit</td>\n",
       "    <td style='text-align: right; background-color: #ccc; border: 2px solid #fff;'>RAM</td>\n",
       "    <td style='text-align: left; border: 2px solid #fff;'>125.7 GiB</td>\n",
       "    <td style='text-align: right; background-color: #ccc; border: 2px solid #fff;'>Environment</td>\n",
       "    <td style='text-align: left; border: 2px solid #fff;'>Jupyter</td>\n",
       "  </tr>\n",
       "  <tr>\n",
       "     <td style='text-align: center; border: 2px solid #fff;' colspan='6'>Python 3.9.9 | packaged by conda-forge | (main, Dec 20 2021, 02:41:03) \n",
       "[GCC 9.4.0]</td>\n",
       "  </tr>\n",
       "  <tr>\n",
       "    <td style='text-align: right; background-color: #ccc; border: 2px solid #fff;'>emg3d</td>\n",
       "    <td style='text-align: left; border: 2px solid #fff;'>1.4.1.dev11+g4c90a09</td>\n",
       "    <td style='text-align: right; background-color: #ccc; border: 2px solid #fff;'>SimPEG</td>\n",
       "    <td style='text-align: left; border: 2px solid #fff;'>0.14.3</td>\n",
       "    <td style='text-align: right; background-color: #ccc; border: 2px solid #fff;'>discretize</td>\n",
       "    <td style='text-align: left; border: 2px solid #fff;'>0.7.3</td>\n",
       "  </tr>\n",
       "  <tr>\n",
       "    <td style='text-align: right; background-color: #ccc; border: 2px solid #fff;'>pymatsolver</td>\n",
       "    <td style='text-align: left; border: 2px solid #fff;'>0.2.0</td>\n",
       "    <td style='text-align: right; background-color: #ccc; border: 2px solid #fff;'>vectormath</td>\n",
       "    <td style='text-align: left; border: 2px solid #fff;'>0.2.2</td>\n",
       "    <td style='text-align: right; background-color: #ccc; border: 2px solid #fff;'>properties</td>\n",
       "    <td style='text-align: left; border: 2px solid #fff;'>0.6.1</td>\n",
       "  </tr>\n",
       "  <tr>\n",
       "    <td style='text-align: right; background-color: #ccc; border: 2px solid #fff;'>numpy</td>\n",
       "    <td style='text-align: left; border: 2px solid #fff;'>1.20.3</td>\n",
       "    <td style='text-align: right; background-color: #ccc; border: 2px solid #fff;'>scipy</td>\n",
       "    <td style='text-align: left; border: 2px solid #fff;'>1.7.1</td>\n",
       "    <td style='text-align: right; background-color: #ccc; border: 2px solid #fff;'>cython</td>\n",
       "    <td style='text-align: left; border: 2px solid #fff;'>0.29.24</td>\n",
       "  </tr>\n",
       "  <tr>\n",
       "    <td style='text-align: right; background-color: #ccc; border: 2px solid #fff;'>IPython</td>\n",
       "    <td style='text-align: left; border: 2px solid #fff;'>7.28.0</td>\n",
       "    <td style='text-align: right; background-color: #ccc; border: 2px solid #fff;'>matplotlib</td>\n",
       "    <td style='text-align: left; border: 2px solid #fff;'>3.4.3</td>\n",
       "    <td style='text-align: right; background-color: #ccc; border: 2px solid #fff;'>ipywidgets</td>\n",
       "    <td style='text-align: left; border: 2px solid #fff;'>7.6.5</td>\n",
       "  </tr>\n",
       "  <tr>\n",
       "     <td style='text-align: center; background-color: #ddd;border: 2px solid #fff;' colspan='6'>Intel(R) oneAPI Math Kernel Library Version 2021.4-Product Build 20210904 for Intel(R) 64 architecture applications</td>\n",
       "  </tr>\n",
       "</table>"
      ],
      "text/plain": [
       "\n",
       "--------------------------------------------------------------------------------\n",
       "  Date: Wed Mar 30 22:13:03 2022 CEST\n",
       "\n",
       "                OS : Linux\n",
       "            CPU(s) : 32\n",
       "           Machine : x86_64\n",
       "      Architecture : 64bit\n",
       "               RAM : 125.7 GiB\n",
       "       Environment : Jupyter\n",
       "\n",
       "  Python 3.9.9 | packaged by conda-forge | (main, Dec 20 2021, 02:41:03)  [GCC\n",
       "  9.4.0]\n",
       "\n",
       "             emg3d : 1.4.1.dev11+g4c90a09\n",
       "            SimPEG : 0.14.3\n",
       "        discretize : 0.7.3\n",
       "       pymatsolver : 0.2.0\n",
       "        vectormath : 0.2.2\n",
       "        properties : 0.6.1\n",
       "             numpy : 1.20.3\n",
       "             scipy : 1.7.1\n",
       "            cython : 0.29.24\n",
       "           IPython : 7.28.0\n",
       "        matplotlib : 3.4.3\n",
       "        ipywidgets : 7.6.5\n",
       "\n",
       "  Intel(R) oneAPI Math Kernel Library Version 2021.4-Product Build 20210904\n",
       "  for Intel(R) 64 architecture applications\n",
       "--------------------------------------------------------------------------------"
      ]
     },
     "execution_count": 29,
     "metadata": {},
     "output_type": "execute_result"
    }
   ],
   "source": [
    "SimPEG.Report(emg3d)"
   ]
  }
 ],
 "metadata": {
  "iooxa": {
   "id": {
    "block": "Mk6E0e8jVUECPGPwblVE",
    "project": "rzeiFG3sdIcsFLl4Infw",
    "version": 5
   }
  },
  "kernelspec": {
   "display_name": "Python 3 (ipykernel)",
   "language": "python",
   "name": "python3"
  },
  "language_info": {
   "codemirror_mode": {
    "name": "ipython",
    "version": 3
   },
   "file_extension": ".py",
   "mimetype": "text/x-python",
   "name": "python",
   "nbconvert_exporter": "python",
   "pygments_lexer": "ipython3",
   "version": "3.12.3"
  }
 },
 "nbformat": 4,
 "nbformat_minor": 4
}
